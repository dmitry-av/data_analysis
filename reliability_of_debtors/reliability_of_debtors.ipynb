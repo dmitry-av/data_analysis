{
 "cells": [
  {
   "cell_type": "markdown",
   "metadata": {},
   "source": [
    "# Анализ-исследование надёжности клиентов кредитного отдела банка\n",
    "\n",
    "Заказчик — крупный банк, кредитный отдел. Наша задача - выяснить, влияют ли такие факторы, как семейное положение, количество детей клиента на способность погашения кредита в срок. Входные данные от банка — основные данные о клиентах банка, такие включая данные о наличии задолженности, трудоустройстве, образовании и прочем.\n",
    "\n",
    "Результаты данного исследования будут учтены при построении модели кредитного скоринга — специальной системы, которая оценивает способность потенциального заёмщика вернуть кредит банку. Также необходимо ответить на вопросы: Есть ли зависимость между наличием детей, семейным положением, уровнем дохода и возвратом кредита в срок? Как разные цели кредита влияют на его возврат?"
   ]
  },
  {
   "cell_type": "markdown",
   "metadata": {},
   "source": [
    "## Загрузка данных и изучение общей информации"
   ]
  },
  {
   "cell_type": "code",
   "execution_count": 26,
   "metadata": {},
   "outputs": [
    {
     "data": {
      "text/html": [
       "<div>\n",
       "<style scoped>\n",
       "    .dataframe tbody tr th:only-of-type {\n",
       "        vertical-align: middle;\n",
       "    }\n",
       "\n",
       "    .dataframe tbody tr th {\n",
       "        vertical-align: top;\n",
       "    }\n",
       "\n",
       "    .dataframe thead th {\n",
       "        text-align: right;\n",
       "    }\n",
       "</style>\n",
       "<table border=\"1\" class=\"dataframe\">\n",
       "  <thead>\n",
       "    <tr style=\"text-align: right;\">\n",
       "      <th></th>\n",
       "      <th>children</th>\n",
       "      <th>days_employed</th>\n",
       "      <th>dob_years</th>\n",
       "      <th>education</th>\n",
       "      <th>education_id</th>\n",
       "      <th>family_status</th>\n",
       "      <th>family_status_id</th>\n",
       "      <th>gender</th>\n",
       "      <th>income_type</th>\n",
       "      <th>debt</th>\n",
       "      <th>total_income</th>\n",
       "      <th>purpose</th>\n",
       "    </tr>\n",
       "  </thead>\n",
       "  <tbody>\n",
       "    <tr>\n",
       "      <th>0</th>\n",
       "      <td>1</td>\n",
       "      <td>-8437.673028</td>\n",
       "      <td>42</td>\n",
       "      <td>высшее</td>\n",
       "      <td>0</td>\n",
       "      <td>женат / замужем</td>\n",
       "      <td>0</td>\n",
       "      <td>F</td>\n",
       "      <td>сотрудник</td>\n",
       "      <td>0</td>\n",
       "      <td>253875.639453</td>\n",
       "      <td>покупка жилья</td>\n",
       "    </tr>\n",
       "    <tr>\n",
       "      <th>1</th>\n",
       "      <td>1</td>\n",
       "      <td>-4024.803754</td>\n",
       "      <td>36</td>\n",
       "      <td>среднее</td>\n",
       "      <td>1</td>\n",
       "      <td>женат / замужем</td>\n",
       "      <td>0</td>\n",
       "      <td>F</td>\n",
       "      <td>сотрудник</td>\n",
       "      <td>0</td>\n",
       "      <td>112080.014102</td>\n",
       "      <td>приобретение автомобиля</td>\n",
       "    </tr>\n",
       "    <tr>\n",
       "      <th>2</th>\n",
       "      <td>0</td>\n",
       "      <td>-5623.422610</td>\n",
       "      <td>33</td>\n",
       "      <td>Среднее</td>\n",
       "      <td>1</td>\n",
       "      <td>женат / замужем</td>\n",
       "      <td>0</td>\n",
       "      <td>M</td>\n",
       "      <td>сотрудник</td>\n",
       "      <td>0</td>\n",
       "      <td>145885.952297</td>\n",
       "      <td>покупка жилья</td>\n",
       "    </tr>\n",
       "    <tr>\n",
       "      <th>3</th>\n",
       "      <td>3</td>\n",
       "      <td>-4124.747207</td>\n",
       "      <td>32</td>\n",
       "      <td>среднее</td>\n",
       "      <td>1</td>\n",
       "      <td>женат / замужем</td>\n",
       "      <td>0</td>\n",
       "      <td>M</td>\n",
       "      <td>сотрудник</td>\n",
       "      <td>0</td>\n",
       "      <td>267628.550329</td>\n",
       "      <td>дополнительное образование</td>\n",
       "    </tr>\n",
       "    <tr>\n",
       "      <th>4</th>\n",
       "      <td>0</td>\n",
       "      <td>340266.072047</td>\n",
       "      <td>53</td>\n",
       "      <td>среднее</td>\n",
       "      <td>1</td>\n",
       "      <td>гражданский брак</td>\n",
       "      <td>1</td>\n",
       "      <td>F</td>\n",
       "      <td>пенсионер</td>\n",
       "      <td>0</td>\n",
       "      <td>158616.077870</td>\n",
       "      <td>сыграть свадьбу</td>\n",
       "    </tr>\n",
       "    <tr>\n",
       "      <th>5</th>\n",
       "      <td>0</td>\n",
       "      <td>-926.185831</td>\n",
       "      <td>27</td>\n",
       "      <td>высшее</td>\n",
       "      <td>0</td>\n",
       "      <td>гражданский брак</td>\n",
       "      <td>1</td>\n",
       "      <td>M</td>\n",
       "      <td>компаньон</td>\n",
       "      <td>0</td>\n",
       "      <td>255763.565419</td>\n",
       "      <td>покупка жилья</td>\n",
       "    </tr>\n",
       "    <tr>\n",
       "      <th>6</th>\n",
       "      <td>0</td>\n",
       "      <td>-2879.202052</td>\n",
       "      <td>43</td>\n",
       "      <td>высшее</td>\n",
       "      <td>0</td>\n",
       "      <td>женат / замужем</td>\n",
       "      <td>0</td>\n",
       "      <td>F</td>\n",
       "      <td>компаньон</td>\n",
       "      <td>0</td>\n",
       "      <td>240525.971920</td>\n",
       "      <td>операции с жильем</td>\n",
       "    </tr>\n",
       "    <tr>\n",
       "      <th>7</th>\n",
       "      <td>0</td>\n",
       "      <td>-152.779569</td>\n",
       "      <td>50</td>\n",
       "      <td>СРЕДНЕЕ</td>\n",
       "      <td>1</td>\n",
       "      <td>женат / замужем</td>\n",
       "      <td>0</td>\n",
       "      <td>M</td>\n",
       "      <td>сотрудник</td>\n",
       "      <td>0</td>\n",
       "      <td>135823.934197</td>\n",
       "      <td>образование</td>\n",
       "    </tr>\n",
       "    <tr>\n",
       "      <th>8</th>\n",
       "      <td>2</td>\n",
       "      <td>-6929.865299</td>\n",
       "      <td>35</td>\n",
       "      <td>ВЫСШЕЕ</td>\n",
       "      <td>0</td>\n",
       "      <td>гражданский брак</td>\n",
       "      <td>1</td>\n",
       "      <td>F</td>\n",
       "      <td>сотрудник</td>\n",
       "      <td>0</td>\n",
       "      <td>95856.832424</td>\n",
       "      <td>на проведение свадьбы</td>\n",
       "    </tr>\n",
       "    <tr>\n",
       "      <th>9</th>\n",
       "      <td>0</td>\n",
       "      <td>-2188.756445</td>\n",
       "      <td>41</td>\n",
       "      <td>среднее</td>\n",
       "      <td>1</td>\n",
       "      <td>женат / замужем</td>\n",
       "      <td>0</td>\n",
       "      <td>M</td>\n",
       "      <td>сотрудник</td>\n",
       "      <td>0</td>\n",
       "      <td>144425.938277</td>\n",
       "      <td>покупка жилья для семьи</td>\n",
       "    </tr>\n",
       "  </tbody>\n",
       "</table>\n",
       "</div>"
      ],
      "text/plain": [
       "   children  days_employed  dob_years education  education_id  \\\n",
       "0         1   -8437.673028         42    высшее             0   \n",
       "1         1   -4024.803754         36   среднее             1   \n",
       "2         0   -5623.422610         33   Среднее             1   \n",
       "3         3   -4124.747207         32   среднее             1   \n",
       "4         0  340266.072047         53   среднее             1   \n",
       "5         0    -926.185831         27    высшее             0   \n",
       "6         0   -2879.202052         43    высшее             0   \n",
       "7         0    -152.779569         50   СРЕДНЕЕ             1   \n",
       "8         2   -6929.865299         35    ВЫСШЕЕ             0   \n",
       "9         0   -2188.756445         41   среднее             1   \n",
       "\n",
       "      family_status  family_status_id gender income_type  debt   total_income  \\\n",
       "0   женат / замужем                 0      F   сотрудник     0  253875.639453   \n",
       "1   женат / замужем                 0      F   сотрудник     0  112080.014102   \n",
       "2   женат / замужем                 0      M   сотрудник     0  145885.952297   \n",
       "3   женат / замужем                 0      M   сотрудник     0  267628.550329   \n",
       "4  гражданский брак                 1      F   пенсионер     0  158616.077870   \n",
       "5  гражданский брак                 1      M   компаньон     0  255763.565419   \n",
       "6   женат / замужем                 0      F   компаньон     0  240525.971920   \n",
       "7   женат / замужем                 0      M   сотрудник     0  135823.934197   \n",
       "8  гражданский брак                 1      F   сотрудник     0   95856.832424   \n",
       "9   женат / замужем                 0      M   сотрудник     0  144425.938277   \n",
       "\n",
       "                      purpose  \n",
       "0               покупка жилья  \n",
       "1     приобретение автомобиля  \n",
       "2               покупка жилья  \n",
       "3  дополнительное образование  \n",
       "4             сыграть свадьбу  \n",
       "5               покупка жилья  \n",
       "6           операции с жильем  \n",
       "7                 образование  \n",
       "8       на проведение свадьбы  \n",
       "9     покупка жилья для семьи  "
      ]
     },
     "execution_count": 26,
     "metadata": {},
     "output_type": "execute_result"
    }
   ],
   "source": [
    "import pandas as pd\n",
    "from pymystem3 import Mystem # импорт библиотеки для лемматизации\n",
    "\n",
    "data = pd.read_csv('/datasets/data.csv') # выгружаем базу данных в переменную\n",
    "data.head(10) "
   ]
  },
  {
   "cell_type": "markdown",
   "metadata": {},
   "source": [
    "Вывел на экран первые десять строк таблицы. Теперь нужно получить общую информацию о таблице:"
   ]
  },
  {
   "cell_type": "code",
   "execution_count": 27,
   "metadata": {},
   "outputs": [
    {
     "name": "stdout",
     "output_type": "stream",
     "text": [
      "<class 'pandas.core.frame.DataFrame'>\n",
      "RangeIndex: 21525 entries, 0 to 21524\n",
      "Data columns (total 12 columns):\n",
      " #   Column            Non-Null Count  Dtype  \n",
      "---  ------            --------------  -----  \n",
      " 0   children          21525 non-null  int64  \n",
      " 1   days_employed     19351 non-null  float64\n",
      " 2   dob_years         21525 non-null  int64  \n",
      " 3   education         21525 non-null  object \n",
      " 4   education_id      21525 non-null  int64  \n",
      " 5   family_status     21525 non-null  object \n",
      " 6   family_status_id  21525 non-null  int64  \n",
      " 7   gender            21525 non-null  object \n",
      " 8   income_type       21525 non-null  object \n",
      " 9   debt              21525 non-null  int64  \n",
      " 10  total_income      19351 non-null  float64\n",
      " 11  purpose           21525 non-null  object \n",
      "dtypes: float64(2), int64(5), object(5)\n",
      "memory usage: 2.0+ MB\n"
     ]
    }
   ],
   "source": [
    "data.info()"
   ]
  },
  {
   "cell_type": "markdown",
   "metadata": {},
   "source": [
    "Итак, в таблице двенадцать столбцов.\n",
    "\n",
    "Согласно документации к данным:\n",
    "* children — количество детей в семье\n",
    "* days_employed — трудовой стаж в днях  \n",
    "* dob_days — возраст клиента в годах\n",
    "* education — образование клиента\n",
    "* education_id — идентификатор образования\n",
    "* family_status — семейное положение\n",
    "* family_status_id — идентификатор семейного положения\n",
    "* gender — пол клиента\n",
    "* income_type — тип занятости\n",
    "* debt — имел ли задолженность по возврату кредитов\n",
    "* total_income — доход в месяц\n",
    "* purpose — цель получения кредита\n",
    "\n",
    "Количество значений в столбцах days_employed и total_income отличается от других столбцов. \n"
   ]
  },
  {
   "cell_type": "markdown",
   "metadata": {},
   "source": [
    "**Вывод**"
   ]
  },
  {
   "cell_type": "markdown",
   "metadata": {},
   "source": [
    "В каждой строке таблицы — данные о каждом заёмщике. \n",
    "\n",
    "Предварительно можно утверждать, что, данных достаточно для проверки, но они требуют обработки. Встречаются пропуски, а также различия в регистре. Необходимо разобраться, что означают отрицательные значения в столбце days_employed, ошибка либо вид предоставления."
   ]
  },
  {
   "cell_type": "markdown",
   "metadata": {},
   "source": [
    "## Предобработка данных"
   ]
  },
  {
   "cell_type": "markdown",
   "metadata": {},
   "source": [
    "### Обработка пропусков"
   ]
  },
  {
   "cell_type": "markdown",
   "metadata": {},
   "source": [
    "Имеются пропуски в столбцах days_employed и total_income. Происхождение пропусков неясно, возможно произошла утеря данных."
   ]
  },
  {
   "cell_type": "code",
   "execution_count": 28,
   "metadata": {},
   "outputs": [
    {
     "name": "stdout",
     "output_type": "stream",
     "text": [
      "сотрудник          11119\n",
      "компаньон           5085\n",
      "пенсионер           3856\n",
      "госслужащий         1459\n",
      "безработный            2\n",
      "предприниматель        2\n",
      "студент                1\n",
      "в декрете              1\n",
      "Name: income_type, dtype: int64\n"
     ]
    }
   ],
   "source": [
    "print(data['income_type'].value_counts())"
   ]
  },
  {
   "cell_type": "markdown",
   "metadata": {},
   "source": [
    "Общий доход и стаж это количественные переменные, их лучше заменить медианными значениями.\n",
    "Заменим пропущенные значения общего дохода на медианные значения в каждом крупном виде занятости (пропустим три незначительно представленных вида)."
   ]
  },
  {
   "cell_type": "code",
   "execution_count": 29,
   "metadata": {},
   "outputs": [
    {
     "data": {
      "text/plain": [
       "0"
      ]
     },
     "execution_count": 29,
     "metadata": {},
     "output_type": "execute_result"
    }
   ],
   "source": [
    "for typ in ['сотрудник', 'компаньон', 'пенсионер', 'госслужащий', 'предприниматель']:#цикл для прохождения по видам занятости\n",
    "    med = data[data['income_type']==typ]['total_income'].median()# нахождение медианы дохода в данном виде занятости\n",
    "    for i in range(len(data)):\n",
    "        if (data.loc[i, 'income_type']==typ) & (pd.isna(data.loc[i, 'total_income'])):# при наличии пропуска в этом виде занятости \n",
    "            data.loc[i, 'total_income'] = med #  - заполнение соответствующей медианой\n",
    "data['total_income'].isna().sum() # проверка на пропуски\n"
   ]
  },
  {
   "cell_type": "markdown",
   "metadata": {},
   "source": [
    "Далее для них же заменим пропущенные значения в столбце days_employed на медианы. Но для начала надо разобраться с категорией \"пенсионеры\": введены некорректные данные, у каждого больше 300000 дней - явно нереальное число. Похоже, что данные введены в часах, если разделить значения у пенсионеров на 24, получатся приемлемые данные. Отрицательные значения тоже встречаются, скорее всего изза неверного ввода и просчёта их системой - если дата приёма и увольнения с работы были перепутаны местами.\n",
    "Также надо исправить отрицательные значения методом abs()."
   ]
  },
  {
   "cell_type": "code",
   "execution_count": 30,
   "metadata": {},
   "outputs": [
    {
     "name": "stdout",
     "output_type": "stream",
     "text": [
      "<class 'pandas.core.frame.DataFrame'>\n",
      "RangeIndex: 21525 entries, 0 to 21524\n",
      "Data columns (total 12 columns):\n",
      " #   Column            Non-Null Count  Dtype  \n",
      "---  ------            --------------  -----  \n",
      " 0   children          21525 non-null  int64  \n",
      " 1   days_employed     21525 non-null  float64\n",
      " 2   dob_years         21525 non-null  int64  \n",
      " 3   education         21525 non-null  object \n",
      " 4   education_id      21525 non-null  int64  \n",
      " 5   family_status     21525 non-null  object \n",
      " 6   family_status_id  21525 non-null  int64  \n",
      " 7   gender            21525 non-null  object \n",
      " 8   income_type       21525 non-null  object \n",
      " 9   debt              21525 non-null  int64  \n",
      " 10  total_income      21525 non-null  float64\n",
      " 11  purpose           21525 non-null  object \n",
      "dtypes: float64(2), int64(5), object(5)\n",
      "memory usage: 2.0+ MB\n"
     ]
    }
   ],
   "source": [
    "for i in range(len(data)):\n",
    "    if data.loc[i, 'income_type'] == 'пенсионер':\n",
    "        data.loc[i, 'days_employed'] = (data.loc[i, 'days_employed'])/24 #поделил стаж у пенсионеров на 24, если предположить, что он был в часах\n",
    "\n",
    "data['days_employed'] = data['days_employed'].fillna(data['days_employed'].median()).abs()# заполнение пропусков и приведение к положительным значениям.\n",
    "data.info()"
   ]
  },
  {
   "cell_type": "markdown",
   "metadata": {},
   "source": [
    "**Вывод**"
   ]
  },
  {
   "cell_type": "markdown",
   "metadata": {},
   "source": [
    "Теперь все значительные пропуски обработаны. Значения стажа в категории \"пенсионеры\" поправлены, а отрицательные значения иправлены на положительные."
   ]
  },
  {
   "cell_type": "markdown",
   "metadata": {},
   "source": [
    "### Замена типа данных"
   ]
  },
  {
   "cell_type": "code",
   "execution_count": 31,
   "metadata": {},
   "outputs": [
    {
     "data": {
      "text/plain": [
       "array([ 1,  0,  3,  2, -1,  4, 20,  5])"
      ]
     },
     "execution_count": 31,
     "metadata": {},
     "output_type": "execute_result"
    }
   ],
   "source": [
    "data['children'].unique()"
   ]
  },
  {
   "cell_type": "markdown",
   "metadata": {},
   "source": [
    "1) Для лучшего восприятия в стобце days_employed надо заменить тип данных на целочисленный.\n",
    "2) В столбце total_income доход округлить до 2 знаков после запятой\n",
    "3) В столбце children избавимся от отрицательных значений."
   ]
  },
  {
   "cell_type": "code",
   "execution_count": 32,
   "metadata": {},
   "outputs": [],
   "source": [
    "data['days_employed'] = data['days_employed'].astype('int') # надо заменить тип данных на целочисленный\n",
    "data['total_income'] = data['total_income'].round(decimals=2) # доход округлить до 2 знаков после запятой\n",
    "data['children'] = data['children'].abs()"
   ]
  },
  {
   "cell_type": "code",
   "execution_count": 33,
   "metadata": {},
   "outputs": [
    {
     "data": {
      "text/plain": [
       "array([42, 36, 33, 32, 53, 27, 43, 50, 35, 41, 40, 65, 54, 56, 26, 48, 24,\n",
       "       21, 57, 67, 28, 63, 62, 47, 34, 68, 25, 31, 30, 20, 49, 37, 45, 61,\n",
       "       64, 44, 52, 46, 23, 38, 39, 51,  0, 59, 29, 60, 55, 58, 71, 22, 73,\n",
       "       66, 69, 19, 72, 70, 74, 75])"
      ]
     },
     "execution_count": 33,
     "metadata": {},
     "output_type": "execute_result"
    }
   ],
   "source": [
    "data['dob_years'].unique() #проверим аномальные значения в столбце 'dob_years'"
   ]
  },
  {
   "cell_type": "markdown",
   "metadata": {},
   "source": [
    "Имеется аномальное значение возраста 0 лет, необходимо посмотреть количество значений в датасете, чтобы решить, что с ними делать."
   ]
  },
  {
   "cell_type": "code",
   "execution_count": 34,
   "metadata": {},
   "outputs": [
    {
     "data": {
      "text/plain": [
       "children            101\n",
       "days_employed       101\n",
       "dob_years           101\n",
       "education           101\n",
       "education_id        101\n",
       "family_status       101\n",
       "family_status_id    101\n",
       "gender              101\n",
       "income_type         101\n",
       "debt                101\n",
       "total_income        101\n",
       "purpose             101\n",
       "dtype: int64"
      ]
     },
     "execution_count": 34,
     "metadata": {},
     "output_type": "execute_result"
    }
   ],
   "source": [
    "data[data['dob_years']==0].count()"
   ]
  },
  {
   "cell_type": "markdown",
   "metadata": {},
   "source": [
    "101 клиентов со значением возраста 0 довольно много, можно заменить значение возраста на медиану."
   ]
  },
  {
   "cell_type": "code",
   "execution_count": 35,
   "metadata": {},
   "outputs": [
    {
     "data": {
      "text/plain": [
       "children            0\n",
       "days_employed       0\n",
       "dob_years           0\n",
       "education           0\n",
       "education_id        0\n",
       "family_status       0\n",
       "family_status_id    0\n",
       "gender              0\n",
       "income_type         0\n",
       "debt                0\n",
       "total_income        0\n",
       "purpose             0\n",
       "dtype: int64"
      ]
     },
     "execution_count": 35,
     "metadata": {},
     "output_type": "execute_result"
    }
   ],
   "source": [
    "for i in range(len(data)):\n",
    "    if data.loc[i, 'dob_years']==0: # при возрасте 0 лет \n",
    "        data.loc[i, 'dob_years'] = data['dob_years'].median()\n",
    "data[data['dob_years']==0].count()"
   ]
  },
  {
   "cell_type": "markdown",
   "metadata": {},
   "source": [
    "Изучим столбец gender:"
   ]
  },
  {
   "cell_type": "code",
   "execution_count": 36,
   "metadata": {},
   "outputs": [
    {
     "data": {
      "text/plain": [
       "F      14236\n",
       "M       7288\n",
       "XNA        1\n",
       "Name: gender, dtype: int64"
      ]
     },
     "execution_count": 36,
     "metadata": {},
     "output_type": "execute_result"
    }
   ],
   "source": [
    "data['gender'].value_counts()"
   ]
  },
  {
   "cell_type": "markdown",
   "metadata": {},
   "source": [
    "Здесь всего аномальное значение в графе пол - XNA, так как это несущественная характеристика для нашего исследования и значение одно, делать с ним ничего не будем."
   ]
  },
  {
   "cell_type": "markdown",
   "metadata": {},
   "source": [
    "**Вывод**"
   ]
  },
  {
   "cell_type": "markdown",
   "metadata": {},
   "source": [
    "Данные обработаны, теперь они лучше воcпринимаются."
   ]
  },
  {
   "cell_type": "markdown",
   "metadata": {},
   "source": [
    "### Обработка дубликатов"
   ]
  },
  {
   "cell_type": "markdown",
   "metadata": {},
   "source": [
    "Сначала нужно найти полные дубликаты строк и удалить их, так как вряд ли найдётся два разных человека с полностью идентичными данными во всех стобцах.\n",
    "Затем необходимо изучить категориальные столбцы education, family_status (столбец income_type был изучен на этапе удаления пропусков). Данные могут содержать неявные дубликаты, введены с разным регистром и прочее."
   ]
  },
  {
   "cell_type": "code",
   "execution_count": 37,
   "metadata": {},
   "outputs": [
    {
     "name": "stdout",
     "output_type": "stream",
     "text": [
      "Всего явных дубликатов:  55\n",
      "['высшее' 'среднее' 'Среднее' 'СРЕДНЕЕ' 'ВЫСШЕЕ' 'неоконченное высшее'\n",
      " 'начальное' 'Высшее' 'НЕОКОНЧЕННОЕ ВЫСШЕЕ' 'Неоконченное высшее'\n",
      " 'НАЧАЛЬНОЕ' 'Начальное' 'Ученая степень' 'УЧЕНАЯ СТЕПЕНЬ'\n",
      " 'ученая степень']\n",
      "['женат / замужем' 'гражданский брак' 'вдовец / вдова' 'в разводе'\n",
      " 'Не женат / не замужем']\n"
     ]
    }
   ],
   "source": [
    "print('Всего явных дубликатов: ', data.duplicated().sum())# находим количество явных дубликатов строк. \n",
    "print(data['education'].unique()) # проверяем значения на неявные дубликаты\n",
    "print(data['family_status'].unique()) # проверяем значения на неявные дубликаты\n"
   ]
  },
  {
   "cell_type": "code",
   "execution_count": 38,
   "metadata": {},
   "outputs": [
    {
     "name": "stdout",
     "output_type": "stream",
     "text": [
      "Всего явных дубликатов:  0\n"
     ]
    }
   ],
   "source": [
    "data = data.drop_duplicates().reset_index(drop=True) # Удаляем явные дубликаты из таблицы.\n",
    "print('Всего явных дубликатов: ', data.duplicated().sum())"
   ]
  },
  {
   "cell_type": "markdown",
   "metadata": {},
   "source": [
    "В стобце family_status дубликатов нет, а стоблец education надо привести к одному регистру."
   ]
  },
  {
   "cell_type": "code",
   "execution_count": 39,
   "metadata": {},
   "outputs": [
    {
     "data": {
      "text/html": [
       "<div>\n",
       "<style scoped>\n",
       "    .dataframe tbody tr th:only-of-type {\n",
       "        vertical-align: middle;\n",
       "    }\n",
       "\n",
       "    .dataframe tbody tr th {\n",
       "        vertical-align: top;\n",
       "    }\n",
       "\n",
       "    .dataframe thead th {\n",
       "        text-align: right;\n",
       "    }\n",
       "</style>\n",
       "<table border=\"1\" class=\"dataframe\">\n",
       "  <thead>\n",
       "    <tr style=\"text-align: right;\">\n",
       "      <th></th>\n",
       "      <th>children</th>\n",
       "      <th>days_employed</th>\n",
       "      <th>dob_years</th>\n",
       "      <th>education</th>\n",
       "      <th>education_id</th>\n",
       "      <th>family_status</th>\n",
       "      <th>family_status_id</th>\n",
       "      <th>gender</th>\n",
       "      <th>income_type</th>\n",
       "      <th>debt</th>\n",
       "      <th>total_income</th>\n",
       "      <th>purpose</th>\n",
       "    </tr>\n",
       "  </thead>\n",
       "  <tbody>\n",
       "    <tr>\n",
       "      <th>0</th>\n",
       "      <td>1</td>\n",
       "      <td>8437</td>\n",
       "      <td>42.0</td>\n",
       "      <td>высшее</td>\n",
       "      <td>0</td>\n",
       "      <td>женат / замужем</td>\n",
       "      <td>0</td>\n",
       "      <td>F</td>\n",
       "      <td>сотрудник</td>\n",
       "      <td>0</td>\n",
       "      <td>253875.64</td>\n",
       "      <td>покупка жилья</td>\n",
       "    </tr>\n",
       "    <tr>\n",
       "      <th>1</th>\n",
       "      <td>1</td>\n",
       "      <td>4024</td>\n",
       "      <td>36.0</td>\n",
       "      <td>среднее</td>\n",
       "      <td>1</td>\n",
       "      <td>женат / замужем</td>\n",
       "      <td>0</td>\n",
       "      <td>F</td>\n",
       "      <td>сотрудник</td>\n",
       "      <td>0</td>\n",
       "      <td>112080.01</td>\n",
       "      <td>приобретение автомобиля</td>\n",
       "    </tr>\n",
       "    <tr>\n",
       "      <th>2</th>\n",
       "      <td>0</td>\n",
       "      <td>5623</td>\n",
       "      <td>33.0</td>\n",
       "      <td>среднее</td>\n",
       "      <td>1</td>\n",
       "      <td>женат / замужем</td>\n",
       "      <td>0</td>\n",
       "      <td>M</td>\n",
       "      <td>сотрудник</td>\n",
       "      <td>0</td>\n",
       "      <td>145885.95</td>\n",
       "      <td>покупка жилья</td>\n",
       "    </tr>\n",
       "    <tr>\n",
       "      <th>3</th>\n",
       "      <td>3</td>\n",
       "      <td>4124</td>\n",
       "      <td>32.0</td>\n",
       "      <td>среднее</td>\n",
       "      <td>1</td>\n",
       "      <td>женат / замужем</td>\n",
       "      <td>0</td>\n",
       "      <td>M</td>\n",
       "      <td>сотрудник</td>\n",
       "      <td>0</td>\n",
       "      <td>267628.55</td>\n",
       "      <td>дополнительное образование</td>\n",
       "    </tr>\n",
       "    <tr>\n",
       "      <th>4</th>\n",
       "      <td>0</td>\n",
       "      <td>14177</td>\n",
       "      <td>53.0</td>\n",
       "      <td>среднее</td>\n",
       "      <td>1</td>\n",
       "      <td>гражданский брак</td>\n",
       "      <td>1</td>\n",
       "      <td>F</td>\n",
       "      <td>пенсионер</td>\n",
       "      <td>0</td>\n",
       "      <td>158616.08</td>\n",
       "      <td>сыграть свадьбу</td>\n",
       "    </tr>\n",
       "  </tbody>\n",
       "</table>\n",
       "</div>"
      ],
      "text/plain": [
       "   children  days_employed  dob_years education  education_id  \\\n",
       "0         1           8437       42.0    высшее             0   \n",
       "1         1           4024       36.0   среднее             1   \n",
       "2         0           5623       33.0   среднее             1   \n",
       "3         3           4124       32.0   среднее             1   \n",
       "4         0          14177       53.0   среднее             1   \n",
       "\n",
       "      family_status  family_status_id gender income_type  debt  total_income  \\\n",
       "0   женат / замужем                 0      F   сотрудник     0     253875.64   \n",
       "1   женат / замужем                 0      F   сотрудник     0     112080.01   \n",
       "2   женат / замужем                 0      M   сотрудник     0     145885.95   \n",
       "3   женат / замужем                 0      M   сотрудник     0     267628.55   \n",
       "4  гражданский брак                 1      F   пенсионер     0     158616.08   \n",
       "\n",
       "                      purpose  \n",
       "0               покупка жилья  \n",
       "1     приобретение автомобиля  \n",
       "2               покупка жилья  \n",
       "3  дополнительное образование  \n",
       "4             сыграть свадьбу  "
      ]
     },
     "execution_count": 39,
     "metadata": {},
     "output_type": "execute_result"
    }
   ],
   "source": [
    "data['education'] = data['education'].str.lower()\n",
    "data.head(5)"
   ]
  },
  {
   "cell_type": "markdown",
   "metadata": {},
   "source": [
    "**Вывод**"
   ]
  },
  {
   "cell_type": "markdown",
   "metadata": {},
   "source": [
    "Удалены явные и неявные дубликаты в данных. Данные в стобцах приведены к одному регистру, в категориальных переменных не встречаются дубликаты, кроме последнего столбца."
   ]
  },
  {
   "cell_type": "markdown",
   "metadata": {},
   "source": [
    "### Лемматизация"
   ]
  },
  {
   "cell_type": "markdown",
   "metadata": {},
   "source": [
    "Изучим значения в колонке purpose прежде чем проводить лемматизацию."
   ]
  },
  {
   "cell_type": "code",
   "execution_count": 40,
   "metadata": {},
   "outputs": [
    {
     "data": {
      "text/plain": [
       "array(['покупка жилья', 'приобретение автомобиля',\n",
       "       'дополнительное образование', 'сыграть свадьбу',\n",
       "       'операции с жильем', 'образование', 'на проведение свадьбы',\n",
       "       'покупка жилья для семьи', 'покупка недвижимости',\n",
       "       'покупка коммерческой недвижимости', 'покупка жилой недвижимости',\n",
       "       'строительство собственной недвижимости', 'недвижимость',\n",
       "       'строительство недвижимости', 'на покупку подержанного автомобиля',\n",
       "       'на покупку своего автомобиля',\n",
       "       'операции с коммерческой недвижимостью',\n",
       "       'строительство жилой недвижимости', 'жилье',\n",
       "       'операции со своей недвижимостью', 'автомобили',\n",
       "       'заняться образованием', 'сделка с подержанным автомобилем',\n",
       "       'получение образования', 'автомобиль', 'свадьба',\n",
       "       'получение дополнительного образования', 'покупка своего жилья',\n",
       "       'операции с недвижимостью', 'получение высшего образования',\n",
       "       'свой автомобиль', 'сделка с автомобилем',\n",
       "       'профильное образование', 'высшее образование',\n",
       "       'покупка жилья для сдачи', 'на покупку автомобиля', 'ремонт жилью',\n",
       "       'заняться высшим образованием'], dtype=object)"
      ]
     },
     "execution_count": 40,
     "metadata": {},
     "output_type": "execute_result"
    }
   ],
   "source": [
    "data['purpose'].unique()"
   ]
  },
  {
   "cell_type": "markdown",
   "metadata": {},
   "source": [
    "Здесь имеем четыре основных целей кредита - жильё, образование, свадьба, недвижимость (жилая и нежилая). Проведём лемматизацию для значений в столбце purpose, и выведем из них главные слова, обозначающие цель кредита, выведем их в отдельный столбец purpose_group"
   ]
  },
  {
   "cell_type": "code",
   "execution_count": 41,
   "metadata": {},
   "outputs": [
    {
     "data": {
      "text/html": [
       "<div>\n",
       "<style scoped>\n",
       "    .dataframe tbody tr th:only-of-type {\n",
       "        vertical-align: middle;\n",
       "    }\n",
       "\n",
       "    .dataframe tbody tr th {\n",
       "        vertical-align: top;\n",
       "    }\n",
       "\n",
       "    .dataframe thead th {\n",
       "        text-align: right;\n",
       "    }\n",
       "</style>\n",
       "<table border=\"1\" class=\"dataframe\">\n",
       "  <thead>\n",
       "    <tr style=\"text-align: right;\">\n",
       "      <th></th>\n",
       "      <th>children</th>\n",
       "      <th>days_employed</th>\n",
       "      <th>dob_years</th>\n",
       "      <th>education</th>\n",
       "      <th>education_id</th>\n",
       "      <th>family_status</th>\n",
       "      <th>family_status_id</th>\n",
       "      <th>gender</th>\n",
       "      <th>income_type</th>\n",
       "      <th>debt</th>\n",
       "      <th>total_income</th>\n",
       "      <th>purpose</th>\n",
       "      <th>purpose_group</th>\n",
       "    </tr>\n",
       "  </thead>\n",
       "  <tbody>\n",
       "    <tr>\n",
       "      <th>0</th>\n",
       "      <td>1</td>\n",
       "      <td>8437</td>\n",
       "      <td>42.0</td>\n",
       "      <td>высшее</td>\n",
       "      <td>0</td>\n",
       "      <td>женат / замужем</td>\n",
       "      <td>0</td>\n",
       "      <td>F</td>\n",
       "      <td>сотрудник</td>\n",
       "      <td>0</td>\n",
       "      <td>253875.64</td>\n",
       "      <td>покупка жилья</td>\n",
       "      <td>жилая недвижимость</td>\n",
       "    </tr>\n",
       "    <tr>\n",
       "      <th>1</th>\n",
       "      <td>1</td>\n",
       "      <td>4024</td>\n",
       "      <td>36.0</td>\n",
       "      <td>среднее</td>\n",
       "      <td>1</td>\n",
       "      <td>женат / замужем</td>\n",
       "      <td>0</td>\n",
       "      <td>F</td>\n",
       "      <td>сотрудник</td>\n",
       "      <td>0</td>\n",
       "      <td>112080.01</td>\n",
       "      <td>приобретение автомобиля</td>\n",
       "      <td>автомобиль</td>\n",
       "    </tr>\n",
       "    <tr>\n",
       "      <th>2</th>\n",
       "      <td>0</td>\n",
       "      <td>5623</td>\n",
       "      <td>33.0</td>\n",
       "      <td>среднее</td>\n",
       "      <td>1</td>\n",
       "      <td>женат / замужем</td>\n",
       "      <td>0</td>\n",
       "      <td>M</td>\n",
       "      <td>сотрудник</td>\n",
       "      <td>0</td>\n",
       "      <td>145885.95</td>\n",
       "      <td>покупка жилья</td>\n",
       "      <td>жилая недвижимость</td>\n",
       "    </tr>\n",
       "    <tr>\n",
       "      <th>3</th>\n",
       "      <td>3</td>\n",
       "      <td>4124</td>\n",
       "      <td>32.0</td>\n",
       "      <td>среднее</td>\n",
       "      <td>1</td>\n",
       "      <td>женат / замужем</td>\n",
       "      <td>0</td>\n",
       "      <td>M</td>\n",
       "      <td>сотрудник</td>\n",
       "      <td>0</td>\n",
       "      <td>267628.55</td>\n",
       "      <td>дополнительное образование</td>\n",
       "      <td>образование</td>\n",
       "    </tr>\n",
       "    <tr>\n",
       "      <th>4</th>\n",
       "      <td>0</td>\n",
       "      <td>14177</td>\n",
       "      <td>53.0</td>\n",
       "      <td>среднее</td>\n",
       "      <td>1</td>\n",
       "      <td>гражданский брак</td>\n",
       "      <td>1</td>\n",
       "      <td>F</td>\n",
       "      <td>пенсионер</td>\n",
       "      <td>0</td>\n",
       "      <td>158616.08</td>\n",
       "      <td>сыграть свадьбу</td>\n",
       "      <td>свадьба</td>\n",
       "    </tr>\n",
       "    <tr>\n",
       "      <th>5</th>\n",
       "      <td>0</td>\n",
       "      <td>926</td>\n",
       "      <td>27.0</td>\n",
       "      <td>высшее</td>\n",
       "      <td>0</td>\n",
       "      <td>гражданский брак</td>\n",
       "      <td>1</td>\n",
       "      <td>M</td>\n",
       "      <td>компаньон</td>\n",
       "      <td>0</td>\n",
       "      <td>255763.57</td>\n",
       "      <td>покупка жилья</td>\n",
       "      <td>жилая недвижимость</td>\n",
       "    </tr>\n",
       "    <tr>\n",
       "      <th>6</th>\n",
       "      <td>0</td>\n",
       "      <td>2879</td>\n",
       "      <td>43.0</td>\n",
       "      <td>высшее</td>\n",
       "      <td>0</td>\n",
       "      <td>женат / замужем</td>\n",
       "      <td>0</td>\n",
       "      <td>F</td>\n",
       "      <td>компаньон</td>\n",
       "      <td>0</td>\n",
       "      <td>240525.97</td>\n",
       "      <td>операции с жильем</td>\n",
       "      <td>жилая недвижимость</td>\n",
       "    </tr>\n",
       "    <tr>\n",
       "      <th>7</th>\n",
       "      <td>0</td>\n",
       "      <td>152</td>\n",
       "      <td>50.0</td>\n",
       "      <td>среднее</td>\n",
       "      <td>1</td>\n",
       "      <td>женат / замужем</td>\n",
       "      <td>0</td>\n",
       "      <td>M</td>\n",
       "      <td>сотрудник</td>\n",
       "      <td>0</td>\n",
       "      <td>135823.93</td>\n",
       "      <td>образование</td>\n",
       "      <td>образование</td>\n",
       "    </tr>\n",
       "    <tr>\n",
       "      <th>8</th>\n",
       "      <td>2</td>\n",
       "      <td>6929</td>\n",
       "      <td>35.0</td>\n",
       "      <td>высшее</td>\n",
       "      <td>0</td>\n",
       "      <td>гражданский брак</td>\n",
       "      <td>1</td>\n",
       "      <td>F</td>\n",
       "      <td>сотрудник</td>\n",
       "      <td>0</td>\n",
       "      <td>95856.83</td>\n",
       "      <td>на проведение свадьбы</td>\n",
       "      <td>свадьба</td>\n",
       "    </tr>\n",
       "    <tr>\n",
       "      <th>9</th>\n",
       "      <td>0</td>\n",
       "      <td>2188</td>\n",
       "      <td>41.0</td>\n",
       "      <td>среднее</td>\n",
       "      <td>1</td>\n",
       "      <td>женат / замужем</td>\n",
       "      <td>0</td>\n",
       "      <td>M</td>\n",
       "      <td>сотрудник</td>\n",
       "      <td>0</td>\n",
       "      <td>144425.94</td>\n",
       "      <td>покупка жилья для семьи</td>\n",
       "      <td>жилая недвижимость</td>\n",
       "    </tr>\n",
       "  </tbody>\n",
       "</table>\n",
       "</div>"
      ],
      "text/plain": [
       "   children  days_employed  dob_years education  education_id  \\\n",
       "0         1           8437       42.0    высшее             0   \n",
       "1         1           4024       36.0   среднее             1   \n",
       "2         0           5623       33.0   среднее             1   \n",
       "3         3           4124       32.0   среднее             1   \n",
       "4         0          14177       53.0   среднее             1   \n",
       "5         0            926       27.0    высшее             0   \n",
       "6         0           2879       43.0    высшее             0   \n",
       "7         0            152       50.0   среднее             1   \n",
       "8         2           6929       35.0    высшее             0   \n",
       "9         0           2188       41.0   среднее             1   \n",
       "\n",
       "      family_status  family_status_id gender income_type  debt  total_income  \\\n",
       "0   женат / замужем                 0      F   сотрудник     0     253875.64   \n",
       "1   женат / замужем                 0      F   сотрудник     0     112080.01   \n",
       "2   женат / замужем                 0      M   сотрудник     0     145885.95   \n",
       "3   женат / замужем                 0      M   сотрудник     0     267628.55   \n",
       "4  гражданский брак                 1      F   пенсионер     0     158616.08   \n",
       "5  гражданский брак                 1      M   компаньон     0     255763.57   \n",
       "6   женат / замужем                 0      F   компаньон     0     240525.97   \n",
       "7   женат / замужем                 0      M   сотрудник     0     135823.93   \n",
       "8  гражданский брак                 1      F   сотрудник     0      95856.83   \n",
       "9   женат / замужем                 0      M   сотрудник     0     144425.94   \n",
       "\n",
       "                      purpose       purpose_group  \n",
       "0               покупка жилья  жилая недвижимость  \n",
       "1     приобретение автомобиля          автомобиль  \n",
       "2               покупка жилья  жилая недвижимость  \n",
       "3  дополнительное образование         образование  \n",
       "4             сыграть свадьбу             свадьба  \n",
       "5               покупка жилья  жилая недвижимость  \n",
       "6           операции с жильем  жилая недвижимость  \n",
       "7                 образование         образование  \n",
       "8       на проведение свадьбы             свадьба  \n",
       "9     покупка жилья для семьи  жилая недвижимость  "
      ]
     },
     "execution_count": 41,
     "metadata": {},
     "output_type": "execute_result"
    }
   ],
   "source": [
    "m = Mystem()\n",
    "def lemming(string):\n",
    "    lemmas = ' '.join(m.lemmatize(string)) # для соединения выделенных лемм в строки, в которых мы будем искать слова\n",
    "    if 'образование' in lemmas: # выделяем 5 категорий - целей кредита, по ключевым словам\n",
    "        return 'образование' \n",
    "    if 'свадьба' in lemmas:\n",
    "        return 'свадьба'\n",
    "    if 'автомобил' in lemmas:\n",
    "        return 'автомобиль'\n",
    "    if 'жил' in lemmas:\n",
    "        return 'жилая недвижимость'\n",
    "    return 'недвижимость'\n",
    "\n",
    "data['purpose_group'] = data['purpose'].apply(lemming)\n",
    "\n",
    "data.head(10)"
   ]
  },
  {
   "cell_type": "markdown",
   "metadata": {},
   "source": [
    "**Вывод**"
   ]
  },
  {
   "cell_type": "markdown",
   "metadata": {},
   "source": [
    "Лемматизация прошла успешно, но с недвижимостью ясно всё не на сто процентов. Иногда неясно, какая именно недвижимость, жилая или нежилая указывана графе цель кредита, вся без указания \"жилая\" отнесена просто в недвижимость."
   ]
  },
  {
   "cell_type": "markdown",
   "metadata": {},
   "source": [
    "### Категоризация данных"
   ]
  },
  {
   "cell_type": "markdown",
   "metadata": {},
   "source": [
    "У нас имеется два столбца - education_id и family_status_id, содержащие краткие идентификаторы для других столбцов - education и family_status соответственно. Можно выделить словари в данных.\n",
    "Фактически провели категоризацию для данных целей кредита, осталось провести категоризацию по уровню дохода, возрасту, количеству детей."
   ]
  },
  {
   "cell_type": "code",
   "execution_count": 42,
   "metadata": {},
   "outputs": [
    {
     "name": "stdout",
     "output_type": "stream",
     "text": [
      "             education  education_id\n",
      "0               высшее             0\n",
      "1              среднее             1\n",
      "2  неоконченное высшее             2\n",
      "3            начальное             3\n",
      "4       ученая степень             4\n"
     ]
    }
   ],
   "source": [
    "education_dict=data[['education','education_id']] #создание словаря по уровню образования\n",
    "education_dict = education_dict.drop_duplicates().reset_index(drop=True)\n",
    "print(education_dict.sort_values(by='education_id'))"
   ]
  },
  {
   "cell_type": "code",
   "execution_count": 43,
   "metadata": {},
   "outputs": [
    {
     "name": "stdout",
     "output_type": "stream",
     "text": [
      "           family_status  family_status_id\n",
      "0        женат / замужем                 0\n",
      "1       гражданский брак                 1\n",
      "2         вдовец / вдова                 2\n",
      "3              в разводе                 3\n",
      "4  Не женат / не замужем                 4\n"
     ]
    }
   ],
   "source": [
    "family_status_dict=data[['family_status','family_status_id']] #создание словаря по семейному положению\n",
    "family_status_dict = family_status_dict.drop_duplicates().reset_index(drop=True)\n",
    "print(family_status_dict.sort_values(by='family_status_id'))"
   ]
  },
  {
   "cell_type": "code",
   "execution_count": 44,
   "metadata": {},
   "outputs": [
    {
     "name": "stdout",
     "output_type": "stream",
     "text": [
      "income_group\n",
      "A    5067\n",
      "B    5501\n",
      "C    5491\n",
      "D    5411\n",
      "Name: debt, dtype: int64\n"
     ]
    }
   ],
   "source": [
    "def income_group(row): # создаём функцию для категоризации по уровню дохода\n",
    "    if row > 200000:\n",
    "        return 'A'\n",
    "    if 143000 <= row <= 200000:\n",
    "        return 'B'\n",
    "    if 108000 <= row < 143000:\n",
    "        return 'C'\n",
    "    return 'D'\n",
    "\n",
    "data['income_group'] = data['total_income'].apply(income_group)\n",
    "print(data.groupby('income_group')['debt'].count())"
   ]
  },
  {
   "cell_type": "code",
   "execution_count": 45,
   "metadata": {},
   "outputs": [],
   "source": [
    "def children_group(row): # создаём функцию для категоризации по количеству детей\n",
    "    if row >= 3:\n",
    "        return 'многодетные'\n",
    "    if 1 < row < 3:\n",
    "        return '2-3 ребёнка'\n",
    "    if 0 < row <= 1:\n",
    "        return '1 ребёнок'\n",
    "    return 'без детей'\n",
    "\n",
    "data['children_group'] = data['children'].apply(children_group)"
   ]
  },
  {
   "cell_type": "markdown",
   "metadata": {},
   "source": [
    "Далее вынесем отдельную таблицу для анализа, только с необходимыми для анализа столбцами:"
   ]
  },
  {
   "cell_type": "code",
   "execution_count": 46,
   "metadata": {},
   "outputs": [
    {
     "data": {
      "text/html": [
       "<div>\n",
       "<style scoped>\n",
       "    .dataframe tbody tr th:only-of-type {\n",
       "        vertical-align: middle;\n",
       "    }\n",
       "\n",
       "    .dataframe tbody tr th {\n",
       "        vertical-align: top;\n",
       "    }\n",
       "\n",
       "    .dataframe thead th {\n",
       "        text-align: right;\n",
       "    }\n",
       "</style>\n",
       "<table border=\"1\" class=\"dataframe\">\n",
       "  <thead>\n",
       "    <tr style=\"text-align: right;\">\n",
       "      <th></th>\n",
       "      <th>education_id</th>\n",
       "      <th>family_status_id</th>\n",
       "      <th>gender</th>\n",
       "      <th>income_type</th>\n",
       "      <th>debt</th>\n",
       "      <th>purpose_group</th>\n",
       "      <th>income_group</th>\n",
       "      <th>children_group</th>\n",
       "    </tr>\n",
       "  </thead>\n",
       "  <tbody>\n",
       "    <tr>\n",
       "      <th>0</th>\n",
       "      <td>0</td>\n",
       "      <td>0</td>\n",
       "      <td>F</td>\n",
       "      <td>сотрудник</td>\n",
       "      <td>0</td>\n",
       "      <td>жилая недвижимость</td>\n",
       "      <td>A</td>\n",
       "      <td>1 ребёнок</td>\n",
       "    </tr>\n",
       "    <tr>\n",
       "      <th>1</th>\n",
       "      <td>1</td>\n",
       "      <td>0</td>\n",
       "      <td>F</td>\n",
       "      <td>сотрудник</td>\n",
       "      <td>0</td>\n",
       "      <td>автомобиль</td>\n",
       "      <td>C</td>\n",
       "      <td>1 ребёнок</td>\n",
       "    </tr>\n",
       "    <tr>\n",
       "      <th>2</th>\n",
       "      <td>1</td>\n",
       "      <td>0</td>\n",
       "      <td>M</td>\n",
       "      <td>сотрудник</td>\n",
       "      <td>0</td>\n",
       "      <td>жилая недвижимость</td>\n",
       "      <td>B</td>\n",
       "      <td>без детей</td>\n",
       "    </tr>\n",
       "    <tr>\n",
       "      <th>3</th>\n",
       "      <td>1</td>\n",
       "      <td>0</td>\n",
       "      <td>M</td>\n",
       "      <td>сотрудник</td>\n",
       "      <td>0</td>\n",
       "      <td>образование</td>\n",
       "      <td>A</td>\n",
       "      <td>многодетные</td>\n",
       "    </tr>\n",
       "    <tr>\n",
       "      <th>4</th>\n",
       "      <td>1</td>\n",
       "      <td>1</td>\n",
       "      <td>F</td>\n",
       "      <td>пенсионер</td>\n",
       "      <td>0</td>\n",
       "      <td>свадьба</td>\n",
       "      <td>B</td>\n",
       "      <td>без детей</td>\n",
       "    </tr>\n",
       "    <tr>\n",
       "      <th>5</th>\n",
       "      <td>0</td>\n",
       "      <td>1</td>\n",
       "      <td>M</td>\n",
       "      <td>компаньон</td>\n",
       "      <td>0</td>\n",
       "      <td>жилая недвижимость</td>\n",
       "      <td>A</td>\n",
       "      <td>без детей</td>\n",
       "    </tr>\n",
       "    <tr>\n",
       "      <th>6</th>\n",
       "      <td>0</td>\n",
       "      <td>0</td>\n",
       "      <td>F</td>\n",
       "      <td>компаньон</td>\n",
       "      <td>0</td>\n",
       "      <td>жилая недвижимость</td>\n",
       "      <td>A</td>\n",
       "      <td>без детей</td>\n",
       "    </tr>\n",
       "    <tr>\n",
       "      <th>7</th>\n",
       "      <td>1</td>\n",
       "      <td>0</td>\n",
       "      <td>M</td>\n",
       "      <td>сотрудник</td>\n",
       "      <td>0</td>\n",
       "      <td>образование</td>\n",
       "      <td>C</td>\n",
       "      <td>без детей</td>\n",
       "    </tr>\n",
       "    <tr>\n",
       "      <th>8</th>\n",
       "      <td>0</td>\n",
       "      <td>1</td>\n",
       "      <td>F</td>\n",
       "      <td>сотрудник</td>\n",
       "      <td>0</td>\n",
       "      <td>свадьба</td>\n",
       "      <td>D</td>\n",
       "      <td>2-3 ребёнка</td>\n",
       "    </tr>\n",
       "    <tr>\n",
       "      <th>9</th>\n",
       "      <td>1</td>\n",
       "      <td>0</td>\n",
       "      <td>M</td>\n",
       "      <td>сотрудник</td>\n",
       "      <td>0</td>\n",
       "      <td>жилая недвижимость</td>\n",
       "      <td>B</td>\n",
       "      <td>без детей</td>\n",
       "    </tr>\n",
       "  </tbody>\n",
       "</table>\n",
       "</div>"
      ],
      "text/plain": [
       "   education_id  family_status_id gender income_type  debt  \\\n",
       "0             0                 0      F   сотрудник     0   \n",
       "1             1                 0      F   сотрудник     0   \n",
       "2             1                 0      M   сотрудник     0   \n",
       "3             1                 0      M   сотрудник     0   \n",
       "4             1                 1      F   пенсионер     0   \n",
       "5             0                 1      M   компаньон     0   \n",
       "6             0                 0      F   компаньон     0   \n",
       "7             1                 0      M   сотрудник     0   \n",
       "8             0                 1      F   сотрудник     0   \n",
       "9             1                 0      M   сотрудник     0   \n",
       "\n",
       "        purpose_group income_group children_group  \n",
       "0  жилая недвижимость            A      1 ребёнок  \n",
       "1          автомобиль            C      1 ребёнок  \n",
       "2  жилая недвижимость            B      без детей  \n",
       "3         образование            A    многодетные  \n",
       "4             свадьба            B      без детей  \n",
       "5  жилая недвижимость            A      без детей  \n",
       "6  жилая недвижимость            A      без детей  \n",
       "7         образование            C      без детей  \n",
       "8             свадьба            D    2-3 ребёнка  \n",
       "9  жилая недвижимость            B      без детей  "
      ]
     },
     "execution_count": 46,
     "metadata": {},
     "output_type": "execute_result"
    }
   ],
   "source": [
    "data_analysis = data[['education_id', 'family_status_id', 'gender', 'income_type', 'debt', 'purpose_group', 'income_group', 'children_group']]\n",
    "data_analysis.head(10)"
   ]
  },
  {
   "cell_type": "markdown",
   "metadata": {},
   "source": [
    "**Вывод**"
   ]
  },
  {
   "cell_type": "markdown",
   "metadata": {},
   "source": [
    "Выделены словари для категорий по семейному статусу и уровню образования. Созданы отдельные категории по уровню дохода, количеству и наличию детей."
   ]
  },
  {
   "cell_type": "markdown",
   "metadata": {},
   "source": [
    "## Ответы на вопросы"
   ]
  },
  {
   "cell_type": "markdown",
   "metadata": {},
   "source": [
    "- Есть ли зависимость между наличием детей и возвратом кредита в срок?"
   ]
  },
  {
   "cell_type": "code",
   "execution_count": 47,
   "metadata": {},
   "outputs": [
    {
     "data": {
      "text/plain": [
       "children_group  debt\n",
       "1 ребёнок       0        4411\n",
       "                1         445\n",
       "2-3 ребёнка     0        1858\n",
       "                1         194\n",
       "без детей       0       13043\n",
       "                1        1063\n",
       "многодетные     0         417\n",
       "                1          39\n",
       "Name: debt, dtype: int64"
      ]
     },
     "execution_count": 47,
     "metadata": {},
     "output_type": "execute_result"
    }
   ],
   "source": [
    "data_analysis.groupby('children_group')['debt'].value_counts() # смотрим зависимость задолженности от наличия детей."
   ]
  },
  {
   "cell_type": "markdown",
   "metadata": {},
   "source": [
    "**Вывод**"
   ]
  },
  {
   "cell_type": "markdown",
   "metadata": {},
   "source": [
    "Процент должников в категории без детей практически такой же, как и у категорий с детьми - ниже на один-два процентных пункта. В целом отличия несущественны."
   ]
  },
  {
   "cell_type": "markdown",
   "metadata": {},
   "source": [
    "- Есть ли зависимость между семейным положением и возвратом кредита в срок?"
   ]
  },
  {
   "cell_type": "code",
   "execution_count": 48,
   "metadata": {},
   "outputs": [
    {
     "data": {
      "text/plain": [
       "family_status          debt\n",
       "Не женат / не замужем  0        2536\n",
       "                       1         274\n",
       "в разводе              0        1110\n",
       "                       1          85\n",
       "вдовец / вдова         0         896\n",
       "                       1          63\n",
       "гражданский брак       0        3774\n",
       "                       1         388\n",
       "женат / замужем        0       11413\n",
       "                       1         931\n",
       "Name: debt, dtype: int64"
      ]
     },
     "execution_count": 48,
     "metadata": {},
     "output_type": "execute_result"
    }
   ],
   "source": [
    "data.groupby('family_status')['debt'].value_counts() # смотрим зависимость задолженности от семейного положения"
   ]
  },
  {
   "cell_type": "markdown",
   "metadata": {},
   "source": [
    "**Вывод**"
   ]
  },
  {
   "cell_type": "markdown",
   "metadata": {},
   "source": [
    "Процент должников в категориях \"Не женат / не замужем\" и \"гражданский брак\" немногим выше, чем у остальных категорий, но незначительно."
   ]
  },
  {
   "cell_type": "markdown",
   "metadata": {},
   "source": [
    "- Есть ли зависимость между уровнем дохода и возвратом кредита в срок?"
   ]
  },
  {
   "cell_type": "code",
   "execution_count": 49,
   "metadata": {},
   "outputs": [
    {
     "data": {
      "text/plain": [
       "income_group  debt\n",
       "A             0       4709\n",
       "              1        358\n",
       "B             0       5034\n",
       "              1        467\n",
       "C             0       5006\n",
       "              1        485\n",
       "D             0       4980\n",
       "              1        431\n",
       "Name: debt, dtype: int64"
      ]
     },
     "execution_count": 49,
     "metadata": {},
     "output_type": "execute_result"
    }
   ],
   "source": [
    "data_analysis.groupby('income_group')['debt'].value_counts()  # смотрим зависимость задолженности от уровня дохода"
   ]
  },
  {
   "cell_type": "markdown",
   "metadata": {},
   "source": [
    "**Вывод**"
   ]
  },
  {
   "cell_type": "markdown",
   "metadata": {},
   "source": [
    "Если смотреть на процент задолженностей в категориях по доходам, видно, что самый низкий процент задолженности у категории высоких доходов. У категорий средних доходов самый большой процент должников, но лишь немногим выше."
   ]
  },
  {
   "cell_type": "markdown",
   "metadata": {},
   "source": [
    "- Как разные цели кредита влияют на его возврат в срок?"
   ]
  },
  {
   "cell_type": "code",
   "execution_count": 50,
   "metadata": {},
   "outputs": [
    {
     "data": {
      "text/plain": [
       "purpose_group       debt\n",
       "автомобиль          0       3905\n",
       "                    1        403\n",
       "жилая недвижимость  0       5295\n",
       "                    1        397\n",
       "недвижимость        0       4737\n",
       "                    1        385\n",
       "образование         0       3644\n",
       "                    1        370\n",
       "свадьба             0       2148\n",
       "                    1        186\n",
       "Name: debt, dtype: int64"
      ]
     },
     "execution_count": 50,
     "metadata": {},
     "output_type": "execute_result"
    }
   ],
   "source": [
    "data_analysis.groupby('purpose_group')['debt'].value_counts() # смотрим зависимость задолженности от целей кредита"
   ]
  },
  {
   "cell_type": "markdown",
   "metadata": {},
   "source": [
    "**Вывод**"
   ]
  },
  {
   "cell_type": "markdown",
   "metadata": {},
   "source": [
    "Самый большой процент по задолженностям тут - это кредиты на автомобиль и образование. Самый низкий - на жилую недвижимость."
   ]
  },
  {
   "cell_type": "markdown",
   "metadata": {},
   "source": [
    "## Общий вывод"
   ]
  },
  {
   "cell_type": "markdown",
   "metadata": {},
   "source": [
    "   Был проведён анализ базы данных статистики о платёжеспособности клиентов. Необходимо было разобраться, влияет ли семейное положение и количество детей клиента на факт погашения кредита в срок. \n",
    "База данных сначала была изучена на предмет структуры, типов значений, ошибок, дубликатов и аномальных значений.\n",
    "Явные дубликаты значений были удалены, неявные дубликаты обработаны, отрицательные значения исправлены, пропущенные значения приведены к средним и медианным.\n",
    "Была проведена лемматизация для стоблца графы \"цель кредита\" с целью последующего выделения ключевых целей, для которых берётся заём.\n",
    "Проведена категоризация данных по ключевым параметрам дохода, образования, семейного положения и количества детей клиентов для последующего анализа.\n",
    "Проведён анализ, даны ответы на ключевые вопросы, выяснено, что общий уровень задолженностей в разных категориях по уровню дохода, семейному положению, количеству детей, целям кредита примерно находится на одном уровне, отличаясь незначительно.\n",
    "Для последующего анализа данных клиентов рекомендация кредитному отделу банка поработать над улучшением заполняемости базы данных, а точнее:\n",
    "добавлять в базу данных данные о текущих имеющихся заёмах в других банках, так как общая долговая нагрузка влияет на вероятность погашения кредита в срок; поработать корректной заполняемостью уже имеющихся полей.\n"
   ]
  }
 ],
 "metadata": {
  "ExecuteTimeLog": [
   {
    "duration": 839,
    "start_time": "2021-12-18T16:40:33.600Z"
   },
   {
    "duration": 65,
    "start_time": "2021-12-18T16:40:36.034Z"
   },
   {
    "duration": 73,
    "start_time": "2021-12-18T16:40:54.640Z"
   },
   {
    "duration": 83,
    "start_time": "2021-12-18T16:43:42.008Z"
   },
   {
    "duration": 74,
    "start_time": "2021-12-18T16:47:59.373Z"
   },
   {
    "duration": 71,
    "start_time": "2021-12-18T16:50:04.334Z"
   },
   {
    "duration": 77,
    "start_time": "2021-12-18T16:52:54.221Z"
   },
   {
    "duration": 16,
    "start_time": "2021-12-18T16:55:53.213Z"
   },
   {
    "duration": 411,
    "start_time": "2021-12-18T17:09:50.413Z"
   },
   {
    "duration": 16,
    "start_time": "2021-12-18T17:10:02.719Z"
   },
   {
    "duration": 8,
    "start_time": "2021-12-18T17:11:31.000Z"
   },
   {
    "duration": 9,
    "start_time": "2021-12-18T17:16:22.629Z"
   },
   {
    "duration": 9,
    "start_time": "2021-12-18T17:17:02.097Z"
   },
   {
    "duration": 9,
    "start_time": "2021-12-18T17:17:17.583Z"
   },
   {
    "duration": 184,
    "start_time": "2021-12-19T15:04:19.022Z"
   },
   {
    "duration": 625,
    "start_time": "2021-12-19T15:04:23.508Z"
   },
   {
    "duration": 11,
    "start_time": "2021-12-19T15:04:25.459Z"
   },
   {
    "duration": 9,
    "start_time": "2021-12-19T15:04:28.828Z"
   },
   {
    "duration": 18,
    "start_time": "2021-12-19T15:09:59.786Z"
   },
   {
    "duration": 150,
    "start_time": "2021-12-19T15:10:38.559Z"
   },
   {
    "duration": 7,
    "start_time": "2021-12-19T15:10:55.753Z"
   },
   {
    "duration": 10,
    "start_time": "2021-12-19T15:11:16.345Z"
   },
   {
    "duration": 134,
    "start_time": "2021-12-19T15:16:13.248Z"
   },
   {
    "duration": 163,
    "start_time": "2021-12-19T15:16:36.263Z"
   },
   {
    "duration": 16,
    "start_time": "2021-12-19T15:17:11.312Z"
   },
   {
    "duration": 18,
    "start_time": "2021-12-19T15:17:40.719Z"
   },
   {
    "duration": 133,
    "start_time": "2021-12-19T15:17:51.471Z"
   },
   {
    "duration": 4,
    "start_time": "2021-12-19T15:18:05.968Z"
   },
   {
    "duration": 4,
    "start_time": "2021-12-19T15:18:08.687Z"
   },
   {
    "duration": 6,
    "start_time": "2021-12-19T15:21:33.310Z"
   },
   {
    "duration": 9,
    "start_time": "2021-12-19T15:23:51.555Z"
   },
   {
    "duration": 6,
    "start_time": "2021-12-19T15:23:58.034Z"
   },
   {
    "duration": 690,
    "start_time": "2021-12-19T15:24:15.011Z"
   },
   {
    "duration": 7,
    "start_time": "2021-12-19T15:24:50.739Z"
   },
   {
    "duration": 6,
    "start_time": "2021-12-19T15:24:54.052Z"
   },
   {
    "duration": 7,
    "start_time": "2021-12-19T15:25:06.854Z"
   },
   {
    "duration": 6,
    "start_time": "2021-12-19T15:25:21.891Z"
   },
   {
    "duration": 56,
    "start_time": "2021-12-19T15:25:27.899Z"
   },
   {
    "duration": 17,
    "start_time": "2021-12-19T15:25:38.690Z"
   },
   {
    "duration": 7,
    "start_time": "2021-12-19T15:25:42.458Z"
   },
   {
    "duration": 6,
    "start_time": "2021-12-19T15:25:45.690Z"
   },
   {
    "duration": 7,
    "start_time": "2021-12-19T15:28:21.755Z"
   },
   {
    "duration": 4,
    "start_time": "2021-12-19T15:28:30.737Z"
   },
   {
    "duration": 4,
    "start_time": "2021-12-19T15:28:34.265Z"
   },
   {
    "duration": 5,
    "start_time": "2021-12-19T15:29:45.888Z"
   },
   {
    "duration": 17,
    "start_time": "2021-12-19T15:30:02.992Z"
   },
   {
    "duration": 8,
    "start_time": "2021-12-19T15:31:14.791Z"
   },
   {
    "duration": 11,
    "start_time": "2021-12-19T15:34:10.454Z"
   },
   {
    "duration": 1605,
    "start_time": "2021-12-19T15:37:51.630Z"
   },
   {
    "duration": 1583,
    "start_time": "2021-12-19T15:38:44.660Z"
   },
   {
    "duration": 63,
    "start_time": "2021-12-19T15:38:51.234Z"
   },
   {
    "duration": 11,
    "start_time": "2021-12-19T15:38:52.092Z"
   },
   {
    "duration": 7,
    "start_time": "2021-12-19T15:38:54.331Z"
   },
   {
    "duration": 1853,
    "start_time": "2021-12-19T15:38:54.587Z"
   },
   {
    "duration": 1604,
    "start_time": "2021-12-19T15:39:21.964Z"
   },
   {
    "duration": 1648,
    "start_time": "2021-12-19T15:41:25.766Z"
   },
   {
    "duration": 217,
    "start_time": "2021-12-19T15:42:21.227Z"
   },
   {
    "duration": 3,
    "start_time": "2021-12-19T15:42:35.933Z"
   },
   {
    "duration": 1667,
    "start_time": "2021-12-19T15:42:48.490Z"
   },
   {
    "duration": 1806,
    "start_time": "2021-12-19T15:44:18.002Z"
   },
   {
    "duration": 1629,
    "start_time": "2021-12-19T15:45:09.754Z"
   },
   {
    "duration": 1811,
    "start_time": "2021-12-19T15:45:17.177Z"
   },
   {
    "duration": 61,
    "start_time": "2021-12-19T15:45:35.535Z"
   },
   {
    "duration": 11,
    "start_time": "2021-12-19T15:45:35.993Z"
   },
   {
    "duration": 7,
    "start_time": "2021-12-19T15:45:37.521Z"
   },
   {
    "duration": 14,
    "start_time": "2021-12-19T15:45:37.729Z"
   },
   {
    "duration": 1700,
    "start_time": "2021-12-19T15:45:43.464Z"
   },
   {
    "duration": 2502,
    "start_time": "2021-12-19T15:45:59.145Z"
   },
   {
    "duration": 58,
    "start_time": "2021-12-19T15:46:53.353Z"
   },
   {
    "duration": 11,
    "start_time": "2021-12-19T15:46:54.609Z"
   },
   {
    "duration": 9,
    "start_time": "2021-12-19T15:46:56.609Z"
   },
   {
    "duration": 3,
    "start_time": "2021-12-19T15:46:57.168Z"
   },
   {
    "duration": 6,
    "start_time": "2021-12-19T15:47:27.104Z"
   },
   {
    "duration": 7,
    "start_time": "2021-12-19T15:47:33.512Z"
   },
   {
    "duration": 7,
    "start_time": "2021-12-19T15:49:00.360Z"
   },
   {
    "duration": 8,
    "start_time": "2021-12-19T15:49:09.976Z"
   },
   {
    "duration": 10,
    "start_time": "2021-12-19T15:49:24.368Z"
   },
   {
    "duration": 15,
    "start_time": "2021-12-19T15:50:15.263Z"
   },
   {
    "duration": 1695,
    "start_time": "2021-12-19T15:52:18.191Z"
   },
   {
    "duration": 1660,
    "start_time": "2021-12-19T15:53:49.822Z"
   },
   {
    "duration": 2043,
    "start_time": "2021-12-19T15:53:59.599Z"
   },
   {
    "duration": 1616,
    "start_time": "2021-12-19T15:54:20.891Z"
   },
   {
    "duration": 1626,
    "start_time": "2021-12-19T15:54:31.733Z"
   },
   {
    "duration": 1635,
    "start_time": "2021-12-19T15:55:07.478Z"
   },
   {
    "duration": 1452,
    "start_time": "2021-12-19T15:55:07.663Z"
   },
   {
    "duration": 58,
    "start_time": "2021-12-19T15:55:14.997Z"
   },
   {
    "duration": 11,
    "start_time": "2021-12-19T15:55:16.149Z"
   },
   {
    "duration": 6,
    "start_time": "2021-12-19T15:55:19.537Z"
   },
   {
    "duration": 7,
    "start_time": "2021-12-19T15:55:23.430Z"
   },
   {
    "duration": 42,
    "start_time": "2021-12-19T15:58:52.941Z"
   },
   {
    "duration": 33,
    "start_time": "2021-12-19T15:59:07.309Z"
   },
   {
    "duration": 1636,
    "start_time": "2021-12-19T16:06:30.475Z"
   },
   {
    "duration": 59,
    "start_time": "2021-12-19T16:07:12.361Z"
   },
   {
    "duration": 15,
    "start_time": "2021-12-19T16:07:13.883Z"
   },
   {
    "duration": 10,
    "start_time": "2021-12-19T16:07:16.402Z"
   },
   {
    "duration": 2611,
    "start_time": "2021-12-19T16:07:16.899Z"
   },
   {
    "duration": 1647,
    "start_time": "2021-12-19T16:07:32.683Z"
   },
   {
    "duration": 56,
    "start_time": "2021-12-19T16:07:39.963Z"
   },
   {
    "duration": 11,
    "start_time": "2021-12-19T16:07:40.815Z"
   },
   {
    "duration": 7,
    "start_time": "2021-12-19T16:07:42.554Z"
   },
   {
    "duration": 23,
    "start_time": "2021-12-19T16:07:43.442Z"
   },
   {
    "duration": 29,
    "start_time": "2021-12-19T16:07:57.898Z"
   },
   {
    "duration": 55,
    "start_time": "2021-12-19T16:08:42.842Z"
   },
   {
    "duration": 31,
    "start_time": "2021-12-19T16:08:51.066Z"
   },
   {
    "duration": 14,
    "start_time": "2021-12-19T16:10:04.876Z"
   },
   {
    "duration": 33,
    "start_time": "2021-12-19T16:17:00.775Z"
   },
   {
    "duration": 25,
    "start_time": "2021-12-19T16:17:08.856Z"
   },
   {
    "duration": 28,
    "start_time": "2021-12-19T16:17:22.888Z"
   },
   {
    "duration": 45,
    "start_time": "2021-12-19T16:17:37.360Z"
   },
   {
    "duration": 31,
    "start_time": "2021-12-19T16:17:50.135Z"
   },
   {
    "duration": 36,
    "start_time": "2021-12-19T16:18:13.767Z"
   },
   {
    "duration": 42,
    "start_time": "2021-12-19T16:18:22.437Z"
   },
   {
    "duration": 69,
    "start_time": "2021-12-19T16:18:42.687Z"
   },
   {
    "duration": 27,
    "start_time": "2021-12-19T16:19:17.055Z"
   },
   {
    "duration": 12,
    "start_time": "2021-12-19T16:20:26.903Z"
   },
   {
    "duration": 6,
    "start_time": "2021-12-19T16:20:46.990Z"
   },
   {
    "duration": 38,
    "start_time": "2021-12-19T16:20:48.655Z"
   },
   {
    "duration": 27,
    "start_time": "2021-12-19T16:20:50.390Z"
   },
   {
    "duration": 11,
    "start_time": "2021-12-19T16:20:51.926Z"
   },
   {
    "duration": 55,
    "start_time": "2021-12-19T16:22:07.022Z"
   },
   {
    "duration": 11,
    "start_time": "2021-12-19T16:22:07.805Z"
   },
   {
    "duration": 8,
    "start_time": "2021-12-19T16:22:10.077Z"
   },
   {
    "duration": 27,
    "start_time": "2021-12-19T16:22:10.605Z"
   },
   {
    "duration": 26,
    "start_time": "2021-12-19T16:22:11.637Z"
   },
   {
    "duration": 10,
    "start_time": "2021-12-19T16:22:13.093Z"
   },
   {
    "duration": 58,
    "start_time": "2021-12-19T16:22:30.927Z"
   },
   {
    "duration": 11,
    "start_time": "2021-12-19T16:22:35.350Z"
   },
   {
    "duration": 9,
    "start_time": "2021-12-19T16:22:40.669Z"
   },
   {
    "duration": 35,
    "start_time": "2021-12-19T16:23:57.621Z"
   },
   {
    "duration": 10,
    "start_time": "2021-12-19T16:25:13.373Z"
   },
   {
    "duration": 6,
    "start_time": "2021-12-19T16:25:18.629Z"
   },
   {
    "duration": 16,
    "start_time": "2021-12-19T16:25:49.774Z"
   },
   {
    "duration": 57,
    "start_time": "2021-12-19T16:25:59.506Z"
   },
   {
    "duration": 12,
    "start_time": "2021-12-19T16:26:00.724Z"
   },
   {
    "duration": 7,
    "start_time": "2021-12-19T16:26:04.427Z"
   },
   {
    "duration": 23,
    "start_time": "2021-12-19T16:26:07.716Z"
   },
   {
    "duration": 7,
    "start_time": "2021-12-19T16:26:41.500Z"
   },
   {
    "duration": 17,
    "start_time": "2021-12-19T16:26:43.116Z"
   },
   {
    "duration": 17,
    "start_time": "2021-12-19T16:29:15.316Z"
   },
   {
    "duration": 44,
    "start_time": "2021-12-19T16:35:58.770Z"
   },
   {
    "duration": 22,
    "start_time": "2021-12-19T16:36:07.348Z"
   },
   {
    "duration": 16,
    "start_time": "2021-12-19T16:36:19.901Z"
   },
   {
    "duration": 4265,
    "start_time": "2021-12-19T16:37:13.892Z"
   },
   {
    "duration": 29,
    "start_time": "2021-12-19T16:37:30.716Z"
   },
   {
    "duration": 11,
    "start_time": "2021-12-19T16:37:42.556Z"
   },
   {
    "duration": 26,
    "start_time": "2021-12-19T16:37:56.276Z"
   },
   {
    "duration": 27,
    "start_time": "2021-12-19T16:38:50.779Z"
   },
   {
    "duration": 11,
    "start_time": "2021-12-19T16:38:52.835Z"
   },
   {
    "duration": 25,
    "start_time": "2021-12-19T16:40:11.787Z"
   },
   {
    "duration": 10,
    "start_time": "2021-12-19T16:40:13.915Z"
   },
   {
    "duration": 65,
    "start_time": "2021-12-19T16:40:45.741Z"
   },
   {
    "duration": 58,
    "start_time": "2021-12-19T16:47:12.392Z"
   },
   {
    "duration": 11,
    "start_time": "2021-12-19T16:47:12.770Z"
   },
   {
    "duration": 6,
    "start_time": "2021-12-19T16:47:15.473Z"
   },
   {
    "duration": 12,
    "start_time": "2021-12-19T16:49:12.481Z"
   },
   {
    "duration": 11,
    "start_time": "2021-12-19T16:49:33.033Z"
   },
   {
    "duration": 13,
    "start_time": "2021-12-19T16:54:18.168Z"
   },
   {
    "duration": 16,
    "start_time": "2021-12-19T16:54:19.488Z"
   },
   {
    "duration": 12,
    "start_time": "2021-12-19T16:55:12.095Z"
   },
   {
    "duration": 8,
    "start_time": "2021-12-19T17:07:57.404Z"
   },
   {
    "duration": 59,
    "start_time": "2021-12-19T17:08:00.962Z"
   },
   {
    "duration": 11,
    "start_time": "2021-12-19T17:08:01.482Z"
   },
   {
    "duration": 6,
    "start_time": "2021-12-19T17:08:04.569Z"
   },
   {
    "duration": 7,
    "start_time": "2021-12-19T17:08:05.937Z"
   },
   {
    "duration": 46,
    "start_time": "2021-12-19T17:10:38.711Z"
   },
   {
    "duration": 16,
    "start_time": "2021-12-19T17:10:44.001Z"
   },
   {
    "duration": 26,
    "start_time": "2021-12-19T17:11:46.151Z"
   },
   {
    "duration": 11,
    "start_time": "2021-12-19T17:11:47.776Z"
   },
   {
    "duration": 69,
    "start_time": "2021-12-19T17:13:38.400Z"
   },
   {
    "duration": 14,
    "start_time": "2021-12-19T17:13:38.815Z"
   },
   {
    "duration": 9,
    "start_time": "2021-12-19T17:13:41.039Z"
   },
   {
    "duration": 63,
    "start_time": "2021-12-19T17:26:43.898Z"
   },
   {
    "duration": 13,
    "start_time": "2021-12-19T17:26:44.353Z"
   },
   {
    "duration": 6,
    "start_time": "2021-12-19T17:26:46.089Z"
   },
   {
    "duration": 6,
    "start_time": "2021-12-19T17:28:58.024Z"
   },
   {
    "duration": 6,
    "start_time": "2021-12-19T17:29:07.769Z"
   },
   {
    "duration": 7,
    "start_time": "2021-12-19T17:29:30.426Z"
   },
   {
    "duration": 60,
    "start_time": "2021-12-19T17:32:57.888Z"
   },
   {
    "duration": 11,
    "start_time": "2021-12-19T17:32:58.352Z"
   },
   {
    "duration": 6,
    "start_time": "2021-12-19T17:33:01.536Z"
   },
   {
    "duration": 18,
    "start_time": "2021-12-19T17:33:34.477Z"
   },
   {
    "duration": 10,
    "start_time": "2021-12-19T17:33:35.391Z"
   },
   {
    "duration": 58,
    "start_time": "2021-12-19T17:35:04.575Z"
   },
   {
    "duration": 11,
    "start_time": "2021-12-19T17:35:05.110Z"
   },
   {
    "duration": 7,
    "start_time": "2021-12-19T17:35:06.887Z"
   },
   {
    "duration": 60,
    "start_time": "2021-12-19T17:43:23.447Z"
   },
   {
    "duration": 12,
    "start_time": "2021-12-19T17:43:25.143Z"
   },
   {
    "duration": 8,
    "start_time": "2021-12-19T17:43:28.630Z"
   },
   {
    "duration": 8905,
    "start_time": "2021-12-19T17:43:31.391Z"
   },
   {
    "duration": 10,
    "start_time": "2021-12-19T17:43:40.298Z"
   },
   {
    "duration": 8758,
    "start_time": "2021-12-19T17:44:54.503Z"
   },
   {
    "duration": 10,
    "start_time": "2021-12-19T17:45:03.263Z"
   },
   {
    "duration": 16,
    "start_time": "2021-12-19T17:46:35.047Z"
   },
   {
    "duration": 19,
    "start_time": "2021-12-19T17:46:46.374Z"
   },
   {
    "duration": 9,
    "start_time": "2021-12-19T17:51:24.894Z"
   },
   {
    "duration": 8,
    "start_time": "2021-12-19T17:51:38.375Z"
   },
   {
    "duration": 7,
    "start_time": "2021-12-19T17:51:50.326Z"
   },
   {
    "duration": 56,
    "start_time": "2021-12-19T18:01:22.986Z"
   },
   {
    "duration": 11,
    "start_time": "2021-12-19T18:01:24.300Z"
   },
   {
    "duration": 6,
    "start_time": "2021-12-19T18:01:26.301Z"
   },
   {
    "duration": 46,
    "start_time": "2021-12-19T18:02:16.044Z"
   },
   {
    "duration": 1251,
    "start_time": "2021-12-19T18:02:32.116Z"
   },
   {
    "duration": 247,
    "start_time": "2021-12-19T18:02:47.307Z"
   },
   {
    "duration": 137,
    "start_time": "2021-12-19T18:02:55.924Z"
   },
   {
    "duration": 1295,
    "start_time": "2021-12-19T18:03:04.331Z"
   },
   {
    "duration": 640,
    "start_time": "2021-12-19T18:06:47.610Z"
   },
   {
    "duration": 676,
    "start_time": "2021-12-19T18:07:04.938Z"
   },
   {
    "duration": 135,
    "start_time": "2021-12-19T18:08:31.329Z"
   },
   {
    "duration": 1160,
    "start_time": "2021-12-19T18:08:40.273Z"
   },
   {
    "duration": 257,
    "start_time": "2021-12-19T18:08:49.425Z"
   },
   {
    "duration": 667,
    "start_time": "2021-12-19T18:09:56.397Z"
   },
   {
    "duration": 137,
    "start_time": "2021-12-19T18:10:16.832Z"
   },
   {
    "duration": 3201,
    "start_time": "2021-12-19T18:14:26.391Z"
   },
   {
    "duration": 3429,
    "start_time": "2021-12-19T18:14:29.943Z"
   },
   {
    "duration": 1394,
    "start_time": "2021-12-19T18:14:49.190Z"
   },
   {
    "duration": 1798,
    "start_time": "2021-12-19T18:19:55.821Z"
   },
   {
    "duration": 8801,
    "start_time": "2021-12-19T18:20:18.211Z"
   },
   {
    "duration": 59,
    "start_time": "2021-12-19T18:21:31.009Z"
   },
   {
    "duration": 14,
    "start_time": "2021-12-19T18:21:32.138Z"
   },
   {
    "duration": 7,
    "start_time": "2021-12-19T18:21:35.938Z"
   },
   {
    "duration": 167,
    "start_time": "2021-12-19T18:22:32.794Z"
   },
   {
    "duration": 491,
    "start_time": "2021-12-19T18:22:54.075Z"
   },
   {
    "duration": 135,
    "start_time": "2021-12-19T18:23:51.674Z"
   },
   {
    "duration": 1852,
    "start_time": "2021-12-19T18:25:06.498Z"
   },
   {
    "duration": 58,
    "start_time": "2021-12-19T18:25:32.634Z"
   },
   {
    "duration": 16,
    "start_time": "2021-12-19T18:25:35.730Z"
   },
   {
    "duration": 6,
    "start_time": "2021-12-19T18:25:37.745Z"
   },
   {
    "duration": 1752,
    "start_time": "2021-12-19T18:25:39.794Z"
   },
   {
    "duration": 309,
    "start_time": "2021-12-20T04:18:50.838Z"
   },
   {
    "duration": 800,
    "start_time": "2021-12-20T04:19:19.309Z"
   },
   {
    "duration": 16,
    "start_time": "2021-12-20T04:19:23.574Z"
   },
   {
    "duration": 8,
    "start_time": "2021-12-20T04:19:30.767Z"
   },
   {
    "duration": 3176,
    "start_time": "2021-12-20T04:19:33.277Z"
   },
   {
    "duration": 2246,
    "start_time": "2021-12-20T04:20:20.318Z"
   },
   {
    "duration": 267,
    "start_time": "2021-12-20T04:33:57.486Z"
   },
   {
    "duration": 22,
    "start_time": "2021-12-20T04:34:05.887Z"
   },
   {
    "duration": 24,
    "start_time": "2021-12-20T04:34:45.160Z"
   },
   {
    "duration": 837,
    "start_time": "2021-12-20T04:38:26.551Z"
   },
   {
    "duration": 19,
    "start_time": "2021-12-20T04:38:27.639Z"
   },
   {
    "duration": 12,
    "start_time": "2021-12-20T04:38:34.264Z"
   },
   {
    "duration": 29,
    "start_time": "2021-12-20T04:38:35.679Z"
   },
   {
    "duration": 2605,
    "start_time": "2021-12-20T04:38:37.296Z"
   },
   {
    "duration": 34,
    "start_time": "2021-12-20T04:38:39.905Z"
   },
   {
    "duration": 29,
    "start_time": "2021-12-20T04:38:40.127Z"
   },
   {
    "duration": 340,
    "start_time": "2021-12-20T04:48:31.294Z"
   },
   {
    "duration": 2345,
    "start_time": "2021-12-20T04:50:21.608Z"
   },
   {
    "duration": 78,
    "start_time": "2021-12-20T04:50:30.942Z"
   },
   {
    "duration": 15,
    "start_time": "2021-12-20T04:50:32.439Z"
   },
   {
    "duration": 9,
    "start_time": "2021-12-20T04:50:38.410Z"
   },
   {
    "duration": 2302,
    "start_time": "2021-12-20T04:50:39.570Z"
   },
   {
    "duration": 23,
    "start_time": "2021-12-20T04:50:48.752Z"
   },
   {
    "duration": 85,
    "start_time": "2021-12-20T04:59:18.390Z"
   },
   {
    "duration": 14,
    "start_time": "2021-12-20T04:59:25.278Z"
   },
   {
    "duration": 22,
    "start_time": "2021-12-20T05:00:11.919Z"
   },
   {
    "duration": 12,
    "start_time": "2021-12-20T05:00:58.975Z"
   },
   {
    "duration": 21,
    "start_time": "2021-12-20T05:01:00.209Z"
   },
   {
    "duration": 75,
    "start_time": "2021-12-20T05:03:16.483Z"
   },
   {
    "duration": 76,
    "start_time": "2021-12-20T05:03:22.474Z"
   },
   {
    "duration": 15,
    "start_time": "2021-12-20T05:03:24.762Z"
   },
   {
    "duration": 8,
    "start_time": "2021-12-20T05:03:30.450Z"
   },
   {
    "duration": 2373,
    "start_time": "2021-12-20T05:03:33.145Z"
   },
   {
    "duration": 22,
    "start_time": "2021-12-20T05:03:35.621Z"
   },
   {
    "duration": 14,
    "start_time": "2021-12-20T05:03:49.177Z"
   },
   {
    "duration": 23,
    "start_time": "2021-12-20T05:03:55.873Z"
   },
   {
    "duration": 365,
    "start_time": "2021-12-20T05:04:44.635Z"
   },
   {
    "duration": 290,
    "start_time": "2021-12-20T05:05:10.283Z"
   },
   {
    "duration": 24,
    "start_time": "2021-12-20T05:08:08.895Z"
   },
   {
    "duration": 81,
    "start_time": "2021-12-20T05:08:10.071Z"
   },
   {
    "duration": 2751,
    "start_time": "2021-12-20T05:08:25.341Z"
   },
   {
    "duration": 38,
    "start_time": "2021-12-20T05:08:29.237Z"
   },
   {
    "duration": 2792,
    "start_time": "2021-12-20T05:13:51.082Z"
   },
   {
    "duration": 2293,
    "start_time": "2021-12-20T05:13:59.472Z"
   },
   {
    "duration": 796,
    "start_time": "2021-12-20T05:14:15.477Z"
   },
   {
    "duration": 16,
    "start_time": "2021-12-20T05:14:16.838Z"
   },
   {
    "duration": 9,
    "start_time": "2021-12-20T05:14:22.997Z"
   },
   {
    "duration": 2280,
    "start_time": "2021-12-20T05:14:24.213Z"
   },
   {
    "duration": 24,
    "start_time": "2021-12-20T05:14:26.774Z"
   },
   {
    "duration": 2790,
    "start_time": "2021-12-20T05:14:29.040Z"
   },
   {
    "duration": 47,
    "start_time": "2021-12-20T05:14:31.833Z"
   },
   {
    "duration": 2806,
    "start_time": "2021-12-20T05:14:52.741Z"
   },
   {
    "duration": 2855,
    "start_time": "2021-12-20T05:17:22.318Z"
   },
   {
    "duration": 2844,
    "start_time": "2021-12-20T05:18:05.089Z"
   },
   {
    "duration": 2866,
    "start_time": "2021-12-20T05:18:19.057Z"
   },
   {
    "duration": 77,
    "start_time": "2021-12-20T05:18:40.816Z"
   },
   {
    "duration": 14,
    "start_time": "2021-12-20T05:18:43.184Z"
   },
   {
    "duration": 9,
    "start_time": "2021-12-20T05:18:49.619Z"
   },
   {
    "duration": 2344,
    "start_time": "2021-12-20T05:18:50.632Z"
   },
   {
    "duration": 22,
    "start_time": "2021-12-20T05:18:52.979Z"
   },
   {
    "duration": 3172,
    "start_time": "2021-12-20T05:18:53.738Z"
   },
   {
    "duration": 317,
    "start_time": "2021-12-20T06:22:49.445Z"
   },
   {
    "duration": 285,
    "start_time": "2021-12-20T06:23:22.349Z"
   },
   {
    "duration": 812,
    "start_time": "2021-12-20T06:23:26.656Z"
   },
   {
    "duration": 18,
    "start_time": "2021-12-20T06:23:28.468Z"
   },
   {
    "duration": 9,
    "start_time": "2021-12-20T06:23:33.813Z"
   },
   {
    "duration": 2339,
    "start_time": "2021-12-20T06:23:35.061Z"
   },
   {
    "duration": 39,
    "start_time": "2021-12-20T06:23:39.404Z"
   },
   {
    "duration": 78,
    "start_time": "2021-12-20T06:24:50.765Z"
   },
   {
    "duration": 16,
    "start_time": "2021-12-20T06:24:53.382Z"
   },
   {
    "duration": 8,
    "start_time": "2021-12-20T06:24:57.829Z"
   },
   {
    "duration": 2367,
    "start_time": "2021-12-20T06:25:00.556Z"
   },
   {
    "duration": 664,
    "start_time": "2021-12-20T06:25:03.090Z"
   },
   {
    "duration": 81,
    "start_time": "2021-12-20T06:25:33.712Z"
   },
   {
    "duration": 15,
    "start_time": "2021-12-20T06:25:34.438Z"
   },
   {
    "duration": 9,
    "start_time": "2021-12-20T06:25:37.710Z"
   },
   {
    "duration": 2591,
    "start_time": "2021-12-20T06:25:39.630Z"
   },
   {
    "duration": 49,
    "start_time": "2021-12-20T06:25:42.223Z"
   },
   {
    "duration": 89,
    "start_time": "2021-12-20T06:27:09.880Z"
   },
   {
    "duration": 13,
    "start_time": "2021-12-20T06:27:10.239Z"
   },
   {
    "duration": 9,
    "start_time": "2021-12-20T06:27:12.919Z"
   },
   {
    "duration": 2443,
    "start_time": "2021-12-20T06:27:15.072Z"
   },
   {
    "duration": 53,
    "start_time": "2021-12-20T06:27:17.517Z"
   },
   {
    "duration": 37,
    "start_time": "2021-12-20T06:28:15.312Z"
   },
   {
    "duration": 80,
    "start_time": "2021-12-20T06:30:30.720Z"
   },
   {
    "duration": 15,
    "start_time": "2021-12-20T06:30:31.108Z"
   },
   {
    "duration": 79,
    "start_time": "2021-12-20T06:30:37.737Z"
   },
   {
    "duration": 15,
    "start_time": "2021-12-20T06:30:38.177Z"
   },
   {
    "duration": 8,
    "start_time": "2021-12-20T06:30:44.474Z"
   },
   {
    "duration": 2411,
    "start_time": "2021-12-20T06:30:46.043Z"
   },
   {
    "duration": 38,
    "start_time": "2021-12-20T06:30:48.456Z"
   },
   {
    "duration": 79,
    "start_time": "2021-12-20T06:31:57.955Z"
   },
   {
    "duration": 17,
    "start_time": "2021-12-20T06:31:58.314Z"
   },
   {
    "duration": 8,
    "start_time": "2021-12-20T06:32:01.282Z"
   },
   {
    "duration": 2419,
    "start_time": "2021-12-20T06:32:28.812Z"
   },
   {
    "duration": 39,
    "start_time": "2021-12-20T06:33:16.092Z"
   },
   {
    "duration": 502,
    "start_time": "2021-12-20T06:33:57.387Z"
   },
   {
    "duration": 36,
    "start_time": "2021-12-20T06:34:09.485Z"
   },
   {
    "duration": 75,
    "start_time": "2021-12-20T06:53:53.354Z"
   },
   {
    "duration": 14,
    "start_time": "2021-12-20T06:53:54.007Z"
   },
   {
    "duration": 9,
    "start_time": "2021-12-20T06:53:57.377Z"
   },
   {
    "duration": 2344,
    "start_time": "2021-12-20T06:54:00.946Z"
   },
   {
    "duration": 37,
    "start_time": "2021-12-20T06:54:07.472Z"
   },
   {
    "duration": 36,
    "start_time": "2021-12-20T06:54:13.878Z"
   },
   {
    "duration": 35,
    "start_time": "2021-12-20T06:54:18.406Z"
   },
   {
    "duration": 82,
    "start_time": "2021-12-20T06:55:17.290Z"
   },
   {
    "duration": 88,
    "start_time": "2021-12-20T06:55:35.097Z"
   },
   {
    "duration": 36,
    "start_time": "2021-12-20T06:55:44.160Z"
   },
   {
    "duration": 78,
    "start_time": "2021-12-20T06:55:53.848Z"
   },
   {
    "duration": 15,
    "start_time": "2021-12-20T06:55:54.706Z"
   },
   {
    "duration": 9,
    "start_time": "2021-12-20T06:55:58.297Z"
   },
   {
    "duration": 77,
    "start_time": "2021-12-20T07:00:05.836Z"
   },
   {
    "duration": 14,
    "start_time": "2021-12-20T07:00:06.261Z"
   },
   {
    "duration": 8,
    "start_time": "2021-12-20T07:00:08.282Z"
   },
   {
    "duration": 2295,
    "start_time": "2021-12-20T07:00:10.037Z"
   },
   {
    "duration": 33,
    "start_time": "2021-12-20T07:00:12.334Z"
   },
   {
    "duration": 2822,
    "start_time": "2021-12-20T07:00:14.678Z"
   },
   {
    "duration": 8,
    "start_time": "2021-12-20T07:02:41.829Z"
   },
   {
    "duration": 14,
    "start_time": "2021-12-20T07:03:05.670Z"
   },
   {
    "duration": 6,
    "start_time": "2021-12-20T07:03:26.103Z"
   },
   {
    "duration": 80,
    "start_time": "2021-12-20T07:03:37.574Z"
   },
   {
    "duration": 16,
    "start_time": "2021-12-20T07:03:37.911Z"
   },
   {
    "duration": 8,
    "start_time": "2021-12-20T07:03:40.102Z"
   },
   {
    "duration": 2342,
    "start_time": "2021-12-20T07:03:41.527Z"
   },
   {
    "duration": 22,
    "start_time": "2021-12-20T07:03:43.872Z"
   },
   {
    "duration": 2962,
    "start_time": "2021-12-20T07:03:44.158Z"
   },
   {
    "duration": 14,
    "start_time": "2021-12-20T07:03:47.671Z"
   },
   {
    "duration": 14,
    "start_time": "2021-12-20T07:04:08.056Z"
   },
   {
    "duration": 82,
    "start_time": "2021-12-20T07:06:53.058Z"
   },
   {
    "duration": 17,
    "start_time": "2021-12-20T07:06:53.401Z"
   },
   {
    "duration": 9,
    "start_time": "2021-12-20T07:06:55.544Z"
   },
   {
    "duration": 2329,
    "start_time": "2021-12-20T07:06:55.905Z"
   },
   {
    "duration": 34,
    "start_time": "2021-12-20T07:06:58.236Z"
   },
   {
    "duration": 2848,
    "start_time": "2021-12-20T07:06:58.983Z"
   },
   {
    "duration": 260,
    "start_time": "2021-12-20T07:07:01.833Z"
   },
   {
    "duration": 599,
    "start_time": "2021-12-20T07:11:51.544Z"
   },
   {
    "duration": 102,
    "start_time": "2021-12-20T07:12:44.662Z"
   },
   {
    "duration": 97,
    "start_time": "2021-12-20T07:13:07.230Z"
   },
   {
    "duration": 106,
    "start_time": "2021-12-20T07:13:29.918Z"
   },
   {
    "duration": 85,
    "start_time": "2021-12-20T07:13:33.750Z"
   },
   {
    "duration": 87,
    "start_time": "2021-12-20T07:13:56.448Z"
   },
   {
    "duration": 83,
    "start_time": "2021-12-20T07:14:06.102Z"
   },
   {
    "duration": 120,
    "start_time": "2021-12-20T07:14:17.042Z"
   },
   {
    "duration": 126,
    "start_time": "2021-12-20T07:14:24.418Z"
   },
   {
    "duration": 783,
    "start_time": "2021-12-20T07:22:22.093Z"
   },
   {
    "duration": 77,
    "start_time": "2021-12-20T07:22:26.563Z"
   },
   {
    "duration": 16,
    "start_time": "2021-12-20T07:22:29.637Z"
   },
   {
    "duration": 8,
    "start_time": "2021-12-20T07:22:32.724Z"
   },
   {
    "duration": 2533,
    "start_time": "2021-12-20T07:22:34.613Z"
   },
   {
    "duration": 2398,
    "start_time": "2021-12-20T07:22:42.980Z"
   },
   {
    "duration": 23,
    "start_time": "2021-12-20T07:22:45.381Z"
   },
   {
    "duration": 2854,
    "start_time": "2021-12-20T07:22:47.291Z"
   },
   {
    "duration": 17,
    "start_time": "2021-12-20T07:22:56.340Z"
   },
   {
    "duration": 5,
    "start_time": "2021-12-20T07:24:00.572Z"
   },
   {
    "duration": 5,
    "start_time": "2021-12-20T07:25:11.232Z"
   },
   {
    "duration": 13,
    "start_time": "2021-12-20T07:31:40.011Z"
   },
   {
    "duration": 13,
    "start_time": "2021-12-20T07:31:47.974Z"
   },
   {
    "duration": 21,
    "start_time": "2021-12-20T07:32:04.365Z"
   },
   {
    "duration": 111,
    "start_time": "2021-12-20T07:39:36.578Z"
   },
   {
    "duration": 26,
    "start_time": "2021-12-20T07:39:44.203Z"
   },
   {
    "duration": 21,
    "start_time": "2021-12-20T07:40:10.048Z"
   },
   {
    "duration": 35,
    "start_time": "2021-12-20T07:40:51.907Z"
   },
   {
    "duration": 23,
    "start_time": "2021-12-20T07:40:58.920Z"
   },
   {
    "duration": 20,
    "start_time": "2021-12-20T07:44:03.925Z"
   },
   {
    "duration": 21,
    "start_time": "2021-12-20T07:46:49.615Z"
   },
   {
    "duration": 37,
    "start_time": "2021-12-20T07:48:57.615Z"
   },
   {
    "duration": 30,
    "start_time": "2021-12-20T07:49:31.696Z"
   },
   {
    "duration": 83,
    "start_time": "2021-12-20T07:50:28.184Z"
   },
   {
    "duration": 30,
    "start_time": "2021-12-20T07:50:37.168Z"
   },
   {
    "duration": 29,
    "start_time": "2021-12-20T07:50:57.262Z"
   },
   {
    "duration": 26,
    "start_time": "2021-12-20T07:51:12.279Z"
   },
   {
    "duration": 399,
    "start_time": "2021-12-20T07:51:43.472Z"
   },
   {
    "duration": 295,
    "start_time": "2021-12-20T07:51:58.228Z"
   },
   {
    "duration": 79,
    "start_time": "2021-12-20T07:52:33.058Z"
   },
   {
    "duration": 77,
    "start_time": "2021-12-20T07:52:43.688Z"
   },
   {
    "duration": 86,
    "start_time": "2021-12-20T07:52:57.360Z"
   },
   {
    "duration": 86,
    "start_time": "2021-12-20T07:53:02.360Z"
   },
   {
    "duration": 26,
    "start_time": "2021-12-20T07:53:11.353Z"
   },
   {
    "duration": 170,
    "start_time": "2021-12-20T07:53:17.040Z"
   },
   {
    "duration": 86,
    "start_time": "2021-12-20T07:53:27.586Z"
   },
   {
    "duration": 24,
    "start_time": "2021-12-20T07:53:43.010Z"
   },
   {
    "duration": 25,
    "start_time": "2021-12-20T07:54:05.713Z"
   },
   {
    "duration": 127,
    "start_time": "2021-12-20T07:55:20.034Z"
   },
   {
    "duration": 369,
    "start_time": "2021-12-20T07:57:50.812Z"
   },
   {
    "duration": 35,
    "start_time": "2021-12-20T07:58:50.036Z"
   },
   {
    "duration": 34,
    "start_time": "2021-12-20T07:59:01.023Z"
   },
   {
    "duration": 28,
    "start_time": "2021-12-20T08:00:11.774Z"
   },
   {
    "duration": 33,
    "start_time": "2021-12-20T08:00:14.087Z"
   },
   {
    "duration": 109,
    "start_time": "2021-12-20T09:08:34.676Z"
   },
   {
    "duration": 15,
    "start_time": "2021-12-20T09:08:37.402Z"
   },
   {
    "duration": 9,
    "start_time": "2021-12-20T09:08:42.410Z"
   },
   {
    "duration": 2316,
    "start_time": "2021-12-20T09:08:44.578Z"
   },
   {
    "duration": 284,
    "start_time": "2021-12-20T09:14:47.167Z"
   },
   {
    "duration": 2406,
    "start_time": "2021-12-20T09:19:36.532Z"
   },
   {
    "duration": 249,
    "start_time": "2021-12-20T09:24:56.238Z"
   },
   {
    "duration": 3586,
    "start_time": "2021-12-20T09:25:07.813Z"
   },
   {
    "duration": 3606,
    "start_time": "2021-12-20T09:25:14.470Z"
   },
   {
    "duration": 86,
    "start_time": "2021-12-20T09:38:02.999Z"
   },
   {
    "duration": 97,
    "start_time": "2021-12-20T09:38:24.960Z"
   },
   {
    "duration": 86,
    "start_time": "2021-12-20T09:38:32.095Z"
   },
   {
    "duration": 82,
    "start_time": "2021-12-20T09:38:44.855Z"
   },
   {
    "duration": 4207,
    "start_time": "2021-12-20T09:38:54.926Z"
   },
   {
    "duration": 2547,
    "start_time": "2021-12-20T09:50:28.793Z"
   },
   {
    "duration": 2411,
    "start_time": "2021-12-20T09:50:44.240Z"
   },
   {
    "duration": 2405,
    "start_time": "2021-12-20T09:51:04.505Z"
   },
   {
    "duration": 923,
    "start_time": "2021-12-20T15:28:36.469Z"
   },
   {
    "duration": 18,
    "start_time": "2021-12-20T15:28:41.647Z"
   },
   {
    "duration": 13,
    "start_time": "2021-12-20T15:28:45.774Z"
   },
   {
    "duration": 4579,
    "start_time": "2021-12-20T15:28:46.934Z"
   },
   {
    "duration": 36,
    "start_time": "2021-12-20T15:28:52.736Z"
   },
   {
    "duration": 3143,
    "start_time": "2021-12-20T15:28:55.618Z"
   },
   {
    "duration": 25,
    "start_time": "2021-12-20T15:29:04.093Z"
   },
   {
    "duration": 39,
    "start_time": "2021-12-20T15:29:08.709Z"
   },
   {
    "duration": 33,
    "start_time": "2021-12-20T15:29:14.310Z"
   },
   {
    "duration": 543,
    "start_time": "2021-12-20T15:29:18.662Z"
   },
   {
    "duration": 6562,
    "start_time": "2021-12-20T16:01:50.506Z"
   },
   {
    "duration": 7027,
    "start_time": "2021-12-20T16:02:19.976Z"
   },
   {
    "duration": 197294,
    "start_time": "2021-12-20T16:04:47.136Z"
   },
   {
    "duration": 7835,
    "start_time": "2021-12-20T16:09:27.686Z"
   },
   {
    "duration": 353,
    "start_time": "2021-12-20T16:36:18.012Z"
   },
   {
    "duration": 2004,
    "start_time": "2021-12-20T16:36:26.403Z"
   },
   {
    "duration": 5779,
    "start_time": "2021-12-20T16:45:43.740Z"
   },
   {
    "duration": 5822,
    "start_time": "2021-12-20T16:48:58.004Z"
   },
   {
    "duration": 6485,
    "start_time": "2021-12-20T16:52:58.248Z"
   },
   {
    "duration": 5724,
    "start_time": "2021-12-20T16:53:21.593Z"
   },
   {
    "duration": 5545,
    "start_time": "2021-12-20T16:54:26.822Z"
   },
   {
    "duration": 10,
    "start_time": "2021-12-20T16:59:07.323Z"
   },
   {
    "duration": 5401,
    "start_time": "2021-12-20T17:01:03.604Z"
   },
   {
    "duration": 6286,
    "start_time": "2021-12-20T17:01:43.527Z"
   },
   {
    "duration": 5857,
    "start_time": "2021-12-20T17:05:23.150Z"
   },
   {
    "duration": 5907,
    "start_time": "2021-12-20T17:09:22.371Z"
   },
   {
    "duration": 5459,
    "start_time": "2021-12-20T17:11:19.830Z"
   },
   {
    "duration": 14,
    "start_time": "2021-12-20T17:19:16.061Z"
   },
   {
    "duration": 12,
    "start_time": "2021-12-20T17:19:38.067Z"
   },
   {
    "duration": 7,
    "start_time": "2021-12-20T17:26:19.590Z"
   },
   {
    "duration": 7,
    "start_time": "2021-12-20T17:26:46.803Z"
   },
   {
    "duration": 81,
    "start_time": "2021-12-20T17:31:23.479Z"
   },
   {
    "duration": 16,
    "start_time": "2021-12-20T17:31:29.579Z"
   },
   {
    "duration": 9,
    "start_time": "2021-12-20T17:31:45.068Z"
   },
   {
    "duration": 4002,
    "start_time": "2021-12-20T17:31:46.998Z"
   },
   {
    "duration": 26,
    "start_time": "2021-12-20T17:31:53.424Z"
   },
   {
    "duration": 2611,
    "start_time": "2021-12-20T17:32:19.792Z"
   },
   {
    "duration": 2492,
    "start_time": "2021-12-20T17:32:23.974Z"
   },
   {
    "duration": 3038,
    "start_time": "2021-12-20T17:32:27.877Z"
   },
   {
    "duration": 10,
    "start_time": "2021-12-20T17:32:54.833Z"
   },
   {
    "duration": 26,
    "start_time": "2021-12-20T17:33:08.451Z"
   },
   {
    "duration": 43,
    "start_time": "2021-12-20T17:33:13.565Z"
   },
   {
    "duration": 49,
    "start_time": "2021-12-20T17:33:15.346Z"
   },
   {
    "duration": 9,
    "start_time": "2021-12-20T17:33:19.362Z"
   },
   {
    "duration": 5787,
    "start_time": "2021-12-20T17:33:21.842Z"
   },
   {
    "duration": 9,
    "start_time": "2021-12-20T17:33:38.242Z"
   },
   {
    "duration": 37,
    "start_time": "2021-12-20T18:01:26.573Z"
   },
   {
    "duration": 24,
    "start_time": "2021-12-20T18:02:25.531Z"
   },
   {
    "duration": 18,
    "start_time": "2021-12-20T18:02:45.811Z"
   },
   {
    "duration": 17,
    "start_time": "2021-12-20T18:03:03.107Z"
   },
   {
    "duration": 17,
    "start_time": "2021-12-20T18:03:03.637Z"
   },
   {
    "duration": 31,
    "start_time": "2021-12-20T18:03:30.098Z"
   },
   {
    "duration": 34,
    "start_time": "2021-12-20T18:03:46.961Z"
   },
   {
    "duration": 36,
    "start_time": "2021-12-20T18:04:22.240Z"
   },
   {
    "duration": 34,
    "start_time": "2021-12-20T18:04:26.767Z"
   },
   {
    "duration": 35,
    "start_time": "2021-12-20T18:04:32.672Z"
   },
   {
    "duration": 36,
    "start_time": "2021-12-20T18:04:37.442Z"
   },
   {
    "duration": 33,
    "start_time": "2021-12-20T18:05:10.380Z"
   },
   {
    "duration": 35,
    "start_time": "2021-12-20T18:05:20.198Z"
   },
   {
    "duration": 35,
    "start_time": "2021-12-20T18:05:32.408Z"
   },
   {
    "duration": 33,
    "start_time": "2021-12-20T18:05:50.313Z"
   },
   {
    "duration": 34,
    "start_time": "2021-12-20T18:06:03.726Z"
   },
   {
    "duration": 35,
    "start_time": "2021-12-20T18:06:19.136Z"
   },
   {
    "duration": 21,
    "start_time": "2021-12-20T18:06:51.563Z"
   },
   {
    "duration": 108,
    "start_time": "2021-12-20T18:10:06.502Z"
   },
   {
    "duration": 43,
    "start_time": "2021-12-20T18:10:26.379Z"
   },
   {
    "duration": 19,
    "start_time": "2021-12-20T18:11:11.518Z"
   },
   {
    "duration": 17,
    "start_time": "2021-12-20T18:11:25.908Z"
   },
   {
    "duration": 20,
    "start_time": "2021-12-20T18:11:59.192Z"
   },
   {
    "duration": 21,
    "start_time": "2021-12-20T18:12:23.558Z"
   },
   {
    "duration": 19,
    "start_time": "2021-12-20T18:13:21.661Z"
   },
   {
    "duration": 306,
    "start_time": "2021-12-21T16:57:06.616Z"
   },
   {
    "duration": 816,
    "start_time": "2021-12-21T16:57:24.989Z"
   },
   {
    "duration": 16,
    "start_time": "2021-12-21T16:57:26.980Z"
   },
   {
    "duration": 30,
    "start_time": "2021-12-21T16:57:30.912Z"
   },
   {
    "duration": 3957,
    "start_time": "2021-12-21T16:57:32.544Z"
   },
   {
    "duration": 4587,
    "start_time": "2021-12-21T16:57:36.504Z"
   },
   {
    "duration": 7,
    "start_time": "2021-12-21T16:57:41.095Z"
   },
   {
    "duration": 23,
    "start_time": "2021-12-21T16:57:43.158Z"
   },
   {
    "duration": 32,
    "start_time": "2021-12-21T16:57:49.367Z"
   },
   {
    "duration": 30,
    "start_time": "2021-12-21T16:57:51.050Z"
   },
   {
    "duration": 9,
    "start_time": "2021-12-21T16:58:09.752Z"
   },
   {
    "duration": 5710,
    "start_time": "2021-12-21T16:58:10.297Z"
   },
   {
    "duration": 52,
    "start_time": "2021-12-21T16:58:16.011Z"
   },
   {
    "duration": 28,
    "start_time": "2021-12-21T16:58:16.066Z"
   },
   {
    "duration": 19,
    "start_time": "2021-12-21T16:59:06.662Z"
   },
   {
    "duration": 19,
    "start_time": "2021-12-21T16:59:32.187Z"
   },
   {
    "duration": 23,
    "start_time": "2021-12-21T17:01:32.349Z"
   },
   {
    "duration": 7,
    "start_time": "2021-12-21T17:06:58.632Z"
   },
   {
    "duration": 6,
    "start_time": "2021-12-21T17:07:10.711Z"
   },
   {
    "duration": 7,
    "start_time": "2021-12-21T17:07:26.789Z"
   },
   {
    "duration": 6,
    "start_time": "2021-12-21T17:07:42.942Z"
   },
   {
    "duration": 9,
    "start_time": "2021-12-21T17:08:00.881Z"
   },
   {
    "duration": 80,
    "start_time": "2021-12-21T17:21:37.115Z"
   },
   {
    "duration": 445,
    "start_time": "2021-12-21T17:21:41.783Z"
   },
   {
    "duration": 15,
    "start_time": "2021-12-21T17:21:58.945Z"
   },
   {
    "duration": 241,
    "start_time": "2021-12-21T17:23:10.446Z"
   },
   {
    "duration": 17,
    "start_time": "2021-12-21T17:23:29.509Z"
   },
   {
    "duration": 34,
    "start_time": "2021-12-21T17:28:14.066Z"
   },
   {
    "duration": 22,
    "start_time": "2021-12-21T17:28:53.869Z"
   },
   {
    "duration": 20,
    "start_time": "2021-12-21T17:29:04.935Z"
   },
   {
    "duration": 15,
    "start_time": "2021-12-21T17:29:25.702Z"
   },
   {
    "duration": 20,
    "start_time": "2021-12-21T17:29:39.190Z"
   },
   {
    "duration": 19,
    "start_time": "2021-12-21T17:30:18.735Z"
   },
   {
    "duration": 27,
    "start_time": "2021-12-21T17:31:59.808Z"
   },
   {
    "duration": 26,
    "start_time": "2021-12-21T17:33:54.641Z"
   },
   {
    "duration": 29,
    "start_time": "2021-12-21T17:34:07.481Z"
   },
   {
    "duration": 21,
    "start_time": "2021-12-21T17:34:21.028Z"
   },
   {
    "duration": 21,
    "start_time": "2021-12-21T17:34:24.168Z"
   },
   {
    "duration": 22,
    "start_time": "2021-12-21T17:34:41.930Z"
   },
   {
    "duration": 6284,
    "start_time": "2021-12-21T17:50:34.418Z"
   },
   {
    "duration": 5360,
    "start_time": "2021-12-21T17:56:27.815Z"
   },
   {
    "duration": 8,
    "start_time": "2021-12-21T18:00:56.997Z"
   },
   {
    "duration": 17,
    "start_time": "2021-12-21T18:01:03.953Z"
   },
   {
    "duration": 20,
    "start_time": "2021-12-21T18:01:14.454Z"
   },
   {
    "duration": 79,
    "start_time": "2021-12-21T18:18:47.660Z"
   },
   {
    "duration": 16,
    "start_time": "2021-12-21T18:18:48.542Z"
   },
   {
    "duration": 9,
    "start_time": "2021-12-21T18:18:51.086Z"
   },
   {
    "duration": 6738,
    "start_time": "2021-12-21T18:18:51.911Z"
   },
   {
    "duration": 4375,
    "start_time": "2021-12-21T18:18:58.652Z"
   },
   {
    "duration": 7,
    "start_time": "2021-12-21T18:19:03.032Z"
   },
   {
    "duration": 71,
    "start_time": "2021-12-21T18:19:03.041Z"
   },
   {
    "duration": 55,
    "start_time": "2021-12-21T18:19:03.114Z"
   },
   {
    "duration": 40,
    "start_time": "2021-12-21T18:19:03.171Z"
   },
   {
    "duration": 10,
    "start_time": "2021-12-21T18:19:06.436Z"
   },
   {
    "duration": 5468,
    "start_time": "2021-12-21T18:19:08.833Z"
   },
   {
    "duration": 22,
    "start_time": "2021-12-21T18:19:19.111Z"
   },
   {
    "duration": 14,
    "start_time": "2021-12-21T18:19:19.478Z"
   },
   {
    "duration": 28,
    "start_time": "2021-12-21T18:19:19.818Z"
   },
   {
    "duration": 16,
    "start_time": "2021-12-21T18:19:20.138Z"
   },
   {
    "duration": 37,
    "start_time": "2021-12-21T18:19:22.561Z"
   },
   {
    "duration": 10,
    "start_time": "2021-12-21T18:20:26.286Z"
   },
   {
    "duration": 85,
    "start_time": "2021-12-21T18:20:37.251Z"
   },
   {
    "duration": 10,
    "start_time": "2021-12-21T18:20:42.279Z"
   },
   {
    "duration": 8,
    "start_time": "2021-12-21T18:20:56.134Z"
   },
   {
    "duration": 10,
    "start_time": "2021-12-21T18:20:59.842Z"
   },
   {
    "duration": 17,
    "start_time": "2021-12-21T18:21:39.335Z"
   },
   {
    "duration": 13,
    "start_time": "2021-12-21T18:28:06.443Z"
   },
   {
    "duration": 12,
    "start_time": "2021-12-21T18:28:08.667Z"
   },
   {
    "duration": 11,
    "start_time": "2021-12-21T18:28:32.950Z"
   },
   {
    "duration": 13,
    "start_time": "2021-12-21T18:29:05.265Z"
   },
   {
    "duration": 14,
    "start_time": "2021-12-21T18:29:45.847Z"
   },
   {
    "duration": 19,
    "start_time": "2021-12-21T18:43:36.604Z"
   },
   {
    "duration": 14,
    "start_time": "2021-12-21T18:55:49.094Z"
   },
   {
    "duration": 82,
    "start_time": "2021-12-21T18:58:37.790Z"
   },
   {
    "duration": 14,
    "start_time": "2021-12-21T18:58:38.204Z"
   },
   {
    "duration": 8,
    "start_time": "2021-12-21T18:58:39.900Z"
   },
   {
    "duration": 4083,
    "start_time": "2021-12-21T18:58:40.361Z"
   },
   {
    "duration": 2920,
    "start_time": "2021-12-21T18:58:44.446Z"
   },
   {
    "duration": 6,
    "start_time": "2021-12-21T18:58:47.369Z"
   },
   {
    "duration": 22,
    "start_time": "2021-12-21T18:58:48.703Z"
   },
   {
    "duration": 27,
    "start_time": "2021-12-21T18:58:50.381Z"
   },
   {
    "duration": 30,
    "start_time": "2021-12-21T18:58:51.938Z"
   },
   {
    "duration": 8,
    "start_time": "2021-12-21T18:58:55.014Z"
   },
   {
    "duration": 4973,
    "start_time": "2021-12-21T18:58:56.567Z"
   },
   {
    "duration": 34,
    "start_time": "2021-12-21T18:59:01.543Z"
   },
   {
    "duration": 13,
    "start_time": "2021-12-21T18:59:01.580Z"
   },
   {
    "duration": 67,
    "start_time": "2021-12-21T18:59:01.596Z"
   },
   {
    "duration": 20,
    "start_time": "2021-12-21T18:59:02.119Z"
   },
   {
    "duration": 32,
    "start_time": "2021-12-21T18:59:03.792Z"
   },
   {
    "duration": 30,
    "start_time": "2021-12-21T18:59:28.662Z"
   },
   {
    "duration": 28,
    "start_time": "2021-12-21T18:59:37.456Z"
   },
   {
    "duration": 21,
    "start_time": "2021-12-21T18:59:57.966Z"
   },
   {
    "duration": 14,
    "start_time": "2021-12-21T19:00:00.402Z"
   },
   {
    "duration": 20,
    "start_time": "2021-12-21T19:00:27.877Z"
   },
   {
    "duration": 29,
    "start_time": "2021-12-21T19:00:39.530Z"
   },
   {
    "duration": 30,
    "start_time": "2021-12-21T19:00:51.728Z"
   },
   {
    "duration": 20,
    "start_time": "2021-12-21T19:01:13.019Z"
   },
   {
    "duration": 22,
    "start_time": "2021-12-21T19:01:28.264Z"
   },
   {
    "duration": 19,
    "start_time": "2021-12-21T19:01:39.549Z"
   },
   {
    "duration": 19,
    "start_time": "2021-12-21T19:01:55.083Z"
   },
   {
    "duration": 20,
    "start_time": "2021-12-21T19:02:05.447Z"
   },
   {
    "duration": 19,
    "start_time": "2021-12-21T19:02:11.406Z"
   },
   {
    "duration": 19,
    "start_time": "2021-12-21T19:02:28.999Z"
   },
   {
    "duration": 19,
    "start_time": "2021-12-21T19:02:35.873Z"
   },
   {
    "duration": 21,
    "start_time": "2021-12-21T19:02:44.356Z"
   },
   {
    "duration": 20,
    "start_time": "2021-12-21T19:02:50.993Z"
   },
   {
    "duration": 20,
    "start_time": "2021-12-21T19:02:57.766Z"
   },
   {
    "duration": 1227,
    "start_time": "2021-12-21T19:03:20.361Z"
   },
   {
    "duration": 18,
    "start_time": "2021-12-21T19:03:21.592Z"
   },
   {
    "duration": 11,
    "start_time": "2021-12-21T19:03:24.946Z"
   },
   {
    "duration": 5770,
    "start_time": "2021-12-21T19:03:26.098Z"
   },
   {
    "duration": 3696,
    "start_time": "2021-12-21T19:03:31.872Z"
   },
   {
    "duration": 7,
    "start_time": "2021-12-21T19:03:35.571Z"
   },
   {
    "duration": 25,
    "start_time": "2021-12-21T19:03:35.582Z"
   },
   {
    "duration": 44,
    "start_time": "2021-12-21T19:03:39.200Z"
   },
   {
    "duration": 46,
    "start_time": "2021-12-21T19:03:40.984Z"
   },
   {
    "duration": 8,
    "start_time": "2021-12-21T19:03:49.297Z"
   },
   {
    "duration": 5291,
    "start_time": "2021-12-21T19:04:09.543Z"
   },
   {
    "duration": 23,
    "start_time": "2021-12-21T19:04:23.977Z"
   },
   {
    "duration": 15,
    "start_time": "2021-12-21T19:04:25.714Z"
   },
   {
    "duration": 29,
    "start_time": "2021-12-21T19:04:26.666Z"
   },
   {
    "duration": 14,
    "start_time": "2021-12-21T19:04:27.706Z"
   },
   {
    "duration": 24,
    "start_time": "2021-12-21T19:04:31.590Z"
   },
   {
    "duration": 14,
    "start_time": "2021-12-21T19:04:35.654Z"
   },
   {
    "duration": 13,
    "start_time": "2021-12-21T19:04:43.271Z"
   },
   {
    "duration": 12,
    "start_time": "2021-12-21T19:04:46.567Z"
   },
   {
    "duration": 20,
    "start_time": "2021-12-21T19:06:00.824Z"
   },
   {
    "duration": 20,
    "start_time": "2021-12-21T19:06:25.452Z"
   },
   {
    "duration": 20,
    "start_time": "2021-12-21T19:06:39.256Z"
   },
   {
    "duration": 21,
    "start_time": "2021-12-21T19:06:45.825Z"
   },
   {
    "duration": 21,
    "start_time": "2021-12-21T19:06:54.270Z"
   },
   {
    "duration": 19,
    "start_time": "2021-12-21T19:06:59.512Z"
   },
   {
    "duration": 19,
    "start_time": "2021-12-21T19:07:34.879Z"
   },
   {
    "duration": 13,
    "start_time": "2021-12-21T19:07:35.375Z"
   },
   {
    "duration": 19,
    "start_time": "2021-12-21T19:07:35.901Z"
   },
   {
    "duration": 17,
    "start_time": "2021-12-21T19:07:36.903Z"
   },
   {
    "duration": 17,
    "start_time": "2021-12-21T19:07:37.772Z"
   },
   {
    "duration": 16,
    "start_time": "2021-12-21T19:07:39.512Z"
   },
   {
    "duration": 18,
    "start_time": "2021-12-21T19:07:46.228Z"
   },
   {
    "duration": 6,
    "start_time": "2021-12-21T19:30:18.972Z"
   },
   {
    "duration": 11,
    "start_time": "2021-12-21T19:32:05.556Z"
   },
   {
    "duration": 402,
    "start_time": "2021-12-22T14:50:26.719Z"
   },
   {
    "duration": 877,
    "start_time": "2021-12-22T14:50:35.977Z"
   },
   {
    "duration": 18,
    "start_time": "2021-12-22T14:50:36.857Z"
   },
   {
    "duration": 17,
    "start_time": "2021-12-22T14:50:38.437Z"
   },
   {
    "duration": 5928,
    "start_time": "2021-12-22T14:50:39.453Z"
   },
   {
    "duration": 3961,
    "start_time": "2021-12-22T14:50:45.384Z"
   },
   {
    "duration": 20,
    "start_time": "2021-12-22T14:50:49.348Z"
   },
   {
    "duration": 8,
    "start_time": "2021-12-22T14:50:49.371Z"
   },
   {
    "duration": 6,
    "start_time": "2021-12-22T14:51:00.768Z"
   },
   {
    "duration": 6,
    "start_time": "2021-12-22T14:51:06.566Z"
   },
   {
    "duration": 8,
    "start_time": "2021-12-22T14:51:28.858Z"
   },
   {
    "duration": 360,
    "start_time": "2021-12-22T14:56:04.953Z"
   },
   {
    "duration": 7,
    "start_time": "2021-12-22T14:56:16.592Z"
   },
   {
    "duration": 310,
    "start_time": "2021-12-22T14:56:33.506Z"
   },
   {
    "duration": 8,
    "start_time": "2021-12-22T14:56:46.199Z"
   },
   {
    "duration": 11,
    "start_time": "2021-12-22T14:56:52.816Z"
   },
   {
    "duration": 9,
    "start_time": "2021-12-22T14:57:10.710Z"
   },
   {
    "duration": 10,
    "start_time": "2021-12-22T15:02:32.795Z"
   },
   {
    "duration": 6,
    "start_time": "2021-12-22T15:04:06.201Z"
   },
   {
    "duration": 309,
    "start_time": "2021-12-22T15:07:14.421Z"
   },
   {
    "duration": 575,
    "start_time": "2021-12-22T15:07:21.160Z"
   },
   {
    "duration": 11,
    "start_time": "2021-12-22T15:07:43.395Z"
   },
   {
    "duration": 10,
    "start_time": "2021-12-22T15:25:08.859Z"
   },
   {
    "duration": 11,
    "start_time": "2021-12-22T15:26:03.805Z"
   },
   {
    "duration": 11,
    "start_time": "2021-12-22T15:28:58.000Z"
   },
   {
    "duration": 10,
    "start_time": "2021-12-22T15:29:06.741Z"
   },
   {
    "duration": 14,
    "start_time": "2021-12-22T15:29:14.962Z"
   },
   {
    "duration": 122,
    "start_time": "2021-12-22T15:30:38.156Z"
   },
   {
    "duration": 313,
    "start_time": "2021-12-22T15:30:42.933Z"
   },
   {
    "duration": 279,
    "start_time": "2021-12-22T15:31:07.140Z"
   },
   {
    "duration": 487,
    "start_time": "2021-12-22T15:31:25.494Z"
   },
   {
    "duration": 275,
    "start_time": "2021-12-22T15:31:42.760Z"
   },
   {
    "duration": 253,
    "start_time": "2021-12-22T15:32:00.146Z"
   },
   {
    "duration": 255,
    "start_time": "2021-12-22T15:32:17.536Z"
   },
   {
    "duration": 7,
    "start_time": "2021-12-22T15:34:04.128Z"
   },
   {
    "duration": 10,
    "start_time": "2021-12-22T15:34:19.213Z"
   },
   {
    "duration": 30,
    "start_time": "2021-12-22T15:45:29.940Z"
   },
   {
    "duration": 47,
    "start_time": "2021-12-22T15:45:43.100Z"
   },
   {
    "duration": 81,
    "start_time": "2021-12-22T15:51:10.969Z"
   },
   {
    "duration": 16,
    "start_time": "2021-12-22T15:51:12.813Z"
   },
   {
    "duration": 9,
    "start_time": "2021-12-22T15:51:15.929Z"
   },
   {
    "duration": 4182,
    "start_time": "2021-12-22T15:51:17.033Z"
   },
   {
    "duration": 2867,
    "start_time": "2021-12-22T15:51:21.217Z"
   },
   {
    "duration": 7,
    "start_time": "2021-12-22T15:51:24.088Z"
   },
   {
    "duration": 8,
    "start_time": "2021-12-22T15:51:24.098Z"
   },
   {
    "duration": 7,
    "start_time": "2021-12-22T15:51:24.108Z"
   },
   {
    "duration": 52,
    "start_time": "2021-12-22T15:51:24.117Z"
   },
   {
    "duration": 392,
    "start_time": "2021-12-22T15:51:26.054Z"
   },
   {
    "duration": 10,
    "start_time": "2021-12-22T15:51:27.391Z"
   },
   {
    "duration": 28,
    "start_time": "2021-12-22T15:51:37.952Z"
   },
   {
    "duration": 48,
    "start_time": "2021-12-22T15:51:38.665Z"
   },
   {
    "duration": 32,
    "start_time": "2021-12-22T15:51:40.281Z"
   },
   {
    "duration": 8,
    "start_time": "2021-12-22T15:51:44.425Z"
   },
   {
    "duration": 4815,
    "start_time": "2021-12-22T15:51:44.825Z"
   },
   {
    "duration": 36,
    "start_time": "2021-12-22T15:51:49.644Z"
   },
   {
    "duration": 15,
    "start_time": "2021-12-22T15:51:49.683Z"
   },
   {
    "duration": 26,
    "start_time": "2021-12-22T15:51:49.701Z"
   },
   {
    "duration": 51,
    "start_time": "2021-12-22T15:51:49.730Z"
   },
   {
    "duration": 26,
    "start_time": "2021-12-22T15:51:49.783Z"
   },
   {
    "duration": 13,
    "start_time": "2021-12-22T15:51:49.811Z"
   },
   {
    "duration": 47,
    "start_time": "2021-12-22T15:51:49.827Z"
   },
   {
    "duration": 13,
    "start_time": "2021-12-22T15:51:50.285Z"
   },
   {
    "duration": 14,
    "start_time": "2021-12-22T15:51:51.158Z"
   },
   {
    "duration": 110,
    "start_time": "2021-12-22T16:14:49.427Z"
   },
   {
    "duration": 489,
    "start_time": "2022-03-26T20:43:23.158Z"
   },
   {
    "duration": 13,
    "start_time": "2022-03-26T20:43:23.649Z"
   },
   {
    "duration": 6,
    "start_time": "2022-03-26T20:43:23.663Z"
   },
   {
    "duration": 1779,
    "start_time": "2022-03-26T20:43:23.671Z"
   },
   {
    "duration": 1111,
    "start_time": "2022-03-26T20:43:25.452Z"
   },
   {
    "duration": 4,
    "start_time": "2022-03-26T20:43:26.564Z"
   },
   {
    "duration": 13,
    "start_time": "2022-03-26T20:43:26.569Z"
   },
   {
    "duration": 3,
    "start_time": "2022-03-26T20:43:26.584Z"
   },
   {
    "duration": 13,
    "start_time": "2022-03-26T20:43:26.588Z"
   },
   {
    "duration": 203,
    "start_time": "2022-03-26T20:43:26.603Z"
   },
   {
    "duration": 6,
    "start_time": "2022-03-26T20:43:26.807Z"
   },
   {
    "duration": 25,
    "start_time": "2022-03-26T20:43:26.814Z"
   },
   {
    "duration": 40,
    "start_time": "2022-03-26T20:43:26.841Z"
   },
   {
    "duration": 17,
    "start_time": "2022-03-26T20:43:26.882Z"
   },
   {
    "duration": 9,
    "start_time": "2022-03-26T20:43:26.901Z"
   },
   {
    "duration": 3333,
    "start_time": "2022-03-26T20:43:26.911Z"
   },
   {
    "duration": 13,
    "start_time": "2022-03-26T20:43:30.246Z"
   },
   {
    "duration": 29,
    "start_time": "2022-03-26T20:43:30.260Z"
   },
   {
    "duration": 30,
    "start_time": "2022-03-26T20:43:30.290Z"
   },
   {
    "duration": 32,
    "start_time": "2022-03-26T20:43:30.322Z"
   },
   {
    "duration": 38,
    "start_time": "2022-03-26T20:43:30.356Z"
   },
   {
    "duration": 10,
    "start_time": "2022-03-26T20:43:30.396Z"
   },
   {
    "duration": 45,
    "start_time": "2022-03-26T20:43:30.407Z"
   },
   {
    "duration": 14,
    "start_time": "2022-03-26T20:43:30.454Z"
   },
   {
    "duration": 34,
    "start_time": "2022-03-26T20:43:30.469Z"
   },
   {
    "duration": 453,
    "start_time": "2022-03-26T20:43:50.696Z"
   },
   {
    "duration": 12,
    "start_time": "2022-03-26T20:43:51.151Z"
   },
   {
    "duration": 5,
    "start_time": "2022-03-26T20:43:51.165Z"
   },
   {
    "duration": 1783,
    "start_time": "2022-03-26T20:43:51.172Z"
   },
   {
    "duration": 1110,
    "start_time": "2022-03-26T20:43:52.957Z"
   },
   {
    "duration": 3,
    "start_time": "2022-03-26T20:43:54.069Z"
   },
   {
    "duration": 4,
    "start_time": "2022-03-26T20:43:54.081Z"
   },
   {
    "duration": 5,
    "start_time": "2022-03-26T20:43:54.087Z"
   },
   {
    "duration": 11,
    "start_time": "2022-03-26T20:43:54.094Z"
   },
   {
    "duration": 220,
    "start_time": "2022-03-26T20:43:54.107Z"
   },
   {
    "duration": 6,
    "start_time": "2022-03-26T20:43:54.328Z"
   },
   {
    "duration": 27,
    "start_time": "2022-03-26T20:43:54.335Z"
   },
   {
    "duration": 31,
    "start_time": "2022-03-26T20:43:54.364Z"
   },
   {
    "duration": 18,
    "start_time": "2022-03-26T20:43:54.396Z"
   },
   {
    "duration": 12,
    "start_time": "2022-03-26T20:43:54.415Z"
   },
   {
    "duration": 3242,
    "start_time": "2022-03-26T20:43:54.428Z"
   },
   {
    "duration": 12,
    "start_time": "2022-03-26T20:43:57.681Z"
   },
   {
    "duration": 9,
    "start_time": "2022-03-26T20:43:57.694Z"
   },
   {
    "duration": 13,
    "start_time": "2022-03-26T20:43:57.705Z"
   },
   {
    "duration": 10,
    "start_time": "2022-03-26T20:43:57.719Z"
   },
   {
    "duration": 15,
    "start_time": "2022-03-26T20:43:57.730Z"
   },
   {
    "duration": 37,
    "start_time": "2022-03-26T20:43:57.746Z"
   },
   {
    "duration": 7,
    "start_time": "2022-03-26T20:43:57.784Z"
   },
   {
    "duration": 8,
    "start_time": "2022-03-26T20:43:57.793Z"
   },
   {
    "duration": 9,
    "start_time": "2022-03-26T20:43:57.803Z"
   },
   {
    "duration": 434,
    "start_time": "2022-03-27T10:08:34.435Z"
   },
   {
    "duration": 15,
    "start_time": "2022-03-27T10:08:34.872Z"
   },
   {
    "duration": 6,
    "start_time": "2022-03-27T10:08:36.225Z"
   },
   {
    "duration": 1892,
    "start_time": "2022-03-27T10:08:36.730Z"
   },
   {
    "duration": 1195,
    "start_time": "2022-03-27T10:08:38.624Z"
   },
   {
    "duration": 4,
    "start_time": "2022-03-27T10:08:39.821Z"
   },
   {
    "duration": 8,
    "start_time": "2022-03-27T10:08:39.827Z"
   },
   {
    "duration": 23,
    "start_time": "2022-03-27T10:08:39.836Z"
   },
   {
    "duration": 23,
    "start_time": "2022-03-27T10:08:39.862Z"
   },
   {
    "duration": 397,
    "start_time": "2022-03-27T10:08:39.887Z"
   },
   {
    "duration": 14,
    "start_time": "2022-03-27T10:08:40.288Z"
   },
   {
    "duration": 19,
    "start_time": "2022-03-27T10:08:41.576Z"
   },
   {
    "duration": 29,
    "start_time": "2022-03-27T10:08:41.818Z"
   },
   {
    "duration": 19,
    "start_time": "2022-03-27T10:08:42.229Z"
   },
   {
    "duration": 5,
    "start_time": "2022-03-27T10:08:43.297Z"
   },
   {
    "duration": 3952,
    "start_time": "2022-03-27T10:08:43.738Z"
   },
   {
    "duration": 16,
    "start_time": "2022-03-27T10:08:47.701Z"
   },
   {
    "duration": 23,
    "start_time": "2022-03-27T10:08:47.719Z"
   },
   {
    "duration": 20,
    "start_time": "2022-03-27T10:08:47.745Z"
   },
   {
    "duration": 29,
    "start_time": "2022-03-27T10:08:47.767Z"
   },
   {
    "duration": 41,
    "start_time": "2022-03-27T10:08:47.798Z"
   },
   {
    "duration": 19,
    "start_time": "2022-03-27T10:08:47.841Z"
   },
   {
    "duration": 489,
    "start_time": "2022-03-27T10:08:53.685Z"
   },
   {
    "duration": 16,
    "start_time": "2022-03-27T10:08:54.176Z"
   },
   {
    "duration": 24,
    "start_time": "2022-03-27T10:08:54.193Z"
   },
   {
    "duration": 1889,
    "start_time": "2022-03-27T10:08:54.219Z"
   },
   {
    "duration": 1150,
    "start_time": "2022-03-27T10:08:56.110Z"
   },
   {
    "duration": 4,
    "start_time": "2022-03-27T10:08:57.262Z"
   },
   {
    "duration": 14,
    "start_time": "2022-03-27T10:08:57.267Z"
   },
   {
    "duration": 18,
    "start_time": "2022-03-27T10:08:57.282Z"
   },
   {
    "duration": 13,
    "start_time": "2022-03-27T10:08:57.303Z"
   },
   {
    "duration": 215,
    "start_time": "2022-03-27T10:08:57.319Z"
   },
   {
    "duration": 8,
    "start_time": "2022-03-27T10:08:57.536Z"
   },
   {
    "duration": 33,
    "start_time": "2022-03-27T10:08:57.546Z"
   },
   {
    "duration": 46,
    "start_time": "2022-03-27T10:08:57.581Z"
   },
   {
    "duration": 34,
    "start_time": "2022-03-27T10:08:57.629Z"
   },
   {
    "duration": 7,
    "start_time": "2022-03-27T10:08:57.666Z"
   },
   {
    "duration": 3788,
    "start_time": "2022-03-27T10:08:57.675Z"
   },
   {
    "duration": 35,
    "start_time": "2022-03-27T10:09:01.466Z"
   },
   {
    "duration": 16,
    "start_time": "2022-03-27T10:09:01.504Z"
   },
   {
    "duration": 21,
    "start_time": "2022-03-27T10:09:01.522Z"
   },
   {
    "duration": 13,
    "start_time": "2022-03-27T10:09:01.546Z"
   },
   {
    "duration": 50,
    "start_time": "2022-03-27T10:09:01.562Z"
   },
   {
    "duration": 14,
    "start_time": "2022-03-27T10:09:01.615Z"
   },
   {
    "duration": 14,
    "start_time": "2022-03-27T10:09:01.632Z"
   },
   {
    "duration": 13,
    "start_time": "2022-03-27T10:09:01.648Z"
   },
   {
    "duration": 43,
    "start_time": "2022-03-27T10:09:01.664Z"
   },
   {
    "duration": 15,
    "start_time": "2022-03-27T10:09:23.053Z"
   },
   {
    "duration": 10,
    "start_time": "2022-03-27T10:09:29.942Z"
   },
   {
    "duration": 548,
    "start_time": "2022-03-27T10:10:00.134Z"
   },
   {
    "duration": 18,
    "start_time": "2022-03-27T10:10:00.684Z"
   },
   {
    "duration": 42,
    "start_time": "2022-03-27T10:10:00.704Z"
   },
   {
    "duration": 2080,
    "start_time": "2022-03-27T10:10:00.748Z"
   },
   {
    "duration": 1220,
    "start_time": "2022-03-27T10:10:02.829Z"
   },
   {
    "duration": 5,
    "start_time": "2022-03-27T10:10:04.050Z"
   },
   {
    "duration": 22,
    "start_time": "2022-03-27T10:10:04.057Z"
   },
   {
    "duration": 19,
    "start_time": "2022-03-27T10:10:04.081Z"
   },
   {
    "duration": 29,
    "start_time": "2022-03-27T10:10:04.102Z"
   },
   {
    "duration": 229,
    "start_time": "2022-03-27T10:10:04.134Z"
   },
   {
    "duration": 7,
    "start_time": "2022-03-27T10:10:04.365Z"
   },
   {
    "duration": 37,
    "start_time": "2022-03-27T10:10:04.374Z"
   },
   {
    "duration": 30,
    "start_time": "2022-03-27T10:10:04.412Z"
   },
   {
    "duration": 21,
    "start_time": "2022-03-27T10:10:04.444Z"
   },
   {
    "duration": 16,
    "start_time": "2022-03-27T10:10:04.467Z"
   },
   {
    "duration": 3852,
    "start_time": "2022-03-27T10:10:04.485Z"
   },
   {
    "duration": 14,
    "start_time": "2022-03-27T10:10:08.339Z"
   },
   {
    "duration": 10,
    "start_time": "2022-03-27T10:10:08.355Z"
   },
   {
    "duration": 39,
    "start_time": "2022-03-27T10:10:08.367Z"
   },
   {
    "duration": 9,
    "start_time": "2022-03-27T10:10:08.407Z"
   },
   {
    "duration": 17,
    "start_time": "2022-03-27T10:10:08.418Z"
   },
   {
    "duration": 9,
    "start_time": "2022-03-27T10:10:08.438Z"
   },
   {
    "duration": 52,
    "start_time": "2022-03-27T10:10:08.449Z"
   },
   {
    "duration": 9,
    "start_time": "2022-03-27T10:10:08.503Z"
   },
   {
    "duration": 11,
    "start_time": "2022-03-27T10:10:08.514Z"
   },
   {
    "duration": 94,
    "start_time": "2022-03-28T07:37:55.981Z"
   },
   {
    "duration": 22,
    "start_time": "2022-03-28T07:37:56.077Z"
   },
   {
    "duration": 8,
    "start_time": "2022-03-28T07:37:56.104Z"
   },
   {
    "duration": 3524,
    "start_time": "2022-03-28T07:37:56.115Z"
   },
   {
    "duration": 4480,
    "start_time": "2022-03-28T07:37:59.642Z"
   },
   {
    "duration": 9,
    "start_time": "2022-03-28T07:38:04.126Z"
   },
   {
    "duration": 7,
    "start_time": "2022-03-28T07:38:04.138Z"
   },
   {
    "duration": 7,
    "start_time": "2022-03-28T07:38:04.168Z"
   },
   {
    "duration": 14,
    "start_time": "2022-03-28T07:38:04.177Z"
   },
   {
    "duration": 404,
    "start_time": "2022-03-28T07:38:04.193Z"
   },
   {
    "duration": 9,
    "start_time": "2022-03-28T07:38:04.599Z"
   },
   {
    "duration": 59,
    "start_time": "2022-03-28T07:38:04.611Z"
   },
   {
    "duration": 49,
    "start_time": "2022-03-28T07:38:04.672Z"
   },
   {
    "duration": 55,
    "start_time": "2022-03-28T07:38:04.723Z"
   },
   {
    "duration": 10,
    "start_time": "2022-03-28T07:38:04.780Z"
   },
   {
    "duration": 6055,
    "start_time": "2022-03-28T07:38:04.793Z"
   },
   {
    "duration": 43,
    "start_time": "2022-03-28T07:38:10.852Z"
   },
   {
    "duration": 24,
    "start_time": "2022-03-28T07:38:10.898Z"
   },
   {
    "duration": 59,
    "start_time": "2022-03-28T07:38:10.925Z"
   },
   {
    "duration": 20,
    "start_time": "2022-03-28T07:38:10.988Z"
   },
   {
    "duration": 64,
    "start_time": "2022-03-28T07:38:11.011Z"
   },
   {
    "duration": 15,
    "start_time": "2022-03-28T07:38:11.077Z"
   },
   {
    "duration": 18,
    "start_time": "2022-03-28T07:38:11.094Z"
   },
   {
    "duration": 15,
    "start_time": "2022-03-28T07:38:11.114Z"
   },
   {
    "duration": 14,
    "start_time": "2022-03-28T07:38:11.167Z"
   }
  ],
  "kernelspec": {
   "display_name": "Python 3 (ipykernel)",
   "language": "python",
   "name": "python3"
  },
  "language_info": {
   "codemirror_mode": {
    "name": "ipython",
    "version": 3
   },
   "file_extension": ".py",
   "mimetype": "text/x-python",
   "name": "python",
   "nbconvert_exporter": "python",
   "pygments_lexer": "ipython3",
   "version": "3.9.5"
  },
  "toc": {
   "base_numbering": 1,
   "nav_menu": {},
   "number_sections": true,
   "sideBar": true,
   "skip_h1_title": true,
   "title_cell": "Table of Contents",
   "title_sidebar": "Contents",
   "toc_cell": false,
   "toc_position": {},
   "toc_section_display": true,
   "toc_window_display": false
  }
 },
 "nbformat": 4,
 "nbformat_minor": 2
}
