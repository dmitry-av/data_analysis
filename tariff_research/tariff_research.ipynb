{
 "cells": [
  {
   "cell_type": "markdown",
   "metadata": {
    "id": "Yl0hguQuUrUe"
   },
   "source": [
    "# Исследование тарифных планов мобильного оператора связи\n",
    "\n",
    "Федеральный оператор сотовой связи дал задание провести исследование двух тарифных планов - «Смарт» и «Ультра». Чтобы правильно распланировать бюждет на рекламу, коммерческий департамент хочет знать, какой их этих тарифов приносит больше всего выручки.\n",
    "Мне предстоит сделать предварительный анализ тарифов на небольшой выборке клиентов оператора. В распоряжении имеются данные пятисот пользователей: имя, город, тариф, дата регистрации, данные о количестве звонков, сообщений и прочее. Требуется проанализировать поведение пользователей и определить лучший из этих двух тарифов.\n",
    "\n",
    "### Описание тарифов\n",
    "\n",
    "Тариф «Смарт»\n",
    "\n",
    "> Ежемесячная плата: 550 рублей\n",
    "> Включено 500 минут разговора, 50 сообщений и 15 Гб интернет-трафика\n",
    "> Стоимость услуг сверх тарифного пакета: 1. минута разговора: 3 рубля; 2. сообщение: 3 рубля; 3. 1 Гб интернет-трафика: 200 рублей.\n",
    "\n",
    "Тариф «Ультра»\n",
    "\n",
    "> Ежемесячная плата: 1950 рублей\n",
    "> Включено 3000 минут разговора, 1000 сообщений и 30 Гб интернет-трафика\n",
    "> Стоимость услуг сверх тарифного пакета: 1. минута разговора: 1 рубль; 2. сообщение: 1 рубль; 3. 1 Гб интернет-трафика: 150 рублей.\n",
    "\n",
    "\n",
    "Важное примечание для исследования:\n",
    "Оператор округляет секунды до минут, а мегабайты — до гигабайт. Каждый звонок округляется отдельно: даже если он длился всего 1 секунду, будет засчитана минута.\n",
    "Для веб-трафика отдельные сессии не считаются. Вместо этого общая сумма за месяц округляется в бо́льшую сторону. Если абонент использует 1025 мегабайт в этом месяце, с него возьмут плату за 2 гигабайта."
   ]
  },
  {
   "cell_type": "markdown",
   "metadata": {
    "id": "KJ-yV1RlVUFK"
   },
   "source": [
    "## Знакомство с данными из файлов\n",
    "\n",
    "Имеются 5 файлов с данными - calls.csv, internet.csv, messages.csv, tariffs.csv и users.csv."
   ]
  },
  {
   "cell_type": "code",
   "execution_count": 1,
   "metadata": {
    "colab": {
     "base_uri": "https://localhost:8080/",
     "height": 626
    },
    "executionInfo": {
     "elapsed": 2776,
     "status": "ok",
     "timestamp": 1642871949877,
     "user": {
      "displayName": "Дмитрий Аверин",
      "photoUrl": "https://lh3.googleusercontent.com/a/default-user=s64",
      "userId": "16753714053080864602"
     },
     "user_tz": -240
    },
    "id": "zCALuCAIXJ33",
    "outputId": "77f4f1d5-a3c8-4296-bece-64ae0a692c9c"
   },
   "outputs": [
    {
     "name": "stdout",
     "output_type": "stream",
     "text": [
      "<class 'pandas.core.frame.DataFrame'>\n",
      "RangeIndex: 202607 entries, 0 to 202606\n",
      "Data columns (total 4 columns):\n",
      " #   Column     Non-Null Count   Dtype  \n",
      "---  ------     --------------   -----  \n",
      " 0   id         202607 non-null  object \n",
      " 1   call_date  202607 non-null  object \n",
      " 2   duration   202607 non-null  float64\n",
      " 3   user_id    202607 non-null  int64  \n",
      "dtypes: float64(1), int64(1), object(2)\n",
      "memory usage: 6.2+ MB\n"
     ]
    },
    {
     "data": {
      "text/html": [
       "<div>\n",
       "<style scoped>\n",
       "    .dataframe tbody tr th:only-of-type {\n",
       "        vertical-align: middle;\n",
       "    }\n",
       "\n",
       "    .dataframe tbody tr th {\n",
       "        vertical-align: top;\n",
       "    }\n",
       "\n",
       "    .dataframe thead th {\n",
       "        text-align: right;\n",
       "    }\n",
       "</style>\n",
       "<table border=\"1\" class=\"dataframe\">\n",
       "  <thead>\n",
       "    <tr style=\"text-align: right;\">\n",
       "      <th></th>\n",
       "      <th>id</th>\n",
       "      <th>call_date</th>\n",
       "      <th>duration</th>\n",
       "      <th>user_id</th>\n",
       "    </tr>\n",
       "  </thead>\n",
       "  <tbody>\n",
       "    <tr>\n",
       "      <th>0</th>\n",
       "      <td>1000_0</td>\n",
       "      <td>2018-07-25</td>\n",
       "      <td>0.00</td>\n",
       "      <td>1000</td>\n",
       "    </tr>\n",
       "    <tr>\n",
       "      <th>1</th>\n",
       "      <td>1000_1</td>\n",
       "      <td>2018-08-17</td>\n",
       "      <td>0.00</td>\n",
       "      <td>1000</td>\n",
       "    </tr>\n",
       "    <tr>\n",
       "      <th>2</th>\n",
       "      <td>1000_2</td>\n",
       "      <td>2018-06-11</td>\n",
       "      <td>2.85</td>\n",
       "      <td>1000</td>\n",
       "    </tr>\n",
       "    <tr>\n",
       "      <th>3</th>\n",
       "      <td>1000_3</td>\n",
       "      <td>2018-09-21</td>\n",
       "      <td>13.80</td>\n",
       "      <td>1000</td>\n",
       "    </tr>\n",
       "    <tr>\n",
       "      <th>4</th>\n",
       "      <td>1000_4</td>\n",
       "      <td>2018-12-15</td>\n",
       "      <td>5.18</td>\n",
       "      <td>1000</td>\n",
       "    </tr>\n",
       "    <tr>\n",
       "      <th>...</th>\n",
       "      <td>...</td>\n",
       "      <td>...</td>\n",
       "      <td>...</td>\n",
       "      <td>...</td>\n",
       "    </tr>\n",
       "    <tr>\n",
       "      <th>202602</th>\n",
       "      <td>1499_215</td>\n",
       "      <td>2018-12-26</td>\n",
       "      <td>0.76</td>\n",
       "      <td>1499</td>\n",
       "    </tr>\n",
       "    <tr>\n",
       "      <th>202603</th>\n",
       "      <td>1499_216</td>\n",
       "      <td>2018-10-18</td>\n",
       "      <td>18.83</td>\n",
       "      <td>1499</td>\n",
       "    </tr>\n",
       "    <tr>\n",
       "      <th>202604</th>\n",
       "      <td>1499_217</td>\n",
       "      <td>2018-11-10</td>\n",
       "      <td>10.81</td>\n",
       "      <td>1499</td>\n",
       "    </tr>\n",
       "    <tr>\n",
       "      <th>202605</th>\n",
       "      <td>1499_218</td>\n",
       "      <td>2018-10-06</td>\n",
       "      <td>4.27</td>\n",
       "      <td>1499</td>\n",
       "    </tr>\n",
       "    <tr>\n",
       "      <th>202606</th>\n",
       "      <td>1499_219</td>\n",
       "      <td>2018-12-14</td>\n",
       "      <td>19.62</td>\n",
       "      <td>1499</td>\n",
       "    </tr>\n",
       "  </tbody>\n",
       "</table>\n",
       "<p>202607 rows × 4 columns</p>\n",
       "</div>"
      ],
      "text/plain": [
       "              id   call_date  duration  user_id\n",
       "0         1000_0  2018-07-25      0.00     1000\n",
       "1         1000_1  2018-08-17      0.00     1000\n",
       "2         1000_2  2018-06-11      2.85     1000\n",
       "3         1000_3  2018-09-21     13.80     1000\n",
       "4         1000_4  2018-12-15      5.18     1000\n",
       "...          ...         ...       ...      ...\n",
       "202602  1499_215  2018-12-26      0.76     1499\n",
       "202603  1499_216  2018-10-18     18.83     1499\n",
       "202604  1499_217  2018-11-10     10.81     1499\n",
       "202605  1499_218  2018-10-06      4.27     1499\n",
       "202606  1499_219  2018-12-14     19.62     1499\n",
       "\n",
       "[202607 rows x 4 columns]"
      ]
     },
     "execution_count": 1,
     "metadata": {},
     "output_type": "execute_result"
    }
   ],
   "source": [
    "import pandas as pd\n",
    "import numpy as np\n",
    "import math\n",
    "import matplotlib.pyplot as plt #импорт библиотеки для построения графиков\n",
    "calls = pd.read_csv('https://code.s3.yandex.net/datasets/calls.csv')\n",
    "calls.info()\n",
    "calls"
   ]
  },
  {
   "cell_type": "markdown",
   "metadata": {
    "id": "NwsiJ83kYdzz"
   },
   "source": [
    "Таблица **calls** содержит информацию о звонках, состоит из столбцов:\n",
    "*id* — уникальный номер звонка (формат object);\n",
    "*call_date* — дата звонка (формат object);\n",
    "*duration* — длительность звонка в минутах (формат float);\n",
    "*user_id* — идентификатор пользователя, сделавшего звонок (формат int).\n",
    "\n",
    "Пропущенных данных не имеется. Есть нулевые значения в колонке продолжильность звонка - это пропущенные вызовы.\n"
   ]
  },
  {
   "cell_type": "code",
   "execution_count": 2,
   "metadata": {
    "colab": {
     "base_uri": "https://localhost:8080/",
     "height": 644
    },
    "executionInfo": {
     "elapsed": 2339,
     "status": "ok",
     "timestamp": 1642871952202,
     "user": {
      "displayName": "Дмитрий Аверин",
      "photoUrl": "https://lh3.googleusercontent.com/a/default-user=s64",
      "userId": "16753714053080864602"
     },
     "user_tz": -240
    },
    "id": "X7GBUgC8Z7kc",
    "outputId": "c9b79137-c02a-42ce-b0f3-9b233a387d4f"
   },
   "outputs": [
    {
     "name": "stdout",
     "output_type": "stream",
     "text": [
      "<class 'pandas.core.frame.DataFrame'>\n",
      "Int64Index: 149396 entries, 0 to 149395\n",
      "Data columns (total 4 columns):\n",
      " #   Column        Non-Null Count   Dtype  \n",
      "---  ------        --------------   -----  \n",
      " 0   id            149396 non-null  object \n",
      " 1   mb_used       149396 non-null  float64\n",
      " 2   session_date  149396 non-null  object \n",
      " 3   user_id       149396 non-null  int64  \n",
      "dtypes: float64(1), int64(1), object(2)\n",
      "memory usage: 5.7+ MB\n"
     ]
    },
    {
     "data": {
      "text/html": [
       "<div>\n",
       "<style scoped>\n",
       "    .dataframe tbody tr th:only-of-type {\n",
       "        vertical-align: middle;\n",
       "    }\n",
       "\n",
       "    .dataframe tbody tr th {\n",
       "        vertical-align: top;\n",
       "    }\n",
       "\n",
       "    .dataframe thead th {\n",
       "        text-align: right;\n",
       "    }\n",
       "</style>\n",
       "<table border=\"1\" class=\"dataframe\">\n",
       "  <thead>\n",
       "    <tr style=\"text-align: right;\">\n",
       "      <th></th>\n",
       "      <th>id</th>\n",
       "      <th>mb_used</th>\n",
       "      <th>session_date</th>\n",
       "      <th>user_id</th>\n",
       "    </tr>\n",
       "  </thead>\n",
       "  <tbody>\n",
       "    <tr>\n",
       "      <th>0</th>\n",
       "      <td>1000_0</td>\n",
       "      <td>112.95</td>\n",
       "      <td>2018-11-25</td>\n",
       "      <td>1000</td>\n",
       "    </tr>\n",
       "    <tr>\n",
       "      <th>1</th>\n",
       "      <td>1000_1</td>\n",
       "      <td>1052.81</td>\n",
       "      <td>2018-09-07</td>\n",
       "      <td>1000</td>\n",
       "    </tr>\n",
       "    <tr>\n",
       "      <th>2</th>\n",
       "      <td>1000_2</td>\n",
       "      <td>1197.26</td>\n",
       "      <td>2018-06-25</td>\n",
       "      <td>1000</td>\n",
       "    </tr>\n",
       "    <tr>\n",
       "      <th>3</th>\n",
       "      <td>1000_3</td>\n",
       "      <td>550.27</td>\n",
       "      <td>2018-08-22</td>\n",
       "      <td>1000</td>\n",
       "    </tr>\n",
       "    <tr>\n",
       "      <th>4</th>\n",
       "      <td>1000_4</td>\n",
       "      <td>302.56</td>\n",
       "      <td>2018-09-24</td>\n",
       "      <td>1000</td>\n",
       "    </tr>\n",
       "    <tr>\n",
       "      <th>...</th>\n",
       "      <td>...</td>\n",
       "      <td>...</td>\n",
       "      <td>...</td>\n",
       "      <td>...</td>\n",
       "    </tr>\n",
       "    <tr>\n",
       "      <th>149391</th>\n",
       "      <td>1499_152</td>\n",
       "      <td>318.90</td>\n",
       "      <td>2018-10-03</td>\n",
       "      <td>1499</td>\n",
       "    </tr>\n",
       "    <tr>\n",
       "      <th>149392</th>\n",
       "      <td>1499_153</td>\n",
       "      <td>490.13</td>\n",
       "      <td>2018-12-14</td>\n",
       "      <td>1499</td>\n",
       "    </tr>\n",
       "    <tr>\n",
       "      <th>149393</th>\n",
       "      <td>1499_154</td>\n",
       "      <td>0.00</td>\n",
       "      <td>2018-10-27</td>\n",
       "      <td>1499</td>\n",
       "    </tr>\n",
       "    <tr>\n",
       "      <th>149394</th>\n",
       "      <td>1499_155</td>\n",
       "      <td>1246.32</td>\n",
       "      <td>2018-11-26</td>\n",
       "      <td>1499</td>\n",
       "    </tr>\n",
       "    <tr>\n",
       "      <th>149395</th>\n",
       "      <td>1499_156</td>\n",
       "      <td>544.37</td>\n",
       "      <td>2018-10-26</td>\n",
       "      <td>1499</td>\n",
       "    </tr>\n",
       "  </tbody>\n",
       "</table>\n",
       "<p>149396 rows × 4 columns</p>\n",
       "</div>"
      ],
      "text/plain": [
       "              id  mb_used session_date  user_id\n",
       "0         1000_0   112.95   2018-11-25     1000\n",
       "1         1000_1  1052.81   2018-09-07     1000\n",
       "2         1000_2  1197.26   2018-06-25     1000\n",
       "3         1000_3   550.27   2018-08-22     1000\n",
       "4         1000_4   302.56   2018-09-24     1000\n",
       "...          ...      ...          ...      ...\n",
       "149391  1499_152   318.90   2018-10-03     1499\n",
       "149392  1499_153   490.13   2018-12-14     1499\n",
       "149393  1499_154     0.00   2018-10-27     1499\n",
       "149394  1499_155  1246.32   2018-11-26     1499\n",
       "149395  1499_156   544.37   2018-10-26     1499\n",
       "\n",
       "[149396 rows x 4 columns]"
      ]
     },
     "execution_count": 2,
     "metadata": {},
     "output_type": "execute_result"
    }
   ],
   "source": [
    "internet = pd.read_csv('https://code.s3.yandex.net/datasets/internet.csv', index_col=0)\n",
    "internet.info()\n",
    "internet"
   ]
  },
  {
   "cell_type": "markdown",
   "metadata": {
    "id": "1pS8_M-9aXj0"
   },
   "source": [
    "Таблица **internet** содержит информацию об интернет сессиях, состоит из столбцов:\n",
    "*Unnamed: 0* - столбец, повторяющий значения столбца с индексами, не несёт никакой дополнительной информации;\n",
    "*id* — уникальный номер сессии (формат object);\n",
    "*mb_used* — объём потраченного за сессию интернет-трафика (в мегабайтах) (формат float);\n",
    "*session_date* — дата интернет-сессии (формат object);\n",
    "*user_id* — идентификатор пользователя (формат int);"
   ]
  },
  {
   "cell_type": "markdown",
   "metadata": {},
   "source": [
    "Имеется большое количество интернет-сессий у разных пользователей с нулевым значением трафика. Скорее всего, мобильный оператор считает и входящий, и исходящий трафик внутри сессии. Так же известно, что отсутствие средств на счёте тоже не может являться причиной, так как оператор высчитывает сумму для списания в конце месяца. Оставшиеся причины нулевых сессий - это ошибки подключения, перегрузка и сбои сети. Данные записи не повлияют на наши расчёты и исследование, но могут пригодится для других. Поэтому удалять сессии с нулевыми значениями не нужно."
   ]
  },
  {
   "cell_type": "code",
   "execution_count": 3,
   "metadata": {
    "colab": {
     "base_uri": "https://localhost:8080/",
     "height": 607
    },
    "executionInfo": {
     "elapsed": 2084,
     "status": "ok",
     "timestamp": 1642871954273,
     "user": {
      "displayName": "Дмитрий Аверин",
      "photoUrl": "https://lh3.googleusercontent.com/a/default-user=s64",
      "userId": "16753714053080864602"
     },
     "user_tz": -240
    },
    "id": "bz2B9BhFdNo7",
    "outputId": "b88f5830-239e-4646-cafd-26720ed15adf"
   },
   "outputs": [
    {
     "name": "stdout",
     "output_type": "stream",
     "text": [
      "<class 'pandas.core.frame.DataFrame'>\n",
      "RangeIndex: 123036 entries, 0 to 123035\n",
      "Data columns (total 3 columns):\n",
      " #   Column        Non-Null Count   Dtype \n",
      "---  ------        --------------   ----- \n",
      " 0   id            123036 non-null  object\n",
      " 1   message_date  123036 non-null  object\n",
      " 2   user_id       123036 non-null  int64 \n",
      "dtypes: int64(1), object(2)\n",
      "memory usage: 2.8+ MB\n"
     ]
    },
    {
     "data": {
      "text/html": [
       "<div>\n",
       "<style scoped>\n",
       "    .dataframe tbody tr th:only-of-type {\n",
       "        vertical-align: middle;\n",
       "    }\n",
       "\n",
       "    .dataframe tbody tr th {\n",
       "        vertical-align: top;\n",
       "    }\n",
       "\n",
       "    .dataframe thead th {\n",
       "        text-align: right;\n",
       "    }\n",
       "</style>\n",
       "<table border=\"1\" class=\"dataframe\">\n",
       "  <thead>\n",
       "    <tr style=\"text-align: right;\">\n",
       "      <th></th>\n",
       "      <th>id</th>\n",
       "      <th>message_date</th>\n",
       "      <th>user_id</th>\n",
       "    </tr>\n",
       "  </thead>\n",
       "  <tbody>\n",
       "    <tr>\n",
       "      <th>0</th>\n",
       "      <td>1000_0</td>\n",
       "      <td>2018-06-27</td>\n",
       "      <td>1000</td>\n",
       "    </tr>\n",
       "    <tr>\n",
       "      <th>1</th>\n",
       "      <td>1000_1</td>\n",
       "      <td>2018-10-08</td>\n",
       "      <td>1000</td>\n",
       "    </tr>\n",
       "    <tr>\n",
       "      <th>2</th>\n",
       "      <td>1000_2</td>\n",
       "      <td>2018-08-04</td>\n",
       "      <td>1000</td>\n",
       "    </tr>\n",
       "    <tr>\n",
       "      <th>3</th>\n",
       "      <td>1000_3</td>\n",
       "      <td>2018-06-16</td>\n",
       "      <td>1000</td>\n",
       "    </tr>\n",
       "    <tr>\n",
       "      <th>4</th>\n",
       "      <td>1000_4</td>\n",
       "      <td>2018-12-05</td>\n",
       "      <td>1000</td>\n",
       "    </tr>\n",
       "    <tr>\n",
       "      <th>...</th>\n",
       "      <td>...</td>\n",
       "      <td>...</td>\n",
       "      <td>...</td>\n",
       "    </tr>\n",
       "    <tr>\n",
       "      <th>123031</th>\n",
       "      <td>1499_179</td>\n",
       "      <td>2018-12-12</td>\n",
       "      <td>1499</td>\n",
       "    </tr>\n",
       "    <tr>\n",
       "      <th>123032</th>\n",
       "      <td>1499_180</td>\n",
       "      <td>2018-09-28</td>\n",
       "      <td>1499</td>\n",
       "    </tr>\n",
       "    <tr>\n",
       "      <th>123033</th>\n",
       "      <td>1499_181</td>\n",
       "      <td>2018-09-27</td>\n",
       "      <td>1499</td>\n",
       "    </tr>\n",
       "    <tr>\n",
       "      <th>123034</th>\n",
       "      <td>1499_182</td>\n",
       "      <td>2018-11-15</td>\n",
       "      <td>1499</td>\n",
       "    </tr>\n",
       "    <tr>\n",
       "      <th>123035</th>\n",
       "      <td>1499_183</td>\n",
       "      <td>2018-11-16</td>\n",
       "      <td>1499</td>\n",
       "    </tr>\n",
       "  </tbody>\n",
       "</table>\n",
       "<p>123036 rows × 3 columns</p>\n",
       "</div>"
      ],
      "text/plain": [
       "              id message_date  user_id\n",
       "0         1000_0   2018-06-27     1000\n",
       "1         1000_1   2018-10-08     1000\n",
       "2         1000_2   2018-08-04     1000\n",
       "3         1000_3   2018-06-16     1000\n",
       "4         1000_4   2018-12-05     1000\n",
       "...          ...          ...      ...\n",
       "123031  1499_179   2018-12-12     1499\n",
       "123032  1499_180   2018-09-28     1499\n",
       "123033  1499_181   2018-09-27     1499\n",
       "123034  1499_182   2018-11-15     1499\n",
       "123035  1499_183   2018-11-16     1499\n",
       "\n",
       "[123036 rows x 3 columns]"
      ]
     },
     "execution_count": 3,
     "metadata": {},
     "output_type": "execute_result"
    }
   ],
   "source": [
    "messages = pd.read_csv('https://code.s3.yandex.net/datasets/messages.csv')\n",
    "messages.info()\n",
    "messages"
   ]
  },
  {
   "cell_type": "markdown",
   "metadata": {
    "id": "7ZfP6yGqf3y1"
   },
   "source": [
    "Таблица **messages** содержит информацию о сообщениях, включает следующие столбцы:\n",
    "*id* — уникальный номер сообщения (формат object);\n",
    "*message_date* — дата сообщения (формат object);\n",
    "*user_id* — идентификатор пользователя, отправившего сообщение(формат int);\n",
    "\n",
    "Пропусков данных не имеется."
   ]
  },
  {
   "cell_type": "code",
   "execution_count": 4,
   "metadata": {
    "colab": {
     "base_uri": "https://localhost:8080/",
     "height": 452
    },
    "executionInfo": {
     "elapsed": 749,
     "status": "ok",
     "timestamp": 1642871955011,
     "user": {
      "displayName": "Дмитрий Аверин",
      "photoUrl": "https://lh3.googleusercontent.com/a/default-user=s64",
      "userId": "16753714053080864602"
     },
     "user_tz": -240
    },
    "id": "o1ZtPksKhONa",
    "outputId": "d5aab09e-c61b-4b8f-8c27-673e72e58712"
   },
   "outputs": [
    {
     "name": "stdout",
     "output_type": "stream",
     "text": [
      "<class 'pandas.core.frame.DataFrame'>\n",
      "RangeIndex: 2 entries, 0 to 1\n",
      "Data columns (total 8 columns):\n",
      " #   Column                 Non-Null Count  Dtype \n",
      "---  ------                 --------------  ----- \n",
      " 0   messages_included      2 non-null      int64 \n",
      " 1   mb_per_month_included  2 non-null      int64 \n",
      " 2   minutes_included       2 non-null      int64 \n",
      " 3   rub_monthly_fee        2 non-null      int64 \n",
      " 4   rub_per_gb             2 non-null      int64 \n",
      " 5   rub_per_message        2 non-null      int64 \n",
      " 6   rub_per_minute         2 non-null      int64 \n",
      " 7   tariff_name            2 non-null      object\n",
      "dtypes: int64(7), object(1)\n",
      "memory usage: 256.0+ bytes\n"
     ]
    },
    {
     "data": {
      "text/html": [
       "<div>\n",
       "<style scoped>\n",
       "    .dataframe tbody tr th:only-of-type {\n",
       "        vertical-align: middle;\n",
       "    }\n",
       "\n",
       "    .dataframe tbody tr th {\n",
       "        vertical-align: top;\n",
       "    }\n",
       "\n",
       "    .dataframe thead th {\n",
       "        text-align: right;\n",
       "    }\n",
       "</style>\n",
       "<table border=\"1\" class=\"dataframe\">\n",
       "  <thead>\n",
       "    <tr style=\"text-align: right;\">\n",
       "      <th></th>\n",
       "      <th>messages_included</th>\n",
       "      <th>mb_per_month_included</th>\n",
       "      <th>minutes_included</th>\n",
       "      <th>rub_monthly_fee</th>\n",
       "      <th>rub_per_gb</th>\n",
       "      <th>rub_per_message</th>\n",
       "      <th>rub_per_minute</th>\n",
       "      <th>tariff_name</th>\n",
       "    </tr>\n",
       "  </thead>\n",
       "  <tbody>\n",
       "    <tr>\n",
       "      <th>0</th>\n",
       "      <td>50</td>\n",
       "      <td>15360</td>\n",
       "      <td>500</td>\n",
       "      <td>550</td>\n",
       "      <td>200</td>\n",
       "      <td>3</td>\n",
       "      <td>3</td>\n",
       "      <td>smart</td>\n",
       "    </tr>\n",
       "    <tr>\n",
       "      <th>1</th>\n",
       "      <td>1000</td>\n",
       "      <td>30720</td>\n",
       "      <td>3000</td>\n",
       "      <td>1950</td>\n",
       "      <td>150</td>\n",
       "      <td>1</td>\n",
       "      <td>1</td>\n",
       "      <td>ultra</td>\n",
       "    </tr>\n",
       "  </tbody>\n",
       "</table>\n",
       "</div>"
      ],
      "text/plain": [
       "   messages_included  mb_per_month_included  minutes_included  \\\n",
       "0                 50                  15360               500   \n",
       "1               1000                  30720              3000   \n",
       "\n",
       "   rub_monthly_fee  rub_per_gb  rub_per_message  rub_per_minute tariff_name  \n",
       "0              550         200                3               3       smart  \n",
       "1             1950         150                1               1       ultra  "
      ]
     },
     "execution_count": 4,
     "metadata": {},
     "output_type": "execute_result"
    }
   ],
   "source": [
    "tariffs = pd.read_csv('https://code.s3.yandex.net/datasets/tariffs.csv')\n",
    "tariffs.info()\n",
    "tariffs"
   ]
  },
  {
   "cell_type": "markdown",
   "metadata": {
    "id": "Dv5ORgg5haDE"
   },
   "source": [
    "Таблица **tariffs** содержит только две записи - тарифы двух тарифных планов, с такими параметрами как:\n",
    "1. *tariff_name* — название тарифа\n",
    "2. *rub_monthly_fee* — ежемесячная абонентская плата в рублях\n",
    "3. *minutes_included* — количество минут разговора в месяц, включённых в абонентскую плату\n",
    "4. *messages_included* — количество сообщений в месяц, включённых в абонентскую плату\n",
    "5. *mb_per_month_included* — объём интернет-трафика, включённого в абонентскую плату (в мегабайтах)\n",
    "6. *rub_per_minute* — стоимость минуты разговора сверх тарифного пакета (например, если в тарифе 100 минут разговора в месяц, то со 101 минуты будет взиматься плата)\n",
    "7. *rub_per_message* — стоимость отправки сообщения сверх тарифного пакета\n",
    "8. *rub_per_gb* — стоимость дополнительного гигабайта интернет-трафика сверх тарифного пакета (1 гигабайт = 1024 мегабайта)."
   ]
  },
  {
   "cell_type": "code",
   "execution_count": 5,
   "metadata": {
    "colab": {
     "base_uri": "https://localhost:8080/",
     "height": 699
    },
    "executionInfo": {
     "elapsed": 782,
     "status": "ok",
     "timestamp": 1642871955786,
     "user": {
      "displayName": "Дмитрий Аверин",
      "photoUrl": "https://lh3.googleusercontent.com/a/default-user=s64",
      "userId": "16753714053080864602"
     },
     "user_tz": -240
    },
    "id": "Ai3a5tJxjPTO",
    "outputId": "846fabf7-3023-4797-884d-6ad0244ff1f6"
   },
   "outputs": [
    {
     "name": "stdout",
     "output_type": "stream",
     "text": [
      "<class 'pandas.core.frame.DataFrame'>\n",
      "RangeIndex: 500 entries, 0 to 499\n",
      "Data columns (total 8 columns):\n",
      " #   Column      Non-Null Count  Dtype \n",
      "---  ------      --------------  ----- \n",
      " 0   user_id     500 non-null    int64 \n",
      " 1   age         500 non-null    int64 \n",
      " 2   churn_date  38 non-null     object\n",
      " 3   city        500 non-null    object\n",
      " 4   first_name  500 non-null    object\n",
      " 5   last_name   500 non-null    object\n",
      " 6   reg_date    500 non-null    object\n",
      " 7   tariff      500 non-null    object\n",
      "dtypes: int64(2), object(6)\n",
      "memory usage: 31.4+ KB\n"
     ]
    },
    {
     "data": {
      "text/html": [
       "<div>\n",
       "<style scoped>\n",
       "    .dataframe tbody tr th:only-of-type {\n",
       "        vertical-align: middle;\n",
       "    }\n",
       "\n",
       "    .dataframe tbody tr th {\n",
       "        vertical-align: top;\n",
       "    }\n",
       "\n",
       "    .dataframe thead th {\n",
       "        text-align: right;\n",
       "    }\n",
       "</style>\n",
       "<table border=\"1\" class=\"dataframe\">\n",
       "  <thead>\n",
       "    <tr style=\"text-align: right;\">\n",
       "      <th></th>\n",
       "      <th>user_id</th>\n",
       "      <th>age</th>\n",
       "      <th>churn_date</th>\n",
       "      <th>city</th>\n",
       "      <th>first_name</th>\n",
       "      <th>last_name</th>\n",
       "      <th>reg_date</th>\n",
       "      <th>tariff</th>\n",
       "    </tr>\n",
       "  </thead>\n",
       "  <tbody>\n",
       "    <tr>\n",
       "      <th>0</th>\n",
       "      <td>1000</td>\n",
       "      <td>52</td>\n",
       "      <td>NaN</td>\n",
       "      <td>Краснодар</td>\n",
       "      <td>Рафаил</td>\n",
       "      <td>Верещагин</td>\n",
       "      <td>2018-05-25</td>\n",
       "      <td>ultra</td>\n",
       "    </tr>\n",
       "    <tr>\n",
       "      <th>1</th>\n",
       "      <td>1001</td>\n",
       "      <td>41</td>\n",
       "      <td>NaN</td>\n",
       "      <td>Москва</td>\n",
       "      <td>Иван</td>\n",
       "      <td>Ежов</td>\n",
       "      <td>2018-11-01</td>\n",
       "      <td>smart</td>\n",
       "    </tr>\n",
       "    <tr>\n",
       "      <th>2</th>\n",
       "      <td>1002</td>\n",
       "      <td>59</td>\n",
       "      <td>NaN</td>\n",
       "      <td>Стерлитамак</td>\n",
       "      <td>Евгений</td>\n",
       "      <td>Абрамович</td>\n",
       "      <td>2018-06-17</td>\n",
       "      <td>smart</td>\n",
       "    </tr>\n",
       "    <tr>\n",
       "      <th>3</th>\n",
       "      <td>1003</td>\n",
       "      <td>23</td>\n",
       "      <td>NaN</td>\n",
       "      <td>Москва</td>\n",
       "      <td>Белла</td>\n",
       "      <td>Белякова</td>\n",
       "      <td>2018-08-17</td>\n",
       "      <td>ultra</td>\n",
       "    </tr>\n",
       "    <tr>\n",
       "      <th>4</th>\n",
       "      <td>1004</td>\n",
       "      <td>68</td>\n",
       "      <td>NaN</td>\n",
       "      <td>Новокузнецк</td>\n",
       "      <td>Татьяна</td>\n",
       "      <td>Авдеенко</td>\n",
       "      <td>2018-05-14</td>\n",
       "      <td>ultra</td>\n",
       "    </tr>\n",
       "    <tr>\n",
       "      <th>...</th>\n",
       "      <td>...</td>\n",
       "      <td>...</td>\n",
       "      <td>...</td>\n",
       "      <td>...</td>\n",
       "      <td>...</td>\n",
       "      <td>...</td>\n",
       "      <td>...</td>\n",
       "      <td>...</td>\n",
       "    </tr>\n",
       "    <tr>\n",
       "      <th>495</th>\n",
       "      <td>1495</td>\n",
       "      <td>65</td>\n",
       "      <td>NaN</td>\n",
       "      <td>Иркутск</td>\n",
       "      <td>Авксентий</td>\n",
       "      <td>Фокин</td>\n",
       "      <td>2018-08-28</td>\n",
       "      <td>ultra</td>\n",
       "    </tr>\n",
       "    <tr>\n",
       "      <th>496</th>\n",
       "      <td>1496</td>\n",
       "      <td>36</td>\n",
       "      <td>NaN</td>\n",
       "      <td>Вологда</td>\n",
       "      <td>Трифон</td>\n",
       "      <td>Блохин</td>\n",
       "      <td>2018-01-27</td>\n",
       "      <td>smart</td>\n",
       "    </tr>\n",
       "    <tr>\n",
       "      <th>497</th>\n",
       "      <td>1497</td>\n",
       "      <td>32</td>\n",
       "      <td>NaN</td>\n",
       "      <td>Челябинск</td>\n",
       "      <td>Каролина</td>\n",
       "      <td>Агеева</td>\n",
       "      <td>2018-10-09</td>\n",
       "      <td>smart</td>\n",
       "    </tr>\n",
       "    <tr>\n",
       "      <th>498</th>\n",
       "      <td>1498</td>\n",
       "      <td>68</td>\n",
       "      <td>2018-10-25</td>\n",
       "      <td>Владикавказ</td>\n",
       "      <td>Всеволод</td>\n",
       "      <td>Акимчин</td>\n",
       "      <td>2018-07-19</td>\n",
       "      <td>smart</td>\n",
       "    </tr>\n",
       "    <tr>\n",
       "      <th>499</th>\n",
       "      <td>1499</td>\n",
       "      <td>35</td>\n",
       "      <td>NaN</td>\n",
       "      <td>Пермь</td>\n",
       "      <td>Гектор</td>\n",
       "      <td>Корнилов</td>\n",
       "      <td>2018-09-27</td>\n",
       "      <td>smart</td>\n",
       "    </tr>\n",
       "  </tbody>\n",
       "</table>\n",
       "<p>500 rows × 8 columns</p>\n",
       "</div>"
      ],
      "text/plain": [
       "     user_id  age  churn_date         city first_name  last_name    reg_date  \\\n",
       "0       1000   52         NaN    Краснодар     Рафаил  Верещагин  2018-05-25   \n",
       "1       1001   41         NaN       Москва       Иван       Ежов  2018-11-01   \n",
       "2       1002   59         NaN  Стерлитамак    Евгений  Абрамович  2018-06-17   \n",
       "3       1003   23         NaN       Москва      Белла   Белякова  2018-08-17   \n",
       "4       1004   68         NaN  Новокузнецк    Татьяна   Авдеенко  2018-05-14   \n",
       "..       ...  ...         ...          ...        ...        ...         ...   \n",
       "495     1495   65         NaN      Иркутск  Авксентий      Фокин  2018-08-28   \n",
       "496     1496   36         NaN      Вологда     Трифон     Блохин  2018-01-27   \n",
       "497     1497   32         NaN    Челябинск   Каролина     Агеева  2018-10-09   \n",
       "498     1498   68  2018-10-25  Владикавказ   Всеволод    Акимчин  2018-07-19   \n",
       "499     1499   35         NaN        Пермь     Гектор   Корнилов  2018-09-27   \n",
       "\n",
       "    tariff  \n",
       "0    ultra  \n",
       "1    smart  \n",
       "2    smart  \n",
       "3    ultra  \n",
       "4    ultra  \n",
       "..     ...  \n",
       "495  ultra  \n",
       "496  smart  \n",
       "497  smart  \n",
       "498  smart  \n",
       "499  smart  \n",
       "\n",
       "[500 rows x 8 columns]"
      ]
     },
     "execution_count": 5,
     "metadata": {},
     "output_type": "execute_result"
    }
   ],
   "source": [
    "users = pd.read_csv('https://code.s3.yandex.net/datasets/users.csv')\n",
    "users.info()\n",
    "users"
   ]
  },
  {
   "cell_type": "markdown",
   "metadata": {
    "id": "iEOsdVu4jbGr"
   },
   "source": [
    "Таблица **users** содержит информацию о пользователях, состоит из столбцов:\n",
    "*Unnamed: \n",
    "1. *user_id* — уникальный идентификатор пользователя (тип данных int)\n",
    "2. *age* — возраст пользователя (годы) (тип данных int)\n",
    "3. *first_name* — имя пользователя (тип данных object)\n",
    "4. *last_name* — фамилия пользователя (тип данных object)\n",
    "5. *reg_date* — дата подключения тарифа (день, месяц, год) (тип данных object)\n",
    "6. *churn_date* — дата прекращения пользования тарифом (тип данных object)\n",
    "7. *city* — город проживания пользователя (тип данных object)\n",
    "8. *tarif* — название тарифного плана (тип данных object)\n",
    "\n",
    "Пропусков в данных нет, кроме столбца *churn_date* - здесь пропуски означают, что тариф используется на данный момент."
   ]
  },
  {
   "cell_type": "markdown",
   "metadata": {
    "id": "gt_aTc7S36jG"
   },
   "source": [
    "## Предподготовка данных\n",
    "### Изменение формата данных\n",
    "Для начала столбцы с датой из всех столбцов переведём из формата object в стандартный формат даты datetime - только месяц и год (так как мы будем использовать сгрупированные данные по месяцам, дни нам не нужны)."
   ]
  },
  {
   "cell_type": "code",
   "execution_count": 6,
   "metadata": {
    "executionInfo": {
     "elapsed": 15,
     "status": "ok",
     "timestamp": 1642871955789,
     "user": {
      "displayName": "Дмитрий Аверин",
      "photoUrl": "https://lh3.googleusercontent.com/a/default-user=s64",
      "userId": "16753714053080864602"
     },
     "user_tz": -240
    },
    "id": "WrnwipFf5T7I"
   },
   "outputs": [],
   "source": [
    "calls['call_date'] = pd.to_datetime(calls['call_date'], format = '%Y-%m-%d').dt.to_period('M')\n",
    "internet['session_date'] = pd.to_datetime(internet['session_date'], format = '%Y-%m-%d').dt.to_period('M')\n",
    "messages['message_date'] = pd.to_datetime(messages['message_date'], format = '%Y-%m-%d').dt.to_period('M')\n",
    "users['reg_date'] = pd.to_datetime(users['reg_date'], format = '%Y-%m-%d').dt.to_period('M') #перевод столбцов в формат datetime"
   ]
  },
  {
   "cell_type": "code",
   "execution_count": 7,
   "metadata": {
    "colab": {
     "base_uri": "https://localhost:8080/",
     "height": 424
    },
    "executionInfo": {
     "elapsed": 16,
     "status": "ok",
     "timestamp": 1642871955791,
     "user": {
      "displayName": "Дмитрий Аверин",
      "photoUrl": "https://lh3.googleusercontent.com/a/default-user=s64",
      "userId": "16753714053080864602"
     },
     "user_tz": -240
    },
    "id": "4QwCcEE08US4",
    "outputId": "3949009b-7695-463e-fbf0-5cdfbdee5bef"
   },
   "outputs": [],
   "source": [
    "calls['duration'] = np.ceil(calls['duration']).astype('int') #так как Мегалайн округляет звонки вверх до минуты, переведём столбец длительность звонка в формат int с округлением вверх"
   ]
  },
  {
   "cell_type": "markdown",
   "metadata": {
    "id": "PGhDG-kQALZo"
   },
   "source": [
    "### Расчёты и добавление данных\n",
    "Необходимо посчитать для каждого пользователя:\n",
    "1. Количество сделанных звонков и израсходованных минут разговора по месяцам;\n",
    "2. Количество отправленных сообщений по месяцам;\n",
    "3. Объем израсходованного интернет-трафика по месяцам;\n",
    "4. Помесячную выручку с каждого пользователя (вычесть бесплатный лимит из суммарного количества звонков, сообщений и интернет-трафика; остаток умножить на значение из тарифного плана; прибавить абонентскую плату, соответствующую тарифному плану)."
   ]
  },
  {
   "cell_type": "code",
   "execution_count": 8,
   "metadata": {
    "colab": {
     "base_uri": "https://localhost:8080/",
     "height": 424
    },
    "executionInfo": {
     "elapsed": 460,
     "status": "ok",
     "timestamp": 1642871956237,
     "user": {
      "displayName": "Дмитрий Аверин",
      "photoUrl": "https://lh3.googleusercontent.com/a/default-user=s64",
      "userId": "16753714053080864602"
     },
     "user_tz": -240
    },
    "id": "dpvBDvWmBrH3",
    "outputId": "7329757e-b7ac-43e3-d0b8-165ffd4418d0"
   },
   "outputs": [
    {
     "data": {
      "text/html": [
       "<div>\n",
       "<style scoped>\n",
       "    .dataframe tbody tr th:only-of-type {\n",
       "        vertical-align: middle;\n",
       "    }\n",
       "\n",
       "    .dataframe tbody tr th {\n",
       "        vertical-align: top;\n",
       "    }\n",
       "\n",
       "    .dataframe thead th {\n",
       "        text-align: right;\n",
       "    }\n",
       "</style>\n",
       "<table border=\"1\" class=\"dataframe\">\n",
       "  <thead>\n",
       "    <tr style=\"text-align: right;\">\n",
       "      <th></th>\n",
       "      <th>user_id</th>\n",
       "      <th>month</th>\n",
       "      <th>calls_count</th>\n",
       "      <th>total_duration</th>\n",
       "      <th>messages</th>\n",
       "      <th>traffic_mb</th>\n",
       "      <th>tariff</th>\n",
       "      <th>city</th>\n",
       "    </tr>\n",
       "  </thead>\n",
       "  <tbody>\n",
       "    <tr>\n",
       "      <th>0</th>\n",
       "      <td>1000</td>\n",
       "      <td>2018-05</td>\n",
       "      <td>22</td>\n",
       "      <td>159</td>\n",
       "      <td>22.0</td>\n",
       "      <td>2253.49</td>\n",
       "      <td>ultra</td>\n",
       "      <td>Краснодар</td>\n",
       "    </tr>\n",
       "    <tr>\n",
       "      <th>1</th>\n",
       "      <td>1000</td>\n",
       "      <td>2018-06</td>\n",
       "      <td>43</td>\n",
       "      <td>172</td>\n",
       "      <td>60.0</td>\n",
       "      <td>23233.77</td>\n",
       "      <td>ultra</td>\n",
       "      <td>Краснодар</td>\n",
       "    </tr>\n",
       "    <tr>\n",
       "      <th>2</th>\n",
       "      <td>1000</td>\n",
       "      <td>2018-07</td>\n",
       "      <td>47</td>\n",
       "      <td>340</td>\n",
       "      <td>75.0</td>\n",
       "      <td>14003.64</td>\n",
       "      <td>ultra</td>\n",
       "      <td>Краснодар</td>\n",
       "    </tr>\n",
       "    <tr>\n",
       "      <th>3</th>\n",
       "      <td>1000</td>\n",
       "      <td>2018-08</td>\n",
       "      <td>52</td>\n",
       "      <td>408</td>\n",
       "      <td>81.0</td>\n",
       "      <td>14055.93</td>\n",
       "      <td>ultra</td>\n",
       "      <td>Краснодар</td>\n",
       "    </tr>\n",
       "    <tr>\n",
       "      <th>4</th>\n",
       "      <td>1000</td>\n",
       "      <td>2018-09</td>\n",
       "      <td>58</td>\n",
       "      <td>466</td>\n",
       "      <td>57.0</td>\n",
       "      <td>14568.91</td>\n",
       "      <td>ultra</td>\n",
       "      <td>Краснодар</td>\n",
       "    </tr>\n",
       "    <tr>\n",
       "      <th>...</th>\n",
       "      <td>...</td>\n",
       "      <td>...</td>\n",
       "      <td>...</td>\n",
       "      <td>...</td>\n",
       "      <td>...</td>\n",
       "      <td>...</td>\n",
       "      <td>...</td>\n",
       "      <td>...</td>\n",
       "    </tr>\n",
       "    <tr>\n",
       "      <th>3169</th>\n",
       "      <td>1498</td>\n",
       "      <td>2018-10</td>\n",
       "      <td>41</td>\n",
       "      <td>247</td>\n",
       "      <td>42.0</td>\n",
       "      <td>20579.36</td>\n",
       "      <td>smart</td>\n",
       "      <td>Владикавказ</td>\n",
       "    </tr>\n",
       "    <tr>\n",
       "      <th>3170</th>\n",
       "      <td>1499</td>\n",
       "      <td>2018-09</td>\n",
       "      <td>9</td>\n",
       "      <td>70</td>\n",
       "      <td>11.0</td>\n",
       "      <td>1845.75</td>\n",
       "      <td>smart</td>\n",
       "      <td>Пермь</td>\n",
       "    </tr>\n",
       "    <tr>\n",
       "      <th>3171</th>\n",
       "      <td>1499</td>\n",
       "      <td>2018-10</td>\n",
       "      <td>68</td>\n",
       "      <td>449</td>\n",
       "      <td>48.0</td>\n",
       "      <td>17788.51</td>\n",
       "      <td>smart</td>\n",
       "      <td>Пермь</td>\n",
       "    </tr>\n",
       "    <tr>\n",
       "      <th>3172</th>\n",
       "      <td>1499</td>\n",
       "      <td>2018-11</td>\n",
       "      <td>74</td>\n",
       "      <td>612</td>\n",
       "      <td>59.0</td>\n",
       "      <td>17963.31</td>\n",
       "      <td>smart</td>\n",
       "      <td>Пермь</td>\n",
       "    </tr>\n",
       "    <tr>\n",
       "      <th>3173</th>\n",
       "      <td>1499</td>\n",
       "      <td>2018-12</td>\n",
       "      <td>69</td>\n",
       "      <td>492</td>\n",
       "      <td>66.0</td>\n",
       "      <td>13055.58</td>\n",
       "      <td>smart</td>\n",
       "      <td>Пермь</td>\n",
       "    </tr>\n",
       "  </tbody>\n",
       "</table>\n",
       "<p>3174 rows × 8 columns</p>\n",
       "</div>"
      ],
      "text/plain": [
       "      user_id    month  calls_count  total_duration  messages  traffic_mb  \\\n",
       "0        1000  2018-05           22             159      22.0     2253.49   \n",
       "1        1000  2018-06           43             172      60.0    23233.77   \n",
       "2        1000  2018-07           47             340      75.0    14003.64   \n",
       "3        1000  2018-08           52             408      81.0    14055.93   \n",
       "4        1000  2018-09           58             466      57.0    14568.91   \n",
       "...       ...      ...          ...             ...       ...         ...   \n",
       "3169     1498  2018-10           41             247      42.0    20579.36   \n",
       "3170     1499  2018-09            9              70      11.0     1845.75   \n",
       "3171     1499  2018-10           68             449      48.0    17788.51   \n",
       "3172     1499  2018-11           74             612      59.0    17963.31   \n",
       "3173     1499  2018-12           69             492      66.0    13055.58   \n",
       "\n",
       "     tariff         city  \n",
       "0     ultra    Краснодар  \n",
       "1     ultra    Краснодар  \n",
       "2     ultra    Краснодар  \n",
       "3     ultra    Краснодар  \n",
       "4     ultra    Краснодар  \n",
       "...     ...          ...  \n",
       "3169  smart  Владикавказ  \n",
       "3170  smart        Пермь  \n",
       "3171  smart        Пермь  \n",
       "3172  smart        Пермь  \n",
       "3173  smart        Пермь  \n",
       "\n",
       "[3174 rows x 8 columns]"
      ]
     },
     "execution_count": 8,
     "metadata": {},
     "output_type": "execute_result"
    }
   ],
   "source": [
    "user_pivot = calls.pivot_table(index=['user_id', 'call_date'], values=['duration'], aggfunc=['count', 'sum']) #подсчёт кол-ва и длительности звонков пользователей по месяцам\n",
    "user_pivot.set_axis(['calls_count', 'total_duration'],axis = 'columns',inplace = True) #переименование столбцов\n",
    "user_pivot['messages'] = messages.pivot_table(index=['user_id', 'message_date'], values='id', aggfunc='count')['id'] #добавление кол-ва отправленных сообщений\n",
    "user_pivot['traffic_mb'] = internet.pivot_table(index=['user_id', 'session_date'], values='mb_used', aggfunc='sum')['mb_used'] #суммирование месячного интернет-траффика\n",
    "user_pivot.reset_index(inplace=True) #перевод мильтииндекса в столбцы для дальнейших расчётов\n",
    "user_pivot = user_pivot.merge(users[['user_id', 'tariff', 'city']], on='user_id') #присоединяем к таблице тарифный план и город\n",
    "user_pivot.rename(columns = {'call_date' : 'month'}, inplace = True)\n",
    "user_pivot"
   ]
  },
  {
   "cell_type": "code",
   "execution_count": 9,
   "metadata": {
    "colab": {
     "base_uri": "https://localhost:8080/",
     "height": 424
    },
    "executionInfo": {
     "elapsed": 45,
     "status": "ok",
     "timestamp": 1642871956239,
     "user": {
      "displayName": "Дмитрий Аверин",
      "photoUrl": "https://lh3.googleusercontent.com/a/default-user=s64",
      "userId": "16753714053080864602"
     },
     "user_tz": -240
    },
    "id": "qjh0Jw1GcO09",
    "outputId": "6d4bb1b4-fd0d-4dc2-bf4c-7d3f682feb0c"
   },
   "outputs": [
    {
     "data": {
      "text/html": [
       "<div>\n",
       "<style scoped>\n",
       "    .dataframe tbody tr th:only-of-type {\n",
       "        vertical-align: middle;\n",
       "    }\n",
       "\n",
       "    .dataframe tbody tr th {\n",
       "        vertical-align: top;\n",
       "    }\n",
       "\n",
       "    .dataframe thead th {\n",
       "        text-align: right;\n",
       "    }\n",
       "</style>\n",
       "<table border=\"1\" class=\"dataframe\">\n",
       "  <thead>\n",
       "    <tr style=\"text-align: right;\">\n",
       "      <th></th>\n",
       "      <th>user_id</th>\n",
       "      <th>month</th>\n",
       "      <th>calls_count</th>\n",
       "      <th>total_duration</th>\n",
       "      <th>messages</th>\n",
       "      <th>traffic_mb</th>\n",
       "      <th>tariff</th>\n",
       "      <th>city</th>\n",
       "      <th>earning</th>\n",
       "    </tr>\n",
       "  </thead>\n",
       "  <tbody>\n",
       "    <tr>\n",
       "      <th>0</th>\n",
       "      <td>1000</td>\n",
       "      <td>2018-05</td>\n",
       "      <td>22</td>\n",
       "      <td>159</td>\n",
       "      <td>22.0</td>\n",
       "      <td>2253.49</td>\n",
       "      <td>ultra</td>\n",
       "      <td>Краснодар</td>\n",
       "      <td>1950.0</td>\n",
       "    </tr>\n",
       "    <tr>\n",
       "      <th>1</th>\n",
       "      <td>1000</td>\n",
       "      <td>2018-06</td>\n",
       "      <td>43</td>\n",
       "      <td>172</td>\n",
       "      <td>60.0</td>\n",
       "      <td>23233.77</td>\n",
       "      <td>ultra</td>\n",
       "      <td>Краснодар</td>\n",
       "      <td>1950.0</td>\n",
       "    </tr>\n",
       "    <tr>\n",
       "      <th>2</th>\n",
       "      <td>1000</td>\n",
       "      <td>2018-07</td>\n",
       "      <td>47</td>\n",
       "      <td>340</td>\n",
       "      <td>75.0</td>\n",
       "      <td>14003.64</td>\n",
       "      <td>ultra</td>\n",
       "      <td>Краснодар</td>\n",
       "      <td>1950.0</td>\n",
       "    </tr>\n",
       "    <tr>\n",
       "      <th>3</th>\n",
       "      <td>1000</td>\n",
       "      <td>2018-08</td>\n",
       "      <td>52</td>\n",
       "      <td>408</td>\n",
       "      <td>81.0</td>\n",
       "      <td>14055.93</td>\n",
       "      <td>ultra</td>\n",
       "      <td>Краснодар</td>\n",
       "      <td>1950.0</td>\n",
       "    </tr>\n",
       "    <tr>\n",
       "      <th>4</th>\n",
       "      <td>1000</td>\n",
       "      <td>2018-09</td>\n",
       "      <td>58</td>\n",
       "      <td>466</td>\n",
       "      <td>57.0</td>\n",
       "      <td>14568.91</td>\n",
       "      <td>ultra</td>\n",
       "      <td>Краснодар</td>\n",
       "      <td>1950.0</td>\n",
       "    </tr>\n",
       "    <tr>\n",
       "      <th>...</th>\n",
       "      <td>...</td>\n",
       "      <td>...</td>\n",
       "      <td>...</td>\n",
       "      <td>...</td>\n",
       "      <td>...</td>\n",
       "      <td>...</td>\n",
       "      <td>...</td>\n",
       "      <td>...</td>\n",
       "      <td>...</td>\n",
       "    </tr>\n",
       "    <tr>\n",
       "      <th>3169</th>\n",
       "      <td>1498</td>\n",
       "      <td>2018-10</td>\n",
       "      <td>41</td>\n",
       "      <td>247</td>\n",
       "      <td>42.0</td>\n",
       "      <td>20579.36</td>\n",
       "      <td>smart</td>\n",
       "      <td>Владикавказ</td>\n",
       "      <td>1750.0</td>\n",
       "    </tr>\n",
       "    <tr>\n",
       "      <th>3170</th>\n",
       "      <td>1499</td>\n",
       "      <td>2018-09</td>\n",
       "      <td>9</td>\n",
       "      <td>70</td>\n",
       "      <td>11.0</td>\n",
       "      <td>1845.75</td>\n",
       "      <td>smart</td>\n",
       "      <td>Пермь</td>\n",
       "      <td>550.0</td>\n",
       "    </tr>\n",
       "    <tr>\n",
       "      <th>3171</th>\n",
       "      <td>1499</td>\n",
       "      <td>2018-10</td>\n",
       "      <td>68</td>\n",
       "      <td>449</td>\n",
       "      <td>48.0</td>\n",
       "      <td>17788.51</td>\n",
       "      <td>smart</td>\n",
       "      <td>Пермь</td>\n",
       "      <td>1150.0</td>\n",
       "    </tr>\n",
       "    <tr>\n",
       "      <th>3172</th>\n",
       "      <td>1499</td>\n",
       "      <td>2018-11</td>\n",
       "      <td>74</td>\n",
       "      <td>612</td>\n",
       "      <td>59.0</td>\n",
       "      <td>17963.31</td>\n",
       "      <td>smart</td>\n",
       "      <td>Пермь</td>\n",
       "      <td>1513.0</td>\n",
       "    </tr>\n",
       "    <tr>\n",
       "      <th>3173</th>\n",
       "      <td>1499</td>\n",
       "      <td>2018-12</td>\n",
       "      <td>69</td>\n",
       "      <td>492</td>\n",
       "      <td>66.0</td>\n",
       "      <td>13055.58</td>\n",
       "      <td>smart</td>\n",
       "      <td>Пермь</td>\n",
       "      <td>598.0</td>\n",
       "    </tr>\n",
       "  </tbody>\n",
       "</table>\n",
       "<p>3174 rows × 9 columns</p>\n",
       "</div>"
      ],
      "text/plain": [
       "      user_id    month  calls_count  total_duration  messages  traffic_mb  \\\n",
       "0        1000  2018-05           22             159      22.0     2253.49   \n",
       "1        1000  2018-06           43             172      60.0    23233.77   \n",
       "2        1000  2018-07           47             340      75.0    14003.64   \n",
       "3        1000  2018-08           52             408      81.0    14055.93   \n",
       "4        1000  2018-09           58             466      57.0    14568.91   \n",
       "...       ...      ...          ...             ...       ...         ...   \n",
       "3169     1498  2018-10           41             247      42.0    20579.36   \n",
       "3170     1499  2018-09            9              70      11.0     1845.75   \n",
       "3171     1499  2018-10           68             449      48.0    17788.51   \n",
       "3172     1499  2018-11           74             612      59.0    17963.31   \n",
       "3173     1499  2018-12           69             492      66.0    13055.58   \n",
       "\n",
       "     tariff         city  earning  \n",
       "0     ultra    Краснодар   1950.0  \n",
       "1     ultra    Краснодар   1950.0  \n",
       "2     ultra    Краснодар   1950.0  \n",
       "3     ultra    Краснодар   1950.0  \n",
       "4     ultra    Краснодар   1950.0  \n",
       "...     ...          ...      ...  \n",
       "3169  smart  Владикавказ   1750.0  \n",
       "3170  smart        Пермь    550.0  \n",
       "3171  smart        Пермь   1150.0  \n",
       "3172  smart        Пермь   1513.0  \n",
       "3173  smart        Пермь    598.0  \n",
       "\n",
       "[3174 rows x 9 columns]"
      ]
     },
     "execution_count": 9,
     "metadata": {},
     "output_type": "execute_result"
    }
   ],
   "source": [
    "def calculation(row): #создаём функцию для расчёта месячного расхода пользователей\n",
    "  if row['tariff'] == 'smart': #если тариф smart, расчёт ниже\n",
    "    call_price = 0\n",
    "    sms_price = 0\n",
    "    int_price = 0\n",
    "    if row['total_duration'] > 500: #проверка выхода за лимиты по звонкам\n",
    "        call_price = (row['total_duration'] - 500)*3\n",
    "    if row['messages'] > 50: #проверка выхода за лимиты по сообщениям\n",
    "        sms_price = (row['messages']-50)*3\n",
    "    if row['traffic_mb'] > 15360: #проверка выхода за лимит траффика\n",
    "        int_price = math.ceil(row['traffic_mb']/1024-15) * 200 #округление вверх до Гб и умножение на цену\n",
    "    earn = 550 + call_price + sms_price + int_price #абонентская плата + расходы свыше лимитов\n",
    "    return earn\n",
    "  else: #если не smart, то расчёт по тариф ultra (так как других тарифов нет)\n",
    "    call_price = 0\n",
    "    sms_price = 0\n",
    "    int_price = 0\n",
    "    if row['total_duration'] > 3000:\n",
    "        call_price = row['total_duration'] - 3000\n",
    "    if row['messages'] > 1000:\n",
    "        sms_price = row['messages']-1000\n",
    "    if row['traffic_mb'] > 30720:\n",
    "        int_price = math.ceil(row['traffic_mb']/1024-30) * 150\n",
    "    earn = 1950 + call_price + sms_price + int_price\n",
    "    return earn\n",
    "user_pivot['earning'] = user_pivot.apply(calculation, axis=1) #применяем функцию и создаём новый столбец в сводной таблице\n",
    "user_pivot"
   ]
  },
  {
   "cell_type": "markdown",
   "metadata": {
    "id": "BoJOamZzrqoa"
   },
   "source": [
    "### Вывод\n",
    "\n",
    "Выполнил предподготовку данных во всех таблицах, привёл данные к нужным для исследования форматам. Создал сводную таблицу с расчётом количества и продолжительности звонков, количества сообщений и суммарно потраченного интернет-траффика для каждого пользователя мобильного оператора помесячно. С помощью этих данных успешно рассчитал помесячную выручку с каждого пользователя и добавил эти данные в сводную таблицу."
   ]
  },
  {
   "cell_type": "markdown",
   "metadata": {
    "id": "NR77gpqFW4pC"
   },
   "source": [
    "## 3. Анализ данных\n",
    "\n",
    "Необходимо описать поведение клиентов оператора, исходя из выборки. Сколько минут разговора, сколько сообщений и какой объём интернет-трафика требуется пользователям каждого тарифа в месяц? Посчитать среднее количество, дисперсию и стандартное отклонение. Построить гистограммы и описать распределения."
   ]
  },
  {
   "cell_type": "code",
   "execution_count": 10,
   "metadata": {
    "colab": {
     "base_uri": "https://localhost:8080/",
     "height": 556
    },
    "executionInfo": {
     "elapsed": 356,
     "status": "ok",
     "timestamp": 1642871956558,
     "user": {
      "displayName": "Дмитрий Аверин",
      "photoUrl": "https://lh3.googleusercontent.com/a/default-user=s64",
      "userId": "16753714053080864602"
     },
     "user_tz": -240
    },
    "id": "IRacph0Lki7Y",
    "outputId": "29196191-c86c-4a27-de87-fa4fcc7a12d3"
   },
   "outputs": [
    {
     "data": {
      "text/plain": [
       "'Среднее количество сообщений в месяц:'"
      ]
     },
     "metadata": {},
     "output_type": "display_data"
    },
    {
     "data": {
      "text/plain": [
       "tariff\n",
       "smart    38.747390\n",
       "ultra    61.195538\n",
       "Name: messages, dtype: float64"
      ]
     },
     "metadata": {},
     "output_type": "display_data"
    },
    {
     "name": "stdout",
     "output_type": "stream",
     "text": [
      "Дисперсия количества сообщений тарифа smart 718.7973574905967\n",
      "Дисперсия количества сообщений тарифа ultra 1996.9499538443522\n",
      "Стандартное отклонение количества сообщений тарифа smart 26.810396444114673\n",
      "Стандартное отклонение количества сообщений тарифа ultra 44.68724598634774\n"
     ]
    },
    {
     "data": {
      "image/png": "[encoded data removed]",
      "text/plain": [
       "<Figure size 432x288 with 1 Axes>"
      ]
     },
     "metadata": {
      "needs_background": "light"
     },
     "output_type": "display_data"
    }
   ],
   "source": [
    "#выделим в отдельные таблицы разные тарифы\n",
    "smart_pivot = user_pivot.query('tariff == \"smart\"') \n",
    "ultra_pivot = user_pivot.query('tariff == \"ultra\"')\n",
    "\n",
    "display('Среднее количество сообщений в месяц:', user_pivot.groupby('tariff')['messages'].mean())\n",
    "print('Дисперсия количества сообщений тарифа smart', \n",
    "      np.var(smart_pivot['messages']))\n",
    "print('Дисперсия количества сообщений тарифа ultra', \n",
    "      np.var(ultra_pivot['messages']))\n",
    "print('Стандартное отклонение количества сообщений тарифа smart', \n",
    "      np.std(smart_pivot['messages']))\n",
    "print('Стандартное отклонение количества сообщений тарифа ultra', \n",
    "      np.std(ultra_pivot['messages']))\n",
    "\n",
    "plt.hist(smart_pivot['messages'], bins=20, alpha=0.5, label='Smart')\n",
    "plt.hist(ultra_pivot['messages'], bins=20, alpha=0.5, label='Ultra')\n",
    "plt.legend(loc='upper right')\n",
    "plt.xlabel('Сообщения')\n",
    "plt.ylabel('Пользователи')\n",
    "plt.title('Статистика сообщений в месяц')\n",
    "plt.show()"
   ]
  },
  {
   "cell_type": "markdown",
   "metadata": {
    "id": "fKlZ1GxwO7rG"
   },
   "source": [
    "\n",
    "В среднем ежемесячно пользователи тарифа ultra отправляют в полтора раза больше сообщений. Но в целом для обоих тарифов велика доля и тех, кто отправляет совсем мало сообщений, вплоть до нуля. Распределение у обоих графиков нормальное, у для тарифа Ultra выше разброс данных (так как количество пользователей меньше)."
   ]
  },
  {
   "cell_type": "code",
   "execution_count": 11,
   "metadata": {
    "colab": {
     "base_uri": "https://localhost:8080/",
     "height": 556
    },
    "executionInfo": {
     "elapsed": 758,
     "status": "ok",
     "timestamp": 1642871957311,
     "user": {
      "displayName": "Дмитрий Аверин",
      "photoUrl": "https://lh3.googleusercontent.com/a/default-user=s64",
      "userId": "16753714053080864602"
     },
     "user_tz": -240
    },
    "id": "X5RkFOpcDvrI",
    "outputId": "dd03624d-893d-46c9-be9e-8fc1f4349c45"
   },
   "outputs": [
    {
     "data": {
      "text/plain": [
       "'Среднее количество минут разговора в месяц:'"
      ]
     },
     "metadata": {},
     "output_type": "display_data"
    },
    {
     "data": {
      "text/plain": [
       "tariff\n",
       "smart    419.062978\n",
       "ultra    545.451104\n",
       "Name: total_duration, dtype: float64"
      ]
     },
     "metadata": {},
     "output_type": "display_data"
    },
    {
     "name": "stdout",
     "output_type": "stream",
     "text": [
      "Дисперсия минут разговора тарифа smart 35828.06530953033\n",
      "Дисперсия минут разговора тарифа ultra 94104.36117385984\n",
      "Стандартное отклонение минут разговора тарифа smart 189.2830296395594\n",
      "Стандартное отклонение минут разговора тарифа ultra 306.76434143143143\n"
     ]
    },
    {
     "data": {
      "image/png": "[encoded data removed]",
      "text/plain": [
       "<Figure size 432x288 with 1 Axes>"
      ]
     },
     "metadata": {
      "needs_background": "light"
     },
     "output_type": "display_data"
    }
   ],
   "source": [
    "display('Среднее количество минут разговора в месяц:', \n",
    "        user_pivot.groupby('tariff')['total_duration'].mean())\n",
    "print('Дисперсия минут разговора тарифа smart', \n",
    "      np.var(smart_pivot['total_duration']))\n",
    "print('Дисперсия минут разговора тарифа ultra', \n",
    "      np.var(user_pivot.query('tariff == \"ultra\"')['total_duration']))\n",
    "print('Стандартное отклонение минут разговора тарифа smart', \n",
    "      np.std(smart_pivot['total_duration']))\n",
    "print('Стандартное отклонение минут разговора тарифа ultra', \n",
    "      np.std(ultra_pivot['total_duration']))\n",
    "\n",
    "plt.hist(smart_pivot['total_duration'], bins=20, alpha=0.5, label='Smart')\n",
    "plt.hist(ultra_pivot['total_duration'], bins=20, alpha=0.5, label='Ultra')\n",
    "plt.legend(loc='upper right')\n",
    "plt.xlabel('Минуты')\n",
    "plt.ylabel('Пользователи')\n",
    "plt.title('Статистика минут разговора в месяц')\n",
    "plt.show()"
   ]
  },
  {
   "cell_type": "markdown",
   "metadata": {
    "id": "MrN56mIpQ4hX"
   },
   "source": [
    "Если анализировать длительность звонков в течение месяца - здесь также, в среднем у пользователей тарифа Ultra этот показатель выше, но выше и разброс данных, в том числе доля тех, кто тратит совсем немного минут. Распределение значений на гистограммах нормальное."
   ]
  },
  {
   "cell_type": "code",
   "execution_count": 12,
   "metadata": {
    "colab": {
     "base_uri": "https://localhost:8080/",
     "height": 556
    },
    "executionInfo": {
     "elapsed": 629,
     "status": "ok",
     "timestamp": 1642871957924,
     "user": {
      "displayName": "Дмитрий Аверин",
      "photoUrl": "https://lh3.googleusercontent.com/a/default-user=s64",
      "userId": "16753714053080864602"
     },
     "user_tz": -240
    },
    "id": "lAdJ7dpxD0SL",
    "outputId": "a8b11384-9b53-478b-aa7b-c5a1a6dd5412"
   },
   "outputs": [
    {
     "data": {
      "text/plain": [
       "'Среднее количество интернет-траффика в месяц:'"
      ]
     },
     "metadata": {},
     "output_type": "display_data"
    },
    {
     "data": {
      "text/plain": [
       "tariff\n",
       "smart    16216.661274\n",
       "ultra    19669.283603\n",
       "Name: traffic_mb, dtype: float64"
      ]
     },
     "metadata": {},
     "output_type": "display_data"
    },
    {
     "name": "stdout",
     "output_type": "stream",
     "text": [
      "Дисперсия количества интернет-траффика тарифа smart 34412098.457164586\n",
      "Дисперсия количества интернет-траффика тарифа ultra 99465187.55618353\n",
      "Стандартное отклонение количества интернет-траффика тарифа smart 5866.18261369049\n",
      "Стандартное отклонение количества интернет-траффика тарифа ultra 9973.223528838784\n"
     ]
    },
    {
     "data": {
      "image/png": "[encoded data removed]",
      "text/plain": [
       "<Figure size 432x288 with 1 Axes>"
      ]
     },
     "metadata": {
      "needs_background": "light"
     },
     "output_type": "display_data"
    }
   ],
   "source": [
    "display('Среднее количество интернет-траффика в месяц:', \n",
    "        user_pivot.groupby('tariff')['traffic_mb'].mean())\n",
    "print('Дисперсия количества интернет-траффика тарифа smart', \n",
    "      np.var(smart_pivot['traffic_mb']))\n",
    "print('Дисперсия количества интернет-траффика тарифа ultra', \n",
    "      np.var(ultra_pivot['traffic_mb']))\n",
    "print('Стандартное отклонение количества интернет-траффика тарифа smart', \n",
    "      np.std(smart_pivot['traffic_mb']))\n",
    "print('Стандартное отклонение количества интернет-траффика тарифа ultra', \n",
    "      np.std(ultra_pivot['traffic_mb']))\n",
    "\n",
    "plt.hist(smart_pivot['traffic_mb'], bins=20, alpha=0.5, label='Smart')\n",
    "plt.hist(ultra_pivot['traffic_mb'], bins=20, alpha=0.5, label='Ultra')\n",
    "plt.legend(loc='upper right')\n",
    "plt.xlabel('Использовано мегабайт')\n",
    "plt.ylabel('Пользователи')\n",
    "plt.title('Статистика интернет-трафика в месяц')\n",
    "plt.show()"
   ]
  },
  {
   "cell_type": "markdown",
   "metadata": {
    "id": "X9uUET1FSQZ_"
   },
   "source": [
    "Здесь также у обоих гистограмм нормальное распределение. В среднем пользователи Ultra тратят больше интернет-трафика за месяц. Также тут видно, большинство пользователей Smart выходит за лимит трафика, включённого в абонентскую плату."
   ]
  },
  {
   "cell_type": "code",
   "execution_count": 13,
   "metadata": {},
   "outputs": [
    {
     "data": {
      "image/png": "[encoded data removed]",
      "text/plain": [
       "<Figure size 432x288 with 1 Axes>"
      ]
     },
     "metadata": {
      "needs_background": "light"
     },
     "output_type": "display_data"
    }
   ],
   "source": [
    "#построим график месячной выручки с пользователей по разным тарифам.\n",
    "plt.hist(smart_pivot['earning'], bins=20, alpha=0.5, label='Smart')\n",
    "plt.hist(ultra_pivot['earning'], bins=20, alpha=0.5, label='Ultra')\n",
    "plt.legend(loc='upper right')\n",
    "plt.xlabel('Выручка')\n",
    "plt.ylabel('Пользователи')\n",
    "plt.title('Статистика месячной выручки с пользователей')\n",
    "plt.show()"
   ]
  },
  {
   "cell_type": "markdown",
   "metadata": {},
   "source": [
    "Здесь видно, что немаленькая часть пользователей тарифа Smart платит в месяц больше своей абонентской платы, как как выходит лимиты тарифа (в основном за счёт интернета). На тарифе Ultra пользователи платят в месяц в подавляющем числе случаев ровно абонентскую плату 1950."
   ]
  },
  {
   "cell_type": "markdown",
   "metadata": {
    "id": "D3UxvPA-T5MI"
   },
   "source": [
    "### Вывод\n",
    "\n",
    "Посчитал средние значения, стандартное отклонение, дисперсию для количества сообщений, длительности звонков и потраченных мегабайт траффика за месяц для пользователей обоих тарифов.\n",
    "Вывел гистограммы, описал данные."
   ]
  },
  {
   "cell_type": "markdown",
   "metadata": {
    "id": "yyz1bOT2Tw2g"
   },
   "source": [
    "## Проверка гипотез"
   ]
  },
  {
   "cell_type": "markdown",
   "metadata": {
    "id": "BmX1uZ5It4df"
   },
   "source": [
    "Для начала изучим две совокупности данных - средней выручке от пользователей обоих тарифов."
   ]
  },
  {
   "cell_type": "code",
   "execution_count": 14,
   "metadata": {
    "colab": {
     "base_uri": "https://localhost:8080/",
     "height": 183
    },
    "executionInfo": {
     "elapsed": 35,
     "status": "ok",
     "timestamp": 1642871957926,
     "user": {
      "displayName": "Дмитрий Аверин",
      "photoUrl": "https://lh3.googleusercontent.com/a/default-user=s64",
      "userId": "16753714053080864602"
     },
     "user_tz": -240
    },
    "id": "UCidKy9at6HX",
    "outputId": "d5c8345f-ec7b-4dd2-945e-49311550519d"
   },
   "outputs": [
    {
     "data": {
      "text/plain": [
       "'Средняя выручка с пользователя в месяц:'"
      ]
     },
     "metadata": {},
     "output_type": "display_data"
    },
    {
     "data": {
      "text/plain": [
       "tariff\n",
       "smart    1290.891138\n",
       "ultra    2070.977918\n",
       "Name: earning, dtype: float64"
      ]
     },
     "metadata": {},
     "output_type": "display_data"
    },
    {
     "name": "stdout",
     "output_type": "stream",
     "text": [
      "Дисперсия выручки тарифа smart 670655.5077172383\n",
      "Дисперсия выручки тарифа ultra 143810.71560071252\n",
      "Стандартное отклонение выручки тарифа smart 818.9355943645619\n",
      "Стандартное отклонение выручки тарифа ultra 379.2238331127311\n"
     ]
    }
   ],
   "source": [
    "display('Средняя выручка с пользователя в месяц:', \n",
    "        user_pivot.groupby('tariff')['earning'].mean())\n",
    "print('Дисперсия выручки тарифа smart', \n",
    "      np.var(smart_pivot['earning']))\n",
    "print('Дисперсия выручки тарифа ultra', \n",
    "      np.var(ultra_pivot['earning']))\n",
    "print('Стандартное отклонение выручки тарифа smart', \n",
    "      np.std(smart_pivot['earning']))\n",
    "print('Стандартное отклонение выручки тарифа ultra', \n",
    "      np.std(ultra_pivot['earning']))"
   ]
  },
  {
   "cell_type": "markdown",
   "metadata": {
    "id": "tRpdFzedhSaU"
   },
   "source": [
    "Проверим гипитезу, что средняя выручка от пользователей тарифов «Ультра» и «Смарт» различается. Нулевой гипотезой при этом является что значения средней выручки с пользователей обоих тарифов равны. Альтернативная гипотеза - что выручка отличается."
   ]
  },
  {
   "cell_type": "code",
   "execution_count": 15,
   "metadata": {
    "colab": {
     "base_uri": "https://localhost:8080/"
    },
    "executionInfo": {
     "elapsed": 31,
     "status": "ok",
     "timestamp": 1642871957928,
     "user": {
      "displayName": "Дмитрий Аверин",
      "photoUrl": "https://lh3.googleusercontent.com/a/default-user=s64",
      "userId": "16753714053080864602"
     },
     "user_tz": -240
    },
    "id": "gp3Z0KlsiNHC",
    "outputId": "b8ab76ae-fa0e-4ce5-a18e-3d58d0e1d430"
   },
   "outputs": [
    {
     "name": "stdout",
     "output_type": "stream",
     "text": [
      "P-value: 3.155173205867294e-245\n",
      "Отвергаем нулевую гипотезу\n"
     ]
    }
   ],
   "source": [
    "from scipy import stats as st \n",
    "alpha = 0.05 #задаём стандартное пороговое значение\n",
    "#применяем метод scipy.stats.ttest_ind() для проверки гипотезы о равенстве среднего двух генеральных совокупностей \n",
    "results = st.ttest_ind(smart_pivot['earning'], \n",
    "                       ultra_pivot['earning'], equal_var = False) #так как дисперсии совокупностей не равны\n",
    "print('P-value:', results.pvalue)\n",
    "\n",
    "if (results.pvalue < alpha): #если pvalue меньше уровня критической значимости\n",
    "    print(\"Отвергаем нулевую гипотезу\")\n",
    "else:\n",
    "    print(\"Не получилось отвергнуть нулевую гипотезу\")"
   ]
  },
  {
   "cell_type": "markdown",
   "metadata": {
    "id": "jwZwqhITl9_c"
   },
   "source": [
    "P-value ниже заданного уровня значимости. Это означает, что мы отвергаем нашу нулевую гипотезу о том, что средняя выручка с пользователей обоих тарифов равны."
   ]
  },
  {
   "cell_type": "markdown",
   "metadata": {
    "id": "EFlXSoy0m6f5"
   },
   "source": [
    "Следующая гипотеза - что средняя выручка пользователей из Москвы отличается от выручки пользователей из других регионов.\n",
    "\n",
    "Нулевой гипотезой в данном случае будет: средняя выручка с пользователей Москвы такая же, как и с пользователей регионов.\n",
    "Альтернативная гипотеза - что выручка отличается."
   ]
  },
  {
   "cell_type": "code",
   "execution_count": 16,
   "metadata": {
    "colab": {
     "base_uri": "https://localhost:8080/"
    },
    "executionInfo": {
     "elapsed": 26,
     "status": "ok",
     "timestamp": 1642871957932,
     "user": {
      "displayName": "Дмитрий Аверин",
      "photoUrl": "https://lh3.googleusercontent.com/a/default-user=s64",
      "userId": "16753714053080864602"
     },
     "user_tz": -240
    },
    "id": "Jw_8ZT3Gnqsa",
    "outputId": "2bff4a11-3055-457f-824a-c01cd80113af"
   },
   "outputs": [
    {
     "name": "stdout",
     "output_type": "stream",
     "text": [
      "P-value: 0.4619932225305272\n",
      "Не получилось отвергнуть нулевую гипотезу\n"
     ]
    }
   ],
   "source": [
    "alpha = 0.05 #задаём стандартное пороговое значение\n",
    "#применяем метод scipy.stats.ttest_ind() для проверки гипотезы о равенстве среднего двух генеральных совокупностей \n",
    "results = st.ttest_ind(user_pivot.query('city == \"Москва\"')['earning'], \n",
    "                       user_pivot.query('city != \"Москва\"')['earning']) #предполагается, что дисперсии примерно равны\n",
    "print('P-value:', results.pvalue)\n",
    "if (results.pvalue < alpha): #если pvalue меньше уровня критической значимости\n",
    "    print(\"Отвергаем нулевую гипотезу\")\n",
    "else:\n",
    "    print(\"Не получилось отвергнуть нулевую гипотезу\")"
   ]
  },
  {
   "cell_type": "markdown",
   "metadata": {
    "id": "7p6HMLh9ouMp"
   },
   "source": [
    "Полученное значение p-value намного выше заданного уровня статистической значимости. Мы не отвергаем гипотезу о равестве средней выручки пользователей Москвы и остальной России.\n",
    "Мы не использовали дополнительный параметр equal_var = False, потому что у нас достаточно большие и одинаковые по размеру выборки, к тому же в обеих измерена одна и та же переменная — нет оснований полагать, что разброс будет сильно отличаться.\n"
   ]
  },
  {
   "cell_type": "markdown",
   "metadata": {
    "id": "qD2JBWbfpzUa"
   },
   "source": [
    "### Вывод\n",
    "\n",
    "Провёл тесты для пар генеральных совокупностей: сравнил пользователей двух тарифов, и сравнил пользователей Москвы и остальных городов.\n",
    "В первом случае была отвергнута нулевая гипотеза о равенстве, во втором - нулевую гипотезу опровергнуть не получилось. "
   ]
  },
  {
   "cell_type": "markdown",
   "metadata": {
    "id": "vaFJZ3ILrPEf"
   },
   "source": [
    "## Общий вывод\n",
    "В ходе данной работы я изучил данные пользователей мобильного оператора, а точнее пять таблиц с подробной информацией и звонках, длительности разговоров, отправленных сообщениях, потраченном интернет-траффике и прочем - чтобы на основании этих данных определить, какой тариф приносит больше денег, одинакова ли средняя выручка с них, тратят ли больше пользователи Москвы в отличие от других регионов.\n",
    "\n",
    "После изучения я провёл небольшую, но необходимую работу по предобработке, привёл данные к нужным типам для последующего исследования. В целом, данные были в хорошем состоянии, непонятных пропусков или ошибок почти не встречалось.\n",
    "\n",
    "Для исследования я создал сводную таблицу с расчитанными данными: количеством и длительностью звонков, сообщений, интернет-траффика помесячно от каждого пользователя. На основании этого, я высчитал с помощью функции потраченную сумму за каждый месяц от каждого пользователя в зависимости от его тарифного плана.\n",
    "\n",
    "Имея все эти данные, я построил гистограммы, отражающие среднемесячные средние значения количества сообщений, совершённых звонков, потраченных мегабайт интернета для каждого тарифа.\n",
    "\n",
    "Я выяснил, что если рассматривать чистые средние значения, то средняя месячная выручка пользователя тарифа Ultra выше - 2070 против 1394 у Smart. Но на основании только этого рано делать вывод.\n",
    "\n",
    "Последний шаг - проверка гипотез с помощью специализированных методов Python.\n",
    "В результате тестов пар генеральных совокупностей была отвергнута гипотеза о том, что средняя выручка у пользователей обоих тарифов равна. В соответствии с полученными данными можно сделать вывод, что выручка у тарифа Ultra больше.\n",
    "\n",
    "Вторая тестируемая нами гипотеза - что пользователи Москвы в среднем каждый месяц тратят больше денег на мобильную связь, чем жители регионов - не была подтверждена.\n",
    "\n",
    "По итогам всего исследования и анализа я сделал вывод, что тариф Ultra выгоднее для оператора, так как приносит со среднего пользователя больше денег. С другой стороны, более дешёвый тариф Smart очевидно привлекает гораздо больше пользователей оператору и приносит больше прибыли в сумме."
   ]
  }
 ],
 "metadata": {
  "ExecuteTimeLog": [
   {
    "duration": 1032,
    "start_time": "2022-01-28T10:59:22.845Z"
   },
   {
    "duration": 318,
    "start_time": "2022-01-28T10:59:23.880Z"
   },
   {
    "duration": 1281,
    "start_time": "2022-01-28T10:59:24.200Z"
   },
   {
    "duration": 82,
    "start_time": "2022-01-28T10:59:25.483Z"
   },
   {
    "duration": 296,
    "start_time": "2022-01-28T10:59:25.566Z"
   },
   {
    "duration": 129,
    "start_time": "2022-01-28T10:59:25.864Z"
   },
   {
    "duration": 25,
    "start_time": "2022-01-28T10:59:25.995Z"
   },
   {
    "duration": 150,
    "start_time": "2022-01-28T10:59:26.023Z"
   },
   {
    "duration": 157,
    "start_time": "2022-01-28T10:59:26.176Z"
   },
   {
    "duration": 732,
    "start_time": "2022-01-28T10:59:26.336Z"
   },
   {
    "duration": 693,
    "start_time": "2022-01-28T10:59:27.071Z"
   },
   {
    "duration": 646,
    "start_time": "2022-01-28T10:59:27.766Z"
   },
   {
    "duration": 12,
    "start_time": "2022-01-28T10:59:28.414Z"
   },
   {
    "duration": 400,
    "start_time": "2022-01-28T10:59:28.428Z"
   },
   {
    "duration": 14,
    "start_time": "2022-01-28T10:59:28.830Z"
   },
   {
    "duration": 981,
    "start_time": "2022-01-28T15:05:49.894Z"
   },
   {
    "duration": 280,
    "start_time": "2022-01-28T15:05:50.876Z"
   },
   {
    "duration": 1410,
    "start_time": "2022-01-28T15:05:51.158Z"
   },
   {
    "duration": 409,
    "start_time": "2022-01-28T15:05:52.639Z"
   },
   {
    "duration": 316,
    "start_time": "2022-01-28T15:05:53.055Z"
   },
   {
    "duration": 251,
    "start_time": "2022-01-28T15:05:53.708Z"
   },
   {
    "duration": 103,
    "start_time": "2022-01-28T15:05:54.364Z"
   },
   {
    "duration": 89,
    "start_time": "2022-01-28T15:05:54.804Z"
   },
   {
    "duration": 100,
    "start_time": "2022-01-28T15:05:55.692Z"
   },
   {
    "duration": 15,
    "start_time": "2022-01-28T15:05:55.924Z"
   },
   {
    "duration": 99,
    "start_time": "2022-01-28T15:05:59.873Z"
   },
   {
    "duration": 113,
    "start_time": "2022-01-28T15:06:02.242Z"
   },
   {
    "duration": 520,
    "start_time": "2022-01-28T15:06:03.897Z"
   },
   {
    "duration": 430,
    "start_time": "2022-01-28T15:06:04.743Z"
   },
   {
    "duration": 403,
    "start_time": "2022-01-28T15:06:05.268Z"
   },
   {
    "duration": 5,
    "start_time": "2022-01-28T15:08:13.181Z"
   },
   {
    "duration": 4,
    "start_time": "2022-01-28T15:10:32.053Z"
   },
   {
    "duration": 5,
    "start_time": "2022-01-28T15:10:35.321Z"
   },
   {
    "duration": 7,
    "start_time": "2022-01-28T15:10:45.877Z"
   },
   {
    "duration": 6,
    "start_time": "2022-01-28T15:11:09.317Z"
   },
   {
    "duration": 6,
    "start_time": "2022-01-28T15:11:58.622Z"
   },
   {
    "duration": 6,
    "start_time": "2022-01-28T15:12:13.777Z"
   },
   {
    "duration": 276,
    "start_time": "2022-01-28T15:15:59.789Z"
   },
   {
    "duration": 279,
    "start_time": "2022-01-28T15:16:19.100Z"
   },
   {
    "duration": 114,
    "start_time": "2022-01-28T15:57:32.062Z"
   },
   {
    "duration": 7,
    "start_time": "2022-01-28T15:58:52.657Z"
   },
   {
    "duration": 315,
    "start_time": "2022-01-28T16:04:13.546Z"
   },
   {
    "duration": 6742,
    "start_time": "2022-01-28T16:04:21.460Z"
   },
   {
    "duration": 3,
    "start_time": "2022-01-28T16:04:35.294Z"
   },
   {
    "duration": 6,
    "start_time": "2022-01-28T16:04:41.236Z"
   },
   {
    "duration": 318,
    "start_time": "2022-01-28T16:16:28.043Z"
   },
   {
    "duration": 215,
    "start_time": "2022-01-28T16:18:16.443Z"
   },
   {
    "duration": 221,
    "start_time": "2022-01-28T16:19:22.857Z"
   },
   {
    "duration": 692,
    "start_time": "2022-01-28T16:21:41.052Z"
   },
   {
    "duration": 629,
    "start_time": "2022-01-28T16:22:42.970Z"
   },
   {
    "duration": 627,
    "start_time": "2022-01-28T16:23:07.397Z"
   },
   {
    "duration": 228,
    "start_time": "2022-01-28T16:23:30.613Z"
   },
   {
    "duration": 602,
    "start_time": "2022-01-28T16:24:25.167Z"
   },
   {
    "duration": 290,
    "start_time": "2022-01-28T16:24:46.086Z"
   },
   {
    "duration": 222,
    "start_time": "2022-01-28T16:28:25.242Z"
   },
   {
    "duration": 199,
    "start_time": "2022-01-28T16:32:32.093Z"
   },
   {
    "duration": 249,
    "start_time": "2022-01-28T16:32:41.613Z"
   },
   {
    "duration": 113,
    "start_time": "2022-01-28T16:34:16.086Z"
   },
   {
    "duration": 5,
    "start_time": "2022-01-28T16:34:54.304Z"
   },
   {
    "duration": 376,
    "start_time": "2022-01-28T16:35:11.386Z"
   },
   {
    "duration": 111,
    "start_time": "2022-01-28T16:35:44.319Z"
   },
   {
    "duration": 115,
    "start_time": "2022-01-28T16:36:02.845Z"
   },
   {
    "duration": 120,
    "start_time": "2022-01-28T16:39:46.837Z"
   },
   {
    "duration": 126,
    "start_time": "2022-01-28T16:40:56.030Z"
   },
   {
    "duration": 220,
    "start_time": "2022-01-28T16:40:59.690Z"
   },
   {
    "duration": 225,
    "start_time": "2022-01-28T16:41:00.927Z"
   },
   {
    "duration": 222,
    "start_time": "2022-01-28T16:41:01.992Z"
   },
   {
    "duration": 312,
    "start_time": "2022-01-28T16:41:02.829Z"
   },
   {
    "duration": 251,
    "start_time": "2022-01-28T16:41:26.151Z"
   },
   {
    "duration": 10,
    "start_time": "2022-01-28T16:41:30.457Z"
   },
   {
    "duration": 332,
    "start_time": "2022-01-28T16:41:44.925Z"
   },
   {
    "duration": 10,
    "start_time": "2022-01-28T16:42:03.460Z"
   },
   {
    "duration": 210,
    "start_time": "2022-01-28T16:42:19.169Z"
   },
   {
    "duration": 5,
    "start_time": "2022-01-28T16:47:19.544Z"
   },
   {
    "duration": 10,
    "start_time": "2022-01-28T16:52:43.480Z"
   },
   {
    "duration": 4,
    "start_time": "2022-01-28T17:22:51.352Z"
   },
   {
    "duration": 4,
    "start_time": "2022-01-28T17:23:09.706Z"
   },
   {
    "duration": 119,
    "start_time": "2022-01-28T17:25:45.346Z"
   },
   {
    "duration": 8,
    "start_time": "2022-01-28T17:26:40.029Z"
   },
   {
    "duration": 279,
    "start_time": "2022-01-28T17:39:24.215Z"
   },
   {
    "duration": 262,
    "start_time": "2022-01-28T17:39:24.963Z"
   },
   {
    "duration": 372,
    "start_time": "2022-01-28T17:39:29.347Z"
   },
   {
    "duration": 99,
    "start_time": "2022-01-28T17:39:32.299Z"
   },
   {
    "duration": 80,
    "start_time": "2022-01-28T17:39:32.658Z"
   },
   {
    "duration": 99,
    "start_time": "2022-01-28T17:39:34.464Z"
   },
   {
    "duration": 15,
    "start_time": "2022-01-28T17:39:35.003Z"
   },
   {
    "duration": 158,
    "start_time": "2022-01-28T17:39:39.518Z"
   },
   {
    "duration": 7,
    "start_time": "2022-01-28T17:39:41.301Z"
   },
   {
    "duration": 487,
    "start_time": "2022-01-28T17:39:41.473Z"
   },
   {
    "duration": -1083,
    "start_time": "2022-01-28T17:39:43.044Z"
   },
   {
    "duration": 989,
    "start_time": "2022-01-28T17:40:26.467Z"
   },
   {
    "duration": 469,
    "start_time": "2022-01-28T17:42:11.883Z"
   },
   {
    "duration": 270,
    "start_time": "2022-01-28T17:46:31.760Z"
   },
   {
    "duration": 5,
    "start_time": "2022-01-28T17:46:57.423Z"
   },
   {
    "duration": 6,
    "start_time": "2022-01-28T17:47:08.883Z"
   },
   {
    "duration": 6,
    "start_time": "2022-01-28T17:47:30.050Z"
   },
   {
    "duration": 477,
    "start_time": "2022-01-28T17:47:33.935Z"
   },
   {
    "duration": 6,
    "start_time": "2022-01-28T17:47:35.946Z"
   },
   {
    "duration": 6,
    "start_time": "2022-01-28T17:47:40.119Z"
   },
   {
    "duration": 6,
    "start_time": "2022-01-28T17:47:45.042Z"
   },
   {
    "duration": 6,
    "start_time": "2022-01-28T17:47:49.782Z"
   },
   {
    "duration": 6,
    "start_time": "2022-01-28T17:47:51.270Z"
   },
   {
    "duration": 6,
    "start_time": "2022-01-28T17:47:56.642Z"
   },
   {
    "duration": 5,
    "start_time": "2022-01-28T17:48:02.755Z"
   },
   {
    "duration": 6,
    "start_time": "2022-01-28T17:48:14.452Z"
   },
   {
    "duration": 6,
    "start_time": "2022-01-28T17:48:22.139Z"
   },
   {
    "duration": 121,
    "start_time": "2022-01-28T17:48:58.442Z"
   },
   {
    "duration": 477,
    "start_time": "2022-01-28T17:49:19.196Z"
   },
   {
    "duration": 490,
    "start_time": "2022-01-28T17:53:28.917Z"
   },
   {
    "duration": 116,
    "start_time": "2022-01-28T17:56:38.574Z"
   },
   {
    "duration": 226,
    "start_time": "2022-01-28T17:56:48.416Z"
   },
   {
    "duration": 302,
    "start_time": "2022-01-28T17:56:48.975Z"
   },
   {
    "duration": 227,
    "start_time": "2022-01-28T17:56:49.728Z"
   },
   {
    "duration": 206,
    "start_time": "2022-01-28T17:56:50.317Z"
   },
   {
    "duration": 11,
    "start_time": "2022-01-28T17:56:53.559Z"
   },
   {
    "duration": 5,
    "start_time": "2022-01-28T17:56:54.921Z"
   },
   {
    "duration": 10,
    "start_time": "2022-01-28T17:56:57.636Z"
   },
   {
    "duration": 305,
    "start_time": "2022-01-28T17:58:22.622Z"
   },
   {
    "duration": 320,
    "start_time": "2022-01-28T18:00:53.673Z"
   },
   {
    "duration": 210,
    "start_time": "2022-01-28T18:01:04.129Z"
   },
   {
    "duration": 1004,
    "start_time": "2022-01-29T06:38:32.641Z"
   },
   {
    "duration": 476,
    "start_time": "2022-01-29T06:38:33.648Z"
   },
   {
    "duration": 241,
    "start_time": "2022-01-29T06:38:34.126Z"
   },
   {
    "duration": 54,
    "start_time": "2022-01-29T06:38:34.370Z"
   },
   {
    "duration": 62,
    "start_time": "2022-01-29T06:38:34.426Z"
   },
   {
    "duration": 119,
    "start_time": "2022-01-29T06:38:34.491Z"
   },
   {
    "duration": 5,
    "start_time": "2022-01-29T06:38:34.612Z"
   },
   {
    "duration": 129,
    "start_time": "2022-01-29T06:38:34.620Z"
   },
   {
    "duration": 147,
    "start_time": "2022-01-29T06:38:34.752Z"
   },
   {
    "duration": 302,
    "start_time": "2022-01-29T06:38:34.907Z"
   },
   {
    "duration": 336,
    "start_time": "2022-01-29T06:38:35.211Z"
   },
   {
    "duration": 305,
    "start_time": "2022-01-29T06:38:35.549Z"
   },
   {
    "duration": 285,
    "start_time": "2022-01-29T06:38:35.856Z"
   },
   {
    "duration": 11,
    "start_time": "2022-01-29T06:38:36.143Z"
   },
   {
    "duration": 406,
    "start_time": "2022-01-29T06:38:36.156Z"
   },
   {
    "duration": 11,
    "start_time": "2022-01-29T06:38:36.564Z"
   }
  ],
  "colab": {
   "authorship_tag": "ABX9TyOL7SvGj3e5YgRZExLO7pWX",
   "collapsed_sections": [],
   "mount_file_id": "1MsHjlBlW_SWgnHXYmtjh-lTa0VDSi3ZV",
   "name": "tariff_analysis_dmitry.ipynb",
   "provenance": [],
   "toc_visible": true
  },
  "kernelspec": {
   "display_name": "Python 3 (ipykernel)",
   "language": "python",
   "name": "python3"
  },
  "language_info": {
   "codemirror_mode": {
    "name": "ipython",
    "version": 3
   },
   "file_extension": ".py",
   "mimetype": "text/x-python",
   "name": "python",
   "nbconvert_exporter": "python",
   "pygments_lexer": "ipython3",
   "version": "3.9.12"
  },
  "toc": {
   "base_numbering": 1,
   "nav_menu": {},
   "number_sections": true,
   "sideBar": true,
   "skip_h1_title": true,
   "title_cell": "Table of Contents",
   "title_sidebar": "Contents",
   "toc_cell": false,
   "toc_position": {},
   "toc_section_display": true,
   "toc_window_display": false
  }
 },
 "nbformat": 4,
 "nbformat_minor": 1
}
