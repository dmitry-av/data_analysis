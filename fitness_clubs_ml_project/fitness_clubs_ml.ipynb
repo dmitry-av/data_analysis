{
 "cells": [
  {
   "cell_type": "markdown",
   "metadata": {
    "id": "Rj6pnWI_kWPp"
   },
   "source": [
    "# Анализ стратегии взаимодействия с клиентами сети финтес-клубов"
   ]
  },
  {
   "cell_type": "markdown",
   "metadata": {
    "id": "gfNJiky8kWPv"
   },
   "source": [
    "# План работы\n",
    "1. [Цель работы](#section_1)\n",
    "2. [Загрузка данных](#section_2)\n",
    "3. [Исследовательский анализ данных (EDA)](#section_3)\n",
    "4. [Модель прогнозирования оттока клиентов](#section_4)\n",
    "5. [Кластеризация клиентов](#section_5)\n",
    "6. [Основной вывод и базовые рекомендации по работе с клиентами](#section_6)"
   ]
  },
  {
   "cell_type": "markdown",
   "metadata": {
    "id": "WPLC0C9CkWPz"
   },
   "source": [
    "<a id='section_1'></a>\n",
    "## Цель работы\n",
    "Отдел по работе с клиентами фитнес-центра перевёл в электронный вид множество клиентских анкет. Наша задача - провести анализ данных и выработать план действий по удержанию клиентов. Отток клиентов - распространённая проблема подобных центров и сервисов. Не всегда уход клиентов явный - не все просят закрывать договор, гораздо чаще посетители просто потихоньку перестают пользоваться сервисом. У разных отраслей отличаются индикаторы оттока. Так, для фитнес-клубов обычно считается что если за последний месяц клиент ни разу не посетил спортзал, то он попал в отток. В рамках данной работы мы должны:  \n",
    "1) на уровне следующего месяца научиться прогнозировать вероятность оттока для каждого клиента;  \n",
    "2) выделить наиболее яркие группы клиентов (типичные портреты), охарактеризовать их основные свойства;  \n",
    "3) провести анализ оснонвых признаков, наиболее влияющих на отток клиентов;  \n",
    "4) сформулировать основной вывод, выделить целевые группы клиентов, предложить меры по снижению оттока, определить другие особенности взаимодействия с клиентами."
   ]
  },
  {
   "cell_type": "markdown",
   "metadata": {
    "id": "cyhmyefkkWP3"
   },
   "source": [
    "<a id='section_2'></a>\n",
    "## Загрузка данных"
   ]
  },
  {
   "cell_type": "markdown",
   "metadata": {
    "id": "PFA54sXbkWP6"
   },
   "source": [
    "Фитнес-центр предоставил сведения в csv-файлах. Заказчик подготовил данные, которые содержат данные на месяц до оттока и факт оттока на определённый месяц. Набор данных содержит следующие поля:\n",
    "* *gender* — пол;\n",
    "* *Near_Location* — проживание или работа в районе, где находится фитнес-центр;\n",
    "* *Partner* — сотрудник компании-партнёра клуба (сотрудничество с компаниями, чьи сотрудники могут получать скидки на абонемент — в таком случае фитнес-центр хранит информацию о работодателе клиента);\n",
    "* *Promo_friends* — факт первоначальной записи в рамках акции «приведи друга» (использовал промо-код от знакомого при оплате первого абонемента);\n",
    "* *Phone* — наличие контактного телефона;\n",
    "* *Age* — возраст;\n",
    "* *Lifetime* — время с момента первого обращения в фитнес-центр (в месяцах)\n",
    "* *Contract_period* — длительность текущего действующего абонемента (месяц, 6 месяцев, год);\n",
    "* *Month_to_end_contract* — срок до окончания текущего действующего абонемента (в месяцах);\n",
    "* *Group_visits* — факт посещения групповых занятий;\n",
    "* *Avg_class_frequency_total* — средняя частота посещений в неделю за все время с начала действия абонемента;\n",
    "* *Avg_class_frequency_current_month* — средняя частота посещений в неделю за предыдущий месяц;\n",
    "* *Avg_additional_charges_total* — суммарная выручка от других услуг фитнес-центра: кафе, спорттовары, косметический и массажный салон;\n",
    "* *Churn* — факт оттока в текущем месяце\n"
   ]
  },
  {
   "cell_type": "code",
   "execution_count": 1,
   "metadata": {
    "id": "qT7QX7yckWP_"
   },
   "outputs": [],
   "source": [
    "import pandas as pd\n",
    "import numpy as np\n",
    "import matplotlib.pyplot as plt\n",
    "import seaborn as sns\n",
    "\n",
    "from sklearn.preprocessing import StandardScaler\n",
    "from sklearn.model_selection import train_test_split\n",
    "from sklearn.linear_model import LogisticRegression\n",
    "from sklearn.metrics import accuracy_score, precision_score, recall_score, f1_score\n",
    "\n",
    "from sklearn.tree import DecisionTreeRegressor, DecisionTreeClassifier\n",
    "from sklearn.ensemble import RandomForestRegressor, GradientBoostingRegressor\n",
    "from sklearn.ensemble import RandomForestClassifier, GradientBoostingClassifier\n",
    "from sklearn.metrics import accuracy_score, precision_score, recall_score\n",
    "from sklearn.cluster import KMeans\n",
    "from scipy.cluster.hierarchy import dendrogram, linkage\n",
    "\n",
    "import warnings\n",
    "warnings.filterwarnings('ignore')"
   ]
  },
  {
   "cell_type": "code",
   "execution_count": 2,
   "metadata": {
    "colab": {
     "base_uri": "https://localhost:8080/",
     "height": 625
    },
    "id": "CHNXcIBTkWQC",
    "outputId": "4a5fbb14-de84-4dc9-9a47-cfa78a9c57fa"
   },
   "outputs": [
    {
     "data": {
      "text/html": [
       "<div>\n",
       "<style scoped>\n",
       "    .dataframe tbody tr th:only-of-type {\n",
       "        vertical-align: middle;\n",
       "    }\n",
       "\n",
       "    .dataframe tbody tr th {\n",
       "        vertical-align: top;\n",
       "    }\n",
       "\n",
       "    .dataframe thead th {\n",
       "        text-align: right;\n",
       "    }\n",
       "</style>\n",
       "<table border=\"1\" class=\"dataframe\">\n",
       "  <thead>\n",
       "    <tr style=\"text-align: right;\">\n",
       "      <th></th>\n",
       "      <th>gender</th>\n",
       "      <th>Near_Location</th>\n",
       "      <th>Partner</th>\n",
       "      <th>Promo_friends</th>\n",
       "      <th>Phone</th>\n",
       "      <th>Contract_period</th>\n",
       "      <th>Group_visits</th>\n",
       "      <th>Age</th>\n",
       "      <th>Avg_additional_charges_total</th>\n",
       "      <th>Month_to_end_contract</th>\n",
       "      <th>Lifetime</th>\n",
       "      <th>Avg_class_frequency_total</th>\n",
       "      <th>Avg_class_frequency_current_month</th>\n",
       "      <th>Churn</th>\n",
       "    </tr>\n",
       "  </thead>\n",
       "  <tbody>\n",
       "    <tr>\n",
       "      <th>0</th>\n",
       "      <td>1</td>\n",
       "      <td>1</td>\n",
       "      <td>1</td>\n",
       "      <td>1</td>\n",
       "      <td>0</td>\n",
       "      <td>6</td>\n",
       "      <td>1</td>\n",
       "      <td>29</td>\n",
       "      <td>14.227470</td>\n",
       "      <td>5.0</td>\n",
       "      <td>3</td>\n",
       "      <td>0.020398</td>\n",
       "      <td>0.000000</td>\n",
       "      <td>0</td>\n",
       "    </tr>\n",
       "    <tr>\n",
       "      <th>1</th>\n",
       "      <td>0</td>\n",
       "      <td>1</td>\n",
       "      <td>0</td>\n",
       "      <td>0</td>\n",
       "      <td>1</td>\n",
       "      <td>12</td>\n",
       "      <td>1</td>\n",
       "      <td>31</td>\n",
       "      <td>113.202938</td>\n",
       "      <td>12.0</td>\n",
       "      <td>7</td>\n",
       "      <td>1.922936</td>\n",
       "      <td>1.910244</td>\n",
       "      <td>0</td>\n",
       "    </tr>\n",
       "    <tr>\n",
       "      <th>2</th>\n",
       "      <td>0</td>\n",
       "      <td>1</td>\n",
       "      <td>1</td>\n",
       "      <td>0</td>\n",
       "      <td>1</td>\n",
       "      <td>1</td>\n",
       "      <td>0</td>\n",
       "      <td>28</td>\n",
       "      <td>129.448479</td>\n",
       "      <td>1.0</td>\n",
       "      <td>2</td>\n",
       "      <td>1.859098</td>\n",
       "      <td>1.736502</td>\n",
       "      <td>0</td>\n",
       "    </tr>\n",
       "    <tr>\n",
       "      <th>3</th>\n",
       "      <td>0</td>\n",
       "      <td>1</td>\n",
       "      <td>1</td>\n",
       "      <td>1</td>\n",
       "      <td>1</td>\n",
       "      <td>12</td>\n",
       "      <td>1</td>\n",
       "      <td>33</td>\n",
       "      <td>62.669863</td>\n",
       "      <td>12.0</td>\n",
       "      <td>2</td>\n",
       "      <td>3.205633</td>\n",
       "      <td>3.357215</td>\n",
       "      <td>0</td>\n",
       "    </tr>\n",
       "    <tr>\n",
       "      <th>4</th>\n",
       "      <td>1</td>\n",
       "      <td>1</td>\n",
       "      <td>1</td>\n",
       "      <td>1</td>\n",
       "      <td>1</td>\n",
       "      <td>1</td>\n",
       "      <td>0</td>\n",
       "      <td>26</td>\n",
       "      <td>198.362265</td>\n",
       "      <td>1.0</td>\n",
       "      <td>3</td>\n",
       "      <td>1.113884</td>\n",
       "      <td>1.120078</td>\n",
       "      <td>0</td>\n",
       "    </tr>\n",
       "  </tbody>\n",
       "</table>\n",
       "</div>"
      ],
      "text/plain": [
       "   gender  Near_Location  Partner  Promo_friends  Phone  Contract_period  \\\n",
       "0       1              1        1              1      0                6   \n",
       "1       0              1        0              0      1               12   \n",
       "2       0              1        1              0      1                1   \n",
       "3       0              1        1              1      1               12   \n",
       "4       1              1        1              1      1                1   \n",
       "\n",
       "   Group_visits  Age  Avg_additional_charges_total  Month_to_end_contract  \\\n",
       "0             1   29                     14.227470                    5.0   \n",
       "1             1   31                    113.202938                   12.0   \n",
       "2             0   28                    129.448479                    1.0   \n",
       "3             1   33                     62.669863                   12.0   \n",
       "4             0   26                    198.362265                    1.0   \n",
       "\n",
       "   Lifetime  Avg_class_frequency_total  Avg_class_frequency_current_month  \\\n",
       "0         3                   0.020398                           0.000000   \n",
       "1         7                   1.922936                           1.910244   \n",
       "2         2                   1.859098                           1.736502   \n",
       "3         2                   3.205633                           3.357215   \n",
       "4         3                   1.113884                           1.120078   \n",
       "\n",
       "   Churn  \n",
       "0      0  \n",
       "1      0  \n",
       "2      0  \n",
       "3      0  \n",
       "4      0  "
      ]
     },
     "metadata": {},
     "output_type": "display_data"
    },
    {
     "name": "stdout",
     "output_type": "stream",
     "text": [
      "<class 'pandas.core.frame.DataFrame'>\n",
      "RangeIndex: 4000 entries, 0 to 3999\n",
      "Data columns (total 14 columns):\n",
      " #   Column                             Non-Null Count  Dtype  \n",
      "---  ------                             --------------  -----  \n",
      " 0   gender                             4000 non-null   int64  \n",
      " 1   Near_Location                      4000 non-null   int64  \n",
      " 2   Partner                            4000 non-null   int64  \n",
      " 3   Promo_friends                      4000 non-null   int64  \n",
      " 4   Phone                              4000 non-null   int64  \n",
      " 5   Contract_period                    4000 non-null   int64  \n",
      " 6   Group_visits                       4000 non-null   int64  \n",
      " 7   Age                                4000 non-null   int64  \n",
      " 8   Avg_additional_charges_total       4000 non-null   float64\n",
      " 9   Month_to_end_contract              4000 non-null   float64\n",
      " 10  Lifetime                           4000 non-null   int64  \n",
      " 11  Avg_class_frequency_total          4000 non-null   float64\n",
      " 12  Avg_class_frequency_current_month  4000 non-null   float64\n",
      " 13  Churn                              4000 non-null   int64  \n",
      "dtypes: float64(4), int64(10)\n",
      "memory usage: 437.6 KB\n"
     ]
    }
   ],
   "source": [
    "df = pd.read_csv('https://code.s3.yandex.net/datasets/gym_churn.csv')\n",
    "display(df.head(5))\n",
    "df.info()"
   ]
  },
  {
   "cell_type": "code",
   "execution_count": 3,
   "metadata": {
    "id": "9FpyZaybkWQE"
   },
   "outputs": [],
   "source": [
    "#изменение регистра названий столбцов и изменение типа данных.\n",
    "df.columns = map(str.lower, df.columns)\n",
    "df['month_to_end_contract'] = df['month_to_end_contract'].astype('int')"
   ]
  },
  {
   "cell_type": "markdown",
   "metadata": {
    "id": "Pz7Map8WkWQG"
   },
   "source": [
    "### Вывод\n",
    "Данные загружены и обработаны. Пропусков данных не имеется."
   ]
  },
  {
   "cell_type": "markdown",
   "metadata": {
    "id": "wZUB1D_RkWQJ"
   },
   "source": [
    "<a id='section_3'></a>\n",
    "## Исследовательский анализ данных (EDA)"
   ]
  },
  {
   "cell_type": "markdown",
   "metadata": {
    "id": "nrOlc6u5kWQL"
   },
   "source": [
    "Исследуем датасет. Посмотрим отсутствующие признаки, изучим средние значения и стандартные отклонения данных."
   ]
  },
  {
   "cell_type": "code",
   "execution_count": 4,
   "metadata": {
    "colab": {
     "base_uri": "https://localhost:8080/",
     "height": 364
    },
    "id": "V1PIdAjokWQM",
    "outputId": "ebed2ebd-28b4-4767-d5a5-5df10e40799e"
   },
   "outputs": [
    {
     "data": {
      "text/html": [
       "<div>\n",
       "<style scoped>\n",
       "    .dataframe tbody tr th:only-of-type {\n",
       "        vertical-align: middle;\n",
       "    }\n",
       "\n",
       "    .dataframe tbody tr th {\n",
       "        vertical-align: top;\n",
       "    }\n",
       "\n",
       "    .dataframe thead th {\n",
       "        text-align: right;\n",
       "    }\n",
       "</style>\n",
       "<table border=\"1\" class=\"dataframe\">\n",
       "  <thead>\n",
       "    <tr style=\"text-align: right;\">\n",
       "      <th></th>\n",
       "      <th>gender</th>\n",
       "      <th>near_location</th>\n",
       "      <th>partner</th>\n",
       "      <th>promo_friends</th>\n",
       "      <th>phone</th>\n",
       "      <th>contract_period</th>\n",
       "      <th>group_visits</th>\n",
       "      <th>age</th>\n",
       "      <th>avg_additional_charges_total</th>\n",
       "      <th>month_to_end_contract</th>\n",
       "      <th>lifetime</th>\n",
       "      <th>avg_class_frequency_total</th>\n",
       "      <th>avg_class_frequency_current_month</th>\n",
       "      <th>churn</th>\n",
       "    </tr>\n",
       "  </thead>\n",
       "  <tbody>\n",
       "    <tr>\n",
       "      <th>count</th>\n",
       "      <td>4000.000000</td>\n",
       "      <td>4000.000000</td>\n",
       "      <td>4000.000000</td>\n",
       "      <td>4000.000000</td>\n",
       "      <td>4000.000000</td>\n",
       "      <td>4000.000000</td>\n",
       "      <td>4000.000000</td>\n",
       "      <td>4000.000000</td>\n",
       "      <td>4000.000000</td>\n",
       "      <td>4000.000000</td>\n",
       "      <td>4000.000000</td>\n",
       "      <td>4000.000000</td>\n",
       "      <td>4000.000000</td>\n",
       "      <td>4000.000000</td>\n",
       "    </tr>\n",
       "    <tr>\n",
       "      <th>mean</th>\n",
       "      <td>0.510250</td>\n",
       "      <td>0.845250</td>\n",
       "      <td>0.486750</td>\n",
       "      <td>0.308500</td>\n",
       "      <td>0.903500</td>\n",
       "      <td>4.681250</td>\n",
       "      <td>0.412250</td>\n",
       "      <td>29.184250</td>\n",
       "      <td>146.943728</td>\n",
       "      <td>4.322750</td>\n",
       "      <td>3.724750</td>\n",
       "      <td>1.879020</td>\n",
       "      <td>1.767052</td>\n",
       "      <td>0.265250</td>\n",
       "    </tr>\n",
       "    <tr>\n",
       "      <th>std</th>\n",
       "      <td>0.499957</td>\n",
       "      <td>0.361711</td>\n",
       "      <td>0.499887</td>\n",
       "      <td>0.461932</td>\n",
       "      <td>0.295313</td>\n",
       "      <td>4.549706</td>\n",
       "      <td>0.492301</td>\n",
       "      <td>3.258367</td>\n",
       "      <td>96.355602</td>\n",
       "      <td>4.191297</td>\n",
       "      <td>3.749267</td>\n",
       "      <td>0.972245</td>\n",
       "      <td>1.052906</td>\n",
       "      <td>0.441521</td>\n",
       "    </tr>\n",
       "    <tr>\n",
       "      <th>min</th>\n",
       "      <td>0.000000</td>\n",
       "      <td>0.000000</td>\n",
       "      <td>0.000000</td>\n",
       "      <td>0.000000</td>\n",
       "      <td>0.000000</td>\n",
       "      <td>1.000000</td>\n",
       "      <td>0.000000</td>\n",
       "      <td>18.000000</td>\n",
       "      <td>0.148205</td>\n",
       "      <td>1.000000</td>\n",
       "      <td>0.000000</td>\n",
       "      <td>0.000000</td>\n",
       "      <td>0.000000</td>\n",
       "      <td>0.000000</td>\n",
       "    </tr>\n",
       "    <tr>\n",
       "      <th>25%</th>\n",
       "      <td>0.000000</td>\n",
       "      <td>1.000000</td>\n",
       "      <td>0.000000</td>\n",
       "      <td>0.000000</td>\n",
       "      <td>1.000000</td>\n",
       "      <td>1.000000</td>\n",
       "      <td>0.000000</td>\n",
       "      <td>27.000000</td>\n",
       "      <td>68.868830</td>\n",
       "      <td>1.000000</td>\n",
       "      <td>1.000000</td>\n",
       "      <td>1.180875</td>\n",
       "      <td>0.963003</td>\n",
       "      <td>0.000000</td>\n",
       "    </tr>\n",
       "    <tr>\n",
       "      <th>50%</th>\n",
       "      <td>1.000000</td>\n",
       "      <td>1.000000</td>\n",
       "      <td>0.000000</td>\n",
       "      <td>0.000000</td>\n",
       "      <td>1.000000</td>\n",
       "      <td>1.000000</td>\n",
       "      <td>0.000000</td>\n",
       "      <td>29.000000</td>\n",
       "      <td>136.220159</td>\n",
       "      <td>1.000000</td>\n",
       "      <td>3.000000</td>\n",
       "      <td>1.832768</td>\n",
       "      <td>1.719574</td>\n",
       "      <td>0.000000</td>\n",
       "    </tr>\n",
       "    <tr>\n",
       "      <th>75%</th>\n",
       "      <td>1.000000</td>\n",
       "      <td>1.000000</td>\n",
       "      <td>1.000000</td>\n",
       "      <td>1.000000</td>\n",
       "      <td>1.000000</td>\n",
       "      <td>6.000000</td>\n",
       "      <td>1.000000</td>\n",
       "      <td>31.000000</td>\n",
       "      <td>210.949625</td>\n",
       "      <td>6.000000</td>\n",
       "      <td>5.000000</td>\n",
       "      <td>2.536078</td>\n",
       "      <td>2.510336</td>\n",
       "      <td>1.000000</td>\n",
       "    </tr>\n",
       "    <tr>\n",
       "      <th>max</th>\n",
       "      <td>1.000000</td>\n",
       "      <td>1.000000</td>\n",
       "      <td>1.000000</td>\n",
       "      <td>1.000000</td>\n",
       "      <td>1.000000</td>\n",
       "      <td>12.000000</td>\n",
       "      <td>1.000000</td>\n",
       "      <td>41.000000</td>\n",
       "      <td>552.590740</td>\n",
       "      <td>12.000000</td>\n",
       "      <td>31.000000</td>\n",
       "      <td>6.023668</td>\n",
       "      <td>6.146783</td>\n",
       "      <td>1.000000</td>\n",
       "    </tr>\n",
       "  </tbody>\n",
       "</table>\n",
       "</div>"
      ],
      "text/plain": [
       "            gender  near_location      partner  promo_friends        phone  \\\n",
       "count  4000.000000    4000.000000  4000.000000    4000.000000  4000.000000   \n",
       "mean      0.510250       0.845250     0.486750       0.308500     0.903500   \n",
       "std       0.499957       0.361711     0.499887       0.461932     0.295313   \n",
       "min       0.000000       0.000000     0.000000       0.000000     0.000000   \n",
       "25%       0.000000       1.000000     0.000000       0.000000     1.000000   \n",
       "50%       1.000000       1.000000     0.000000       0.000000     1.000000   \n",
       "75%       1.000000       1.000000     1.000000       1.000000     1.000000   \n",
       "max       1.000000       1.000000     1.000000       1.000000     1.000000   \n",
       "\n",
       "       contract_period  group_visits          age  \\\n",
       "count      4000.000000   4000.000000  4000.000000   \n",
       "mean          4.681250      0.412250    29.184250   \n",
       "std           4.549706      0.492301     3.258367   \n",
       "min           1.000000      0.000000    18.000000   \n",
       "25%           1.000000      0.000000    27.000000   \n",
       "50%           1.000000      0.000000    29.000000   \n",
       "75%           6.000000      1.000000    31.000000   \n",
       "max          12.000000      1.000000    41.000000   \n",
       "\n",
       "       avg_additional_charges_total  month_to_end_contract     lifetime  \\\n",
       "count                   4000.000000            4000.000000  4000.000000   \n",
       "mean                     146.943728               4.322750     3.724750   \n",
       "std                       96.355602               4.191297     3.749267   \n",
       "min                        0.148205               1.000000     0.000000   \n",
       "25%                       68.868830               1.000000     1.000000   \n",
       "50%                      136.220159               1.000000     3.000000   \n",
       "75%                      210.949625               6.000000     5.000000   \n",
       "max                      552.590740              12.000000    31.000000   \n",
       "\n",
       "       avg_class_frequency_total  avg_class_frequency_current_month  \\\n",
       "count                4000.000000                        4000.000000   \n",
       "mean                    1.879020                           1.767052   \n",
       "std                     0.972245                           1.052906   \n",
       "min                     0.000000                           0.000000   \n",
       "25%                     1.180875                           0.963003   \n",
       "50%                     1.832768                           1.719574   \n",
       "75%                     2.536078                           2.510336   \n",
       "max                     6.023668                           6.146783   \n",
       "\n",
       "             churn  \n",
       "count  4000.000000  \n",
       "mean      0.265250  \n",
       "std       0.441521  \n",
       "min       0.000000  \n",
       "25%       0.000000  \n",
       "50%       0.000000  \n",
       "75%       1.000000  \n",
       "max       1.000000  "
      ]
     },
     "metadata": {},
     "output_type": "display_data"
    }
   ],
   "source": [
    "display(df.describe())"
   ]
  },
  {
   "cell_type": "markdown",
   "metadata": {
    "id": "rVkQUElzkWQN"
   },
   "source": [
    "Видим равное количество мужчин и женщин среди клиентов, средний возраст клиента 29 лет, почти все проживают в непосредственной близости от клуба, который они посещают. Примерно половина посетителей ходят как сотрудники компании-партнёра по специальной программе. Пришедших по программе \"Приведи друга\" - 30 процентов. В среднем клиенты посещают зал около 2 раз неделю, на групповые занятия ходят сорок процентов посетителей. Большинство абонементов приобретается сроком на один месяц.\n",
    "\n",
    "Отток в текущем месяце - 26 процентов.  Сравним две группах — тех, кто ушел в отток и тех, кто остался."
   ]
  },
  {
   "cell_type": "code",
   "execution_count": 5,
   "metadata": {
    "colab": {
     "base_uri": "https://localhost:8080/",
     "height": 457
    },
    "id": "x2qpfgRKkWQO",
    "outputId": "7003651b-b23b-4596-e0c9-bc579d75343d"
   },
   "outputs": [
    {
     "data": {
      "text/html": [
       "<div>\n",
       "<style scoped>\n",
       "    .dataframe tbody tr th:only-of-type {\n",
       "        vertical-align: middle;\n",
       "    }\n",
       "\n",
       "    .dataframe tbody tr th {\n",
       "        vertical-align: top;\n",
       "    }\n",
       "\n",
       "    .dataframe thead th {\n",
       "        text-align: right;\n",
       "    }\n",
       "</style>\n",
       "<table border=\"1\" class=\"dataframe\">\n",
       "  <thead>\n",
       "    <tr style=\"text-align: right;\">\n",
       "      <th>churn</th>\n",
       "      <th>0</th>\n",
       "      <th>1</th>\n",
       "    </tr>\n",
       "  </thead>\n",
       "  <tbody>\n",
       "    <tr>\n",
       "      <th>gender</th>\n",
       "      <td>0.510037</td>\n",
       "      <td>0.510839</td>\n",
       "    </tr>\n",
       "    <tr>\n",
       "      <th>near_location</th>\n",
       "      <td>0.873086</td>\n",
       "      <td>0.768143</td>\n",
       "    </tr>\n",
       "    <tr>\n",
       "      <th>partner</th>\n",
       "      <td>0.534195</td>\n",
       "      <td>0.355325</td>\n",
       "    </tr>\n",
       "    <tr>\n",
       "      <th>promo_friends</th>\n",
       "      <td>0.353522</td>\n",
       "      <td>0.183789</td>\n",
       "    </tr>\n",
       "    <tr>\n",
       "      <th>phone</th>\n",
       "      <td>0.903709</td>\n",
       "      <td>0.902922</td>\n",
       "    </tr>\n",
       "    <tr>\n",
       "      <th>contract_period</th>\n",
       "      <td>5.747193</td>\n",
       "      <td>1.728558</td>\n",
       "    </tr>\n",
       "    <tr>\n",
       "      <th>group_visits</th>\n",
       "      <td>0.464103</td>\n",
       "      <td>0.268615</td>\n",
       "    </tr>\n",
       "    <tr>\n",
       "      <th>age</th>\n",
       "      <td>29.976523</td>\n",
       "      <td>26.989632</td>\n",
       "    </tr>\n",
       "    <tr>\n",
       "      <th>avg_additional_charges_total</th>\n",
       "      <td>158.445715</td>\n",
       "      <td>115.082899</td>\n",
       "    </tr>\n",
       "    <tr>\n",
       "      <th>month_to_end_contract</th>\n",
       "      <td>5.283089</td>\n",
       "      <td>1.662582</td>\n",
       "    </tr>\n",
       "    <tr>\n",
       "      <th>lifetime</th>\n",
       "      <td>4.711807</td>\n",
       "      <td>0.990575</td>\n",
       "    </tr>\n",
       "    <tr>\n",
       "      <th>avg_class_frequency_total</th>\n",
       "      <td>2.024876</td>\n",
       "      <td>1.474995</td>\n",
       "    </tr>\n",
       "    <tr>\n",
       "      <th>avg_class_frequency_current_month</th>\n",
       "      <td>2.027882</td>\n",
       "      <td>1.044546</td>\n",
       "    </tr>\n",
       "  </tbody>\n",
       "</table>\n",
       "</div>"
      ],
      "text/plain": [
       "churn                                       0           1\n",
       "gender                               0.510037    0.510839\n",
       "near_location                        0.873086    0.768143\n",
       "partner                              0.534195    0.355325\n",
       "promo_friends                        0.353522    0.183789\n",
       "phone                                0.903709    0.902922\n",
       "contract_period                      5.747193    1.728558\n",
       "group_visits                         0.464103    0.268615\n",
       "age                                 29.976523   26.989632\n",
       "avg_additional_charges_total       158.445715  115.082899\n",
       "month_to_end_contract                5.283089    1.662582\n",
       "lifetime                             4.711807    0.990575\n",
       "avg_class_frequency_total            2.024876    1.474995\n",
       "avg_class_frequency_current_month    2.027882    1.044546"
      ]
     },
     "execution_count": 5,
     "metadata": {},
     "output_type": "execute_result"
    }
   ],
   "source": [
    "df.groupby('churn').mean().T"
   ]
  },
  {
   "cell_type": "markdown",
   "metadata": {
    "id": "tXQiEPmhkWQP"
   },
   "source": [
    "В группе оттока можно отметить несколько вещей:  \n",
    "1) в оттоке немногим меньше клиентов, живущих рядом с клубом;  \n",
    "2) меньше тех, кто занимался по партнёрской программе;  \n",
    "3) меньше пришедших по программе \"Приведи друга\";  \n",
    "4) средний возраст ниже на три года;  \n",
    "5) средний срок абонемента существенно ниже;  \n",
    "6) средний лайфтайм клиента около месяца - против пяти у тех, кто продолжает ходить в клуб;  \n",
    "7) видно снижение количества посещений в неделю в последний месяц  \n",
    "\n",
    "Довольно распространённая картина, когда клиент купил абонемент на месяц, позанимался немного и не стал его продлевать по каким-либо причинам (не понравился зал, пропало желание заниматься и так далее). С возрастом формируется больше привычек, поэтому средний возраст клиентов в оттоке несколько ниже, чем у тех, кто остался.  \n",
    "Построим гистограммы распределения для признаков, столбчатые графики для бинарных признаков, а также матрицу корреляций для изучения."
   ]
  },
  {
   "cell_type": "code",
   "execution_count": 6,
   "metadata": {
    "colab": {
     "base_uri": "https://localhost:8080/",
     "height": 498
    },
    "id": "ee_eNPFXkWQQ",
    "outputId": "503ce100-40c8-4790-e38f-404a974f2bcf"
   },
   "outputs": [
    {
     "data": {
      "image/png": "[encoded data removed]",
      "text/plain": [
       "<Figure size 1584x576 with 6 Axes>"
      ]
     },
     "metadata": {},
     "output_type": "display_data"
    }
   ],
   "source": [
    "sns.set_style('darkgrid')\n",
    "plt.figure(figsize=(22, 8))\n",
    "for i, col in enumerate(['age', 'avg_additional_charges_total', 'month_to_end_contract', \n",
    "                            'lifetime', 'avg_class_frequency_total', 'avg_class_frequency_current_month']):\n",
    "    sns.histplot(df, x=col, hue = 'churn', kde = True, discrete=True, alpha = .7, ax=plt.subplot(2, 3, i + 1))"
   ]
  },
  {
   "cell_type": "code",
   "execution_count": 7,
   "metadata": {
    "colab": {
     "base_uri": "https://localhost:8080/",
     "height": 498
    },
    "id": "xoiTkB8PkWQR",
    "outputId": "7338e84a-ed0e-4720-c2ac-cc7363217f6f"
   },
   "outputs": [
    {
     "data": {
      "image/png": "[encoded data removed]",
      "text/plain": [
       "<Figure size 1584x576 with 7 Axes>"
      ]
     },
     "metadata": {},
     "output_type": "display_data"
    }
   ],
   "source": [
    "plt.figure(figsize=(22, 8))\n",
    "for i, col in enumerate(['gender', 'near_location', 'partner', 'promo_friends', 'phone', 'group_visits', 'contract_period']):\n",
    "    sns.countplot(x = col, hue='churn', data=df, ax=plt.subplot(2, 4, i + 1))\n",
    "    plt.ylabel('Клиентов')"
   ]
  },
  {
   "cell_type": "code",
   "execution_count": 8,
   "metadata": {
    "colab": {
     "base_uri": "https://localhost:8080/",
     "height": 671
    },
    "id": "rf-_uOXekWQT",
    "outputId": "4a7326f4-30a5-42d9-b3c2-46bc644d89b2"
   },
   "outputs": [
    {
     "data": {
      "image/png": "[encoded data removed]",
      "text/plain": [
       "<Figure size 864x576 with 2 Axes>"
      ]
     },
     "metadata": {},
     "output_type": "display_data"
    }
   ],
   "source": [
    "#построим матрицу корреляций для признаков\n",
    "plt.figure(figsize=(12,8))\n",
    "sns.heatmap(data = df.corr(), annot=True)\n",
    "plt.title('Матрица корреляций')\n",
    "plt.show()"
   ]
  },
  {
   "cell_type": "markdown",
   "metadata": {
    "id": "zhklVDwokWQU"
   },
   "source": [
    "### Вывод\n",
    "Построил графики распределения признаков и матрицу корреляций. Проанализировав их, можно увидеть некоторые подтверждения первоначальным выводам. В группе оттока в основном те, кто брал абонемент на месяц, они в среднем немногим младше, и это зачастую новые недавно появившиеся клиенты. Также можно заметить, что занимающиеся по партнёрской программе или пришедшие по акции \"Приведи друга\" клиенты утекают с меньшей вероятностью.  \n",
    "Имеются сильные корреляции признаков contract_period и month_to_end_contract, а также avg_class_frequency_total и avg_class_frequency_current_month. Это довольно ожидаемо, и это стоит учитывать."
   ]
  },
  {
   "cell_type": "markdown",
   "metadata": {
    "id": "Dz6cSmjRkWQU"
   },
   "source": [
    "<a id='section_4'></a>\n",
    "## Модель прогнозирования оттока клиентов"
   ]
  },
  {
   "cell_type": "markdown",
   "metadata": {
    "id": "rBoSDfzX8-pP"
   },
   "source": [
    "Построим модель бинарной классификации клиентов, где целевой признак — факт оттока клиента в следующем месяце. Для начала нам нужно разбить данные на обучающую и валидационную выборку, а после - обучить модель на train выборке двумя способами - логистической регрессией и случайным лесом.  \n",
    "Сначала уберём признаки month_to_end_contract и avg_class_frequency_current_month, так как у них есть сильно коррелирующие пары. Так наша модель будет работать лучше."
   ]
  },
  {
   "cell_type": "code",
   "execution_count": 9,
   "metadata": {
    "id": "-Pew0zFk8lO0"
   },
   "outputs": [],
   "source": [
    "y = df['churn'] #выделяем целевую переменную\n",
    "X = df.drop(['churn', 'month_to_end_contract', 'avg_class_frequency_current_month'], axis=1) #убириаем целевую переменную и коррелирующие признаки\n",
    "\n",
    "#разделяем модель на обучающую и валидационную выборку в пропорции 80 и 20 процентов\n",
    "X_train, X_test, y_train, y_test = train_test_split(X, y, test_size=0.2, random_state=0, stratify=y) \n",
    "scaler = StandardScaler() #стандартизируем данные \n",
    "X_train_st = scaler.fit_transform(X_train) # scaler применяем к обучающей выборке\n",
    "X_test_st = scaler.transform(X_test) #применяем стандартизацию к матрице признаков для тестовой выборки"
   ]
  },
  {
   "cell_type": "code",
   "execution_count": 10,
   "metadata": {},
   "outputs": [],
   "source": [
    "def printmetrics(y_test, pred_y): #функция для вывода метрик\n",
    "    print('Метрики:\\nAccuracy: {:.2f}\\nPrecision: {:.2f}\\nRecall:{:.2f}'.format(\n",
    "    accuracy_score(y_test, pred_y),\n",
    "    precision_score(y_test, pred_y),\n",
    "    recall_score(y_test, pred_y))\n",
    "    )"
   ]
  },
  {
   "cell_type": "code",
   "execution_count": 11,
   "metadata": {
    "colab": {
     "base_uri": "https://localhost:8080/"
    },
    "id": "jWsyzu6MGQ_O",
    "outputId": "c097c52c-a63f-4dfb-afc3-ce1e33a65bb9"
   },
   "outputs": [
    {
     "name": "stdout",
     "output_type": "stream",
     "text": [
      "Метрики:\n",
      "Accuracy: 0.91\n",
      "Precision: 0.83\n",
      "Recall:0.83\n"
     ]
    }
   ],
   "source": [
    "model_logr = LogisticRegression(random_state=0) #задаём алгоритм логистической регресии для нашей модели\n",
    "model_logr.fit(X_train_st, y_train) #обучаем модель\n",
    "\n",
    "# пользуемся уже обученной моделью, чтобы сделать прогнозы\n",
    "predictions_logr = model_logr.predict(X_test_st)\n",
    "probabilities_logr = model_logr.predict_proba(X_test_st)[:,1]\n",
    "\n",
    "printmetrics(y_test, predictions_logr) # #выводим метрики"
   ]
  },
  {
   "cell_type": "code",
   "execution_count": 12,
   "metadata": {
    "colab": {
     "base_uri": "https://localhost:8080/"
    },
    "id": "B2BKz7UhJuxS",
    "outputId": "468af1cf-dbde-4134-c38f-04df1a093c20",
    "scrolled": true
   },
   "outputs": [
    {
     "name": "stdout",
     "output_type": "stream",
     "text": [
      "Метрики:\n",
      "Accuracy: 0.89\n",
      "Precision: 0.81\n",
      "Recall:0.79\n"
     ]
    }
   ],
   "source": [
    "#задаём алгоритм слуйчайного леса для модели\n",
    "model_rfor = RandomForestClassifier(n_estimators = 100, random_state = 0) \n",
    "model_rfor.fit(X_train_st, y_train)\n",
    "\n",
    "predictions_rfor = model_rfor.predict(X_test_st)\n",
    "probabilities_rfor = model_rfor.predict_proba(X_test_st)[:,1]\n",
    "\n",
    "printmetrics(y_test, predictions_rfor) # #выводим метрики"
   ]
  },
  {
   "cell_type": "markdown",
   "metadata": {
    "id": "MBDEeeACNSUy"
   },
   "source": [
    "### Вывод\n",
    "Обе модели показывают себя здесь очень хорошо, довольно высокая доля правильных прогнозов - 92%. По метрикам точности и полноты метод логистической регресии показал себя немного лучше метода случайного леса."
   ]
  },
  {
   "cell_type": "markdown",
   "metadata": {
    "id": "kiBMLsO_kWQV"
   },
   "source": [
    "<a id='section_5'></a>\n",
    "## Кластеризация клиентов\n",
    "\n",
    "Построим матрицу расстояний с помощью применения функции linkage() на стандартизованной матрице признаков. С помощью дендрограммы, отрисованной от этой матрицы можно будет увидеть, на какое количество кластеров можно поделить клиентов."
   ]
  },
  {
   "cell_type": "code",
   "execution_count": null,
   "metadata": {
    "colab": {
     "base_uri": "https://localhost:8080/",
     "height": 502
    },
    "id": "l3KTPaqvRGHe",
    "outputId": "59f121ed-de9b-4809-bd74-ddf0750c2dc1"
   },
   "outputs": [],
   "source": [
    "#обязательная стандартизация данных перед работой с алгоритмами\n",
    "X_st = scaler.fit_transform(X)\n",
    "linked = linkage(X_st, method='ward')\n",
    "\n",
    "#linked - таблица «связок» между объектами, её визуализируем как дендрограмму: \n",
    "plt.figure(figsize=(18, 8))\n",
    "dendrogram(linked, orientation='top')\n",
    "plt.title('Кластеризация')\n",
    "plt.show()"
   ]
  },
  {
   "cell_type": "markdown",
   "metadata": {
    "id": "LeFGrbcj_-2X"
   },
   "source": [
    "По графику иерархической кластеризации визуально можно увидеть 6 больших кластеров.  \n",
    "Обучим модель кластеризации по алгоритму K-Means и спрогнозируем кластеры клиентов. Число кластеров принимаем как 5, как того требует наша задача."
   ]
  },
  {
   "cell_type": "code",
   "execution_count": null,
   "metadata": {
    "colab": {
     "base_uri": "https://localhost:8080/",
     "height": 427
    },
    "id": "EMf2fzQKRufU",
    "outputId": "e781b536-76d7-4892-913f-66497cacaee5"
   },
   "outputs": [],
   "source": [
    "km = KMeans(n_clusters=5, random_state=0) # задаём число кластеров 5, random_state 0 для воспроизводимости результата\n",
    "labels = km.fit_predict(X_st) # применяем алгоритм к данным и формируем вектор кластеров\n",
    "df['cluster_km'] = labels # сохраняем метки кластера в поле нашего датасета\n",
    "display(df.groupby('cluster_km').mean().round(2)) #средние значения признаков для кластеров\n",
    "df.groupby('cluster_km')['cluster_km'].count() #количество клиентов в кластере"
   ]
  },
  {
   "cell_type": "markdown",
   "metadata": {
    "id": "rbrBEwiyEKSM"
   },
   "source": [
    "5 кластеров клиентов - сразу можно увидеть существенные различия в полях, касаемых сроков абонементов, и недельной посещаемости финтнес-зала. Есть два кластера с очень низким показателем оттока.  \n",
    "Изучим получившиеся кластеры поподробнее. Построим по ним графики распределения признаков."
   ]
  },
  {
   "cell_type": "code",
   "execution_count": null,
   "metadata": {
    "colab": {
     "base_uri": "https://localhost:8080/",
     "height": 606
    },
    "id": "d35Yvy1yFJUE",
    "outputId": "1b037f74-40c0-4658-85bd-1e8dd86dbc47"
   },
   "outputs": [],
   "source": [
    "palette = sns.color_palette('tab10')\n",
    "\n",
    "#графики распределения для количественных признаков\n",
    "plt.figure(figsize=(22, 10))\n",
    "for i, col in enumerate(['age', 'avg_additional_charges_total', 'month_to_end_contract', \n",
    "                         'lifetime', 'avg_class_frequency_total', 'avg_class_frequency_current_month']):\n",
    "    sns.histplot(df, x=col, hue = 'cluster_km', kde = True, palette=palette[:5], discrete=True, multiple=\"dodge\", alpha = .7, ax=plt.subplot(2, 3, i + 1))"
   ]
  },
  {
   "cell_type": "code",
   "execution_count": null,
   "metadata": {
    "colab": {
     "base_uri": "https://localhost:8080/",
     "height": 500
    },
    "id": "_S2FyYm-L5QY",
    "outputId": "a053ab3d-422b-4ca9-b822-2dd29aa308dd"
   },
   "outputs": [],
   "source": [
    "plt.figure(figsize=(22, 8))\n",
    "for i, col in enumerate(['gender', 'near_location', 'partner', 'promo_friends', 'phone', 'group_visits', 'contract_period', 'churn']):\n",
    "    sns.countplot(x = col, hue='cluster_km', data=df, palette=palette[:5], ax=plt.subplot(2, 4, i + 1))\n",
    "    plt.ylabel('Клиентов')"
   ]
  },
  {
   "cell_type": "markdown",
   "metadata": {
    "id": "Opx2VQTdM_sy"
   },
   "source": [
    "### Вывод\n",
    "Можно выделить два кластера с самой низкой долей оттока: кластер 0 с долей 3% и кластер 4 с долей 7%. Они отличаются с среднем несколько более частой посещаемостью фитнес-центра, это более старшие клиенты (и по возрасту, и по давности посещений). Клиенты кластера 0 как правило заключают долгосрочные абонементы и занимаются к тому же по партнёрской программе.  \n",
    "Кластеры 2 и 3 с высоким уровнем оттока, причём кластер 3 самый многочисленный из всех. По среднему возрасту в нём самые молодые посетители, как правило это клиенты без партнерской программы, пришедшие не в рамках акции, живущие поблизости от финтес-клуба. Посещаемость слабее, чем у остальных кластеров, абонемент, как правило, не более месяца."
   ]
  },
  {
   "cell_type": "markdown",
   "metadata": {
    "id": "ImbuFn9tkWQW"
   },
   "source": [
    "<a id='section_6'></a>\n",
    "## Основной вывод и базовые рекомендации по работе с клиентами\n",
    "\n",
    "Для работы была предоставлена база данных сети фитнес-центров с данными о клиентах на месяц для изучения оттока. Данные были загружены и обработаны, проведён исследовательский анализ данных. Изучен примерный портрет среднего посетителя, а так же отдельно изучены группы оттока и тех, кто остался. Построил графики распределения и матрицу корреляций, были определены некоторые зависимости между признаками. Для дальнейшего анализа была построена модель прогнозирования оттока клиентов с помощью двух способов: логистическая регресиия и алгоритм случайного леса. С помощью метрик определил, что обе модели довольно точны, метод логистической регресии показал себя немного лучше.  \n",
    "С помощью матрицы расстояний на основании алгоритма K-Means выполнил кластеризаию клиентов сети фитнес-клубов. Были выделены 5 кластеров, которые я изучил поподробнее с томощью таблиц и графиков распределения.  \n",
    "\n",
    "На основе анализа данных можно дать некоторые рекомендации по стратегии работы с клиентами:  \n",
    "1) Разработать программу скидок и бонусов для поощрения оформления более длительных абонементов. С учётов сохранения высокого уровня сервиса создать привычку ходить в фитнес-центр на постоянной основе.  \n",
    "2) Для удержания более молодой аудитории финтес-клубов подумать над изменением или добавлением новых фитнес-программ, тренажёров, а также программ поощрения.  \n",
    "3) Все новые акции, программы скидок и бонусов максимально доступно и просто предлагать всем новым клиентам, приходящим в зал. Возможно разместить бросающуюся в глаз информацию возле входа с главными предложениями. Есть вероятность таким образом увеличить удержанию пришедших в зал \"на один раз\" посетителей, живущих неподалёку."
   ]
  }
 ],
 "metadata": {
  "ExecuteTimeLog": [
   {
    "duration": 821,
    "start_time": "2022-05-18T08:23:45.180Z"
   },
   {
    "duration": 73,
    "start_time": "2022-05-18T08:24:45.222Z"
   },
   {
    "duration": 73,
    "start_time": "2022-05-18T08:24:58.721Z"
   },
   {
    "duration": 96,
    "start_time": "2022-05-18T08:43:31.738Z"
   },
   {
    "duration": 24,
    "start_time": "2022-05-18T08:55:15.257Z"
   },
   {
    "duration": 97,
    "start_time": "2022-05-18T12:13:25.649Z"
   },
   {
    "duration": 99,
    "start_time": "2022-05-18T12:16:35.106Z"
   },
   {
    "duration": 16,
    "start_time": "2022-05-18T12:16:35.300Z"
   },
   {
    "duration": 1213,
    "start_time": "2022-05-18T12:22:26.143Z"
   },
   {
    "duration": 95,
    "start_time": "2022-05-18T12:22:27.980Z"
   },
   {
    "duration": 260,
    "start_time": "2022-05-18T12:31:41.990Z"
   },
   {
    "duration": 44,
    "start_time": "2022-05-18T12:33:42.751Z"
   },
   {
    "duration": 60,
    "start_time": "2022-05-18T12:33:53.162Z"
   },
   {
    "duration": 3,
    "start_time": "2022-05-18T12:39:41.948Z"
   },
   {
    "duration": 167,
    "start_time": "2022-05-18T12:47:17.608Z"
   },
   {
    "duration": 64,
    "start_time": "2022-05-18T12:47:30.803Z"
   },
   {
    "duration": 45,
    "start_time": "2022-05-18T12:47:49.828Z"
   },
   {
    "duration": 65,
    "start_time": "2022-05-18T12:47:54.828Z"
   },
   {
    "duration": 64,
    "start_time": "2022-05-18T12:48:06.418Z"
   },
   {
    "duration": 5,
    "start_time": "2022-05-18T13:04:07.299Z"
   },
   {
    "duration": 4,
    "start_time": "2022-05-18T13:04:47.150Z"
   },
   {
    "duration": 21,
    "start_time": "2022-05-18T13:32:41.105Z"
   },
   {
    "duration": 11,
    "start_time": "2022-05-18T13:32:49.377Z"
   },
   {
    "duration": 15,
    "start_time": "2022-05-18T13:55:49.921Z"
   },
   {
    "duration": 11,
    "start_time": "2022-05-18T13:57:09.637Z"
   },
   {
    "duration": 994,
    "start_time": "2022-05-18T13:57:49.415Z"
   },
   {
    "duration": 714,
    "start_time": "2022-05-18T13:58:11.140Z"
   },
   {
    "duration": 665,
    "start_time": "2022-05-18T13:58:26.246Z"
   },
   {
    "duration": 37,
    "start_time": "2022-05-18T13:59:48.298Z"
   },
   {
    "duration": 15,
    "start_time": "2022-05-18T13:59:53.113Z"
   },
   {
    "duration": 1109,
    "start_time": "2022-05-18T13:59:59.058Z"
   },
   {
    "duration": 853,
    "start_time": "2022-05-18T14:00:22.280Z"
   },
   {
    "duration": 913,
    "start_time": "2022-05-18T14:02:19.124Z"
   },
   {
    "duration": 753,
    "start_time": "2022-05-18T14:03:50.747Z"
   },
   {
    "duration": 549,
    "start_time": "2022-05-18T14:04:05.184Z"
   },
   {
    "duration": 830,
    "start_time": "2022-05-18T14:04:16.856Z"
   },
   {
    "duration": 771,
    "start_time": "2022-05-18T14:04:27.327Z"
   },
   {
    "duration": 4,
    "start_time": "2022-05-18T14:04:41.989Z"
   },
   {
    "duration": 160,
    "start_time": "2022-05-18T14:04:42.529Z"
   },
   {
    "duration": 4,
    "start_time": "2022-05-18T14:04:42.808Z"
   },
   {
    "duration": 44,
    "start_time": "2022-05-18T14:04:43.535Z"
   },
   {
    "duration": 12,
    "start_time": "2022-05-18T14:04:43.879Z"
   },
   {
    "duration": 748,
    "start_time": "2022-05-18T14:04:44.263Z"
   },
   {
    "duration": 443,
    "start_time": "2022-05-18T14:07:28.953Z"
   },
   {
    "duration": 718,
    "start_time": "2022-05-18T14:07:35.576Z"
   },
   {
    "duration": 405,
    "start_time": "2022-05-18T14:08:11.802Z"
   },
   {
    "duration": 490,
    "start_time": "2022-05-18T14:08:21.817Z"
   },
   {
    "duration": 359,
    "start_time": "2022-05-18T14:09:41.262Z"
   },
   {
    "duration": 290,
    "start_time": "2022-05-18T14:11:40.802Z"
   },
   {
    "duration": 13,
    "start_time": "2022-05-18T14:16:04.656Z"
   },
   {
    "duration": 234,
    "start_time": "2022-05-18T14:16:16.716Z"
   },
   {
    "duration": 3816,
    "start_time": "2022-05-18T15:13:37.251Z"
   },
   {
    "duration": 3983,
    "start_time": "2022-05-18T15:14:30.625Z"
   },
   {
    "duration": 4026,
    "start_time": "2022-05-18T15:14:42.701Z"
   },
   {
    "duration": 3921,
    "start_time": "2022-05-18T15:15:30.515Z"
   },
   {
    "duration": 3998,
    "start_time": "2022-05-18T15:18:53.915Z"
   },
   {
    "duration": 3894,
    "start_time": "2022-05-18T15:20:04.680Z"
   },
   {
    "duration": 4014,
    "start_time": "2022-05-18T15:23:57.482Z"
   },
   {
    "duration": 34,
    "start_time": "2022-05-18T15:27:30.441Z"
   },
   {
    "duration": 19,
    "start_time": "2022-05-18T15:27:37.019Z"
   },
   {
    "duration": 14,
    "start_time": "2022-05-18T15:28:02.182Z"
   },
   {
    "duration": 21,
    "start_time": "2022-05-18T15:28:17.413Z"
   },
   {
    "duration": 21,
    "start_time": "2022-05-18T15:28:36.116Z"
   },
   {
    "duration": 18,
    "start_time": "2022-05-18T15:28:45.580Z"
   },
   {
    "duration": 19,
    "start_time": "2022-05-18T15:29:04.567Z"
   },
   {
    "duration": 338,
    "start_time": "2022-05-18T15:29:49.325Z"
   },
   {
    "duration": 995,
    "start_time": "2022-05-18T15:29:57.033Z"
   },
   {
    "duration": 20,
    "start_time": "2022-05-18T15:30:16.355Z"
   },
   {
    "duration": 18,
    "start_time": "2022-05-18T15:31:21.560Z"
   },
   {
    "duration": 35,
    "start_time": "2022-05-18T15:31:31.821Z"
   },
   {
    "duration": 14,
    "start_time": "2022-05-18T15:33:49.776Z"
   },
   {
    "duration": 201,
    "start_time": "2022-05-18T15:33:58.679Z"
   },
   {
    "duration": 2706,
    "start_time": "2022-05-18T15:34:17.423Z"
   },
   {
    "duration": 92,
    "start_time": "2022-05-18T15:34:29.472Z"
   },
   {
    "duration": 3,
    "start_time": "2022-05-18T15:34:32.686Z"
   },
   {
    "duration": 78,
    "start_time": "2022-05-18T15:34:32.870Z"
   },
   {
    "duration": 4,
    "start_time": "2022-05-18T15:34:35.110Z"
   },
   {
    "duration": 168,
    "start_time": "2022-05-18T15:34:37.439Z"
   },
   {
    "duration": 11,
    "start_time": "2022-05-18T15:34:39.202Z"
   },
   {
    "duration": 3598,
    "start_time": "2022-05-18T15:34:41.295Z"
   },
   {
    "duration": 2970,
    "start_time": "2022-05-18T15:34:44.895Z"
   },
   {
    "duration": 895,
    "start_time": "2022-05-18T15:36:24.783Z"
   },
   {
    "duration": 990,
    "start_time": "2022-05-18T15:36:36.670Z"
   },
   {
    "duration": 1174,
    "start_time": "2022-05-18T15:37:06.706Z"
   },
   {
    "duration": 913,
    "start_time": "2022-05-18T15:37:17.007Z"
   },
   {
    "duration": 3454,
    "start_time": "2022-05-18T15:37:45.915Z"
   },
   {
    "duration": 1055,
    "start_time": "2022-05-18T15:38:25.559Z"
   },
   {
    "duration": 965,
    "start_time": "2022-05-18T15:41:46.226Z"
   },
   {
    "duration": 143,
    "start_time": "2022-05-18T15:42:09.917Z"
   },
   {
    "duration": 1026,
    "start_time": "2022-05-18T15:42:21.184Z"
   },
   {
    "duration": 1568,
    "start_time": "2022-05-18T15:47:09.268Z"
   },
   {
    "duration": 1508,
    "start_time": "2022-05-18T15:47:23.657Z"
   },
   {
    "duration": 1607,
    "start_time": "2022-05-18T15:51:44.309Z"
   },
   {
    "duration": 25,
    "start_time": "2022-05-18T15:54:59.957Z"
   },
   {
    "duration": 1593,
    "start_time": "2022-05-18T15:55:20.978Z"
   },
   {
    "duration": 1719,
    "start_time": "2022-05-18T15:55:28.420Z"
   },
   {
    "duration": 1617,
    "start_time": "2022-05-18T15:57:40.579Z"
   },
   {
    "duration": 1557,
    "start_time": "2022-05-18T15:57:49.223Z"
   },
   {
    "duration": 1497,
    "start_time": "2022-05-18T15:58:04.578Z"
   },
   {
    "duration": 1776,
    "start_time": "2022-05-18T15:58:12.378Z"
   },
   {
    "duration": 1687,
    "start_time": "2022-05-18T16:04:06.809Z"
   },
   {
    "duration": 1485,
    "start_time": "2022-05-18T16:04:32.687Z"
   },
   {
    "duration": 1626,
    "start_time": "2022-05-21T11:44:00.162Z"
   },
   {
    "duration": 132,
    "start_time": "2022-05-21T11:44:01.790Z"
   },
   {
    "duration": 5,
    "start_time": "2022-05-21T11:44:01.924Z"
   },
   {
    "duration": 82,
    "start_time": "2022-05-21T11:44:01.932Z"
   },
   {
    "duration": 15,
    "start_time": "2022-05-21T11:44:02.016Z"
   },
   {
    "duration": 3689,
    "start_time": "2022-05-21T11:44:02.033Z"
   },
   {
    "duration": 1014,
    "start_time": "2022-05-21T11:44:05.724Z"
   },
   {
    "duration": 1769,
    "start_time": "2022-05-21T11:44:06.740Z"
   },
   {
    "duration": 139,
    "start_time": "2022-05-21T11:44:08.511Z"
   },
   {
    "duration": 0,
    "start_time": "2022-05-21T11:44:08.651Z"
   },
   {
    "duration": 0,
    "start_time": "2022-05-21T11:44:08.653Z"
   },
   {
    "duration": 0,
    "start_time": "2022-05-21T11:44:08.654Z"
   },
   {
    "duration": 0,
    "start_time": "2022-05-21T11:44:08.656Z"
   },
   {
    "duration": 0,
    "start_time": "2022-05-21T11:44:08.657Z"
   },
   {
    "duration": 0,
    "start_time": "2022-05-21T11:44:08.658Z"
   },
   {
    "duration": 0,
    "start_time": "2022-05-21T11:44:08.659Z"
   },
   {
    "duration": 18,
    "start_time": "2022-05-21T11:44:33.397Z"
   },
   {
    "duration": 4,
    "start_time": "2022-05-21T11:44:39.754Z"
   },
   {
    "duration": 70,
    "start_time": "2022-05-21T11:45:09.618Z"
   },
   {
    "duration": 17,
    "start_time": "2022-05-21T11:45:29.054Z"
   },
   {
    "duration": 3,
    "start_time": "2022-05-21T11:45:30.621Z"
   },
   {
    "duration": 234,
    "start_time": "2022-05-21T11:45:36.870Z"
   },
   {
    "duration": 4,
    "start_time": "2022-05-21T11:48:20.963Z"
   },
   {
    "duration": 20,
    "start_time": "2022-05-21T11:48:23.770Z"
   },
   {
    "duration": 36,
    "start_time": "2022-05-21T11:50:09.862Z"
   },
   {
    "duration": 397,
    "start_time": "2022-05-21T11:50:36.518Z"
   },
   {
    "duration": 14,
    "start_time": "2022-05-21T11:50:59.209Z"
   },
   {
    "duration": 4,
    "start_time": "2022-05-21T11:51:00.469Z"
   },
   {
    "duration": 163,
    "start_time": "2022-05-21T11:51:02.326Z"
   },
   {
    "duration": 397,
    "start_time": "2022-05-21T11:51:04.888Z"
   },
   {
    "duration": 239,
    "start_time": "2022-05-21T11:51:10.865Z"
   },
   {
    "duration": 387,
    "start_time": "2022-05-21T11:51:12.074Z"
   },
   {
    "duration": 15,
    "start_time": "2022-05-21T11:51:41.516Z"
   },
   {
    "duration": 3,
    "start_time": "2022-05-21T11:51:43.613Z"
   },
   {
    "duration": 297,
    "start_time": "2022-05-21T11:51:45.497Z"
   },
   {
    "duration": 449,
    "start_time": "2022-05-21T11:51:47.680Z"
   },
   {
    "duration": 14,
    "start_time": "2022-05-21T11:52:24.958Z"
   },
   {
    "duration": 3,
    "start_time": "2022-05-21T11:52:27.318Z"
   },
   {
    "duration": 119,
    "start_time": "2022-05-21T11:52:28.167Z"
   },
   {
    "duration": 388,
    "start_time": "2022-05-21T11:52:30.865Z"
   },
   {
    "duration": 1383,
    "start_time": "2022-05-21T11:56:33.358Z"
   },
   {
    "duration": 104,
    "start_time": "2022-05-21T11:56:34.743Z"
   },
   {
    "duration": 4,
    "start_time": "2022-05-21T11:56:34.848Z"
   },
   {
    "duration": 61,
    "start_time": "2022-05-21T11:56:34.854Z"
   },
   {
    "duration": 11,
    "start_time": "2022-05-21T11:56:34.917Z"
   },
   {
    "duration": 3739,
    "start_time": "2022-05-21T11:56:34.930Z"
   },
   {
    "duration": 1038,
    "start_time": "2022-05-21T11:56:38.671Z"
   },
   {
    "duration": 1495,
    "start_time": "2022-05-21T11:56:39.711Z"
   },
   {
    "duration": 19,
    "start_time": "2022-05-21T11:56:41.209Z"
   },
   {
    "duration": 4,
    "start_time": "2022-05-21T11:56:41.230Z"
   },
   {
    "duration": 65,
    "start_time": "2022-05-21T11:56:41.235Z"
   },
   {
    "duration": 556,
    "start_time": "2022-05-21T11:56:41.301Z"
   },
   {
    "duration": 120305,
    "start_time": "2022-05-21T11:56:41.858Z"
   },
   {
    "duration": 943,
    "start_time": "2022-05-21T11:58:42.166Z"
   },
   {
    "duration": 8009,
    "start_time": "2022-05-21T11:58:43.111Z"
   },
   {
    "duration": 1276,
    "start_time": "2022-05-21T11:58:51.122Z"
   }
  ],
  "colab": {
   "collapsed_sections": [],
   "name": "sectional_project_2.ipynb",
   "provenance": []
  },
  "kernelspec": {
   "display_name": "Python 3 (ipykernel)",
   "language": "python",
   "name": "python3"
  },
  "language_info": {
   "codemirror_mode": {
    "name": "ipython",
    "version": 3
   },
   "file_extension": ".py",
   "mimetype": "text/x-python",
   "name": "python",
   "nbconvert_exporter": "python",
   "pygments_lexer": "ipython3",
   "version": "3.9.12"
  },
  "toc": {
   "base_numbering": 1,
   "nav_menu": {},
   "number_sections": true,
   "sideBar": true,
   "skip_h1_title": true,
   "title_cell": "Table of Contents",
   "title_sidebar": "Contents",
   "toc_cell": false,
   "toc_position": {},
   "toc_section_display": true,
   "toc_window_display": false
  }
 },
 "nbformat": 4,
 "nbformat_minor": 1
}
