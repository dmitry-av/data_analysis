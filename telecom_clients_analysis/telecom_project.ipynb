{
 "cells": [
  {
   "cell_type": "markdown",
   "metadata": {
    "id": "IsXaDh4X86GG"
   },
   "source": [
    "# Телеком — Поиск клиентов с неоптимальными тарифами"
   ]
  },
  {
   "cell_type": "markdown",
   "metadata": {
    "id": "uziKlKSpNJKI"
   },
   "source": [
    "1. [Цель работы](#section_1)\n",
    "2. [Загрузка и знакомство с данными](#section_2)\n",
    "3. [Предподготовка данных](#section_3)\n",
    "4. [Исследовательский анализ данных](#section_4)\n",
    "5. [Проверка статистических гипотез](#section_5)\n",
    "6. [Основные выводы исследования и рекомендации коммерческому департаменту](#section_6)\n",
    "\n",
    "Материалы к проекту:  \n",
    "[Презентация](https://disk.yandex.ru/i/BYLtvOgWlaKBKg)  \n",
    "[Таблица со списком переплачивающих клиентов](https://disk.yandex.ru/i/MJVgINQHz_DJkw)  \n",
    "[Дашборд](https://public.tableau.com/app/profile/dmitry2973/viz/telecom_analysis/telecom_board_1)"
   ]
  },
  {
   "cell_type": "markdown",
   "metadata": {
    "id": "X2KxHlsG86GI"
   },
   "source": [
    "<a id='section_1'></a>\n",
    "Коммерческий отдел оператора услуг виртуальной телефонии дал задание провести исследование своих клиентов. Необходимо найти клиентов, которые используют неоптимальные тарифные планы, переплачивают на своих тарифах и сэкономят, если перейдут на другой тариф. Это требуется, чтобы понять, что с ними нужно сделать, чтобы их не потерять. Также необходимо выяснить, насколько изменится средняя месячная выручка с клиентов, если переплачивающие клиенты перейдут на более выгодный тариф.  \n",
    "\n",
    "Исследование делаем на основе двух датасетов. Первый датасет содержит данные об использовании услуг оператора виртуальной телефонии. Второй датасет это список клиентов компании с данными о тарифе и датой регистрации клиента в сервисе."
   ]
  },
  {
   "cell_type": "markdown",
   "metadata": {
    "id": "c7v1MFta86GK"
   },
   "source": [
    "Описание данных:   \n",
    "**Датасет `telecom_dataset`**:\n",
    "- `user_id` — идентификатор клиента;\n",
    "- `date` — дата статистики;\n",
    "- `direction` — направление вызовов: `out` — исходящий вызов, `in` — входящий;\n",
    "- `internal` — маркер внутренних и внешних вызовов;\n",
    "- `operator_id` — идентификатор оператора;\n",
    "- `is_missed_call` — маркер пропущенных вызовов;\n",
    "- `calls_count` — количество звонков;\n",
    "- `call_duration` — длительность звонка без учёта времени ожидания;\n",
    "- `total_call_duration` — длительность звонка с учётом времени ожидания.\n",
    "\n",
    "**Датасет `telecom_clients`**:  \n",
    "- `user_id` — идентификатор клиента;\n",
    "- `tariff_plan` — тарифный план клиента;\n",
    "- `date_start` — дата регистрации клиента в сервисе."
   ]
  },
  {
   "cell_type": "markdown",
   "metadata": {
    "id": "nP57VKvM86GM"
   },
   "source": [
    "<a id='section_2'></a>\n",
    "## 1. Загрузка и знакомство с данными"
   ]
  },
  {
   "cell_type": "markdown",
   "metadata": {
    "id": "_jvFBp6f86GN"
   },
   "source": [
    "Для начала необходимо загрузить и изучить данные, проверить типы данных, возможные пропуски, разбросы значений в числовых полях, категориальные столбцы."
   ]
  },
  {
   "cell_type": "code",
   "execution_count": 1,
   "metadata": {
    "id": "jZ8UUTbI86GN"
   },
   "outputs": [],
   "source": [
    "import pandas as pd\n",
    "from datetime import datetime, timedelta\n",
    "import numpy as np\n",
    "from matplotlib import pyplot as plt\n",
    "import seaborn as sns\n",
    "from scipy import stats as st \n",
    "\n",
    "import warnings\n",
    "warnings.filterwarnings(\"ignore\")"
   ]
  },
  {
   "cell_type": "code",
   "execution_count": 2,
   "metadata": {
    "colab": {
     "base_uri": "https://localhost:8080/",
     "height": 839
    },
    "id": "liYk_Vg586GP",
    "outputId": "124aa4ea-aad5-4bcb-fb45-7fd8a43f1ed2"
   },
   "outputs": [
    {
     "data": {
      "text/html": [
       "<div>\n",
       "<style scoped>\n",
       "    .dataframe tbody tr th:only-of-type {\n",
       "        vertical-align: middle;\n",
       "    }\n",
       "\n",
       "    .dataframe tbody tr th {\n",
       "        vertical-align: top;\n",
       "    }\n",
       "\n",
       "    .dataframe thead th {\n",
       "        text-align: right;\n",
       "    }\n",
       "</style>\n",
       "<table border=\"1\" class=\"dataframe\">\n",
       "  <thead>\n",
       "    <tr style=\"text-align: right;\">\n",
       "      <th></th>\n",
       "      <th>user_id</th>\n",
       "      <th>date</th>\n",
       "      <th>direction</th>\n",
       "      <th>internal</th>\n",
       "      <th>operator_id</th>\n",
       "      <th>is_missed_call</th>\n",
       "      <th>calls_count</th>\n",
       "      <th>call_duration</th>\n",
       "      <th>total_call_duration</th>\n",
       "    </tr>\n",
       "  </thead>\n",
       "  <tbody>\n",
       "    <tr>\n",
       "      <th>0</th>\n",
       "      <td>166377</td>\n",
       "      <td>2019-08-04 00:00:00+03:00</td>\n",
       "      <td>in</td>\n",
       "      <td>False</td>\n",
       "      <td>NaN</td>\n",
       "      <td>True</td>\n",
       "      <td>2</td>\n",
       "      <td>0</td>\n",
       "      <td>4</td>\n",
       "    </tr>\n",
       "    <tr>\n",
       "      <th>1</th>\n",
       "      <td>166377</td>\n",
       "      <td>2019-08-05 00:00:00+03:00</td>\n",
       "      <td>out</td>\n",
       "      <td>True</td>\n",
       "      <td>880022.0</td>\n",
       "      <td>True</td>\n",
       "      <td>3</td>\n",
       "      <td>0</td>\n",
       "      <td>5</td>\n",
       "    </tr>\n",
       "    <tr>\n",
       "      <th>2</th>\n",
       "      <td>166377</td>\n",
       "      <td>2019-08-05 00:00:00+03:00</td>\n",
       "      <td>out</td>\n",
       "      <td>True</td>\n",
       "      <td>880020.0</td>\n",
       "      <td>True</td>\n",
       "      <td>1</td>\n",
       "      <td>0</td>\n",
       "      <td>1</td>\n",
       "    </tr>\n",
       "    <tr>\n",
       "      <th>3</th>\n",
       "      <td>166377</td>\n",
       "      <td>2019-08-05 00:00:00+03:00</td>\n",
       "      <td>out</td>\n",
       "      <td>True</td>\n",
       "      <td>880020.0</td>\n",
       "      <td>False</td>\n",
       "      <td>1</td>\n",
       "      <td>10</td>\n",
       "      <td>18</td>\n",
       "    </tr>\n",
       "    <tr>\n",
       "      <th>4</th>\n",
       "      <td>166377</td>\n",
       "      <td>2019-08-05 00:00:00+03:00</td>\n",
       "      <td>out</td>\n",
       "      <td>False</td>\n",
       "      <td>880022.0</td>\n",
       "      <td>True</td>\n",
       "      <td>3</td>\n",
       "      <td>0</td>\n",
       "      <td>25</td>\n",
       "    </tr>\n",
       "    <tr>\n",
       "      <th>5</th>\n",
       "      <td>166377</td>\n",
       "      <td>2019-08-05 00:00:00+03:00</td>\n",
       "      <td>out</td>\n",
       "      <td>False</td>\n",
       "      <td>880020.0</td>\n",
       "      <td>False</td>\n",
       "      <td>2</td>\n",
       "      <td>3</td>\n",
       "      <td>29</td>\n",
       "    </tr>\n",
       "    <tr>\n",
       "      <th>6</th>\n",
       "      <td>166377</td>\n",
       "      <td>2019-08-05 00:00:00+03:00</td>\n",
       "      <td>out</td>\n",
       "      <td>False</td>\n",
       "      <td>880020.0</td>\n",
       "      <td>True</td>\n",
       "      <td>8</td>\n",
       "      <td>0</td>\n",
       "      <td>50</td>\n",
       "    </tr>\n",
       "  </tbody>\n",
       "</table>\n",
       "</div>"
      ],
      "text/plain": [
       "   user_id                      date direction internal  operator_id  \\\n",
       "0   166377 2019-08-04 00:00:00+03:00        in    False          NaN   \n",
       "1   166377 2019-08-05 00:00:00+03:00       out     True     880022.0   \n",
       "2   166377 2019-08-05 00:00:00+03:00       out     True     880020.0   \n",
       "3   166377 2019-08-05 00:00:00+03:00       out     True     880020.0   \n",
       "4   166377 2019-08-05 00:00:00+03:00       out    False     880022.0   \n",
       "5   166377 2019-08-05 00:00:00+03:00       out    False     880020.0   \n",
       "6   166377 2019-08-05 00:00:00+03:00       out    False     880020.0   \n",
       "\n",
       "   is_missed_call  calls_count  call_duration  total_call_duration  \n",
       "0            True            2              0                    4  \n",
       "1            True            3              0                    5  \n",
       "2            True            1              0                    1  \n",
       "3           False            1             10                   18  \n",
       "4            True            3              0                   25  \n",
       "5           False            2              3                   29  \n",
       "6            True            8              0                   50  "
      ]
     },
     "metadata": {},
     "output_type": "display_data"
    },
    {
     "name": "stdout",
     "output_type": "stream",
     "text": [
      "<class 'pandas.core.frame.DataFrame'>\n",
      "RangeIndex: 53902 entries, 0 to 53901\n",
      "Data columns (total 9 columns):\n",
      " #   Column               Non-Null Count  Dtype                                \n",
      "---  ------               --------------  -----                                \n",
      " 0   user_id              53902 non-null  int64                                \n",
      " 1   date                 53902 non-null  datetime64[ns, pytz.FixedOffset(180)]\n",
      " 2   direction            53902 non-null  object                               \n",
      " 3   internal             53785 non-null  object                               \n",
      " 4   operator_id          45730 non-null  float64                              \n",
      " 5   is_missed_call       53902 non-null  bool                                 \n",
      " 6   calls_count          53902 non-null  int64                                \n",
      " 7   call_duration        53902 non-null  int64                                \n",
      " 8   total_call_duration  53902 non-null  int64                                \n",
      "dtypes: bool(1), datetime64[ns, pytz.FixedOffset(180)](1), float64(1), int64(4), object(2)\n",
      "memory usage: 3.3+ MB\n"
     ]
    },
    {
     "data": {
      "text/html": [
       "<div>\n",
       "<style scoped>\n",
       "    .dataframe tbody tr th:only-of-type {\n",
       "        vertical-align: middle;\n",
       "    }\n",
       "\n",
       "    .dataframe tbody tr th {\n",
       "        vertical-align: top;\n",
       "    }\n",
       "\n",
       "    .dataframe thead th {\n",
       "        text-align: right;\n",
       "    }\n",
       "</style>\n",
       "<table border=\"1\" class=\"dataframe\">\n",
       "  <thead>\n",
       "    <tr style=\"text-align: right;\">\n",
       "      <th></th>\n",
       "      <th>user_id</th>\n",
       "      <th>operator_id</th>\n",
       "      <th>calls_count</th>\n",
       "      <th>call_duration</th>\n",
       "      <th>total_call_duration</th>\n",
       "    </tr>\n",
       "  </thead>\n",
       "  <tbody>\n",
       "    <tr>\n",
       "      <th>count</th>\n",
       "      <td>53902.000000</td>\n",
       "      <td>45730.000000</td>\n",
       "      <td>53902.000000</td>\n",
       "      <td>53902.000000</td>\n",
       "      <td>53902.000000</td>\n",
       "    </tr>\n",
       "    <tr>\n",
       "      <th>mean</th>\n",
       "      <td>167295.344477</td>\n",
       "      <td>916535.993002</td>\n",
       "      <td>16.451245</td>\n",
       "      <td>866.684427</td>\n",
       "      <td>1157.133297</td>\n",
       "    </tr>\n",
       "    <tr>\n",
       "      <th>std</th>\n",
       "      <td>598.883775</td>\n",
       "      <td>21254.123136</td>\n",
       "      <td>62.917170</td>\n",
       "      <td>3731.791202</td>\n",
       "      <td>4403.468763</td>\n",
       "    </tr>\n",
       "    <tr>\n",
       "      <th>min</th>\n",
       "      <td>166377.000000</td>\n",
       "      <td>879896.000000</td>\n",
       "      <td>1.000000</td>\n",
       "      <td>0.000000</td>\n",
       "      <td>0.000000</td>\n",
       "    </tr>\n",
       "    <tr>\n",
       "      <th>25%</th>\n",
       "      <td>166782.000000</td>\n",
       "      <td>900788.000000</td>\n",
       "      <td>1.000000</td>\n",
       "      <td>0.000000</td>\n",
       "      <td>47.000000</td>\n",
       "    </tr>\n",
       "    <tr>\n",
       "      <th>50%</th>\n",
       "      <td>167162.000000</td>\n",
       "      <td>913938.000000</td>\n",
       "      <td>4.000000</td>\n",
       "      <td>38.000000</td>\n",
       "      <td>210.000000</td>\n",
       "    </tr>\n",
       "    <tr>\n",
       "      <th>75%</th>\n",
       "      <td>167819.000000</td>\n",
       "      <td>937708.000000</td>\n",
       "      <td>12.000000</td>\n",
       "      <td>572.000000</td>\n",
       "      <td>902.000000</td>\n",
       "    </tr>\n",
       "    <tr>\n",
       "      <th>max</th>\n",
       "      <td>168606.000000</td>\n",
       "      <td>973286.000000</td>\n",
       "      <td>4817.000000</td>\n",
       "      <td>144395.000000</td>\n",
       "      <td>166155.000000</td>\n",
       "    </tr>\n",
       "  </tbody>\n",
       "</table>\n",
       "</div>"
      ],
      "text/plain": [
       "             user_id    operator_id   calls_count  call_duration  \\\n",
       "count   53902.000000   45730.000000  53902.000000   53902.000000   \n",
       "mean   167295.344477  916535.993002     16.451245     866.684427   \n",
       "std       598.883775   21254.123136     62.917170    3731.791202   \n",
       "min    166377.000000  879896.000000      1.000000       0.000000   \n",
       "25%    166782.000000  900788.000000      1.000000       0.000000   \n",
       "50%    167162.000000  913938.000000      4.000000      38.000000   \n",
       "75%    167819.000000  937708.000000     12.000000     572.000000   \n",
       "max    168606.000000  973286.000000   4817.000000  144395.000000   \n",
       "\n",
       "       total_call_duration  \n",
       "count         53902.000000  \n",
       "mean           1157.133297  \n",
       "std            4403.468763  \n",
       "min               0.000000  \n",
       "25%              47.000000  \n",
       "50%             210.000000  \n",
       "75%             902.000000  \n",
       "max          166155.000000  "
      ]
     },
     "execution_count": 2,
     "metadata": {},
     "output_type": "execute_result"
    }
   ],
   "source": [
    "data = pd.read_csv('https://code.s3.yandex.net/datasets/telecom_dataset.csv', parse_dates=['date'])\n",
    "display(data.head(7))\n",
    "data.info()\n",
    "data.describe()"
   ]
  },
  {
   "cell_type": "code",
   "execution_count": 3,
   "metadata": {
    "colab": {
     "base_uri": "https://localhost:8080/"
    },
    "id": "_TadA2GN86GQ",
    "outputId": "1bce05d6-192c-4f44-a6d5-457397cc80d8"
   },
   "outputs": [
    {
     "name": "stdout",
     "output_type": "stream",
     "text": [
      "Значения столбца direction: ['in' 'out']\n"
     ]
    }
   ],
   "source": [
    "print('Значения столбца direction:', data['direction'].unique())"
   ]
  },
  {
   "cell_type": "markdown",
   "metadata": {
    "id": "3ePiYOHk86GS"
   },
   "source": [
    "Данные требуют предварительной обработки, некоторые столбцы имеют неправильный тип данных, также имеются пропуски в двух столбцах. Во всех столбцах, касающихся звонков, имеются явные выбросы данных. Всё это проверим позже."
   ]
  },
  {
   "cell_type": "code",
   "execution_count": 4,
   "metadata": {
    "colab": {
     "base_uri": "https://localhost:8080/",
     "height": 385
    },
    "id": "lyBjYrDm86GT",
    "outputId": "4c84840a-a342-4928-8b24-22d00cd0008d"
   },
   "outputs": [
    {
     "data": {
      "text/html": [
       "<div>\n",
       "<style scoped>\n",
       "    .dataframe tbody tr th:only-of-type {\n",
       "        vertical-align: middle;\n",
       "    }\n",
       "\n",
       "    .dataframe tbody tr th {\n",
       "        vertical-align: top;\n",
       "    }\n",
       "\n",
       "    .dataframe thead th {\n",
       "        text-align: right;\n",
       "    }\n",
       "</style>\n",
       "<table border=\"1\" class=\"dataframe\">\n",
       "  <thead>\n",
       "    <tr style=\"text-align: right;\">\n",
       "      <th></th>\n",
       "      <th>user_id</th>\n",
       "      <th>tariff_plan</th>\n",
       "      <th>date_start</th>\n",
       "    </tr>\n",
       "  </thead>\n",
       "  <tbody>\n",
       "    <tr>\n",
       "      <th>0</th>\n",
       "      <td>166713</td>\n",
       "      <td>A</td>\n",
       "      <td>2019-08-15</td>\n",
       "    </tr>\n",
       "    <tr>\n",
       "      <th>1</th>\n",
       "      <td>166901</td>\n",
       "      <td>A</td>\n",
       "      <td>2019-08-23</td>\n",
       "    </tr>\n",
       "    <tr>\n",
       "      <th>2</th>\n",
       "      <td>168527</td>\n",
       "      <td>A</td>\n",
       "      <td>2019-10-29</td>\n",
       "    </tr>\n",
       "    <tr>\n",
       "      <th>3</th>\n",
       "      <td>167097</td>\n",
       "      <td>A</td>\n",
       "      <td>2019-09-01</td>\n",
       "    </tr>\n",
       "    <tr>\n",
       "      <th>4</th>\n",
       "      <td>168193</td>\n",
       "      <td>A</td>\n",
       "      <td>2019-10-16</td>\n",
       "    </tr>\n",
       "  </tbody>\n",
       "</table>\n",
       "</div>"
      ],
      "text/plain": [
       "   user_id tariff_plan date_start\n",
       "0   166713           A 2019-08-15\n",
       "1   166901           A 2019-08-23\n",
       "2   168527           A 2019-10-29\n",
       "3   167097           A 2019-09-01\n",
       "4   168193           A 2019-10-16"
      ]
     },
     "metadata": {},
     "output_type": "display_data"
    },
    {
     "name": "stdout",
     "output_type": "stream",
     "text": [
      "<class 'pandas.core.frame.DataFrame'>\n",
      "RangeIndex: 732 entries, 0 to 731\n",
      "Data columns (total 3 columns):\n",
      " #   Column       Non-Null Count  Dtype         \n",
      "---  ------       --------------  -----         \n",
      " 0   user_id      732 non-null    int64         \n",
      " 1   tariff_plan  732 non-null    object        \n",
      " 2   date_start   732 non-null    datetime64[ns]\n",
      "dtypes: datetime64[ns](1), int64(1), object(1)\n",
      "memory usage: 17.3+ KB\n"
     ]
    }
   ],
   "source": [
    "clients = pd.read_csv('https://code.s3.yandex.net/datasets/telecom_clients.csv', parse_dates=['date_start'])\n",
    "display(clients.head(5))\n",
    "clients.info()"
   ]
  },
  {
   "cell_type": "markdown",
   "metadata": {
    "id": "BAb4wPR686GU"
   },
   "source": [
    "### Вывод\n",
    "Загружено два датасета с данными, данные предварительно изучены. В датасете clients всё хорошо, с таблицей telecom_dataset требуется провести обработку данных."
   ]
  },
  {
   "cell_type": "markdown",
   "metadata": {
    "id": "pp8uhFWB86GV"
   },
   "source": [
    "<a id='section_3'></a>\n",
    "## 2. Предподготовка данных\n",
    "#### 2.1 Обработка типов данных\n",
    "\n",
    "В колонке operator_id имеются пропущенные значения, поэтому тип данных там float. Остаётся только убрать часть со временем из столбца с датой."
   ]
  },
  {
   "cell_type": "code",
   "execution_count": 5,
   "metadata": {
    "id": "nMc3BeqW86GW"
   },
   "outputs": [],
   "source": [
    "data['date'] = data['date'].dt.date #обрезаем время\n",
    "data['date'] = pd.to_datetime(data['date'], format='%Y-%m-%dT') #переводим обратно во формат время"
   ]
  },
  {
   "cell_type": "markdown",
   "metadata": {
    "id": "Yl60qObH86GW"
   },
   "source": [
    "В столбце *internal* тип данных object, но это скорее потому, что имеются пропущенные значения, которые будут обработаны в следующем пункте."
   ]
  },
  {
   "cell_type": "markdown",
   "metadata": {
    "id": "qveUMzvR86GX"
   },
   "source": [
    "#### 2.2 Проверим данные на пропуски. Определимся, что делать с пропусками в каждом конкретном столбце."
   ]
  },
  {
   "cell_type": "code",
   "execution_count": 6,
   "metadata": {
    "colab": {
     "base_uri": "https://localhost:8080/",
     "height": 296
    },
    "id": "UkgrLbN986GX",
    "outputId": "7af89347-16ab-4173-8c22-84c9fb9b4598"
   },
   "outputs": [
    {
     "name": "stdout",
     "output_type": "stream",
     "text": [
      "Пропусков в столбце \"internal\" 117\n"
     ]
    },
    {
     "data": {
      "text/html": [
       "<div>\n",
       "<style scoped>\n",
       "    .dataframe tbody tr th:only-of-type {\n",
       "        vertical-align: middle;\n",
       "    }\n",
       "\n",
       "    .dataframe tbody tr th {\n",
       "        vertical-align: top;\n",
       "    }\n",
       "\n",
       "    .dataframe thead th {\n",
       "        text-align: right;\n",
       "    }\n",
       "</style>\n",
       "<table border=\"1\" class=\"dataframe\">\n",
       "  <thead>\n",
       "    <tr style=\"text-align: right;\">\n",
       "      <th></th>\n",
       "      <th>user_id</th>\n",
       "      <th>date</th>\n",
       "      <th>direction</th>\n",
       "      <th>internal</th>\n",
       "      <th>operator_id</th>\n",
       "      <th>is_missed_call</th>\n",
       "      <th>calls_count</th>\n",
       "      <th>call_duration</th>\n",
       "      <th>total_call_duration</th>\n",
       "    </tr>\n",
       "  </thead>\n",
       "  <tbody>\n",
       "    <tr>\n",
       "      <th>39519</th>\n",
       "      <td>167747</td>\n",
       "      <td>2019-10-18</td>\n",
       "      <td>in</td>\n",
       "      <td>NaN</td>\n",
       "      <td>NaN</td>\n",
       "      <td>True</td>\n",
       "      <td>1</td>\n",
       "      <td>0</td>\n",
       "      <td>8</td>\n",
       "    </tr>\n",
       "    <tr>\n",
       "      <th>29991</th>\n",
       "      <td>167272</td>\n",
       "      <td>2019-10-09</td>\n",
       "      <td>in</td>\n",
       "      <td>NaN</td>\n",
       "      <td>912684.0</td>\n",
       "      <td>False</td>\n",
       "      <td>1</td>\n",
       "      <td>123</td>\n",
       "      <td>175</td>\n",
       "    </tr>\n",
       "    <tr>\n",
       "      <th>44352</th>\n",
       "      <td>168041</td>\n",
       "      <td>2019-11-06</td>\n",
       "      <td>in</td>\n",
       "      <td>NaN</td>\n",
       "      <td>936514.0</td>\n",
       "      <td>False</td>\n",
       "      <td>1</td>\n",
       "      <td>1</td>\n",
       "      <td>24</td>\n",
       "    </tr>\n",
       "    <tr>\n",
       "      <th>52621</th>\n",
       "      <td>168361</td>\n",
       "      <td>2019-11-14</td>\n",
       "      <td>in</td>\n",
       "      <td>NaN</td>\n",
       "      <td>NaN</td>\n",
       "      <td>True</td>\n",
       "      <td>1</td>\n",
       "      <td>0</td>\n",
       "      <td>2</td>\n",
       "    </tr>\n",
       "    <tr>\n",
       "      <th>24509</th>\n",
       "      <td>167110</td>\n",
       "      <td>2019-11-08</td>\n",
       "      <td>in</td>\n",
       "      <td>NaN</td>\n",
       "      <td>NaN</td>\n",
       "      <td>True</td>\n",
       "      <td>2</td>\n",
       "      <td>0</td>\n",
       "      <td>9</td>\n",
       "    </tr>\n",
       "  </tbody>\n",
       "</table>\n",
       "</div>"
      ],
      "text/plain": [
       "       user_id       date direction internal  operator_id  is_missed_call  \\\n",
       "39519   167747 2019-10-18        in      NaN          NaN            True   \n",
       "29991   167272 2019-10-09        in      NaN     912684.0           False   \n",
       "44352   168041 2019-11-06        in      NaN     936514.0           False   \n",
       "52621   168361 2019-11-14        in      NaN          NaN            True   \n",
       "24509   167110 2019-11-08        in      NaN          NaN            True   \n",
       "\n",
       "       calls_count  call_duration  total_call_duration  \n",
       "39519            1              0                    8  \n",
       "29991            1            123                  175  \n",
       "44352            1              1                   24  \n",
       "52621            1              0                    2  \n",
       "24509            2              0                    9  "
      ]
     },
     "metadata": {},
     "output_type": "display_data"
    },
    {
     "name": "stdout",
     "output_type": "stream",
     "text": [
      "Направление вызовов в строках в пропусками:\n",
      " in     115\n",
      "out      2\n",
      "Name: direction, dtype: int64\n"
     ]
    }
   ],
   "source": [
    "print('Пропусков в столбце \"internal\"', data['internal'].isna().sum())\n",
    "display(data[data['internal'].isna()].sample(5))\n",
    "print('Направление вызовов в строках в пропусками:\\n', data[data['internal'].isna()]['direction'].value_counts())"
   ]
  },
  {
   "cell_type": "markdown",
   "metadata": {
    "id": "bJsyMH3586GY"
   },
   "source": [
    "Почти все записи с пропущенными значениями \"internal\" - это входящие вызовы. Думаю, здесь лучше заменить их на False - будем считать эти вызовы как из внешней сети для будущих расчётов, чтобы не удалять данные."
   ]
  },
  {
   "cell_type": "code",
   "execution_count": 7,
   "metadata": {
    "colab": {
     "base_uri": "https://localhost:8080/"
    },
    "id": "MpBCRGZy86GZ",
    "outputId": "90c6fc72-0e1f-4b70-f3ab-e0c039c13f4b"
   },
   "outputs": [
    {
     "name": "stdout",
     "output_type": "stream",
     "text": [
      "<class 'pandas.core.frame.DataFrame'>\n",
      "RangeIndex: 53902 entries, 0 to 53901\n",
      "Data columns (total 9 columns):\n",
      " #   Column               Non-Null Count  Dtype         \n",
      "---  ------               --------------  -----         \n",
      " 0   user_id              53902 non-null  int64         \n",
      " 1   date                 53902 non-null  datetime64[ns]\n",
      " 2   direction            53902 non-null  object        \n",
      " 3   internal             53902 non-null  bool          \n",
      " 4   operator_id          45730 non-null  float64       \n",
      " 5   is_missed_call       53902 non-null  bool          \n",
      " 6   calls_count          53902 non-null  int64         \n",
      " 7   call_duration        53902 non-null  int64         \n",
      " 8   total_call_duration  53902 non-null  int64         \n",
      "dtypes: bool(2), datetime64[ns](1), float64(1), int64(4), object(1)\n",
      "memory usage: 3.0+ MB\n"
     ]
    }
   ],
   "source": [
    "data['internal'] = data['internal'].fillna(False)\n",
    "data.info()"
   ]
  },
  {
   "cell_type": "markdown",
   "metadata": {
    "id": "fCafgoMJ86GZ"
   },
   "source": [
    "Теперь изучим столбец 'operator_id' на пропуски. Посмотрим, сколько пропущенных значений здесь, какова средняя продолжительность вызовов."
   ]
  },
  {
   "cell_type": "code",
   "execution_count": 8,
   "metadata": {
    "colab": {
     "base_uri": "https://localhost:8080/",
     "height": 340
    },
    "id": "6CUwQg7b86Ga",
    "outputId": "a0e25ded-3f55-4964-cab3-8b32e7cd22f1"
   },
   "outputs": [
    {
     "data": {
      "text/plain": [
       "count     8172.000000\n",
       "mean        66.013828\n",
       "std        954.840945\n",
       "min          0.000000\n",
       "25%          0.000000\n",
       "50%          0.000000\n",
       "75%          0.000000\n",
       "max      26175.000000\n",
       "Name: call_duration, dtype: float64"
      ]
     },
     "metadata": {},
     "output_type": "display_data"
    },
    {
     "data": {
      "text/plain": [
       "count     8172.000000\n",
       "mean       233.756118\n",
       "std       1252.370402\n",
       "min          0.000000\n",
       "25%          7.000000\n",
       "50%         35.000000\n",
       "75%        115.000000\n",
       "max      42667.000000\n",
       "Name: total_call_duration, dtype: float64"
      ]
     },
     "metadata": {},
     "output_type": "display_data"
    }
   ],
   "source": [
    " #смотрим характер числовых значений длительности и количества звонков в строках, где оператор не указан\n",
    "display(data[data['operator_id'].isna()]['call_duration'].describe())\n",
    "display(data[data['operator_id'].isna()]['total_call_duration'].describe())"
   ]
  },
  {
   "cell_type": "markdown",
   "metadata": {
    "id": "Opy2aiGO86Gb"
   },
   "source": [
    "Пропущенных значений в столбце с оператором довольно много, и в подавляющем числе случаев это несостоявшиеся звонки. Есть и аномальные выбросы, с длительностью звонка до 26175 секунд. Удалять данные здесь не будем, так как при расчёте расходов учитывается время звонка с ожиданием, эти строки нам будут нужны. Заполнить пропущенные значения поля *operator_id* тоже не представляется возможным.  \n",
    "Теперь найдём строки дубликаты в датафрейме."
   ]
  },
  {
   "cell_type": "code",
   "execution_count": 9,
   "metadata": {
    "colab": {
     "base_uri": "https://localhost:8080/",
     "height": 287
    },
    "id": "uPFPog0BqiLO",
    "outputId": "6bb0534d-b3cc-4c6f-d54f-79df55b9b028"
   },
   "outputs": [
    {
     "name": "stdout",
     "output_type": "stream",
     "text": [
      "Всего дубликатов в датафрейме: 4900\n"
     ]
    },
    {
     "data": {
      "text/html": [
       "<div>\n",
       "<style scoped>\n",
       "    .dataframe tbody tr th:only-of-type {\n",
       "        vertical-align: middle;\n",
       "    }\n",
       "\n",
       "    .dataframe tbody tr th {\n",
       "        vertical-align: top;\n",
       "    }\n",
       "\n",
       "    .dataframe thead th {\n",
       "        text-align: right;\n",
       "    }\n",
       "</style>\n",
       "<table border=\"1\" class=\"dataframe\">\n",
       "  <thead>\n",
       "    <tr style=\"text-align: right;\">\n",
       "      <th></th>\n",
       "      <th>user_id</th>\n",
       "      <th>date</th>\n",
       "      <th>direction</th>\n",
       "      <th>internal</th>\n",
       "      <th>operator_id</th>\n",
       "      <th>is_missed_call</th>\n",
       "      <th>calls_count</th>\n",
       "      <th>call_duration</th>\n",
       "      <th>total_call_duration</th>\n",
       "    </tr>\n",
       "  </thead>\n",
       "  <tbody>\n",
       "    <tr>\n",
       "      <th>8</th>\n",
       "      <td>166377</td>\n",
       "      <td>2019-08-05</td>\n",
       "      <td>out</td>\n",
       "      <td>False</td>\n",
       "      <td>880020.0</td>\n",
       "      <td>True</td>\n",
       "      <td>8</td>\n",
       "      <td>0</td>\n",
       "      <td>50</td>\n",
       "    </tr>\n",
       "    <tr>\n",
       "      <th>28</th>\n",
       "      <td>166377</td>\n",
       "      <td>2019-08-12</td>\n",
       "      <td>in</td>\n",
       "      <td>False</td>\n",
       "      <td>NaN</td>\n",
       "      <td>True</td>\n",
       "      <td>2</td>\n",
       "      <td>0</td>\n",
       "      <td>34</td>\n",
       "    </tr>\n",
       "    <tr>\n",
       "      <th>44</th>\n",
       "      <td>166377</td>\n",
       "      <td>2019-08-14</td>\n",
       "      <td>out</td>\n",
       "      <td>False</td>\n",
       "      <td>880026.0</td>\n",
       "      <td>False</td>\n",
       "      <td>10</td>\n",
       "      <td>1567</td>\n",
       "      <td>1654</td>\n",
       "    </tr>\n",
       "    <tr>\n",
       "      <th>45</th>\n",
       "      <td>166377</td>\n",
       "      <td>2019-08-14</td>\n",
       "      <td>in</td>\n",
       "      <td>False</td>\n",
       "      <td>NaN</td>\n",
       "      <td>True</td>\n",
       "      <td>1</td>\n",
       "      <td>0</td>\n",
       "      <td>3</td>\n",
       "    </tr>\n",
       "    <tr>\n",
       "      <th>51</th>\n",
       "      <td>166377</td>\n",
       "      <td>2019-08-15</td>\n",
       "      <td>out</td>\n",
       "      <td>False</td>\n",
       "      <td>880026.0</td>\n",
       "      <td>False</td>\n",
       "      <td>11</td>\n",
       "      <td>1413</td>\n",
       "      <td>1473</td>\n",
       "    </tr>\n",
       "    <tr>\n",
       "      <th>62</th>\n",
       "      <td>166377</td>\n",
       "      <td>2019-08-19</td>\n",
       "      <td>out</td>\n",
       "      <td>False</td>\n",
       "      <td>880026.0</td>\n",
       "      <td>False</td>\n",
       "      <td>14</td>\n",
       "      <td>1519</td>\n",
       "      <td>1598</td>\n",
       "    </tr>\n",
       "    <tr>\n",
       "      <th>78</th>\n",
       "      <td>166377</td>\n",
       "      <td>2019-08-22</td>\n",
       "      <td>out</td>\n",
       "      <td>False</td>\n",
       "      <td>880026.0</td>\n",
       "      <td>True</td>\n",
       "      <td>6</td>\n",
       "      <td>0</td>\n",
       "      <td>55</td>\n",
       "    </tr>\n",
       "  </tbody>\n",
       "</table>\n",
       "</div>"
      ],
      "text/plain": [
       "    user_id       date direction  internal  operator_id  is_missed_call  \\\n",
       "8    166377 2019-08-05       out     False     880020.0            True   \n",
       "28   166377 2019-08-12        in     False          NaN            True   \n",
       "44   166377 2019-08-14       out     False     880026.0           False   \n",
       "45   166377 2019-08-14        in     False          NaN            True   \n",
       "51   166377 2019-08-15       out     False     880026.0           False   \n",
       "62   166377 2019-08-19       out     False     880026.0           False   \n",
       "78   166377 2019-08-22       out     False     880026.0            True   \n",
       "\n",
       "    calls_count  call_duration  total_call_duration  \n",
       "8             8              0                   50  \n",
       "28            2              0                   34  \n",
       "44           10           1567                 1654  \n",
       "45            1              0                    3  \n",
       "51           11           1413                 1473  \n",
       "62           14           1519                 1598  \n",
       "78            6              0                   55  "
      ]
     },
     "metadata": {},
     "output_type": "display_data"
    }
   ],
   "source": [
    "print('Всего дубликатов в датафрейме:', data.duplicated().sum())\n",
    "display(data[data.duplicated()].head(7))"
   ]
  },
  {
   "cell_type": "markdown",
   "metadata": {
    "id": "v8TLDDkpqiLP"
   },
   "source": [
    "Полных дубликатов в таблице достаточно много - около десяти процентов. Для нашего исследования от них нужно избавится, чтобы получить точные расчёты."
   ]
  },
  {
   "cell_type": "code",
   "execution_count": 10,
   "metadata": {
    "id": "6bEsyHkUqiLP"
   },
   "outputs": [],
   "source": [
    "data.drop_duplicates(inplace=True) #очищаем датафрейм от дубликатов"
   ]
  },
  {
   "cell_type": "markdown",
   "metadata": {
    "id": "zhGG2dDo86Gb"
   },
   "source": [
    "### Вывод\n",
    "\n",
    "Данные обработаны, с некоторых столбцах типы данных приведены к нужному виду, изучены пропуски в данных, произведено заполнение пропусков в столбце internal."
   ]
  },
  {
   "cell_type": "markdown",
   "metadata": {
    "id": "RXbMfFBn86Gb"
   },
   "source": [
    "<a id='section_4'></a>\n",
    "## 3. Исследовательский анализ данных\n",
    "### 3.1 Определим, за какой период у нас данные по использованию телефонии:\n"
   ]
  },
  {
   "cell_type": "code",
   "execution_count": 11,
   "metadata": {
    "colab": {
     "base_uri": "https://localhost:8080/"
    },
    "id": "bg45dlis86Gc",
    "outputId": "ffec080b-8dd5-4a6d-e8f4-956eca12fc82"
   },
   "outputs": [
    {
     "name": "stdout",
     "output_type": "stream",
     "text": [
      "Начальная дата в датасете 2019-08-02 00:00:00, конечная - 2019-11-28 00:00:00.\n"
     ]
    }
   ],
   "source": [
    "print(f'Начальная дата в датасете {data.date.min()}, конечная - {data.date.max()}.')"
   ]
  },
  {
   "cell_type": "markdown",
   "metadata": {
    "id": "vsp4_KAA86Gd"
   },
   "source": [
    "### 3. 2 Изучение активности клиентов"
   ]
  },
  {
   "cell_type": "code",
   "execution_count": 12,
   "metadata": {
    "colab": {
     "base_uri": "https://localhost:8080/"
    },
    "id": "kED9Crvs86Gd",
    "outputId": "bc198605-2a16-44b0-8f97-3a726dd35c47"
   },
   "outputs": [
    {
     "name": "stdout",
     "output_type": "stream",
     "text": [
      "Число уникальных клиентов: 307\n"
     ]
    }
   ],
   "source": [
    "print('Число уникальных клиентов:', data['user_id'].nunique())"
   ]
  },
  {
   "cell_type": "markdown",
   "metadata": {
    "id": "7zN5GJ5R86Ge"
   },
   "source": [
    "Для изучения активности посмотрим все данные, не только за последний месяц. Пользователи могут пользоваться связью нерегулярно, месяц от месяца."
   ]
  },
  {
   "cell_type": "code",
   "execution_count": 13,
   "metadata": {
    "colab": {
     "base_uri": "https://localhost:8080/",
     "height": 300
    },
    "id": "_1rJ4Dwd86Ge",
    "outputId": "fa61440d-3672-4c39-852c-882311d10aff"
   },
   "outputs": [
    {
     "data": {
      "text/html": [
       "<div>\n",
       "<style scoped>\n",
       "    .dataframe tbody tr th:only-of-type {\n",
       "        vertical-align: middle;\n",
       "    }\n",
       "\n",
       "    .dataframe tbody tr th {\n",
       "        vertical-align: top;\n",
       "    }\n",
       "\n",
       "    .dataframe thead th {\n",
       "        text-align: right;\n",
       "    }\n",
       "</style>\n",
       "<table border=\"1\" class=\"dataframe\">\n",
       "  <thead>\n",
       "    <tr style=\"text-align: right;\">\n",
       "      <th></th>\n",
       "      <th>user_id</th>\n",
       "      <th>total_call_duration</th>\n",
       "    </tr>\n",
       "  </thead>\n",
       "  <tbody>\n",
       "    <tr>\n",
       "      <th>count</th>\n",
       "      <td>307.000000</td>\n",
       "      <td>3.070000e+02</td>\n",
       "    </tr>\n",
       "    <tr>\n",
       "      <th>mean</th>\n",
       "      <td>167456.817590</td>\n",
       "      <td>1.846048e+05</td>\n",
       "    </tr>\n",
       "    <tr>\n",
       "      <th>std</th>\n",
       "      <td>612.584794</td>\n",
       "      <td>8.311251e+05</td>\n",
       "    </tr>\n",
       "    <tr>\n",
       "      <th>min</th>\n",
       "      <td>166377.000000</td>\n",
       "      <td>0.000000e+00</td>\n",
       "    </tr>\n",
       "    <tr>\n",
       "      <th>25%</th>\n",
       "      <td>166972.000000</td>\n",
       "      <td>1.248000e+03</td>\n",
       "    </tr>\n",
       "    <tr>\n",
       "      <th>50%</th>\n",
       "      <td>167455.000000</td>\n",
       "      <td>1.353800e+04</td>\n",
       "    </tr>\n",
       "    <tr>\n",
       "      <th>75%</th>\n",
       "      <td>167996.500000</td>\n",
       "      <td>1.033130e+05</td>\n",
       "    </tr>\n",
       "    <tr>\n",
       "      <th>max</th>\n",
       "      <td>168606.000000</td>\n",
       "      <td>1.183569e+07</td>\n",
       "    </tr>\n",
       "  </tbody>\n",
       "</table>\n",
       "</div>"
      ],
      "text/plain": [
       "             user_id  total_call_duration\n",
       "count     307.000000         3.070000e+02\n",
       "mean   167456.817590         1.846048e+05\n",
       "std       612.584794         8.311251e+05\n",
       "min    166377.000000         0.000000e+00\n",
       "25%    166972.000000         1.248000e+03\n",
       "50%    167455.000000         1.353800e+04\n",
       "75%    167996.500000         1.033130e+05\n",
       "max    168606.000000         1.183569e+07"
      ]
     },
     "execution_count": 13,
     "metadata": {},
     "output_type": "execute_result"
    }
   ],
   "source": [
    "gr = data.groupby('user_id')['total_call_duration'].sum().reset_index() # агрегируем по пользователям для изучения\n",
    "gr.describe()"
   ]
  },
  {
   "cell_type": "markdown",
   "metadata": {
    "id": "Y_fOnZ_D86Gf"
   },
   "source": [
    "Медиана здесь 13538 секунд за четыре месяца, это 56 минут за месяц. Неактивными буду считать тех, у кого менее 5 минут (300 секунд) звонков в общей сумме."
   ]
  },
  {
   "cell_type": "code",
   "execution_count": 14,
   "metadata": {
    "colab": {
     "base_uri": "https://localhost:8080/"
    },
    "id": "dU3R0OaA86Gf",
    "outputId": "113af895-4520-44b4-aa3b-2aab6374192a"
   },
   "outputs": [
    {
     "name": "stdout",
     "output_type": "stream",
     "text": [
      "Удалено неактивных пользователей: 34\n"
     ]
    }
   ],
   "source": [
    "nausers = gr.query('total_call_duration < 300')['user_id'].unique() #список неактивных пользователей\n",
    "print('Удалено неактивных пользователей:', len(nausers))\n",
    "cdata = data.query('user_id not in @nausers') #очищаем данные от неактивных пользователей"
   ]
  },
  {
   "cell_type": "markdown",
   "metadata": {
    "id": "JqWWD_1686Gg"
   },
   "source": [
    "### 3.3 Изучим данные на аномалии\n",
    "Сначала изучим операторов - есть ли среди них такие, через которых совершается аномальное количество звонков за день."
   ]
  },
  {
   "cell_type": "code",
   "execution_count": 15,
   "metadata": {
    "colab": {
     "base_uri": "https://localhost:8080/",
     "height": 354
    },
    "id": "EW8pI2ye86Gg",
    "outputId": "bec9e177-8b4a-4a95-c3f8-85be11d6ca5a"
   },
   "outputs": [
    {
     "data": {
      "text/html": [
       "<div>\n",
       "<style scoped>\n",
       "    .dataframe tbody tr th:only-of-type {\n",
       "        vertical-align: middle;\n",
       "    }\n",
       "\n",
       "    .dataframe tbody tr th {\n",
       "        vertical-align: top;\n",
       "    }\n",
       "\n",
       "    .dataframe thead th {\n",
       "        text-align: right;\n",
       "    }\n",
       "</style>\n",
       "<table border=\"1\" class=\"dataframe\">\n",
       "  <thead>\n",
       "    <tr style=\"text-align: right;\">\n",
       "      <th></th>\n",
       "      <th>calls_count</th>\n",
       "      <th>total_call_duration</th>\n",
       "    </tr>\n",
       "  </thead>\n",
       "  <tbody>\n",
       "    <tr>\n",
       "      <th>count</th>\n",
       "      <td>19647.000000</td>\n",
       "      <td>19647.000000</td>\n",
       "    </tr>\n",
       "    <tr>\n",
       "      <th>mean</th>\n",
       "      <td>35.738026</td>\n",
       "      <td>2794.670688</td>\n",
       "    </tr>\n",
       "    <tr>\n",
       "      <th>std</th>\n",
       "      <td>114.219206</td>\n",
       "      <td>7970.731649</td>\n",
       "    </tr>\n",
       "    <tr>\n",
       "      <th>min</th>\n",
       "      <td>1.000000</td>\n",
       "      <td>0.000000</td>\n",
       "    </tr>\n",
       "    <tr>\n",
       "      <th>25%</th>\n",
       "      <td>2.000000</td>\n",
       "      <td>194.000000</td>\n",
       "    </tr>\n",
       "    <tr>\n",
       "      <th>50%</th>\n",
       "      <td>9.000000</td>\n",
       "      <td>868.000000</td>\n",
       "    </tr>\n",
       "    <tr>\n",
       "      <th>75%</th>\n",
       "      <td>32.000000</td>\n",
       "      <td>2910.000000</td>\n",
       "    </tr>\n",
       "    <tr>\n",
       "      <th>max</th>\n",
       "      <td>5022.000000</td>\n",
       "      <td>189989.000000</td>\n",
       "    </tr>\n",
       "  </tbody>\n",
       "</table>\n",
       "</div>"
      ],
      "text/plain": [
       "        calls_count  total_call_duration\n",
       "count  19647.000000         19647.000000\n",
       "mean      35.738026          2794.670688\n",
       "std      114.219206          7970.731649\n",
       "min        1.000000             0.000000\n",
       "25%        2.000000           194.000000\n",
       "50%        9.000000           868.000000\n",
       "75%       32.000000          2910.000000\n",
       "max     5022.000000        189989.000000"
      ]
     },
     "metadata": {},
     "output_type": "display_data"
    },
    {
     "name": "stdout",
     "output_type": "stream",
     "text": [
      "Число уникальных операторов: 1074 \n",
      "95 и 99 перцентиль количества звонков в день на оператора [133. 347.] \n",
      "95 и 99 перцентиль продолжительности звонков в день на оператора [ 9633.7 23597.1]\n"
     ]
    }
   ],
   "source": [
    "gr_ops = data.groupby(['operator_id', 'date'])[['calls_count', 'total_call_duration']].sum()\n",
    "display(gr_ops.describe())\n",
    "print('Число уникальных операторов:', cdata['operator_id'].nunique(), \n",
    "      '\\n95 и 99 перцентиль количества звонков в день на оператора', np.percentile(gr_ops['calls_count'], [95, 99]),\n",
    "      '\\n95 и 99 перцентиль продолжительности звонков в день на оператора', np.percentile(gr_ops['total_call_duration'], [95, 99]))"
   ]
  },
  {
   "cell_type": "markdown",
   "metadata": {
    "id": "RHz5R5oMDz-Q"
   },
   "source": [
    "Сразу видно, что имеются сильные выбросы в данных, аномальные значения количества звонков и суммы их продолжительности. Всё же, 99 процентов значений - это количество звонков в день через оператора меньше 400 при общей продолжительности 7,5 часов - вполне адекватные значения. Что считать аномальными значениями? Я предполагаю, что через оператора за 11 часов рабочей смены точно не может проходить больше 500 звонков, и продолжительность звонков за день быть больше 40000 секунд. Посмотрим, сколько таких операторов."
   ]
  },
  {
   "cell_type": "code",
   "execution_count": 16,
   "metadata": {
    "colab": {
     "base_uri": "https://localhost:8080/"
    },
    "id": "vcMjDZnBIut1",
    "outputId": "71ffde3c-2264-4152-d66e-db53168c97c5"
   },
   "outputs": [
    {
     "name": "stdout",
     "output_type": "stream",
     "text": [
      "Список аномальных операторов: [885876 885890 908640 925922 929424 929426 929428 945278 952948], всего 9.\n"
     ]
    }
   ],
   "source": [
    "gr_ops.reset_index(inplace=True)\n",
    "abnormal_operators = gr_ops.query('calls_count > 500 or total_call_duration > 40000')['operator_id'].unique().astype('int')\n",
    "print(f'Список аномальных операторов: {abnormal_operators}, всего {len(abnormal_operators)}.')"
   ]
  },
  {
   "cell_type": "markdown",
   "metadata": {
    "id": "V93oetZlLNjl"
   },
   "source": [
    "У нас есть список аномальных операторов. Возможная причина того, что такие аномальные данные появились - это сбои системы, либо несколько узлов связи паралельно регистрировались в системе как один оператор.\n",
    "\n",
    "Нужно выделить клиентов, которые обслуживаются этими аномальными операторами."
   ]
  },
  {
   "cell_type": "code",
   "execution_count": 17,
   "metadata": {
    "colab": {
     "base_uri": "https://localhost:8080/"
    },
    "id": "SbiNFR-uqiLa",
    "outputId": "1291923c-7a10-4718-bf18-bc0315aa484b"
   },
   "outputs": [
    {
     "name": "stdout",
     "output_type": "stream",
     "text": [
      "Список клиентов у аномальных операторов: [166582 167285 167827 168253 168361], всего 5.\n"
     ]
    }
   ],
   "source": [
    "abnornal_clients = data.query('operator_id in @abnormal_operators')['user_id'].unique()\n",
    "print(f'Список клиентов у аномальных операторов: {abnornal_clients}, всего {len(abnornal_clients)}.')"
   ]
  },
  {
   "cell_type": "code",
   "execution_count": 18,
   "metadata": {
    "id": "XAnwfHa_qiLa"
   },
   "outputs": [],
   "source": [
    "#очищаем данные от клиентов, обслуживаемых у аномальных операторов\n",
    "cdata = data.query('user_id not in @abnornal_clients')"
   ]
  },
  {
   "cell_type": "markdown",
   "metadata": {
    "id": "0ePgni-N86Gj"
   },
   "source": [
    "### 3.4 Подсчёт ежемесячных расходов пользователей на связь в соответствии с их тарифами\n"
   ]
  },
  {
   "cell_type": "code",
   "execution_count": 19,
   "metadata": {
    "colab": {
     "base_uri": "https://localhost:8080/",
     "height": 531
    },
    "id": "2r_BhO6bShbN",
    "outputId": "9663b1e1-ceff-4c81-c1bc-8488f68f2e0c"
   },
   "outputs": [
    {
     "data": {
      "text/html": [
       "<div>\n",
       "<style scoped>\n",
       "    .dataframe tbody tr th:only-of-type {\n",
       "        vertical-align: middle;\n",
       "    }\n",
       "\n",
       "    .dataframe tbody tr th {\n",
       "        vertical-align: top;\n",
       "    }\n",
       "\n",
       "    .dataframe thead th {\n",
       "        text-align: right;\n",
       "    }\n",
       "</style>\n",
       "<table border=\"1\" class=\"dataframe\">\n",
       "  <thead>\n",
       "    <tr style=\"text-align: right;\">\n",
       "      <th></th>\n",
       "      <th>user_id</th>\n",
       "      <th>date</th>\n",
       "      <th>direction</th>\n",
       "      <th>internal</th>\n",
       "      <th>operator_id</th>\n",
       "      <th>is_missed_call</th>\n",
       "      <th>calls_count</th>\n",
       "      <th>call_duration</th>\n",
       "      <th>total_call_duration</th>\n",
       "      <th>month</th>\n",
       "    </tr>\n",
       "  </thead>\n",
       "  <tbody>\n",
       "    <tr>\n",
       "      <th>1</th>\n",
       "      <td>166377</td>\n",
       "      <td>2019-08-05</td>\n",
       "      <td>out</td>\n",
       "      <td>True</td>\n",
       "      <td>880022.0</td>\n",
       "      <td>True</td>\n",
       "      <td>3</td>\n",
       "      <td>0</td>\n",
       "      <td>5</td>\n",
       "      <td>2019-08</td>\n",
       "    </tr>\n",
       "    <tr>\n",
       "      <th>2</th>\n",
       "      <td>166377</td>\n",
       "      <td>2019-08-05</td>\n",
       "      <td>out</td>\n",
       "      <td>True</td>\n",
       "      <td>880020.0</td>\n",
       "      <td>True</td>\n",
       "      <td>1</td>\n",
       "      <td>0</td>\n",
       "      <td>1</td>\n",
       "      <td>2019-08</td>\n",
       "    </tr>\n",
       "    <tr>\n",
       "      <th>3</th>\n",
       "      <td>166377</td>\n",
       "      <td>2019-08-05</td>\n",
       "      <td>out</td>\n",
       "      <td>True</td>\n",
       "      <td>880020.0</td>\n",
       "      <td>False</td>\n",
       "      <td>1</td>\n",
       "      <td>10</td>\n",
       "      <td>18</td>\n",
       "      <td>2019-08</td>\n",
       "    </tr>\n",
       "    <tr>\n",
       "      <th>4</th>\n",
       "      <td>166377</td>\n",
       "      <td>2019-08-05</td>\n",
       "      <td>out</td>\n",
       "      <td>False</td>\n",
       "      <td>880022.0</td>\n",
       "      <td>True</td>\n",
       "      <td>3</td>\n",
       "      <td>0</td>\n",
       "      <td>25</td>\n",
       "      <td>2019-08</td>\n",
       "    </tr>\n",
       "    <tr>\n",
       "      <th>5</th>\n",
       "      <td>166377</td>\n",
       "      <td>2019-08-05</td>\n",
       "      <td>out</td>\n",
       "      <td>False</td>\n",
       "      <td>880020.0</td>\n",
       "      <td>False</td>\n",
       "      <td>2</td>\n",
       "      <td>3</td>\n",
       "      <td>29</td>\n",
       "      <td>2019-08</td>\n",
       "    </tr>\n",
       "    <tr>\n",
       "      <th>...</th>\n",
       "      <td>...</td>\n",
       "      <td>...</td>\n",
       "      <td>...</td>\n",
       "      <td>...</td>\n",
       "      <td>...</td>\n",
       "      <td>...</td>\n",
       "      <td>...</td>\n",
       "      <td>...</td>\n",
       "      <td>...</td>\n",
       "      <td>...</td>\n",
       "    </tr>\n",
       "    <tr>\n",
       "      <th>53895</th>\n",
       "      <td>168606</td>\n",
       "      <td>2019-11-09</td>\n",
       "      <td>out</td>\n",
       "      <td>False</td>\n",
       "      <td>957922.0</td>\n",
       "      <td>False</td>\n",
       "      <td>4</td>\n",
       "      <td>551</td>\n",
       "      <td>593</td>\n",
       "      <td>2019-11</td>\n",
       "    </tr>\n",
       "    <tr>\n",
       "      <th>53896</th>\n",
       "      <td>168606</td>\n",
       "      <td>2019-11-10</td>\n",
       "      <td>out</td>\n",
       "      <td>True</td>\n",
       "      <td>957922.0</td>\n",
       "      <td>False</td>\n",
       "      <td>1</td>\n",
       "      <td>0</td>\n",
       "      <td>25</td>\n",
       "      <td>2019-11</td>\n",
       "    </tr>\n",
       "    <tr>\n",
       "      <th>53897</th>\n",
       "      <td>168606</td>\n",
       "      <td>2019-11-10</td>\n",
       "      <td>out</td>\n",
       "      <td>True</td>\n",
       "      <td>957922.0</td>\n",
       "      <td>True</td>\n",
       "      <td>1</td>\n",
       "      <td>0</td>\n",
       "      <td>38</td>\n",
       "      <td>2019-11</td>\n",
       "    </tr>\n",
       "    <tr>\n",
       "      <th>53898</th>\n",
       "      <td>168606</td>\n",
       "      <td>2019-11-11</td>\n",
       "      <td>out</td>\n",
       "      <td>True</td>\n",
       "      <td>957922.0</td>\n",
       "      <td>False</td>\n",
       "      <td>2</td>\n",
       "      <td>479</td>\n",
       "      <td>501</td>\n",
       "      <td>2019-11</td>\n",
       "    </tr>\n",
       "    <tr>\n",
       "      <th>53899</th>\n",
       "      <td>168606</td>\n",
       "      <td>2019-11-15</td>\n",
       "      <td>out</td>\n",
       "      <td>True</td>\n",
       "      <td>957922.0</td>\n",
       "      <td>False</td>\n",
       "      <td>4</td>\n",
       "      <td>3130</td>\n",
       "      <td>3190</td>\n",
       "      <td>2019-11</td>\n",
       "    </tr>\n",
       "  </tbody>\n",
       "</table>\n",
       "<p>27161 rows × 10 columns</p>\n",
       "</div>"
      ],
      "text/plain": [
       "       user_id       date direction  internal  operator_id  is_missed_call  \\\n",
       "1       166377 2019-08-05       out      True     880022.0            True   \n",
       "2       166377 2019-08-05       out      True     880020.0            True   \n",
       "3       166377 2019-08-05       out      True     880020.0           False   \n",
       "4       166377 2019-08-05       out     False     880022.0            True   \n",
       "5       166377 2019-08-05       out     False     880020.0           False   \n",
       "...        ...        ...       ...       ...          ...             ...   \n",
       "53895   168606 2019-11-09       out     False     957922.0           False   \n",
       "53896   168606 2019-11-10       out      True     957922.0           False   \n",
       "53897   168606 2019-11-10       out      True     957922.0            True   \n",
       "53898   168606 2019-11-11       out      True     957922.0           False   \n",
       "53899   168606 2019-11-15       out      True     957922.0           False   \n",
       "\n",
       "       calls_count  call_duration  total_call_duration    month  \n",
       "1                3              0                    5  2019-08  \n",
       "2                1              0                    1  2019-08  \n",
       "3                1             10                   18  2019-08  \n",
       "4                3              0                   25  2019-08  \n",
       "5                2              3                   29  2019-08  \n",
       "...            ...            ...                  ...      ...  \n",
       "53895            4            551                  593  2019-11  \n",
       "53896            1              0                   25  2019-11  \n",
       "53897            1              0                   38  2019-11  \n",
       "53898            2            479                  501  2019-11  \n",
       "53899            4           3130                 3190  2019-11  \n",
       "\n",
       "[27161 rows x 10 columns]"
      ]
     },
     "execution_count": 19,
     "metadata": {},
     "output_type": "execute_result"
    }
   ],
   "source": [
    "#округлим даты до месяца, для дальнейшей группировки и подсчёта\n",
    "cdata['month'] = cdata['date'].dt.to_period('M')\n",
    "#исключаем все входящие звонки из таблицы, так как они бесплатны на всех тарифах\n",
    "cdata = cdata.query('direction==\"out\"')\n",
    "cdata"
   ]
  },
  {
   "cell_type": "code",
   "execution_count": 20,
   "metadata": {
    "colab": {
     "base_uri": "https://localhost:8080/",
     "height": 206
    },
    "id": "EIb0vcsZBO7w",
    "outputId": "3aaed48f-7060-425d-c4d0-863cbda5927b"
   },
   "outputs": [
    {
     "data": {
      "text/html": [
       "<div>\n",
       "<style scoped>\n",
       "    .dataframe tbody tr th:only-of-type {\n",
       "        vertical-align: middle;\n",
       "    }\n",
       "\n",
       "    .dataframe tbody tr th {\n",
       "        vertical-align: top;\n",
       "    }\n",
       "\n",
       "    .dataframe thead th {\n",
       "        text-align: right;\n",
       "    }\n",
       "</style>\n",
       "<table border=\"1\" class=\"dataframe\">\n",
       "  <thead>\n",
       "    <tr style=\"text-align: right;\">\n",
       "      <th></th>\n",
       "      <th>user_id</th>\n",
       "      <th>month</th>\n",
       "      <th>operators</th>\n",
       "    </tr>\n",
       "  </thead>\n",
       "  <tbody>\n",
       "    <tr>\n",
       "      <th>0</th>\n",
       "      <td>166377</td>\n",
       "      <td>2019-08</td>\n",
       "      <td>5</td>\n",
       "    </tr>\n",
       "    <tr>\n",
       "      <th>1</th>\n",
       "      <td>166377</td>\n",
       "      <td>2019-09</td>\n",
       "      <td>4</td>\n",
       "    </tr>\n",
       "    <tr>\n",
       "      <th>2</th>\n",
       "      <td>166377</td>\n",
       "      <td>2019-10</td>\n",
       "      <td>5</td>\n",
       "    </tr>\n",
       "    <tr>\n",
       "      <th>3</th>\n",
       "      <td>166377</td>\n",
       "      <td>2019-11</td>\n",
       "      <td>4</td>\n",
       "    </tr>\n",
       "    <tr>\n",
       "      <th>4</th>\n",
       "      <td>166391</td>\n",
       "      <td>2019-08</td>\n",
       "      <td>1</td>\n",
       "    </tr>\n",
       "  </tbody>\n",
       "</table>\n",
       "</div>"
      ],
      "text/plain": [
       "   user_id    month  operators\n",
       "0   166377  2019-08          5\n",
       "1   166377  2019-09          4\n",
       "2   166377  2019-10          5\n",
       "3   166377  2019-11          4\n",
       "4   166391  2019-08          1"
      ]
     },
     "execution_count": 20,
     "metadata": {},
     "output_type": "execute_result"
    }
   ],
   "source": [
    "#подсчёт уникальных операторов за каждый месяц\n",
    "agr_operators = cdata.groupby(['user_id', 'month']).agg({'operator_id':'nunique'}).reset_index()\n",
    "agr_operators.rename(columns = {'operator_id':'operators'}, inplace = True)\n",
    "agr_operators.head(5)"
   ]
  },
  {
   "cell_type": "code",
   "execution_count": 21,
   "metadata": {
    "id": "t-_yA-QEgVEe"
   },
   "outputs": [],
   "source": [
    "#создаём отдельные колонки для звонков внутри сети и наружу, считаем минуты звонков с округлением вверх\n",
    "internal_pivot = cdata.pivot_table(index=['user_id', 'month'], columns='internal', values = 'total_call_duration', aggfunc='sum')\n",
    "internal_pivot.rename(columns = {True:'internal_minutes', False:'outer_minutes'}, inplace = True)\n",
    "internal_pivot['internal_minutes'] = np.ceil(internal_pivot['internal_minutes']/60)\n",
    "internal_pivot['outer_minutes'] = np.ceil(internal_pivot['outer_minutes']/60)\n",
    "internal_pivot.reset_index(inplace = True)\n",
    "internal_pivot['outer_minutes'] = internal_pivot['outer_minutes'].fillna(0)\n",
    "internal_pivot['internal_minutes'] = internal_pivot['internal_minutes'].fillna(0)"
   ]
  },
  {
   "cell_type": "code",
   "execution_count": 22,
   "metadata": {
    "colab": {
     "base_uri": "https://localhost:8080/",
     "height": 206
    },
    "id": "q39KyiabkSyX",
    "outputId": "35d38ecc-4033-4451-d971-cdc7d02190f5"
   },
   "outputs": [
    {
     "data": {
      "text/html": [
       "<div>\n",
       "<style scoped>\n",
       "    .dataframe tbody tr th:only-of-type {\n",
       "        vertical-align: middle;\n",
       "    }\n",
       "\n",
       "    .dataframe tbody tr th {\n",
       "        vertical-align: top;\n",
       "    }\n",
       "\n",
       "    .dataframe thead th {\n",
       "        text-align: right;\n",
       "    }\n",
       "</style>\n",
       "<table border=\"1\" class=\"dataframe\">\n",
       "  <thead>\n",
       "    <tr style=\"text-align: right;\">\n",
       "      <th></th>\n",
       "      <th>user_id</th>\n",
       "      <th>month</th>\n",
       "      <th>outer_minutes</th>\n",
       "      <th>internal_minutes</th>\n",
       "      <th>operators</th>\n",
       "      <th>tariff_plan</th>\n",
       "    </tr>\n",
       "  </thead>\n",
       "  <tbody>\n",
       "    <tr>\n",
       "      <th>0</th>\n",
       "      <td>166377</td>\n",
       "      <td>2019-08</td>\n",
       "      <td>1301.0</td>\n",
       "      <td>2.0</td>\n",
       "      <td>5</td>\n",
       "      <td>B</td>\n",
       "    </tr>\n",
       "    <tr>\n",
       "      <th>1</th>\n",
       "      <td>166377</td>\n",
       "      <td>2019-09</td>\n",
       "      <td>1764.0</td>\n",
       "      <td>1.0</td>\n",
       "      <td>4</td>\n",
       "      <td>B</td>\n",
       "    </tr>\n",
       "    <tr>\n",
       "      <th>2</th>\n",
       "      <td>166377</td>\n",
       "      <td>2019-10</td>\n",
       "      <td>1654.0</td>\n",
       "      <td>1.0</td>\n",
       "      <td>5</td>\n",
       "      <td>B</td>\n",
       "    </tr>\n",
       "    <tr>\n",
       "      <th>3</th>\n",
       "      <td>166377</td>\n",
       "      <td>2019-11</td>\n",
       "      <td>1590.0</td>\n",
       "      <td>3.0</td>\n",
       "      <td>4</td>\n",
       "      <td>B</td>\n",
       "    </tr>\n",
       "    <tr>\n",
       "      <th>4</th>\n",
       "      <td>166391</td>\n",
       "      <td>2019-08</td>\n",
       "      <td>0.0</td>\n",
       "      <td>1.0</td>\n",
       "      <td>1</td>\n",
       "      <td>C</td>\n",
       "    </tr>\n",
       "  </tbody>\n",
       "</table>\n",
       "</div>"
      ],
      "text/plain": [
       "   user_id    month  outer_minutes  internal_minutes  operators tariff_plan\n",
       "0   166377  2019-08         1301.0               2.0          5           B\n",
       "1   166377  2019-09         1764.0               1.0          4           B\n",
       "2   166377  2019-10         1654.0               1.0          5           B\n",
       "3   166377  2019-11         1590.0               3.0          4           B\n",
       "4   166391  2019-08            0.0               1.0          1           C"
      ]
     },
     "execution_count": 22,
     "metadata": {},
     "output_type": "execute_result"
    }
   ],
   "source": [
    "#делаем общую агрегированную таблицу по пользователям за каждый месяц использования связи, присоединяем таблицу с наименованием текущего тарифа\n",
    "pivot_users = internal_pivot.merge(agr_operators[['user_id','month', 'operators']], on=['user_id','month'], how='left')\n",
    "pivot_users = pivot_users.merge(clients[['user_id','tariff_plan']], on='user_id', how='left')\n",
    "pivot_users.head(5)"
   ]
  },
  {
   "cell_type": "markdown",
   "metadata": {
    "id": "kKYY0wgp5bmC"
   },
   "source": [
    "Теперь у нас готова сводная таблица со всеми данными, нужными для подсчёта месячных расходов каждого пользователя в каждом месяце.  \n",
    "\n",
    "Согласно данным из задачи,  \n",
    "Ежемесячная плата за тариф:\n",
    "\n",
    "- Тариф А — 5000 ₽,\n",
    "- B — 2000 ₽,\n",
    "- С — 1000 ₽.\n",
    "\n",
    "**Входящие звонки** — бесплатны на всех тарифах,  \n",
    "**Исходящие звонки внутри сети** — бесплатны до 2000 минут в месяц на всех тарифах. Цена сверх лимита:\n",
    "\n",
    "- A — 0.1 ₽/мин.,\n",
    "- B — 0.15 ₽/мин.,\n",
    "- C — 0.3 ₽/мин.\n",
    "\n",
    "**Исходящие звонки, кроме внутренних:**\n",
    "\n",
    "- A — 0.4 ₽/мин.,\n",
    "- B — 0.5 ₽/мин.,\n",
    "- C — 0.7 ₽/мин.\n",
    "\n",
    "За каждого оператора клиент платит 100 ₽ в месяц на любом тарифе — дополнительно к стоимости тарифа и цене звонков. \n",
    "\n",
    "Задаём соответствующие значения в переменные."
   ]
  },
  {
   "cell_type": "code",
   "execution_count": 23,
   "metadata": {
    "id": "ra6nsKs85F1P"
   },
   "outputs": [],
   "source": [
    "rental_a = 5000 #абонентская плата тарифа А\n",
    "rental_b = 2000 #абонентская плата тарифа B\n",
    "rental_c = 1000 #абонентская плата тарифа C\n",
    "\n",
    "internal_limit = 2000 #месячный лимит на исходящие звонки внутри сети в минутах\n",
    "internal_a = 0.1 #цена за минуту исходящих вызовов внутри сети сверх лимита тарифа A\n",
    "internal_b = 0.15 #цена за минуту исходящих вызовов внутри сети сверх лимита тарифа B\n",
    "internal_c = 0.3 #цена за минуту исходящих вызовов внутри сети сверх лимита тарифа C\n",
    "\n",
    "outer_a = 0.4 #цена за минуту остальных исходящих вызовов тарифа А\n",
    "outer_b = 0.5 #цена за минуту остальных исходящих вызовов тарифа В\n",
    "outer_c = 0.7 #цена за минуту остальных исходящих вызовов тарифа С\n",
    "\n",
    "operator_price = 100 #цена за каждого уникального оператора в месяц"
   ]
  },
  {
   "cell_type": "markdown",
   "metadata": {
    "id": "aL3-Pfk2P617"
   },
   "source": [
    "Для анализа тарифов сразу расчитаем расходы пользователей, на всех трёх тарифах - и поместим результаты в отдельные колонки таблицы."
   ]
  },
  {
   "cell_type": "code",
   "execution_count": 24,
   "metadata": {
    "id": "GtMExAu9s281"
   },
   "outputs": [],
   "source": [
    "# это функция, которая задаёт значения переменных, с зависимости от заданного тарифа\n",
    "def tariff_price(tariff):\n",
    "    if tariff == 'A':\n",
    "        inter = internal_a #цена исходящей минуты внутри сети\n",
    "        out = outer_a #цена исходящей минуты наружу\n",
    "        rental = rental_a #фиксированная абонентская плата\n",
    "        return inter, out, rental \n",
    "    if tariff == 'B':\n",
    "        inter = internal_b\n",
    "        out = outer_b\n",
    "        rental = rental_b\n",
    "        return inter, out, rental\n",
    "    if tariff == 'C':\n",
    "        inter = internal_c\n",
    "        out = outer_c\n",
    "        rental = rental_c\n",
    "        return inter, out, rental\n",
    "    else: \n",
    "        return 'tariff does not exist'"
   ]
  },
  {
   "cell_type": "code",
   "execution_count": 25,
   "metadata": {
    "id": "dsS65uGPsWkj"
   },
   "outputs": [],
   "source": [
    "#функция непосредственно для расчёта расходов\n",
    "def calculation(row):\n",
    "    call_price=0\n",
    "    if row['internal_minutes'] > internal_limit: #проверка на превышение лимита по минутам внутри сети\n",
    "        call_price = (row['internal_minutes'] - internal_limit)*inter\n",
    "    price = call_price + (row['outer_minutes'] * out) + rental + (row['operators']*operator_price) #сумма абонентской платы, платы за операторов, минут звонков внутри и снаружи сети\n",
    "    return price"
   ]
  },
  {
   "cell_type": "code",
   "execution_count": 26,
   "metadata": {
    "id": "CglwvqEOttu3"
   },
   "outputs": [],
   "source": [
    "#применяем функции по очереди, добавляя результат в новые столбцы в таблице\n",
    "inter, out, rental = tariff_price('A')\n",
    "pivot_users['A'] = pivot_users.apply(calculation, axis=1)\n",
    "inter, out, rental = tariff_price('B')\n",
    "pivot_users['B'] = pivot_users.apply(calculation, axis=1)\n",
    "inter, out, rental = tariff_price('C')\n",
    "pivot_users['C'] = pivot_users.apply(calculation, axis=1)"
   ]
  },
  {
   "cell_type": "code",
   "execution_count": 27,
   "metadata": {
    "id": "lQI52faav-RQ"
   },
   "outputs": [],
   "source": [
    "#функция, добавляющая текущие расходы абонента по текущему тарифу\n",
    "def current_earning(row):\n",
    "    if row['tariff_plan'] == 'A':\n",
    "        return row['A']\n",
    "    if row['tariff_plan'] == 'B':\n",
    "        return row['B']\n",
    "    if row['tariff_plan'] == 'C':\n",
    "        return row['C']"
   ]
  },
  {
   "cell_type": "code",
   "execution_count": 28,
   "metadata": {
    "colab": {
     "base_uri": "https://localhost:8080/",
     "height": 206
    },
    "id": "SVMMrntFxkJH",
    "outputId": "3f54575c-e016-4bcb-f3c5-bfe5e55eee47"
   },
   "outputs": [
    {
     "data": {
      "text/html": [
       "<div>\n",
       "<style scoped>\n",
       "    .dataframe tbody tr th:only-of-type {\n",
       "        vertical-align: middle;\n",
       "    }\n",
       "\n",
       "    .dataframe tbody tr th {\n",
       "        vertical-align: top;\n",
       "    }\n",
       "\n",
       "    .dataframe thead th {\n",
       "        text-align: right;\n",
       "    }\n",
       "</style>\n",
       "<table border=\"1\" class=\"dataframe\">\n",
       "  <thead>\n",
       "    <tr style=\"text-align: right;\">\n",
       "      <th></th>\n",
       "      <th>user_id</th>\n",
       "      <th>month</th>\n",
       "      <th>outer_minutes</th>\n",
       "      <th>internal_minutes</th>\n",
       "      <th>operators</th>\n",
       "      <th>tariff_plan</th>\n",
       "      <th>A</th>\n",
       "      <th>B</th>\n",
       "      <th>C</th>\n",
       "      <th>current_earning</th>\n",
       "      <th>best_price</th>\n",
       "    </tr>\n",
       "  </thead>\n",
       "  <tbody>\n",
       "    <tr>\n",
       "      <th>0</th>\n",
       "      <td>166377</td>\n",
       "      <td>2019-08</td>\n",
       "      <td>1301.0</td>\n",
       "      <td>2.0</td>\n",
       "      <td>5</td>\n",
       "      <td>B</td>\n",
       "      <td>6020.4</td>\n",
       "      <td>3150.5</td>\n",
       "      <td>2410.7</td>\n",
       "      <td>3150.5</td>\n",
       "      <td>2410.7</td>\n",
       "    </tr>\n",
       "    <tr>\n",
       "      <th>1</th>\n",
       "      <td>166377</td>\n",
       "      <td>2019-09</td>\n",
       "      <td>1764.0</td>\n",
       "      <td>1.0</td>\n",
       "      <td>4</td>\n",
       "      <td>B</td>\n",
       "      <td>6105.6</td>\n",
       "      <td>3282.0</td>\n",
       "      <td>2634.8</td>\n",
       "      <td>3282.0</td>\n",
       "      <td>2634.8</td>\n",
       "    </tr>\n",
       "    <tr>\n",
       "      <th>2</th>\n",
       "      <td>166377</td>\n",
       "      <td>2019-10</td>\n",
       "      <td>1654.0</td>\n",
       "      <td>1.0</td>\n",
       "      <td>5</td>\n",
       "      <td>B</td>\n",
       "      <td>6161.6</td>\n",
       "      <td>3327.0</td>\n",
       "      <td>2657.8</td>\n",
       "      <td>3327.0</td>\n",
       "      <td>2657.8</td>\n",
       "    </tr>\n",
       "    <tr>\n",
       "      <th>3</th>\n",
       "      <td>166377</td>\n",
       "      <td>2019-11</td>\n",
       "      <td>1590.0</td>\n",
       "      <td>3.0</td>\n",
       "      <td>4</td>\n",
       "      <td>B</td>\n",
       "      <td>6036.0</td>\n",
       "      <td>3195.0</td>\n",
       "      <td>2513.0</td>\n",
       "      <td>3195.0</td>\n",
       "      <td>2513.0</td>\n",
       "    </tr>\n",
       "    <tr>\n",
       "      <th>4</th>\n",
       "      <td>166391</td>\n",
       "      <td>2019-08</td>\n",
       "      <td>0.0</td>\n",
       "      <td>1.0</td>\n",
       "      <td>1</td>\n",
       "      <td>C</td>\n",
       "      <td>5100.0</td>\n",
       "      <td>2100.0</td>\n",
       "      <td>1100.0</td>\n",
       "      <td>1100.0</td>\n",
       "      <td>1100.0</td>\n",
       "    </tr>\n",
       "  </tbody>\n",
       "</table>\n",
       "</div>"
      ],
      "text/plain": [
       "   user_id    month  outer_minutes  internal_minutes  operators tariff_plan  \\\n",
       "0   166377  2019-08         1301.0               2.0          5           B   \n",
       "1   166377  2019-09         1764.0               1.0          4           B   \n",
       "2   166377  2019-10         1654.0               1.0          5           B   \n",
       "3   166377  2019-11         1590.0               3.0          4           B   \n",
       "4   166391  2019-08            0.0               1.0          1           C   \n",
       "\n",
       "        A       B       C  current_earning  best_price  \n",
       "0  6020.4  3150.5  2410.7           3150.5      2410.7  \n",
       "1  6105.6  3282.0  2634.8           3282.0      2634.8  \n",
       "2  6161.6  3327.0  2657.8           3327.0      2657.8  \n",
       "3  6036.0  3195.0  2513.0           3195.0      2513.0  \n",
       "4  5100.0  2100.0  1100.0           1100.0      1100.0  "
      ]
     },
     "execution_count": 28,
     "metadata": {},
     "output_type": "execute_result"
    }
   ],
   "source": [
    "pivot_users['current_earning'] = pivot_users.apply(current_earning, axis=1)\n",
    "#теперь выбираем из трёх тарифов самый дешёвый, результат колонка 'best_price'\n",
    "pivot_users['best_price'] = pivot_users.apply(lambda row: min(row['A'], row['B'], row['C']), axis=1)\n",
    "pivot_users.head(5)"
   ]
  },
  {
   "cell_type": "markdown",
   "metadata": {
    "id": "r1Peo4gK2Qla"
   },
   "source": [
    "Финальная таблица почти готова - теперь найдем средние значения за все четыре месяца - сгруппируем данные по пользователям."
   ]
  },
  {
   "cell_type": "code",
   "execution_count": 29,
   "metadata": {
    "id": "g_pqi6X-0klh"
   },
   "outputs": [],
   "source": [
    "#функция, которая выводит название самого выгодного тарифа для пользователя\n",
    "def best_tarif(row):\n",
    "    if row['current_earning'] == row['best_price']: #если текущий тариф и так самый выгодный\n",
    "        return 'CURRENT'\n",
    "    if row['best_price'] == row['A']:\n",
    "        return 'A'\n",
    "    if row['best_price'] == row['B']:\n",
    "        return 'B'\n",
    "    if row['best_price'] <= row['C']:\n",
    "        return 'C'"
   ]
  },
  {
   "cell_type": "code",
   "execution_count": 30,
   "metadata": {
    "colab": {
     "base_uri": "https://localhost:8080/",
     "height": 206
    },
    "id": "bAfllAd00hm0",
    "outputId": "7a95264d-efb0-4f2c-9881-d3083daeac7c"
   },
   "outputs": [
    {
     "data": {
      "text/html": [
       "<div>\n",
       "<style scoped>\n",
       "    .dataframe tbody tr th:only-of-type {\n",
       "        vertical-align: middle;\n",
       "    }\n",
       "\n",
       "    .dataframe tbody tr th {\n",
       "        vertical-align: top;\n",
       "    }\n",
       "\n",
       "    .dataframe thead th {\n",
       "        text-align: right;\n",
       "    }\n",
       "</style>\n",
       "<table border=\"1\" class=\"dataframe\">\n",
       "  <thead>\n",
       "    <tr style=\"text-align: right;\">\n",
       "      <th></th>\n",
       "      <th>user_id</th>\n",
       "      <th>month</th>\n",
       "      <th>outer_minutes</th>\n",
       "      <th>internal_minutes</th>\n",
       "      <th>operators</th>\n",
       "      <th>tariff_plan</th>\n",
       "      <th>A</th>\n",
       "      <th>B</th>\n",
       "      <th>C</th>\n",
       "      <th>current_earning</th>\n",
       "      <th>best_price</th>\n",
       "      <th>best_tarif</th>\n",
       "    </tr>\n",
       "  </thead>\n",
       "  <tbody>\n",
       "    <tr>\n",
       "      <th>0</th>\n",
       "      <td>166377</td>\n",
       "      <td>2019-08</td>\n",
       "      <td>1301.0</td>\n",
       "      <td>2.0</td>\n",
       "      <td>5</td>\n",
       "      <td>B</td>\n",
       "      <td>6020.4</td>\n",
       "      <td>3150.5</td>\n",
       "      <td>2410.7</td>\n",
       "      <td>3150.5</td>\n",
       "      <td>2410.7</td>\n",
       "      <td>C</td>\n",
       "    </tr>\n",
       "    <tr>\n",
       "      <th>1</th>\n",
       "      <td>166377</td>\n",
       "      <td>2019-09</td>\n",
       "      <td>1764.0</td>\n",
       "      <td>1.0</td>\n",
       "      <td>4</td>\n",
       "      <td>B</td>\n",
       "      <td>6105.6</td>\n",
       "      <td>3282.0</td>\n",
       "      <td>2634.8</td>\n",
       "      <td>3282.0</td>\n",
       "      <td>2634.8</td>\n",
       "      <td>C</td>\n",
       "    </tr>\n",
       "    <tr>\n",
       "      <th>2</th>\n",
       "      <td>166377</td>\n",
       "      <td>2019-10</td>\n",
       "      <td>1654.0</td>\n",
       "      <td>1.0</td>\n",
       "      <td>5</td>\n",
       "      <td>B</td>\n",
       "      <td>6161.6</td>\n",
       "      <td>3327.0</td>\n",
       "      <td>2657.8</td>\n",
       "      <td>3327.0</td>\n",
       "      <td>2657.8</td>\n",
       "      <td>C</td>\n",
       "    </tr>\n",
       "    <tr>\n",
       "      <th>3</th>\n",
       "      <td>166377</td>\n",
       "      <td>2019-11</td>\n",
       "      <td>1590.0</td>\n",
       "      <td>3.0</td>\n",
       "      <td>4</td>\n",
       "      <td>B</td>\n",
       "      <td>6036.0</td>\n",
       "      <td>3195.0</td>\n",
       "      <td>2513.0</td>\n",
       "      <td>3195.0</td>\n",
       "      <td>2513.0</td>\n",
       "      <td>C</td>\n",
       "    </tr>\n",
       "    <tr>\n",
       "      <th>4</th>\n",
       "      <td>166391</td>\n",
       "      <td>2019-08</td>\n",
       "      <td>0.0</td>\n",
       "      <td>1.0</td>\n",
       "      <td>1</td>\n",
       "      <td>C</td>\n",
       "      <td>5100.0</td>\n",
       "      <td>2100.0</td>\n",
       "      <td>1100.0</td>\n",
       "      <td>1100.0</td>\n",
       "      <td>1100.0</td>\n",
       "      <td>CURRENT</td>\n",
       "    </tr>\n",
       "  </tbody>\n",
       "</table>\n",
       "</div>"
      ],
      "text/plain": [
       "   user_id    month  outer_minutes  internal_minutes  operators tariff_plan  \\\n",
       "0   166377  2019-08         1301.0               2.0          5           B   \n",
       "1   166377  2019-09         1764.0               1.0          4           B   \n",
       "2   166377  2019-10         1654.0               1.0          5           B   \n",
       "3   166377  2019-11         1590.0               3.0          4           B   \n",
       "4   166391  2019-08            0.0               1.0          1           C   \n",
       "\n",
       "        A       B       C  current_earning  best_price best_tarif  \n",
       "0  6020.4  3150.5  2410.7           3150.5      2410.7          C  \n",
       "1  6105.6  3282.0  2634.8           3282.0      2634.8          C  \n",
       "2  6161.6  3327.0  2657.8           3327.0      2657.8          C  \n",
       "3  6036.0  3195.0  2513.0           3195.0      2513.0          C  \n",
       "4  5100.0  2100.0  1100.0           1100.0      1100.0    CURRENT  "
      ]
     },
     "execution_count": 30,
     "metadata": {},
     "output_type": "execute_result"
    }
   ],
   "source": [
    "pivot_users['best_tarif'] = pivot_users.apply(best_tarif, axis=1)\n",
    "pivot_users.head(5)"
   ]
  },
  {
   "cell_type": "markdown",
   "metadata": {
    "id": "OijAZDorqiLk"
   },
   "source": [
    "Для каждого месяца здесь у нас расчитан наилучший тариф. Но прежде, чем предлагать новый тариф пользователям, надо быть уверенным, что он подходит им хорошо. Во-первых, если у пользователя ещё не установились обьемы пользования связью, смысла предлагать новый тариф нет. В список добавим только тех, кто пользуется связью большще двух месяцев. Также будем предлагать новый тариф, только если он выгоден им на протяжении всех месяцев пользования связью."
   ]
  },
  {
   "cell_type": "code",
   "execution_count": 31,
   "metadata": {
    "colab": {
     "base_uri": "https://localhost:8080/",
     "height": 206
    },
    "id": "Td3C9krTqiLk",
    "outputId": "ed39e755-3adc-462d-a479-21f12b74bad3"
   },
   "outputs": [
    {
     "data": {
      "text/html": [
       "<div>\n",
       "<style scoped>\n",
       "    .dataframe tbody tr th:only-of-type {\n",
       "        vertical-align: middle;\n",
       "    }\n",
       "\n",
       "    .dataframe tbody tr th {\n",
       "        vertical-align: top;\n",
       "    }\n",
       "\n",
       "    .dataframe thead th {\n",
       "        text-align: right;\n",
       "    }\n",
       "</style>\n",
       "<table border=\"1\" class=\"dataframe\">\n",
       "  <thead>\n",
       "    <tr style=\"text-align: right;\">\n",
       "      <th></th>\n",
       "      <th>user_id</th>\n",
       "      <th>month</th>\n",
       "      <th>tariff_plan</th>\n",
       "      <th>A</th>\n",
       "      <th>B</th>\n",
       "      <th>C</th>\n",
       "      <th>current_earning</th>\n",
       "      <th>best_tarif</th>\n",
       "    </tr>\n",
       "  </thead>\n",
       "  <tbody>\n",
       "    <tr>\n",
       "      <th>0</th>\n",
       "      <td>166377</td>\n",
       "      <td>2019-08</td>\n",
       "      <td>B</td>\n",
       "      <td>6020.4</td>\n",
       "      <td>3150.5</td>\n",
       "      <td>2410.7</td>\n",
       "      <td>3150.5</td>\n",
       "      <td>C</td>\n",
       "    </tr>\n",
       "    <tr>\n",
       "      <th>1</th>\n",
       "      <td>166377</td>\n",
       "      <td>2019-09</td>\n",
       "      <td>B</td>\n",
       "      <td>6105.6</td>\n",
       "      <td>3282.0</td>\n",
       "      <td>2634.8</td>\n",
       "      <td>3282.0</td>\n",
       "      <td>C</td>\n",
       "    </tr>\n",
       "    <tr>\n",
       "      <th>2</th>\n",
       "      <td>166377</td>\n",
       "      <td>2019-10</td>\n",
       "      <td>B</td>\n",
       "      <td>6161.6</td>\n",
       "      <td>3327.0</td>\n",
       "      <td>2657.8</td>\n",
       "      <td>3327.0</td>\n",
       "      <td>C</td>\n",
       "    </tr>\n",
       "    <tr>\n",
       "      <th>3</th>\n",
       "      <td>166377</td>\n",
       "      <td>2019-11</td>\n",
       "      <td>B</td>\n",
       "      <td>6036.0</td>\n",
       "      <td>3195.0</td>\n",
       "      <td>2513.0</td>\n",
       "      <td>3195.0</td>\n",
       "      <td>C</td>\n",
       "    </tr>\n",
       "    <tr>\n",
       "      <th>4</th>\n",
       "      <td>166391</td>\n",
       "      <td>2019-08</td>\n",
       "      <td>C</td>\n",
       "      <td>5100.0</td>\n",
       "      <td>2100.0</td>\n",
       "      <td>1100.0</td>\n",
       "      <td>1100.0</td>\n",
       "      <td>NaN</td>\n",
       "    </tr>\n",
       "  </tbody>\n",
       "</table>\n",
       "</div>"
      ],
      "text/plain": [
       "   user_id    month tariff_plan       A       B       C  current_earning  \\\n",
       "0   166377  2019-08           B  6020.4  3150.5  2410.7           3150.5   \n",
       "1   166377  2019-09           B  6105.6  3282.0  2634.8           3282.0   \n",
       "2   166377  2019-10           B  6161.6  3327.0  2657.8           3327.0   \n",
       "3   166377  2019-11           B  6036.0  3195.0  2513.0           3195.0   \n",
       "4   166391  2019-08           C  5100.0  2100.0  1100.0           1100.0   \n",
       "\n",
       "  best_tarif  \n",
       "0          C  \n",
       "1          C  \n",
       "2          C  \n",
       "3          C  \n",
       "4        NaN  "
      ]
     },
     "execution_count": 31,
     "metadata": {},
     "output_type": "execute_result"
    }
   ],
   "source": [
    "exclude = pivot_users.query('best_tarif == \"CURRENT\"')['user_id'].unique() #убираем тех, у кого в лучших хотя бы в одном месяце стоит текущий\n",
    "final = pivot_users.query('user_id not in @exclude')\n",
    "list_users = final.groupby(['user_id'])['month'].count().reset_index() #находим тех, кто пользуется сзяью больше 2 месяцев\n",
    "list_users = list_users.query('month > 2')['user_id'].unique()\n",
    "final = final.query('user_id in @list_users') #таблица final с клиентами, для которых есть лучшее предложение\n",
    "final_pivot = pivot_users[['user_id', 'month', 'tariff_plan', 'A', 'B', 'C', 'current_earning']].merge(\n",
    "    final[['user_id','month', 'best_tarif']], on=['user_id','month'], how='left') #соединяем с предыдущей таблицей\n",
    "final_pivot.head(5)"
   ]
  },
  {
   "cell_type": "code",
   "execution_count": 32,
   "metadata": {
    "id": "kl4QBovJqiLk"
   },
   "outputs": [],
   "source": [
    "def calc2(row): # новая функция для расчёта суммы по лучшему тарифу\n",
    "    if row['best_tarif'] == 'A':\n",
    "        return row['A']\n",
    "    if row['best_tarif'] == 'B':\n",
    "        return row['B']\n",
    "    if row['best_tarif'] == 'C':\n",
    "        return row['C']\n",
    "    return row['current_earning']"
   ]
  },
  {
   "cell_type": "code",
   "execution_count": 33,
   "metadata": {
    "colab": {
     "base_uri": "https://localhost:8080/",
     "height": 206
    },
    "id": "jwabUPXAqiLl",
    "outputId": "63e5283d-af65-4cb8-eb2d-4102f379c1f2"
   },
   "outputs": [
    {
     "data": {
      "text/html": [
       "<div>\n",
       "<style scoped>\n",
       "    .dataframe tbody tr th:only-of-type {\n",
       "        vertical-align: middle;\n",
       "    }\n",
       "\n",
       "    .dataframe tbody tr th {\n",
       "        vertical-align: top;\n",
       "    }\n",
       "\n",
       "    .dataframe thead th {\n",
       "        text-align: right;\n",
       "    }\n",
       "</style>\n",
       "<table border=\"1\" class=\"dataframe\">\n",
       "  <thead>\n",
       "    <tr style=\"text-align: right;\">\n",
       "      <th></th>\n",
       "      <th>user_id</th>\n",
       "      <th>tariff_plan</th>\n",
       "      <th>current_earning</th>\n",
       "      <th>best_tarif</th>\n",
       "      <th>new_earning</th>\n",
       "    </tr>\n",
       "  </thead>\n",
       "  <tbody>\n",
       "    <tr>\n",
       "      <th>0</th>\n",
       "      <td>166377</td>\n",
       "      <td>B</td>\n",
       "      <td>3238.625</td>\n",
       "      <td>C</td>\n",
       "      <td>2554.075</td>\n",
       "    </tr>\n",
       "    <tr>\n",
       "      <th>1</th>\n",
       "      <td>166391</td>\n",
       "      <td>C</td>\n",
       "      <td>1100.000</td>\n",
       "      <td>Текущий</td>\n",
       "      <td>1100.000</td>\n",
       "    </tr>\n",
       "    <tr>\n",
       "      <th>2</th>\n",
       "      <td>166405</td>\n",
       "      <td>B</td>\n",
       "      <td>4591.875</td>\n",
       "      <td>Текущий</td>\n",
       "      <td>4591.875</td>\n",
       "    </tr>\n",
       "    <tr>\n",
       "      <th>3</th>\n",
       "      <td>166406</td>\n",
       "      <td>B</td>\n",
       "      <td>3112.625</td>\n",
       "      <td>C</td>\n",
       "      <td>2467.675</td>\n",
       "    </tr>\n",
       "    <tr>\n",
       "      <th>4</th>\n",
       "      <td>166407</td>\n",
       "      <td>A</td>\n",
       "      <td>5638.300</td>\n",
       "      <td>C</td>\n",
       "      <td>1667.025</td>\n",
       "    </tr>\n",
       "  </tbody>\n",
       "</table>\n",
       "</div>"
      ],
      "text/plain": [
       "   user_id tariff_plan  current_earning best_tarif  new_earning\n",
       "0   166377           B         3238.625          C     2554.075\n",
       "1   166391           C         1100.000    Текущий     1100.000\n",
       "2   166405           B         4591.875    Текущий     4591.875\n",
       "3   166406           B         3112.625          C     2467.675\n",
       "4   166407           A         5638.300          C     1667.025"
      ]
     },
     "execution_count": 33,
     "metadata": {},
     "output_type": "execute_result"
    }
   ],
   "source": [
    "final_pivot['new_earning'] = final_pivot.apply(calc2, axis=1)\n",
    "#таблица final_pivot с новыми расчитанными расходами пользователей с новыми тарифами\n",
    "final_pivot['best_tarif'].fillna('Текущий', inplace=True)\n",
    "final_grouped = final_pivot.groupby('user_id').agg( #считаем средний чек текущий и после смены тарифа части клиентов\n",
    "    {'tariff_plan':'first', 'current_earning':'mean', 'best_tarif':'last', 'new_earning':'mean'}).reset_index() \n",
    "final_grouped.head(5)"
   ]
  },
  {
   "cell_type": "code",
   "execution_count": 34,
   "metadata": {
    "colab": {
     "base_uri": "https://localhost:8080/",
     "height": 370
    },
    "id": "H_97yXiWjmR5",
    "outputId": "674a2376-4b06-4119-8f50-838f904db3c8"
   },
   "outputs": [
    {
     "data": {
      "image/png": "[encoded data removed]",
      "text/plain": [
       "<Figure size 1008x360 with 2 Axes>"
      ]
     },
     "metadata": {
      "needs_background": "light"
     },
     "output_type": "display_data"
    }
   ],
   "source": [
    "fig, axes = plt.subplots(1, 2, figsize=(14, 5))\n",
    "fig.suptitle('Распределение среднего месячного чека за связь', fontsize=18)\n",
    "\n",
    "sns.histplot(final_grouped, x='current_earning', ax=axes[0], bins=60)\n",
    "axes[0].set_title('На текущих тарифах')\n",
    "axes[0].set_xlabel('Сумма чека')\n",
    "axes[0].set_ylabel('')\n",
    "axes[0].set_xlim(0,10000)\n",
    "\n",
    "sns.histplot(final_grouped, x='new_earning', color='orange', ax=axes[1], bins=50)\n",
    "axes[1].set_title('После перехода части пользователей на новый тариф')\n",
    "axes[1].set_xlabel('Сумма чека')\n",
    "axes[1].set_ylabel('')\n",
    "axes[1].set_xlim(0,10000)\n",
    "\n",
    "plt.show()"
   ]
  },
  {
   "cell_type": "code",
   "execution_count": 35,
   "metadata": {
    "colab": {
     "base_uri": "https://localhost:8080/",
     "height": 373
    },
    "id": "r1wfhFoUeLrN",
    "outputId": "5634eab6-a38d-48dd-9072-8ed45eea3da9"
   },
   "outputs": [
    {
     "data": {
      "image/png": "[encoded data removed]",
      "text/plain": [
       "<Figure size 576x432 with 1 Axes>"
      ]
     },
     "metadata": {},
     "output_type": "display_data"
    }
   ],
   "source": [
    "labels = ['Есть более выгодный тариф C', 'Есть оптимальный тариф']\n",
    "colors = sns.color_palette('pastel')[0:5]\n",
    "plt.figure(figsize=(8,6))\n",
    "plt.pie(final_pivot.groupby('best_tarif').size(), labels = labels, colors = colors, autopct='%.0f%%')\n",
    "plt.title('Доля пользователей, для которых есть более выгодный тариф')\n",
    "plt.show()"
   ]
  },
  {
   "cell_type": "markdown",
   "metadata": {
    "id": "z0wYrjDeqiLm"
   },
   "source": [
    "Треть клиентов переплачивает, интересно, что для всех этих клиентов выгоднее перейти на тариф \"С\". Сделаю наглядную таблицу по тарифам, сколько по каждому пользователей переплачивает, и на какой более выгодный могут перейти."
   ]
  },
  {
   "cell_type": "code",
   "execution_count": 36,
   "metadata": {
    "colab": {
     "base_uri": "https://localhost:8080/",
     "height": 238
    },
    "id": "ITMgQsWuqiLn",
    "outputId": "71e356af-37d5-4049-944b-14397db3cad0"
   },
   "outputs": [
    {
     "data": {
      "text/html": [
       "<div>\n",
       "<style scoped>\n",
       "    .dataframe tbody tr th:only-of-type {\n",
       "        vertical-align: middle;\n",
       "    }\n",
       "\n",
       "    .dataframe tbody tr th {\n",
       "        vertical-align: top;\n",
       "    }\n",
       "\n",
       "    .dataframe thead th {\n",
       "        text-align: right;\n",
       "    }\n",
       "</style>\n",
       "<table border=\"1\" class=\"dataframe\">\n",
       "  <thead>\n",
       "    <tr style=\"text-align: right;\">\n",
       "      <th></th>\n",
       "      <th></th>\n",
       "      <th>Количество клиентов</th>\n",
       "      <th>Текущий средний чек</th>\n",
       "      <th>Новый средний чек</th>\n",
       "      <th>Изменение в процентах</th>\n",
       "    </tr>\n",
       "    <tr>\n",
       "      <th>Текущий тариф</th>\n",
       "      <th>Новый более выгодный тариф</th>\n",
       "      <th></th>\n",
       "      <th></th>\n",
       "      <th></th>\n",
       "      <th></th>\n",
       "    </tr>\n",
       "  </thead>\n",
       "  <tbody>\n",
       "    <tr>\n",
       "      <th rowspan=\"2\" valign=\"top\">A</th>\n",
       "      <th>C</th>\n",
       "      <td>8</td>\n",
       "      <td>5478.441667</td>\n",
       "      <td>1549.772917</td>\n",
       "      <td>-71.71</td>\n",
       "    </tr>\n",
       "    <tr>\n",
       "      <th>Текущий</th>\n",
       "      <td>15</td>\n",
       "      <td>7779.453333</td>\n",
       "      <td>7779.453333</td>\n",
       "      <td>0.00</td>\n",
       "    </tr>\n",
       "    <tr>\n",
       "      <th rowspan=\"2\" valign=\"top\">B</th>\n",
       "      <th>C</th>\n",
       "      <td>38</td>\n",
       "      <td>2483.996711</td>\n",
       "      <td>1568.823465</td>\n",
       "      <td>-36.84</td>\n",
       "    </tr>\n",
       "    <tr>\n",
       "      <th>Текущий</th>\n",
       "      <td>49</td>\n",
       "      <td>2674.704082</td>\n",
       "      <td>2674.704082</td>\n",
       "      <td>0.00</td>\n",
       "    </tr>\n",
       "    <tr>\n",
       "      <th>C</th>\n",
       "      <th>Текущий</th>\n",
       "      <td>107</td>\n",
       "      <td>1574.675779</td>\n",
       "      <td>1574.675779</td>\n",
       "      <td>0.00</td>\n",
       "    </tr>\n",
       "  </tbody>\n",
       "</table>\n",
       "</div>"
      ],
      "text/plain": [
       "                                          Количество клиентов  \\\n",
       "Текущий тариф Новый более выгодный тариф                        \n",
       "A             C                                             8   \n",
       "              Текущий                                      15   \n",
       "B             C                                            38   \n",
       "              Текущий                                      49   \n",
       "C             Текущий                                     107   \n",
       "\n",
       "                                          Текущий средний чек  \\\n",
       "Текущий тариф Новый более выгодный тариф                        \n",
       "A             C                                   5478.441667   \n",
       "              Текущий                             7779.453333   \n",
       "B             C                                   2483.996711   \n",
       "              Текущий                             2674.704082   \n",
       "C             Текущий                             1574.675779   \n",
       "\n",
       "                                          Новый средний чек  \\\n",
       "Текущий тариф Новый более выгодный тариф                      \n",
       "A             C                                 1549.772917   \n",
       "              Текущий                           7779.453333   \n",
       "B             C                                 1568.823465   \n",
       "              Текущий                           2674.704082   \n",
       "C             Текущий                           1574.675779   \n",
       "\n",
       "                                          Изменение в процентах  \n",
       "Текущий тариф Новый более выгодный тариф                         \n",
       "A             C                                          -71.71  \n",
       "              Текущий                                      0.00  \n",
       "B             C                                          -36.84  \n",
       "              Текущий                                      0.00  \n",
       "C             Текущий                                      0.00  "
      ]
     },
     "metadata": {},
     "output_type": "display_data"
    }
   ],
   "source": [
    "tarif_pivot = final_grouped.groupby(['tariff_plan', 'best_tarif']).agg({'user_id':'count', 'current_earning':'mean', 'new_earning':'mean'})\n",
    "tarif_pivot['percent change'] = (((tarif_pivot['new_earning'] - tarif_pivot['current_earning']) / tarif_pivot['current_earning']) * 100).round(2)\n",
    "tarif_pivot.rename(columns = {'user_id':'Количество клиентов', 'current_earning':'Текущий средний чек', 'new_earning':'Новый средний чек', 'percent change':'Изменение в процентах'}, inplace = True)\n",
    "tarif_pivot.index.names = ['Текущий тариф', 'Новый более выгодный тариф']\n",
    "display(tarif_pivot)"
   ]
  },
  {
   "cell_type": "markdown",
   "metadata": {
    "id": "uGsE8cNrFa1K"
   },
   "source": [
    "Сохраним в отдельный файл таблицу со списком пользователей, которые переплачивают за связь, и могут перейти на более выгодный тариф."
   ]
  },
  {
   "cell_type": "code",
   "execution_count": 37,
   "metadata": {
    "colab": {
     "base_uri": "https://localhost:8080/",
     "height": 403
    },
    "id": "bvxOuJQfFZuP",
    "outputId": "6a27a2de-e3f9-4137-9da0-684f699b91d9"
   },
   "outputs": [
    {
     "data": {
      "text/html": [
       "<div>\n",
       "<style scoped>\n",
       "    .dataframe tbody tr th:only-of-type {\n",
       "        vertical-align: middle;\n",
       "    }\n",
       "\n",
       "    .dataframe tbody tr th {\n",
       "        vertical-align: top;\n",
       "    }\n",
       "\n",
       "    .dataframe thead th {\n",
       "        text-align: right;\n",
       "    }\n",
       "</style>\n",
       "<table border=\"1\" class=\"dataframe\">\n",
       "  <thead>\n",
       "    <tr style=\"text-align: right;\">\n",
       "      <th></th>\n",
       "      <th>ID абонента</th>\n",
       "      <th>Текущий тарифный план</th>\n",
       "      <th>Текущий средний чек</th>\n",
       "      <th>Более выгодный тариф</th>\n",
       "      <th>Новый средний чек</th>\n",
       "      <th>Текущий уровень переплаты</th>\n",
       "    </tr>\n",
       "  </thead>\n",
       "  <tbody>\n",
       "    <tr>\n",
       "      <th>0</th>\n",
       "      <td>166377</td>\n",
       "      <td>B</td>\n",
       "      <td>3238.625</td>\n",
       "      <td>C</td>\n",
       "      <td>2554.075</td>\n",
       "      <td>684.55</td>\n",
       "    </tr>\n",
       "    <tr>\n",
       "      <th>3</th>\n",
       "      <td>166406</td>\n",
       "      <td>B</td>\n",
       "      <td>3112.625</td>\n",
       "      <td>C</td>\n",
       "      <td>2467.675</td>\n",
       "      <td>644.95</td>\n",
       "    </tr>\n",
       "    <tr>\n",
       "      <th>4</th>\n",
       "      <td>166407</td>\n",
       "      <td>A</td>\n",
       "      <td>5638.300</td>\n",
       "      <td>C</td>\n",
       "      <td>1667.025</td>\n",
       "      <td>3971.27</td>\n",
       "    </tr>\n",
       "    <tr>\n",
       "      <th>5</th>\n",
       "      <td>166485</td>\n",
       "      <td>B</td>\n",
       "      <td>3343.750</td>\n",
       "      <td>C</td>\n",
       "      <td>2711.250</td>\n",
       "      <td>632.50</td>\n",
       "    </tr>\n",
       "    <tr>\n",
       "      <th>7</th>\n",
       "      <td>166495</td>\n",
       "      <td>B</td>\n",
       "      <td>2549.125</td>\n",
       "      <td>C</td>\n",
       "      <td>1708.775</td>\n",
       "      <td>840.35</td>\n",
       "    </tr>\n",
       "  </tbody>\n",
       "</table>\n",
       "</div>"
      ],
      "text/plain": [
       "   ID абонента Текущий тарифный план  Текущий средний чек  \\\n",
       "0       166377                     B             3238.625   \n",
       "3       166406                     B             3112.625   \n",
       "4       166407                     A             5638.300   \n",
       "5       166485                     B             3343.750   \n",
       "7       166495                     B             2549.125   \n",
       "\n",
       "  Более выгодный тариф  Новый средний чек  Текущий уровень переплаты  \n",
       "0                    C           2554.075                     684.55  \n",
       "3                    C           2467.675                     644.95  \n",
       "4                    C           1667.025                    3971.27  \n",
       "5                    C           2711.250                     632.50  \n",
       "7                    C           1708.775                     840.35  "
      ]
     },
     "execution_count": 37,
     "metadata": {},
     "output_type": "execute_result"
    }
   ],
   "source": [
    "clients_best_tarif = final_grouped.query('best_tarif !=\"Текущий\"')\n",
    "clients_best_tarif['Текущий уровень переплаты'] = (clients_best_tarif['current_earning'] - clients_best_tarif['new_earning']).round(2)\n",
    "clients_best_tarif.rename(columns = {'user_id':'ID абонента', \n",
    "                                     'tariff_plan':'Текущий тарифный план', \n",
    "                                     'best_tarif':'Более выгодный тариф', \n",
    "                                     'current_earning':'Текущий средний чек',\n",
    "                                     'new_earning':'Новый средний чек',}, inplace = True)\n",
    "#clients_best_tarif.to_excel('clients_best_tarif.xlsx', sheet_name='list of clients', index=False)\n",
    "clients_best_tarif.head(5)"
   ]
  },
  {
   "cell_type": "markdown",
   "metadata": {
    "id": "9Q2EhZKsfM37"
   },
   "source": [
    "### Подсчёт месячной выручки с пользователей\n",
    "Теперь у нас есть список пользователей, которым было бы выгодно перейти на новый тариф. Посчитаем среднюю выручку со всех пользователей, с текущими тарифами, и с новыми."
   ]
  },
  {
   "cell_type": "code",
   "execution_count": 38,
   "metadata": {
    "colab": {
     "base_uri": "https://localhost:8080/",
     "height": 562
    },
    "id": "t7mAOd5CfvMw",
    "outputId": "c8232a2d-a8e2-470e-c810-de2e1b8a8960"
   },
   "outputs": [
    {
     "data": {
      "text/html": [
       "<div>\n",
       "<style scoped>\n",
       "    .dataframe tbody tr th:only-of-type {\n",
       "        vertical-align: middle;\n",
       "    }\n",
       "\n",
       "    .dataframe tbody tr th {\n",
       "        vertical-align: top;\n",
       "    }\n",
       "\n",
       "    .dataframe thead th {\n",
       "        text-align: right;\n",
       "    }\n",
       "</style>\n",
       "<table border=\"1\" class=\"dataframe\">\n",
       "  <thead>\n",
       "    <tr style=\"text-align: right;\">\n",
       "      <th></th>\n",
       "      <th>Месяц</th>\n",
       "      <th>Текущая выручка с клиентов</th>\n",
       "      <th>Выручка после смены тарифов</th>\n",
       "      <th>Изменение в процентах</th>\n",
       "    </tr>\n",
       "  </thead>\n",
       "  <tbody>\n",
       "    <tr>\n",
       "      <th>0</th>\n",
       "      <td>2019-08</td>\n",
       "      <td>112276.6</td>\n",
       "      <td>80718.2</td>\n",
       "      <td>-28.11</td>\n",
       "    </tr>\n",
       "    <tr>\n",
       "      <th>1</th>\n",
       "      <td>2019-09</td>\n",
       "      <td>293161.8</td>\n",
       "      <td>225856.0</td>\n",
       "      <td>-22.96</td>\n",
       "    </tr>\n",
       "    <tr>\n",
       "      <th>2</th>\n",
       "      <td>2019-10</td>\n",
       "      <td>447209.6</td>\n",
       "      <td>382722.0</td>\n",
       "      <td>-14.42</td>\n",
       "    </tr>\n",
       "    <tr>\n",
       "      <th>3</th>\n",
       "      <td>2019-11</td>\n",
       "      <td>468100.0</td>\n",
       "      <td>404903.8</td>\n",
       "      <td>-13.50</td>\n",
       "    </tr>\n",
       "  </tbody>\n",
       "</table>\n",
       "</div>"
      ],
      "text/plain": [
       "     Месяц  Текущая выручка с клиентов  Выручка после смены тарифов  \\\n",
       "0  2019-08                    112276.6                      80718.2   \n",
       "1  2019-09                    293161.8                     225856.0   \n",
       "2  2019-10                    447209.6                     382722.0   \n",
       "3  2019-11                    468100.0                     404903.8   \n",
       "\n",
       "   Изменение в процентах  \n",
       "0                 -28.11  \n",
       "1                 -22.96  \n",
       "2                 -14.42  \n",
       "3                 -13.50  "
      ]
     },
     "metadata": {},
     "output_type": "display_data"
    },
    {
     "data": {
      "image/png": "[encoded data removed]",
      "text/plain": [
       "<Figure size 576x432 with 1 Axes>"
      ]
     },
     "metadata": {
      "needs_background": "light"
     },
     "output_type": "display_data"
    }
   ],
   "source": [
    "#формирую таблицу по общей месячной выручке с пользователей\n",
    "tab = final_pivot.groupby('month')[['current_earning', 'new_earning']].sum().reset_index()\n",
    "tab['month'] = tab['month'].dt.to_timestamp('s').dt.strftime('%Y-%m')\n",
    "tab['percent change'] = (((tab['new_earning'] - tab['current_earning']) / tab['current_earning']) * 100).round(2)\n",
    "tab.rename(columns = {'month':'Месяц', \n",
    "                      'current_earning':'Текущая выручка с клиентов', \n",
    "                      'new_earning':'Выручка после смены тарифов',\n",
    "                      'percent change':'Изменение в процентах',}, inplace = True)\n",
    "display(tab) \n",
    "#диаграмма, показывающая изменение выручки\n",
    "plt.figure(figsize=(8,6))\n",
    "x_axis = np.arange(len(tab['Месяц']))\n",
    "plt.grid(zorder=0)\n",
    "plt.bar(x_axis -0.2, tab['Текущая выручка с клиентов'], width=0.4, label = 'Текущая выручка')\n",
    "plt.bar(x_axis +0.2, tab['Выручка после смены тарифов'], width=0.4, label = 'Выручка после смены тарифов у части пользователей')\n",
    "plt.xticks(x_axis, tab['Месяц'])\n",
    "plt.legend()\n",
    "plt.xlabel('Месяц')\n",
    "plt.ylabel('Выручка с клинетов')\n",
    "plt.title('Изменение ежемесячной выручки с клиентов после смены тарифа на более выгодный')\n",
    "plt.show()"
   ]
  },
  {
   "cell_type": "markdown",
   "metadata": {
    "id": "sBccu-iLqiLp"
   },
   "source": [
    "Если учитывать только последние два месяца с полноценными объёмами пользования связью, падение выручки после смены тарифов у части клиентов составляет около 14 процентов. Учитываем, что пока круг тех, кому предлагается сменить тариф ограничен теми, кто пользуется связью больше трёх месяцев, у кого уже примерно установились объёмы пользования сервисом. В дальнейших наблюдениях круг переплачивающих может расширится, если текущие условия тарифов останутся неизменными."
   ]
  },
  {
   "cell_type": "markdown",
   "metadata": {
    "id": "gQDVUzXJ86Gl"
   },
   "source": [
    "<a id='section_5'></a>\n",
    "## Проверка статистических гипотез\n",
    "\n",
    "### Посчитаем статистическую значимость различий в среднем чеке пользователей переплачивающих за связь, и пользователей, перешедших на новый выгодный тариф.\n",
    "\n",
    "Нулевой гипотезой будет, что средний чек будет одинаковым. Для проверки я буду использовать метод st.ttest_rel, с помощью которой проверяют гипотезы о равестве средних для зависимых (парных) выборок. В нашем случае равно ли себе среднее этой совокупности до и после изменения тарифов. Уровень значимости я выбрал 5 процентов, чтобы немного снизить вероятность ошибки ложноотрицательного результата, но брать ещё ниже в случае рассмотрения именно разницы средних чеков считаю нецелесообразно, так как это несущественная разница."
   ]
  },
  {
   "cell_type": "code",
   "execution_count": 39,
   "metadata": {
    "colab": {
     "base_uri": "https://localhost:8080/"
    },
    "id": "ZdCHmgFEy-7n",
    "outputId": "8ce8f52a-9fb3-4cba-8f15-54ceb79aa647"
   },
   "outputs": [
    {
     "name": "stdout",
     "output_type": "stream",
     "text": [
      "Средняя выручка с пользователя в месяц на текущих тарифах: 2615.342574257426 \n",
      "Дисперсия: 4996768.718405255 \n",
      "Стандартное отклонение: 2235.3453241960747\n",
      "\n",
      "При переходе на части пользователей на новые тарифы: 2166.732673267327 \n",
      "Дисперсия: 4714601.000655231 \n",
      "Стандартное отклонение: 2171.3131972737674\n"
     ]
    }
   ],
   "source": [
    "print('Средняя выручка с пользователя в месяц на текущих тарифах:',\n",
    "      final_pivot[\"current_earning\"].mean(), '\\nДисперсия:', np.var(final_pivot[\"current_earning\"]), \n",
    "      '\\nСтандартное отклонение:', np.std(final_pivot[\"current_earning\"]))\n",
    "print('\\nПри переходе на части пользователей на новые тарифы:',\n",
    "      final_pivot[\"new_earning\"].mean(), '\\nДисперсия:', np.var(final_pivot[\"new_earning\"]), \n",
    "      '\\nСтандартное отклонение:', np.std(final_pivot[\"new_earning\"]))"
   ]
  },
  {
   "cell_type": "code",
   "execution_count": 40,
   "metadata": {
    "colab": {
     "base_uri": "https://localhost:8080/"
    },
    "id": "CRNEMo2x4NF1",
    "outputId": "15ee07e8-9f4d-4711-f3df-8cd6fc1545d4"
   },
   "outputs": [
    {
     "name": "stdout",
     "output_type": "stream",
     "text": [
      "P-value: 1.4762265061318854e-24\n",
      "Отвергаем нулевую гипотезу\n"
     ]
    }
   ],
   "source": [
    "alpha = 0.05 #задаём стандартное пороговое значение\n",
    "#применяем метод scipy.stats.ttest_rel() для проверки гипотезы о равенстве среднего двух генеральных совокупностей \n",
    "results = st.ttest_rel(final_pivot[\"current_earning\"], \n",
    "                       final_pivot[\"new_earning\"]) #так как дисперсии совокупностей не равны\n",
    "print('P-value:', results.pvalue)\n",
    "\n",
    "if (results.pvalue < alpha): #если pvalue меньше уровня критической значимости\n",
    "    print(\"Отвергаем нулевую гипотезу\")\n",
    "else:\n",
    "    print(\"Не получилось отвергнуть нулевую гипотезу\")"
   ]
  },
  {
   "cell_type": "markdown",
   "metadata": {
    "id": "8kjoe4PF2ZeP"
   },
   "source": [
    "Это значит, что подтвержается наше предположение, что средний чек значительно упадёт после того, как часть пользователей уйдёт на более выгодный тариф."
   ]
  },
  {
   "cell_type": "markdown",
   "metadata": {
    "id": "Ggbqet_J9mW4"
   },
   "source": [
    "### Cравнение средних чеки тех, кто перейдёт на новые, более выгодные тарифы, и тех, кто и так на самом оптимальном тарифе. Нулевая гипотеза - средний чек будет одинаковым."
   ]
  },
  {
   "cell_type": "code",
   "execution_count": 41,
   "metadata": {
    "colab": {
     "base_uri": "https://localhost:8080/"
    },
    "id": "TsPSA8GP8IKu",
    "outputId": "126e98c7-305b-4d15-8ddf-6784bf694cb2"
   },
   "outputs": [
    {
     "name": "stdout",
     "output_type": "stream",
     "text": [
      "P-value: 7.013425783537761e-09\n",
      "Отвергаем нулевую гипотезу\n"
     ]
    }
   ],
   "source": [
    "alpha = 0.05 #задаём стандартное пороговое значение\n",
    "#применяем метод scipy.stats.ttest_rel() для проверки гипотезы о равенстве среднего двух генеральных совокупностей \n",
    "results = st.ttest_ind(final_pivot.query('best_tarif != \"Текущий\"')[\"new_earning\"], \n",
    "                       final_pivot.query('best_tarif == \"Текущий\"')[\"new_earning\"], equal_var=False) #так как дисперсии совокупностей не равны\n",
    "print('P-value:', results.pvalue)\n",
    "\n",
    "if (results.pvalue < alpha): #если pvalue меньше уровня критической значимости\n",
    "    print(\"Отвергаем нулевую гипотезу\")\n",
    "else:\n",
    "    print(\"Не получилось отвергнуть нулевую гипотезу\")"
   ]
  },
  {
   "cell_type": "markdown",
   "metadata": {
    "id": "kEPZ-9433fUC"
   },
   "source": [
    "Нулевая гипотеза и здесь отвернута. Средние чеки людей, которые имеют уже оптимальные тарифы, выше. Во-первых, это конечно, связано с тем, что абонентская плата на тарифах А и B значительно выше, во-вторых, как правило, это те, кто гораздо чаще пользуется связью."
   ]
  },
  {
   "cell_type": "markdown",
   "metadata": {},
   "source": [
    "<a id='section_6'></a>\n",
    "## Основные выводы исследования и рекомендации коммерческому департаменту\n",
    "\n",
    "В ходе данной работы были изучены два датасета данных - логи использования сервиса виртуальной телефонии, и таблица с тарифами клиентов. Прежде чем проводить исследовательский анализ данных, данные были предобработаны, изменены некоторые типы данных, проверены и обработаны пропуски. Также данные были проверены на аномалии, выделен список аномальных операторов, через которых севершается слишком большое количество звонков в день. Этот список можно передать для проверки в технический отдел. Возможно проблема в регистрации нескольких человек под одной учётной записью. Выделено также некоторое количество аномальных клиентов - для точности нашего дальнейшего анализа этих клиентов я удалил из исследования. Также из очищенного датафрейма удалил некоторых неактивных пользователей, которые практически не пользовались связью в период исследования.  \n",
    "Для расчёта ежемесячных расходов пользователей за связь я сформировал сводные таблицы со всеми требуемыми данными. Для сравнения я посчитал возможные расходы пользователей на каждом из трёх тарифов. \n",
    "\n",
    "Сравнив текущие расходы пользователей, я выделил список в 46 переплачивающих клиентов, которым мы можем предложить более выгодный тариф. На тарифе \"А\" из 23 активных клинентов для восьми выгоднее уйти на тариф \"C\", на него же выгоднее уйти 40 процентам абонентов на тарифе \"В\".\n",
    "Почему самый выгодный для них выходит \"С\"? У него самая низкая абонентская плата, разница в стоимости минуты разговора по сравнению с другими тарифами не так велика.\n",
    "Нужно учесть, что я не включил часть пользователей, которые сейчас переплачивают, но пользуются связью совсем недавно. Возможно, они ещё не вышли на свои объёмы пользования связью. Если же их уровень активности останется такой же, их тоже можно записывать в переплачивающие, и тогда наш список значительно расширится.\n",
    "\n",
    "Посчитал ежемесячную выручку со всех пользователей на текущих тарифах, и после перехода части пользователей на новый тариф. Падение выручки после смены тарифа на основе данных последних месяцев составляет около 14 процентов. Средний чек у перешедших с тарифа А упадёт на 70 процентов, перешедших с тарифа В - на 36 процентов. В списке пользователей, который я прилагаю к этому исследованию, указан текущий средний чек, новый средний чек, и разница между ними.\n",
    "\n",
    "Чтобы избежать риска падения выручки, нужно в первую очередь переработать условия тарифов. У них у всех одинаковые лимиты на минуты в месяц - для  более дорогих тарифов их можно оставить такими, как есть, для более дешёвого тарифа - понизить. Стоимость минуты разговора на дорогих тарифах можно снизить, также, возможно, для более дорогих тарифов можно убрать или снизить плату за уникальных операторов - тогда люди будут намного меньше переплачивать. И сам размер абонентской платы на дорогом тарифе будет более оправдан. Сейчас ежемесячная абонентская плата и цена минут разговора совсем не делают дорогие тарифы привлекательными для большей части клиентов."
   ]
  },
  {
   "cell_type": "code",
   "execution_count": 42,
   "metadata": {
    "id": "wZ_ATKAYcLRJ"
   },
   "outputs": [],
   "source": [
    "#data.to_csv('tececom_edited.csv', index=False) #выгрузка обработанного датасета для дашборда"
   ]
  }
 ],
 "metadata": {
  "ExecuteTimeLog": [
   {
    "duration": 113,
    "start_time": "2022-05-28T12:53:04.354Z"
   },
   {
    "duration": 725,
    "start_time": "2022-05-28T12:53:17.048Z"
   },
   {
    "duration": 300,
    "start_time": "2022-05-28T12:53:17.779Z"
   },
   {
    "duration": 117,
    "start_time": "2022-05-28T13:01:38.182Z"
   },
   {
    "duration": 247,
    "start_time": "2022-05-28T13:50:36.269Z"
   },
   {
    "duration": 3,
    "start_time": "2022-05-28T13:53:45.885Z"
   },
   {
    "duration": 291,
    "start_time": "2022-05-28T13:53:46.174Z"
   },
   {
    "duration": 83,
    "start_time": "2022-05-28T13:53:46.468Z"
   },
   {
    "duration": 49,
    "start_time": "2022-05-28T13:54:02.482Z"
   },
   {
    "duration": 5,
    "start_time": "2022-05-28T13:55:28.976Z"
   },
   {
    "duration": 6,
    "start_time": "2022-05-28T13:59:26.072Z"
   },
   {
    "duration": 6,
    "start_time": "2022-05-28T13:59:33.401Z"
   },
   {
    "duration": 481,
    "start_time": "2022-05-28T14:05:03.583Z"
   },
   {
    "duration": 592,
    "start_time": "2022-05-28T14:05:04.322Z"
   },
   {
    "duration": 601,
    "start_time": "2022-05-28T14:05:20.394Z"
   },
   {
    "duration": 6,
    "start_time": "2022-05-28T14:06:41.354Z"
   },
   {
    "duration": 614,
    "start_time": "2022-05-28T14:06:43.088Z"
   },
   {
    "duration": 649,
    "start_time": "2022-05-28T14:13:51.786Z"
   },
   {
    "duration": 546,
    "start_time": "2022-05-28T14:13:56.505Z"
   },
   {
    "duration": 456,
    "start_time": "2022-05-28T14:19:33.367Z"
   },
   {
    "duration": 494,
    "start_time": "2022-05-28T14:19:44.302Z"
   },
   {
    "duration": 2325,
    "start_time": "2022-05-28T14:19:51.806Z"
   },
   {
    "duration": 210,
    "start_time": "2022-05-28T14:20:14.551Z"
   },
   {
    "duration": 292,
    "start_time": "2022-05-28T14:21:27.531Z"
   },
   {
    "duration": 253,
    "start_time": "2022-05-28T14:24:21.593Z"
   },
   {
    "duration": 3,
    "start_time": "2022-05-28T14:24:43.766Z"
   },
   {
    "duration": 265,
    "start_time": "2022-05-28T14:24:44.186Z"
   },
   {
    "duration": 491,
    "start_time": "2022-05-28T14:25:16.588Z"
   },
   {
    "duration": 541,
    "start_time": "2022-05-28T14:25:34.156Z"
   },
   {
    "duration": 511,
    "start_time": "2022-05-28T14:27:32.487Z"
   },
   {
    "duration": 480,
    "start_time": "2022-05-28T14:27:40.429Z"
   },
   {
    "duration": 430,
    "start_time": "2022-05-28T18:46:18.173Z"
   },
   {
    "duration": 498,
    "start_time": "2022-05-28T18:46:18.669Z"
   },
   {
    "duration": 104,
    "start_time": "2022-05-28T18:46:19.169Z"
   },
   {
    "duration": 5,
    "start_time": "2022-05-28T18:46:19.606Z"
   },
   {
    "duration": 6,
    "start_time": "2022-05-28T18:46:22.353Z"
   },
   {
    "duration": 23,
    "start_time": "2022-05-28T18:47:27.455Z"
   },
   {
    "duration": 10,
    "start_time": "2022-05-28T18:48:01.593Z"
   },
   {
    "duration": 97,
    "start_time": "2022-05-28T18:58:29.840Z"
   },
   {
    "duration": 1422,
    "start_time": "2022-06-05T06:53:02.844Z"
   },
   {
    "duration": 583,
    "start_time": "2022-06-05T06:53:04.269Z"
   },
   {
    "duration": 6,
    "start_time": "2022-06-05T06:53:04.854Z"
   },
   {
    "duration": 81,
    "start_time": "2022-06-05T06:53:04.863Z"
   },
   {
    "duration": 27,
    "start_time": "2022-06-05T06:53:04.947Z"
   },
   {
    "duration": 33,
    "start_time": "2022-06-05T06:53:04.976Z"
   },
   {
    "duration": 24,
    "start_time": "2022-06-05T06:53:05.011Z"
   },
   {
    "duration": 15,
    "start_time": "2022-06-05T06:53:05.037Z"
   },
   {
    "duration": 6,
    "start_time": "2022-06-05T06:53:05.054Z"
   },
   {
    "duration": 15,
    "start_time": "2022-06-05T06:53:05.062Z"
   },
   {
    "duration": 30,
    "start_time": "2022-06-05T06:53:05.079Z"
   },
   {
    "duration": 12,
    "start_time": "2022-06-05T06:53:05.122Z"
   },
   {
    "duration": 31,
    "start_time": "2022-06-05T06:53:05.136Z"
   },
   {
    "duration": 10,
    "start_time": "2022-06-05T06:53:05.168Z"
   },
   {
    "duration": 81,
    "start_time": "2022-06-05T06:53:05.180Z"
   },
   {
    "duration": 6,
    "start_time": "2022-06-05T06:53:05.263Z"
   },
   {
    "duration": 23,
    "start_time": "2022-06-05T06:53:05.271Z"
   },
   {
    "duration": 46,
    "start_time": "2022-06-05T06:53:05.296Z"
   },
   {
    "duration": 19,
    "start_time": "2022-06-05T06:53:05.344Z"
   },
   {
    "duration": 24,
    "start_time": "2022-06-05T06:53:05.364Z"
   },
   {
    "duration": 40,
    "start_time": "2022-06-05T06:53:05.389Z"
   },
   {
    "duration": 3,
    "start_time": "2022-06-05T06:53:05.431Z"
   },
   {
    "duration": 19,
    "start_time": "2022-06-05T06:53:05.436Z"
   },
   {
    "duration": 7,
    "start_time": "2022-06-05T06:53:05.457Z"
   },
   {
    "duration": 49,
    "start_time": "2022-06-05T06:53:05.465Z"
   },
   {
    "duration": 4,
    "start_time": "2022-06-05T06:53:05.517Z"
   },
   {
    "duration": 45,
    "start_time": "2022-06-05T06:53:05.522Z"
   },
   {
    "duration": 9,
    "start_time": "2022-06-05T06:53:05.570Z"
   },
   {
    "duration": 7,
    "start_time": "2022-06-05T06:53:05.580Z"
   },
   {
    "duration": 28,
    "start_time": "2022-06-05T06:53:05.588Z"
   },
   {
    "duration": 299,
    "start_time": "2022-06-05T06:53:05.618Z"
   },
   {
    "duration": 95,
    "start_time": "2022-06-05T06:53:05.922Z"
   },
   {
    "duration": 577,
    "start_time": "2022-06-05T06:53:06.023Z"
   },
   {
    "duration": 187,
    "start_time": "2022-06-05T06:53:06.602Z"
   },
   {
    "duration": 8,
    "start_time": "2022-06-05T06:53:06.791Z"
   },
   {
    "duration": 9,
    "start_time": "2022-06-05T06:53:06.800Z"
   },
   {
    "duration": 21,
    "start_time": "2022-06-05T06:53:06.811Z"
   },
   {
    "duration": 408,
    "start_time": "2022-06-05T06:53:06.833Z"
   },
   {
    "duration": 1128,
    "start_time": "2022-06-05T07:33:27.586Z"
   },
   {
    "duration": 654,
    "start_time": "2022-06-05T07:33:28.715Z"
   },
   {
    "duration": 7,
    "start_time": "2022-06-05T07:33:29.371Z"
   },
   {
    "duration": 64,
    "start_time": "2022-06-05T07:33:29.380Z"
   },
   {
    "duration": 25,
    "start_time": "2022-06-05T07:33:29.445Z"
   },
   {
    "duration": 23,
    "start_time": "2022-06-05T07:33:29.472Z"
   },
   {
    "duration": 42,
    "start_time": "2022-06-05T07:33:29.497Z"
   },
   {
    "duration": 17,
    "start_time": "2022-06-05T07:33:29.541Z"
   },
   {
    "duration": 4,
    "start_time": "2022-06-05T07:33:29.560Z"
   },
   {
    "duration": 5,
    "start_time": "2022-06-05T07:33:29.567Z"
   },
   {
    "duration": 22,
    "start_time": "2022-06-05T07:33:29.574Z"
   },
   {
    "duration": 42,
    "start_time": "2022-06-05T07:33:29.598Z"
   },
   {
    "duration": 40,
    "start_time": "2022-06-05T07:33:29.643Z"
   },
   {
    "duration": 8,
    "start_time": "2022-06-05T07:33:29.685Z"
   },
   {
    "duration": 53,
    "start_time": "2022-06-05T07:33:29.694Z"
   },
   {
    "duration": 8,
    "start_time": "2022-06-05T07:33:29.748Z"
   },
   {
    "duration": 14,
    "start_time": "2022-06-05T07:33:29.757Z"
   },
   {
    "duration": 53,
    "start_time": "2022-06-05T07:33:29.773Z"
   },
   {
    "duration": 17,
    "start_time": "2022-06-05T07:33:29.830Z"
   },
   {
    "duration": 21,
    "start_time": "2022-06-05T07:33:29.849Z"
   },
   {
    "duration": 18,
    "start_time": "2022-06-05T07:33:29.872Z"
   },
   {
    "duration": 3,
    "start_time": "2022-06-05T07:33:29.891Z"
   },
   {
    "duration": 30,
    "start_time": "2022-06-05T07:33:29.896Z"
   },
   {
    "duration": 19,
    "start_time": "2022-06-05T07:33:29.928Z"
   },
   {
    "duration": 36,
    "start_time": "2022-06-05T07:33:29.948Z"
   },
   {
    "duration": 2,
    "start_time": "2022-06-05T07:33:29.986Z"
   },
   {
    "duration": 56,
    "start_time": "2022-06-05T07:33:29.990Z"
   },
   {
    "duration": 18,
    "start_time": "2022-06-05T07:33:30.049Z"
   },
   {
    "duration": 11,
    "start_time": "2022-06-05T07:33:30.068Z"
   },
   {
    "duration": 31,
    "start_time": "2022-06-05T07:33:30.081Z"
   },
   {
    "duration": 325,
    "start_time": "2022-06-05T07:33:30.114Z"
   },
   {
    "duration": 94,
    "start_time": "2022-06-05T07:33:30.441Z"
   },
   {
    "duration": 229,
    "start_time": "2022-06-05T07:33:30.538Z"
   },
   {
    "duration": 205,
    "start_time": "2022-06-05T07:33:30.770Z"
   },
   {
    "duration": 8,
    "start_time": "2022-06-05T07:33:30.977Z"
   },
   {
    "duration": 29,
    "start_time": "2022-06-05T07:33:30.986Z"
   },
   {
    "duration": 76,
    "start_time": "2022-06-05T07:33:31.017Z"
   },
   {
    "duration": 572,
    "start_time": "2022-06-05T07:33:31.095Z"
   },
   {
    "duration": 1237,
    "start_time": "2022-06-05T07:36:28.938Z"
   },
   {
    "duration": 572,
    "start_time": "2022-06-05T07:36:30.177Z"
   },
   {
    "duration": 7,
    "start_time": "2022-06-05T07:36:30.751Z"
   },
   {
    "duration": 69,
    "start_time": "2022-06-05T07:36:30.760Z"
   },
   {
    "duration": 29,
    "start_time": "2022-06-05T07:36:30.832Z"
   },
   {
    "duration": 30,
    "start_time": "2022-06-05T07:36:30.862Z"
   },
   {
    "duration": 17,
    "start_time": "2022-06-05T07:36:30.894Z"
   },
   {
    "duration": 30,
    "start_time": "2022-06-05T07:36:30.913Z"
   },
   {
    "duration": 3,
    "start_time": "2022-06-05T07:36:30.946Z"
   },
   {
    "duration": 30,
    "start_time": "2022-06-05T07:36:30.951Z"
   },
   {
    "duration": 32,
    "start_time": "2022-06-05T07:36:30.982Z"
   },
   {
    "duration": 18,
    "start_time": "2022-06-05T07:36:31.016Z"
   },
   {
    "duration": 49,
    "start_time": "2022-06-05T07:36:31.035Z"
   },
   {
    "duration": 9,
    "start_time": "2022-06-05T07:36:31.086Z"
   },
   {
    "duration": 49,
    "start_time": "2022-06-05T07:36:31.097Z"
   },
   {
    "duration": 7,
    "start_time": "2022-06-05T07:36:31.147Z"
   },
   {
    "duration": 20,
    "start_time": "2022-06-05T07:36:31.155Z"
   },
   {
    "duration": 36,
    "start_time": "2022-06-05T07:36:31.177Z"
   },
   {
    "duration": 22,
    "start_time": "2022-06-05T07:36:31.214Z"
   },
   {
    "duration": 25,
    "start_time": "2022-06-05T07:36:31.240Z"
   },
   {
    "duration": 22,
    "start_time": "2022-06-05T07:36:31.268Z"
   },
   {
    "duration": 4,
    "start_time": "2022-06-05T07:36:31.291Z"
   },
   {
    "duration": 42,
    "start_time": "2022-06-05T07:36:31.296Z"
   },
   {
    "duration": 8,
    "start_time": "2022-06-05T07:36:31.340Z"
   },
   {
    "duration": 33,
    "start_time": "2022-06-05T07:36:31.349Z"
   },
   {
    "duration": 3,
    "start_time": "2022-06-05T07:36:31.383Z"
   },
   {
    "duration": 52,
    "start_time": "2022-06-05T07:36:31.387Z"
   },
   {
    "duration": 10,
    "start_time": "2022-06-05T07:36:31.442Z"
   },
   {
    "duration": 9,
    "start_time": "2022-06-05T07:36:31.453Z"
   },
   {
    "duration": 27,
    "start_time": "2022-06-05T07:36:31.464Z"
   },
   {
    "duration": 308,
    "start_time": "2022-06-05T07:36:31.493Z"
   },
   {
    "duration": 104,
    "start_time": "2022-06-05T07:36:31.802Z"
   },
   {
    "duration": 253,
    "start_time": "2022-06-05T07:36:31.908Z"
   },
   {
    "duration": 191,
    "start_time": "2022-06-05T07:36:32.163Z"
   },
   {
    "duration": 7,
    "start_time": "2022-06-05T07:36:32.356Z"
   },
   {
    "duration": 6,
    "start_time": "2022-06-05T07:36:32.364Z"
   },
   {
    "duration": 15,
    "start_time": "2022-06-05T07:36:32.372Z"
   },
   {
    "duration": 573,
    "start_time": "2022-06-05T07:36:32.389Z"
   },
   {
    "duration": 16,
    "start_time": "2022-06-05T08:22:08.679Z"
   },
   {
    "duration": 71,
    "start_time": "2022-06-05T09:13:15.154Z"
   },
   {
    "duration": 1390,
    "start_time": "2022-06-05T09:13:45.629Z"
   },
   {
    "duration": 566,
    "start_time": "2022-06-05T09:13:47.022Z"
   },
   {
    "duration": 8,
    "start_time": "2022-06-05T09:13:47.590Z"
   },
   {
    "duration": 101,
    "start_time": "2022-06-05T09:13:47.600Z"
   },
   {
    "duration": 29,
    "start_time": "2022-06-05T09:13:49.153Z"
   },
   {
    "duration": 23,
    "start_time": "2022-06-05T09:13:51.552Z"
   },
   {
    "duration": 22,
    "start_time": "2022-06-05T09:13:52.020Z"
   },
   {
    "duration": 19,
    "start_time": "2022-06-05T09:13:54.751Z"
   },
   {
    "duration": 120,
    "start_time": "2022-06-05T09:13:56.701Z"
   },
   {
    "duration": 19,
    "start_time": "2022-06-05T09:14:17.334Z"
   },
   {
    "duration": 16,
    "start_time": "2022-06-05T09:14:27.810Z"
   },
   {
    "duration": 16,
    "start_time": "2022-06-05T09:14:33.715Z"
   },
   {
    "duration": 21,
    "start_time": "2022-06-05T09:19:54.497Z"
   },
   {
    "duration": 32,
    "start_time": "2022-06-05T09:21:35.992Z"
   },
   {
    "duration": 16,
    "start_time": "2022-06-05T09:23:52.482Z"
   },
   {
    "duration": 53,
    "start_time": "2022-06-05T09:24:15.387Z"
   },
   {
    "duration": 13,
    "start_time": "2022-06-05T09:24:21.838Z"
   },
   {
    "duration": 31,
    "start_time": "2022-06-05T09:24:51.182Z"
   },
   {
    "duration": 28,
    "start_time": "2022-06-05T09:25:15.283Z"
   },
   {
    "duration": 37,
    "start_time": "2022-06-05T09:25:19.236Z"
   },
   {
    "duration": 13,
    "start_time": "2022-06-05T09:25:32.339Z"
   },
   {
    "duration": 31,
    "start_time": "2022-06-05T09:26:14.181Z"
   },
   {
    "duration": 12,
    "start_time": "2022-06-05T09:34:18.883Z"
   },
   {
    "duration": 9,
    "start_time": "2022-06-05T09:34:29.446Z"
   },
   {
    "duration": 18,
    "start_time": "2022-06-05T09:34:45.629Z"
   },
   {
    "duration": 16,
    "start_time": "2022-06-05T09:35:14.117Z"
   },
   {
    "duration": 5,
    "start_time": "2022-06-05T10:26:47.903Z"
   },
   {
    "duration": 7,
    "start_time": "2022-06-05T10:26:49.361Z"
   },
   {
    "duration": 22,
    "start_time": "2022-06-05T10:31:37.447Z"
   },
   {
    "duration": 5,
    "start_time": "2022-06-05T10:52:12.690Z"
   },
   {
    "duration": 4,
    "start_time": "2022-06-05T10:52:25.603Z"
   },
   {
    "duration": 4,
    "start_time": "2022-06-05T10:52:38.390Z"
   },
   {
    "duration": 4,
    "start_time": "2022-06-05T10:52:52.554Z"
   },
   {
    "duration": 30,
    "start_time": "2022-06-05T10:53:02.707Z"
   },
   {
    "duration": 33,
    "start_time": "2022-06-05T10:53:31.857Z"
   },
   {
    "duration": 25,
    "start_time": "2022-06-05T10:53:47.930Z"
   },
   {
    "duration": 32,
    "start_time": "2022-06-05T10:54:06.004Z"
   },
   {
    "duration": 31,
    "start_time": "2022-06-05T10:54:15.063Z"
   },
   {
    "duration": 46,
    "start_time": "2022-06-05T10:54:38.515Z"
   },
   {
    "duration": 35,
    "start_time": "2022-06-05T10:54:43.162Z"
   },
   {
    "duration": 39,
    "start_time": "2022-06-05T10:54:57.611Z"
   },
   {
    "duration": 29,
    "start_time": "2022-06-05T10:55:16.691Z"
   },
   {
    "duration": 37,
    "start_time": "2022-06-05T10:55:37.945Z"
   },
   {
    "duration": 26,
    "start_time": "2022-06-05T11:16:28.908Z"
   },
   {
    "duration": 45,
    "start_time": "2022-06-05T11:17:59.241Z"
   },
   {
    "duration": 25,
    "start_time": "2022-06-05T11:18:05.347Z"
   },
   {
    "duration": 13,
    "start_time": "2022-06-05T11:18:06.792Z"
   },
   {
    "duration": 36,
    "start_time": "2022-06-05T11:18:09.947Z"
   },
   {
    "duration": 9,
    "start_time": "2022-06-05T11:18:20.656Z"
   },
   {
    "duration": 59,
    "start_time": "2022-06-05T11:18:22.865Z"
   },
   {
    "duration": 11,
    "start_time": "2022-06-05T11:18:24.961Z"
   },
   {
    "duration": 15,
    "start_time": "2022-06-05T11:18:25.675Z"
   },
   {
    "duration": 9,
    "start_time": "2022-06-05T11:24:52.111Z"
   },
   {
    "duration": 8,
    "start_time": "2022-06-05T11:25:27.613Z"
   },
   {
    "duration": 8,
    "start_time": "2022-06-05T11:25:48.382Z"
   },
   {
    "duration": 14,
    "start_time": "2022-06-05T11:26:49.354Z"
   },
   {
    "duration": 42,
    "start_time": "2022-06-05T11:26:53.212Z"
   },
   {
    "duration": 36,
    "start_time": "2022-06-05T11:27:10.813Z"
   },
   {
    "duration": 17,
    "start_time": "2022-06-05T11:27:14.210Z"
   },
   {
    "duration": 26,
    "start_time": "2022-06-05T11:27:16.909Z"
   },
   {
    "duration": 29,
    "start_time": "2022-06-05T11:27:19.714Z"
   },
   {
    "duration": 4,
    "start_time": "2022-06-05T11:27:41.517Z"
   },
   {
    "duration": 4,
    "start_time": "2022-06-05T11:27:55.914Z"
   },
   {
    "duration": 4,
    "start_time": "2022-06-05T11:28:00.568Z"
   },
   {
    "duration": 47,
    "start_time": "2022-06-05T11:28:07.067Z"
   },
   {
    "duration": 4,
    "start_time": "2022-06-05T11:28:33.668Z"
   },
   {
    "duration": 65,
    "start_time": "2022-06-05T11:28:34.422Z"
   },
   {
    "duration": 294,
    "start_time": "2022-06-05T12:06:42.121Z"
   },
   {
    "duration": 17,
    "start_time": "2022-06-05T12:06:48.356Z"
   },
   {
    "duration": 3,
    "start_time": "2022-06-05T12:06:48.788Z"
   },
   {
    "duration": 22,
    "start_time": "2022-06-05T12:06:48.987Z"
   },
   {
    "duration": 356,
    "start_time": "2022-06-05T12:06:50.348Z"
   },
   {
    "duration": 200,
    "start_time": "2022-06-05T12:06:50.706Z"
   },
   {
    "duration": 4863,
    "start_time": "2022-06-05T12:07:10.497Z"
   },
   {
    "duration": 681,
    "start_time": "2022-06-05T12:07:15.363Z"
   },
   {
    "duration": 9,
    "start_time": "2022-06-05T12:07:16.047Z"
   },
   {
    "duration": 107,
    "start_time": "2022-06-05T12:07:16.058Z"
   },
   {
    "duration": 43,
    "start_time": "2022-06-05T12:07:16.167Z"
   },
   {
    "duration": 44,
    "start_time": "2022-06-05T12:07:16.212Z"
   },
   {
    "duration": 26,
    "start_time": "2022-06-05T12:07:16.258Z"
   },
   {
    "duration": 18,
    "start_time": "2022-06-05T12:07:16.285Z"
   },
   {
    "duration": 66,
    "start_time": "2022-06-05T12:07:16.305Z"
   },
   {
    "duration": 18,
    "start_time": "2022-06-05T12:07:16.374Z"
   },
   {
    "duration": 5,
    "start_time": "2022-06-05T12:07:16.394Z"
   },
   {
    "duration": 26,
    "start_time": "2022-06-05T12:07:16.401Z"
   },
   {
    "duration": 32,
    "start_time": "2022-06-05T12:07:16.437Z"
   },
   {
    "duration": 14,
    "start_time": "2022-06-05T12:07:16.472Z"
   },
   {
    "duration": 49,
    "start_time": "2022-06-05T12:07:16.488Z"
   },
   {
    "duration": 14,
    "start_time": "2022-06-05T12:07:16.538Z"
   },
   {
    "duration": 21,
    "start_time": "2022-06-05T12:07:16.555Z"
   },
   {
    "duration": 47,
    "start_time": "2022-06-05T12:07:16.577Z"
   },
   {
    "duration": 54,
    "start_time": "2022-06-05T12:07:16.626Z"
   },
   {
    "duration": 19,
    "start_time": "2022-06-05T12:07:16.681Z"
   },
   {
    "duration": 46,
    "start_time": "2022-06-05T12:07:16.702Z"
   },
   {
    "duration": 23,
    "start_time": "2022-06-05T12:07:16.750Z"
   },
   {
    "duration": 4,
    "start_time": "2022-06-05T12:07:16.776Z"
   },
   {
    "duration": 18,
    "start_time": "2022-06-05T12:07:16.782Z"
   },
   {
    "duration": 10,
    "start_time": "2022-06-05T12:07:16.802Z"
   },
   {
    "duration": 56,
    "start_time": "2022-06-05T12:07:16.813Z"
   },
   {
    "duration": 4,
    "start_time": "2022-06-05T12:07:16.871Z"
   },
   {
    "duration": 70,
    "start_time": "2022-06-05T12:07:16.879Z"
   },
   {
    "duration": 14,
    "start_time": "2022-06-05T12:07:16.951Z"
   },
   {
    "duration": 7,
    "start_time": "2022-06-05T12:07:16.967Z"
   },
   {
    "duration": 36,
    "start_time": "2022-06-05T12:07:16.976Z"
   },
   {
    "duration": 367,
    "start_time": "2022-06-05T12:07:17.015Z"
   },
   {
    "duration": 303,
    "start_time": "2022-06-05T12:07:17.384Z"
   },
   {
    "duration": 0,
    "start_time": "2022-06-05T12:07:17.689Z"
   },
   {
    "duration": 0,
    "start_time": "2022-06-05T12:07:17.690Z"
   },
   {
    "duration": 0,
    "start_time": "2022-06-05T12:07:17.692Z"
   },
   {
    "duration": 0,
    "start_time": "2022-06-05T12:07:17.693Z"
   },
   {
    "duration": 0,
    "start_time": "2022-06-05T12:07:17.694Z"
   },
   {
    "duration": 0,
    "start_time": "2022-06-05T12:07:17.696Z"
   },
   {
    "duration": 1263,
    "start_time": "2022-06-05T12:13:04.526Z"
   },
   {
    "duration": 687,
    "start_time": "2022-06-05T12:13:05.791Z"
   },
   {
    "duration": 5,
    "start_time": "2022-06-05T12:13:06.480Z"
   },
   {
    "duration": 66,
    "start_time": "2022-06-05T12:13:06.487Z"
   },
   {
    "duration": 27,
    "start_time": "2022-06-05T12:13:06.555Z"
   },
   {
    "duration": 24,
    "start_time": "2022-06-05T12:13:06.584Z"
   },
   {
    "duration": 26,
    "start_time": "2022-06-05T12:13:06.626Z"
   },
   {
    "duration": 17,
    "start_time": "2022-06-05T12:13:06.653Z"
   },
   {
    "duration": 67,
    "start_time": "2022-06-05T12:13:06.672Z"
   },
   {
    "duration": 18,
    "start_time": "2022-06-05T12:13:06.742Z"
   },
   {
    "duration": 22,
    "start_time": "2022-06-05T12:13:06.763Z"
   },
   {
    "duration": 15,
    "start_time": "2022-06-05T12:13:06.788Z"
   },
   {
    "duration": 36,
    "start_time": "2022-06-05T12:13:06.805Z"
   },
   {
    "duration": 16,
    "start_time": "2022-06-05T12:13:06.843Z"
   },
   {
    "duration": 40,
    "start_time": "2022-06-05T12:13:06.861Z"
   },
   {
    "duration": 25,
    "start_time": "2022-06-05T12:13:06.904Z"
   },
   {
    "duration": 11,
    "start_time": "2022-06-05T12:13:06.936Z"
   },
   {
    "duration": 11,
    "start_time": "2022-06-05T12:13:06.949Z"
   },
   {
    "duration": 45,
    "start_time": "2022-06-05T12:13:06.962Z"
   },
   {
    "duration": 40,
    "start_time": "2022-06-05T12:13:07.009Z"
   },
   {
    "duration": 23,
    "start_time": "2022-06-05T12:13:07.052Z"
   },
   {
    "duration": 18,
    "start_time": "2022-06-05T12:13:07.077Z"
   },
   {
    "duration": 3,
    "start_time": "2022-06-05T12:13:07.096Z"
   },
   {
    "duration": 47,
    "start_time": "2022-06-05T12:13:07.101Z"
   },
   {
    "duration": 20,
    "start_time": "2022-06-05T12:13:07.149Z"
   },
   {
    "duration": 48,
    "start_time": "2022-06-05T12:13:07.170Z"
   },
   {
    "duration": 4,
    "start_time": "2022-06-05T12:13:07.219Z"
   },
   {
    "duration": 49,
    "start_time": "2022-06-05T12:13:07.228Z"
   },
   {
    "duration": 9,
    "start_time": "2022-06-05T12:13:07.279Z"
   },
   {
    "duration": 20,
    "start_time": "2022-06-05T12:13:07.289Z"
   },
   {
    "duration": 28,
    "start_time": "2022-06-05T12:13:07.310Z"
   },
   {
    "duration": 362,
    "start_time": "2022-06-05T12:13:07.341Z"
   },
   {
    "duration": 247,
    "start_time": "2022-06-05T12:13:07.704Z"
   },
   {
    "duration": 0,
    "start_time": "2022-06-05T12:13:07.952Z"
   },
   {
    "duration": 0,
    "start_time": "2022-06-05T12:13:07.954Z"
   },
   {
    "duration": 0,
    "start_time": "2022-06-05T12:13:07.955Z"
   },
   {
    "duration": 0,
    "start_time": "2022-06-05T12:13:07.957Z"
   },
   {
    "duration": 0,
    "start_time": "2022-06-05T12:13:07.958Z"
   },
   {
    "duration": 0,
    "start_time": "2022-06-05T12:13:07.959Z"
   },
   {
    "duration": 13,
    "start_time": "2022-06-05T13:59:48.376Z"
   },
   {
    "duration": 4,
    "start_time": "2022-06-05T13:59:50.077Z"
   },
   {
    "duration": 23,
    "start_time": "2022-06-05T13:59:50.585Z"
   },
   {
    "duration": 10,
    "start_time": "2022-06-05T14:00:32.917Z"
   },
   {
    "duration": 4,
    "start_time": "2022-06-05T14:00:36.186Z"
   },
   {
    "duration": 5,
    "start_time": "2022-06-05T14:01:06.447Z"
   },
   {
    "duration": 22,
    "start_time": "2022-06-05T14:01:06.755Z"
   },
   {
    "duration": 4,
    "start_time": "2022-06-05T14:01:54.174Z"
   },
   {
    "duration": 34,
    "start_time": "2022-06-05T14:01:54.500Z"
   },
   {
    "duration": 428,
    "start_time": "2022-06-05T14:02:16.574Z"
   },
   {
    "duration": 170,
    "start_time": "2022-06-05T14:02:19.493Z"
   },
   {
    "duration": 11,
    "start_time": "2022-06-05T14:02:58.472Z"
   },
   {
    "duration": 24,
    "start_time": "2022-06-05T14:03:15.686Z"
   },
   {
    "duration": 565,
    "start_time": "2022-06-05T14:03:18.727Z"
   },
   {
    "duration": 144,
    "start_time": "2022-06-05T14:03:41.626Z"
   },
   {
    "duration": 120,
    "start_time": "2022-06-05T14:04:29.847Z"
   },
   {
    "duration": 155,
    "start_time": "2022-06-05T14:05:06.575Z"
   },
   {
    "duration": 176,
    "start_time": "2022-06-05T14:05:11.378Z"
   },
   {
    "duration": 28,
    "start_time": "2022-06-05T14:08:24.072Z"
   },
   {
    "duration": 24,
    "start_time": "2022-06-05T14:08:24.755Z"
   },
   {
    "duration": 22,
    "start_time": "2022-06-05T14:08:25.047Z"
   },
   {
    "duration": 21,
    "start_time": "2022-06-05T14:08:25.283Z"
   },
   {
    "duration": 4,
    "start_time": "2022-06-05T14:08:27.075Z"
   },
   {
    "duration": 5,
    "start_time": "2022-06-05T14:08:28.296Z"
   },
   {
    "duration": 4,
    "start_time": "2022-06-05T14:08:28.471Z"
   },
   {
    "duration": 31,
    "start_time": "2022-06-05T14:08:28.645Z"
   },
   {
    "duration": 3,
    "start_time": "2022-06-05T14:08:28.814Z"
   },
   {
    "duration": 35,
    "start_time": "2022-06-05T14:08:28.990Z"
   },
   {
    "duration": 12,
    "start_time": "2022-06-05T14:08:31.974Z"
   },
   {
    "duration": 18,
    "start_time": "2022-06-05T14:08:33.374Z"
   },
   {
    "duration": 20,
    "start_time": "2022-06-05T14:08:33.884Z"
   },
   {
    "duration": 328,
    "start_time": "2022-06-05T14:08:46.605Z"
   },
   {
    "duration": 226,
    "start_time": "2022-06-05T14:08:46.941Z"
   },
   {
    "duration": 59,
    "start_time": "2022-06-05T14:08:48.644Z"
   },
   {
    "duration": 200,
    "start_time": "2022-06-05T14:08:51.872Z"
   },
   {
    "duration": 11,
    "start_time": "2022-06-05T14:10:43.575Z"
   },
   {
    "duration": 5,
    "start_time": "2022-06-05T14:10:44.124Z"
   },
   {
    "duration": 27,
    "start_time": "2022-06-05T14:10:44.672Z"
   },
   {
    "duration": 450,
    "start_time": "2022-06-05T14:11:08.703Z"
   },
   {
    "duration": 118,
    "start_time": "2022-06-05T14:11:32.405Z"
   },
   {
    "duration": 47,
    "start_time": "2022-06-05T14:11:33.945Z"
   },
   {
    "duration": 211,
    "start_time": "2022-06-05T14:11:36.318Z"
   },
   {
    "duration": 47,
    "start_time": "2022-06-05T14:14:39.999Z"
   },
   {
    "duration": 52,
    "start_time": "2022-06-05T14:14:57.592Z"
   },
   {
    "duration": 16,
    "start_time": "2022-06-05T14:15:05.892Z"
   },
   {
    "duration": 37,
    "start_time": "2022-06-05T14:15:31.757Z"
   },
   {
    "duration": 21,
    "start_time": "2022-06-05T14:15:45.094Z"
   },
   {
    "duration": 20,
    "start_time": "2022-06-05T14:16:30.600Z"
   },
   {
    "duration": 33,
    "start_time": "2022-06-05T14:17:32.494Z"
   },
   {
    "duration": 28,
    "start_time": "2022-06-05T14:17:39.022Z"
   },
   {
    "duration": 16,
    "start_time": "2022-06-05T14:19:04.046Z"
   },
   {
    "duration": 11,
    "start_time": "2022-06-05T14:20:15.954Z"
   },
   {
    "duration": 25,
    "start_time": "2022-06-05T14:21:01.833Z"
   },
   {
    "duration": 26,
    "start_time": "2022-06-05T14:24:52.392Z"
   },
   {
    "duration": 10,
    "start_time": "2022-06-05T14:25:01.486Z"
   },
   {
    "duration": 7,
    "start_time": "2022-06-05T14:25:01.964Z"
   },
   {
    "duration": 12,
    "start_time": "2022-06-05T14:25:04.354Z"
   },
   {
    "duration": 14,
    "start_time": "2022-06-05T14:29:11.797Z"
   },
   {
    "duration": 25,
    "start_time": "2022-06-05T14:29:19.994Z"
   },
   {
    "duration": 11,
    "start_time": "2022-06-05T14:30:09.596Z"
   },
   {
    "duration": 19,
    "start_time": "2022-06-05T14:30:15.100Z"
   },
   {
    "duration": 23,
    "start_time": "2022-06-05T14:30:43.049Z"
   },
   {
    "duration": 23,
    "start_time": "2022-06-05T14:32:28.101Z"
   },
   {
    "duration": 25,
    "start_time": "2022-06-05T14:32:40.428Z"
   },
   {
    "duration": 27,
    "start_time": "2022-06-05T14:33:32.652Z"
   },
   {
    "duration": 55,
    "start_time": "2022-06-05T17:13:47.589Z"
   },
   {
    "duration": 1263,
    "start_time": "2022-06-05T17:13:56.731Z"
   },
   {
    "duration": 445,
    "start_time": "2022-06-05T17:13:57.996Z"
   },
   {
    "duration": 11,
    "start_time": "2022-06-05T17:13:58.442Z"
   },
   {
    "duration": 47,
    "start_time": "2022-06-05T17:13:58.455Z"
   },
   {
    "duration": 27,
    "start_time": "2022-06-05T17:13:58.504Z"
   },
   {
    "duration": 33,
    "start_time": "2022-06-05T17:13:58.533Z"
   },
   {
    "duration": 17,
    "start_time": "2022-06-05T17:13:58.567Z"
   },
   {
    "duration": 15,
    "start_time": "2022-06-05T17:13:58.586Z"
   },
   {
    "duration": 67,
    "start_time": "2022-06-05T17:13:58.602Z"
   },
   {
    "duration": 15,
    "start_time": "2022-06-05T17:13:58.671Z"
   },
   {
    "duration": 5,
    "start_time": "2022-06-05T17:13:58.687Z"
   },
   {
    "duration": 7,
    "start_time": "2022-06-05T17:13:58.693Z"
   },
   {
    "duration": 52,
    "start_time": "2022-06-05T17:13:58.701Z"
   },
   {
    "duration": 12,
    "start_time": "2022-06-05T17:13:58.755Z"
   },
   {
    "duration": 30,
    "start_time": "2022-06-05T17:13:58.769Z"
   },
   {
    "duration": 7,
    "start_time": "2022-06-05T17:13:58.801Z"
   },
   {
    "duration": 7,
    "start_time": "2022-06-05T17:13:58.810Z"
   },
   {
    "duration": 7,
    "start_time": "2022-06-05T17:13:58.853Z"
   },
   {
    "duration": 35,
    "start_time": "2022-06-05T17:13:58.861Z"
   },
   {
    "duration": 16,
    "start_time": "2022-06-05T17:13:58.897Z"
   },
   {
    "duration": 54,
    "start_time": "2022-06-05T17:13:58.915Z"
   },
   {
    "duration": 19,
    "start_time": "2022-06-05T17:13:58.971Z"
   },
   {
    "duration": 4,
    "start_time": "2022-06-05T17:13:58.992Z"
   },
   {
    "duration": 12,
    "start_time": "2022-06-05T17:13:58.997Z"
   },
   {
    "duration": 5,
    "start_time": "2022-06-05T17:13:59.011Z"
   },
   {
    "duration": 62,
    "start_time": "2022-06-05T17:13:59.018Z"
   },
   {
    "duration": 3,
    "start_time": "2022-06-05T17:13:59.082Z"
   },
   {
    "duration": 35,
    "start_time": "2022-06-05T17:13:59.088Z"
   },
   {
    "duration": 32,
    "start_time": "2022-06-05T17:13:59.125Z"
   },
   {
    "duration": 4,
    "start_time": "2022-06-05T17:13:59.159Z"
   },
   {
    "duration": 48,
    "start_time": "2022-06-05T17:13:59.164Z"
   },
   {
    "duration": 342,
    "start_time": "2022-06-05T17:13:59.214Z"
   },
   {
    "duration": 121,
    "start_time": "2022-06-05T17:13:59.558Z"
   },
   {
    "duration": 572,
    "start_time": "2022-06-05T17:13:59.680Z"
   },
   {
    "duration": 21,
    "start_time": "2022-06-05T17:14:00.254Z"
   },
   {
    "duration": 209,
    "start_time": "2022-06-05T17:14:00.277Z"
   },
   {
    "duration": 9,
    "start_time": "2022-06-05T17:14:00.488Z"
   },
   {
    "duration": 17,
    "start_time": "2022-06-05T17:14:00.499Z"
   },
   {
    "duration": 22,
    "start_time": "2022-06-05T17:14:00.518Z"
   },
   {
    "duration": 429,
    "start_time": "2022-06-05T17:14:00.542Z"
   },
   {
    "duration": 1091,
    "start_time": "2022-06-05T17:15:07.686Z"
   },
   {
    "duration": 496,
    "start_time": "2022-06-05T17:15:08.779Z"
   },
   {
    "duration": 5,
    "start_time": "2022-06-05T17:15:09.277Z"
   },
   {
    "duration": 55,
    "start_time": "2022-06-05T17:15:09.283Z"
   },
   {
    "duration": 24,
    "start_time": "2022-06-05T17:15:09.339Z"
   },
   {
    "duration": 26,
    "start_time": "2022-06-05T17:15:09.365Z"
   },
   {
    "duration": 17,
    "start_time": "2022-06-05T17:15:09.392Z"
   },
   {
    "duration": 14,
    "start_time": "2022-06-05T17:15:09.410Z"
   },
   {
    "duration": 54,
    "start_time": "2022-06-05T17:15:09.426Z"
   },
   {
    "duration": 14,
    "start_time": "2022-06-05T17:15:09.482Z"
   },
   {
    "duration": 5,
    "start_time": "2022-06-05T17:15:09.498Z"
   },
   {
    "duration": 10,
    "start_time": "2022-06-05T17:15:09.504Z"
   },
   {
    "duration": 47,
    "start_time": "2022-06-05T17:15:09.515Z"
   },
   {
    "duration": 10,
    "start_time": "2022-06-05T17:15:09.563Z"
   },
   {
    "duration": 30,
    "start_time": "2022-06-05T17:15:09.575Z"
   },
   {
    "duration": 7,
    "start_time": "2022-06-05T17:15:09.607Z"
   },
   {
    "duration": 42,
    "start_time": "2022-06-05T17:15:09.615Z"
   },
   {
    "duration": 7,
    "start_time": "2022-06-05T17:15:09.659Z"
   },
   {
    "duration": 28,
    "start_time": "2022-06-05T17:15:09.667Z"
   },
   {
    "duration": 13,
    "start_time": "2022-06-05T17:15:09.697Z"
   },
   {
    "duration": 50,
    "start_time": "2022-06-05T17:15:09.712Z"
   },
   {
    "duration": 18,
    "start_time": "2022-06-05T17:15:09.764Z"
   },
   {
    "duration": 4,
    "start_time": "2022-06-05T17:15:09.783Z"
   },
   {
    "duration": 10,
    "start_time": "2022-06-05T17:15:09.788Z"
   },
   {
    "duration": 7,
    "start_time": "2022-06-05T17:15:09.800Z"
   },
   {
    "duration": 54,
    "start_time": "2022-06-05T17:15:09.808Z"
   },
   {
    "duration": 3,
    "start_time": "2022-06-05T17:15:09.864Z"
   },
   {
    "duration": 38,
    "start_time": "2022-06-05T17:15:09.870Z"
   },
   {
    "duration": 10,
    "start_time": "2022-06-05T17:15:09.909Z"
   },
   {
    "duration": 7,
    "start_time": "2022-06-05T17:15:09.920Z"
   },
   {
    "duration": 46,
    "start_time": "2022-06-05T17:15:09.928Z"
   },
   {
    "duration": 336,
    "start_time": "2022-06-05T17:15:09.976Z"
   },
   {
    "duration": 119,
    "start_time": "2022-06-05T17:15:10.313Z"
   },
   {
    "duration": 202,
    "start_time": "2022-06-05T17:15:10.433Z"
   },
   {
    "duration": 18,
    "start_time": "2022-06-05T17:15:10.636Z"
   },
   {
    "duration": 186,
    "start_time": "2022-06-05T17:15:10.656Z"
   },
   {
    "duration": 12,
    "start_time": "2022-06-05T17:15:10.844Z"
   },
   {
    "duration": 10,
    "start_time": "2022-06-05T17:15:10.858Z"
   },
   {
    "duration": 15,
    "start_time": "2022-06-05T17:15:10.870Z"
   },
   {
    "duration": 394,
    "start_time": "2022-06-05T17:15:10.887Z"
   },
   {
    "duration": 26,
    "start_time": "2022-06-05T18:47:01.040Z"
   },
   {
    "duration": 29,
    "start_time": "2022-06-05T18:47:15.872Z"
   },
   {
    "duration": 28,
    "start_time": "2022-06-05T18:56:27.356Z"
   },
   {
    "duration": 390,
    "start_time": "2022-06-05T18:56:28.088Z"
   },
   {
    "duration": 5,
    "start_time": "2022-06-05T18:57:06.248Z"
   },
   {
    "duration": 1134,
    "start_time": "2022-06-05T18:57:19.850Z"
   },
   {
    "duration": 619,
    "start_time": "2022-06-05T18:57:20.986Z"
   },
   {
    "duration": 5,
    "start_time": "2022-06-05T18:57:21.607Z"
   },
   {
    "duration": 48,
    "start_time": "2022-06-05T18:57:21.614Z"
   },
   {
    "duration": 23,
    "start_time": "2022-06-05T18:57:21.664Z"
   },
   {
    "duration": 28,
    "start_time": "2022-06-05T18:57:21.689Z"
   },
   {
    "duration": 34,
    "start_time": "2022-06-05T18:57:21.718Z"
   },
   {
    "duration": 14,
    "start_time": "2022-06-05T18:57:21.754Z"
   },
   {
    "duration": 31,
    "start_time": "2022-06-05T18:57:21.770Z"
   },
   {
    "duration": 13,
    "start_time": "2022-06-05T18:57:21.802Z"
   },
   {
    "duration": 4,
    "start_time": "2022-06-05T18:57:21.816Z"
   },
   {
    "duration": 5,
    "start_time": "2022-06-05T18:57:21.851Z"
   },
   {
    "duration": 19,
    "start_time": "2022-06-05T18:57:21.857Z"
   },
   {
    "duration": 9,
    "start_time": "2022-06-05T18:57:21.879Z"
   },
   {
    "duration": 27,
    "start_time": "2022-06-05T18:57:21.890Z"
   },
   {
    "duration": 7,
    "start_time": "2022-06-05T18:57:21.952Z"
   },
   {
    "duration": 8,
    "start_time": "2022-06-05T18:57:21.961Z"
   },
   {
    "duration": 6,
    "start_time": "2022-06-05T18:57:21.971Z"
   },
   {
    "duration": 28,
    "start_time": "2022-06-05T18:57:21.979Z"
   },
   {
    "duration": 48,
    "start_time": "2022-06-05T18:57:22.008Z"
   },
   {
    "duration": 18,
    "start_time": "2022-06-05T18:57:22.058Z"
   },
   {
    "duration": 17,
    "start_time": "2022-06-05T18:57:22.078Z"
   },
   {
    "duration": 3,
    "start_time": "2022-06-05T18:57:22.096Z"
   },
   {
    "duration": 7,
    "start_time": "2022-06-05T18:57:22.101Z"
   },
   {
    "duration": 10,
    "start_time": "2022-06-05T18:57:22.110Z"
   },
   {
    "duration": 54,
    "start_time": "2022-06-05T18:57:22.121Z"
   },
   {
    "duration": 5,
    "start_time": "2022-06-05T18:57:22.176Z"
   },
   {
    "duration": 31,
    "start_time": "2022-06-05T18:57:22.183Z"
   },
   {
    "duration": 3,
    "start_time": "2022-06-05T18:57:22.216Z"
   },
   {
    "duration": 53,
    "start_time": "2022-06-05T18:57:22.220Z"
   },
   {
    "duration": 26,
    "start_time": "2022-06-05T18:57:22.274Z"
   },
   {
    "duration": 2,
    "start_time": "2022-06-05T18:57:22.302Z"
   },
   {
    "duration": 413,
    "start_time": "2022-06-05T18:57:22.306Z"
   },
   {
    "duration": 0,
    "start_time": "2022-06-05T18:57:22.721Z"
   },
   {
    "duration": 0,
    "start_time": "2022-06-05T18:57:22.722Z"
   },
   {
    "duration": 0,
    "start_time": "2022-06-05T18:57:22.723Z"
   },
   {
    "duration": 0,
    "start_time": "2022-06-05T18:57:22.724Z"
   },
   {
    "duration": 0,
    "start_time": "2022-06-05T18:57:22.725Z"
   },
   {
    "duration": 0,
    "start_time": "2022-06-05T18:57:22.726Z"
   },
   {
    "duration": 0,
    "start_time": "2022-06-05T18:57:22.727Z"
   },
   {
    "duration": 0,
    "start_time": "2022-06-05T18:57:22.728Z"
   },
   {
    "duration": 21,
    "start_time": "2022-06-05T18:57:42.423Z"
   },
   {
    "duration": 292,
    "start_time": "2022-06-05T18:58:08.327Z"
   },
   {
    "duration": 400,
    "start_time": "2022-06-05T18:58:55.040Z"
   },
   {
    "duration": 333,
    "start_time": "2022-06-05T18:59:12.487Z"
   },
   {
    "duration": 330,
    "start_time": "2022-06-05T18:59:19.060Z"
   },
   {
    "duration": 321,
    "start_time": "2022-06-05T18:59:50.637Z"
   },
   {
    "duration": 315,
    "start_time": "2022-06-05T19:00:04.739Z"
   },
   {
    "duration": 396,
    "start_time": "2022-06-05T19:00:15.337Z"
   },
   {
    "duration": 434,
    "start_time": "2022-06-05T19:00:34.838Z"
   },
   {
    "duration": 358,
    "start_time": "2022-06-05T19:00:41.528Z"
   },
   {
    "duration": 22,
    "start_time": "2022-06-05T19:01:51.095Z"
   },
   {
    "duration": 350,
    "start_time": "2022-06-05T19:01:51.822Z"
   },
   {
    "duration": 114,
    "start_time": "2022-06-05T19:01:57.581Z"
   },
   {
    "duration": 122,
    "start_time": "2022-06-05T19:02:10.109Z"
   },
   {
    "duration": 82,
    "start_time": "2022-06-05T19:02:16.257Z"
   },
   {
    "duration": 15,
    "start_time": "2022-06-05T19:03:24.602Z"
   },
   {
    "duration": 13,
    "start_time": "2022-06-05T19:03:47.310Z"
   },
   {
    "duration": 353,
    "start_time": "2022-06-05T19:03:51.088Z"
   },
   {
    "duration": 218,
    "start_time": "2022-06-05T19:03:58.097Z"
   },
   {
    "duration": 93,
    "start_time": "2022-06-05T19:04:10.170Z"
   },
   {
    "duration": 84,
    "start_time": "2022-06-05T19:04:43.375Z"
   },
   {
    "duration": 84,
    "start_time": "2022-06-05T19:04:52.707Z"
   },
   {
    "duration": 109,
    "start_time": "2022-06-05T19:05:35.221Z"
   },
   {
    "duration": 16,
    "start_time": "2022-06-05T19:05:37.184Z"
   },
   {
    "duration": 1110,
    "start_time": "2022-06-05T19:26:31.288Z"
   },
   {
    "duration": 495,
    "start_time": "2022-06-05T19:26:32.400Z"
   },
   {
    "duration": 5,
    "start_time": "2022-06-05T19:26:32.897Z"
   },
   {
    "duration": 41,
    "start_time": "2022-06-05T19:26:32.904Z"
   },
   {
    "duration": 39,
    "start_time": "2022-06-05T19:26:32.947Z"
   },
   {
    "duration": 22,
    "start_time": "2022-06-05T19:26:32.988Z"
   },
   {
    "duration": 15,
    "start_time": "2022-06-05T19:26:33.012Z"
   },
   {
    "duration": 22,
    "start_time": "2022-06-05T19:26:33.058Z"
   },
   {
    "duration": 31,
    "start_time": "2022-06-05T19:26:33.082Z"
   },
   {
    "duration": 14,
    "start_time": "2022-06-05T19:26:33.116Z"
   },
   {
    "duration": 4,
    "start_time": "2022-06-05T19:26:33.131Z"
   },
   {
    "duration": 27,
    "start_time": "2022-06-05T19:26:33.136Z"
   },
   {
    "duration": 18,
    "start_time": "2022-06-05T19:26:33.165Z"
   },
   {
    "duration": 10,
    "start_time": "2022-06-05T19:26:33.185Z"
   },
   {
    "duration": 28,
    "start_time": "2022-06-05T19:26:33.196Z"
   },
   {
    "duration": 29,
    "start_time": "2022-06-05T19:26:33.226Z"
   },
   {
    "duration": 6,
    "start_time": "2022-06-05T19:26:33.268Z"
   },
   {
    "duration": 10,
    "start_time": "2022-06-05T19:26:33.276Z"
   },
   {
    "duration": 34,
    "start_time": "2022-06-05T19:26:33.287Z"
   },
   {
    "duration": 18,
    "start_time": "2022-06-05T19:26:33.323Z"
   },
   {
    "duration": 24,
    "start_time": "2022-06-05T19:26:33.343Z"
   },
   {
    "duration": 18,
    "start_time": "2022-06-05T19:26:33.369Z"
   },
   {
    "duration": 3,
    "start_time": "2022-06-05T19:26:33.389Z"
   },
   {
    "duration": 8,
    "start_time": "2022-06-05T19:26:33.394Z"
   },
   {
    "duration": 7,
    "start_time": "2022-06-05T19:26:33.404Z"
   },
   {
    "duration": 51,
    "start_time": "2022-06-05T19:26:33.412Z"
   },
   {
    "duration": 3,
    "start_time": "2022-06-05T19:26:33.464Z"
   },
   {
    "duration": 31,
    "start_time": "2022-06-05T19:26:33.471Z"
   },
   {
    "duration": 4,
    "start_time": "2022-06-05T19:26:33.503Z"
   },
   {
    "duration": 30,
    "start_time": "2022-06-05T19:26:33.508Z"
   },
   {
    "duration": 36,
    "start_time": "2022-06-05T19:26:33.552Z"
   },
   {
    "duration": 9,
    "start_time": "2022-06-05T19:26:33.589Z"
   },
   {
    "duration": 15,
    "start_time": "2022-06-05T19:26:33.600Z"
   },
   {
    "duration": 376,
    "start_time": "2022-06-05T19:26:33.616Z"
   },
   {
    "duration": 374,
    "start_time": "2022-06-05T19:26:48.755Z"
   },
   {
    "duration": 164,
    "start_time": "2022-06-05T19:27:09.142Z"
   },
   {
    "duration": 110,
    "start_time": "2022-06-05T19:27:19.864Z"
   },
   {
    "duration": 26,
    "start_time": "2022-06-05T19:27:40.462Z"
   },
   {
    "duration": 16,
    "start_time": "2022-06-05T19:31:15.255Z"
   },
   {
    "duration": 27,
    "start_time": "2022-06-05T19:33:11.078Z"
   },
   {
    "duration": 24,
    "start_time": "2022-06-05T19:33:26.669Z"
   },
   {
    "duration": 23,
    "start_time": "2022-06-05T19:33:42.245Z"
   },
   {
    "duration": 23,
    "start_time": "2022-06-05T19:33:49.240Z"
   },
   {
    "duration": 367,
    "start_time": "2022-06-05T19:33:50.368Z"
   },
   {
    "duration": 380,
    "start_time": "2022-06-05T19:34:13.543Z"
   },
   {
    "duration": 87,
    "start_time": "2022-06-05T19:34:39.711Z"
   },
   {
    "duration": 17,
    "start_time": "2022-06-05T19:38:50.426Z"
   },
   {
    "duration": 16,
    "start_time": "2022-06-05T19:41:47.468Z"
   },
   {
    "duration": 30,
    "start_time": "2022-06-05T19:42:12.557Z"
   },
   {
    "duration": 23,
    "start_time": "2022-06-05T19:42:22.909Z"
   },
   {
    "duration": 5,
    "start_time": "2022-06-05T19:43:10.710Z"
   },
   {
    "duration": 159,
    "start_time": "2022-06-05T19:43:51.505Z"
   },
   {
    "duration": 658,
    "start_time": "2022-06-05T19:46:58.453Z"
   },
   {
    "duration": 376,
    "start_time": "2022-06-05T19:47:10.814Z"
   },
   {
    "duration": 277,
    "start_time": "2022-06-05T19:47:19.037Z"
   },
   {
    "duration": 172,
    "start_time": "2022-06-05T19:47:38.010Z"
   },
   {
    "duration": 43,
    "start_time": "2022-06-05T20:01:05.366Z"
   },
   {
    "duration": 32,
    "start_time": "2022-06-05T20:01:46.153Z"
   },
   {
    "duration": 51,
    "start_time": "2022-06-05T20:05:40.095Z"
   },
   {
    "duration": 35,
    "start_time": "2022-06-05T20:08:22.202Z"
   },
   {
    "duration": 11,
    "start_time": "2022-06-05T20:08:32.388Z"
   },
   {
    "duration": 21,
    "start_time": "2022-06-05T20:08:42.037Z"
   },
   {
    "duration": 18,
    "start_time": "2022-06-05T20:09:33.502Z"
   },
   {
    "duration": 20,
    "start_time": "2022-06-05T20:09:48.269Z"
   },
   {
    "duration": 20,
    "start_time": "2022-06-05T20:10:14.400Z"
   },
   {
    "duration": 22,
    "start_time": "2022-06-05T20:12:10.051Z"
   },
   {
    "duration": 22,
    "start_time": "2022-06-05T20:12:29.706Z"
   },
   {
    "duration": 18,
    "start_time": "2022-06-05T20:12:49.805Z"
   },
   {
    "duration": 49,
    "start_time": "2022-06-05T20:12:55.070Z"
   },
   {
    "duration": 12,
    "start_time": "2022-06-05T20:13:40.770Z"
   },
   {
    "duration": 36,
    "start_time": "2022-06-05T20:15:25.502Z"
   },
   {
    "duration": 161,
    "start_time": "2022-06-05T20:16:21.793Z"
   },
   {
    "duration": 341,
    "start_time": "2022-06-05T20:20:58.829Z"
   },
   {
    "duration": 311,
    "start_time": "2022-06-05T20:23:23.096Z"
   },
   {
    "duration": 323,
    "start_time": "2022-06-05T20:23:45.085Z"
   },
   {
    "duration": 344,
    "start_time": "2022-06-05T20:23:52.696Z"
   },
   {
    "duration": 1076,
    "start_time": "2022-06-05T20:31:25.406Z"
   },
   {
    "duration": 495,
    "start_time": "2022-06-05T20:31:26.483Z"
   },
   {
    "duration": 4,
    "start_time": "2022-06-05T20:31:26.980Z"
   },
   {
    "duration": 183,
    "start_time": "2022-06-05T20:31:26.986Z"
   },
   {
    "duration": 23,
    "start_time": "2022-06-05T20:31:27.171Z"
   },
   {
    "duration": 20,
    "start_time": "2022-06-05T20:31:27.196Z"
   },
   {
    "duration": 34,
    "start_time": "2022-06-05T20:31:27.218Z"
   },
   {
    "duration": 26,
    "start_time": "2022-06-05T20:31:27.254Z"
   },
   {
    "duration": 34,
    "start_time": "2022-06-05T20:31:27.281Z"
   },
   {
    "duration": 14,
    "start_time": "2022-06-05T20:31:27.318Z"
   },
   {
    "duration": 21,
    "start_time": "2022-06-05T20:31:27.333Z"
   },
   {
    "duration": 6,
    "start_time": "2022-06-05T20:31:27.355Z"
   },
   {
    "duration": 20,
    "start_time": "2022-06-05T20:31:27.362Z"
   },
   {
    "duration": 10,
    "start_time": "2022-06-05T20:31:27.384Z"
   },
   {
    "duration": 28,
    "start_time": "2022-06-05T20:31:27.395Z"
   },
   {
    "duration": 28,
    "start_time": "2022-06-05T20:31:27.424Z"
   },
   {
    "duration": 6,
    "start_time": "2022-06-05T20:31:27.453Z"
   },
   {
    "duration": 8,
    "start_time": "2022-06-05T20:31:27.461Z"
   },
   {
    "duration": 30,
    "start_time": "2022-06-05T20:31:27.471Z"
   },
   {
    "duration": 14,
    "start_time": "2022-06-05T20:31:27.503Z"
   },
   {
    "duration": 48,
    "start_time": "2022-06-05T20:31:27.518Z"
   },
   {
    "duration": 16,
    "start_time": "2022-06-05T20:31:27.567Z"
   },
   {
    "duration": 3,
    "start_time": "2022-06-05T20:31:27.584Z"
   },
   {
    "duration": 8,
    "start_time": "2022-06-05T20:31:27.589Z"
   },
   {
    "duration": 6,
    "start_time": "2022-06-05T20:31:27.598Z"
   },
   {
    "duration": 48,
    "start_time": "2022-06-05T20:31:27.605Z"
   },
   {
    "duration": 3,
    "start_time": "2022-06-05T20:31:27.654Z"
   },
   {
    "duration": 31,
    "start_time": "2022-06-05T20:31:27.660Z"
   },
   {
    "duration": 4,
    "start_time": "2022-06-05T20:31:27.692Z"
   },
   {
    "duration": 33,
    "start_time": "2022-06-05T20:31:27.697Z"
   },
   {
    "duration": 37,
    "start_time": "2022-06-05T20:31:27.731Z"
   },
   {
    "duration": 3,
    "start_time": "2022-06-05T20:31:27.769Z"
   },
   {
    "duration": 20,
    "start_time": "2022-06-05T20:31:27.773Z"
   },
   {
    "duration": 0,
    "start_time": "2022-06-05T20:31:27.794Z"
   },
   {
    "duration": 0,
    "start_time": "2022-06-05T20:31:27.796Z"
   },
   {
    "duration": 0,
    "start_time": "2022-06-05T20:31:27.797Z"
   },
   {
    "duration": 0,
    "start_time": "2022-06-05T20:31:27.798Z"
   },
   {
    "duration": 0,
    "start_time": "2022-06-05T20:31:27.800Z"
   },
   {
    "duration": 25,
    "start_time": "2022-06-05T20:37:14.222Z"
   },
   {
    "duration": 6,
    "start_time": "2022-06-05T20:38:30.503Z"
   },
   {
    "duration": 6,
    "start_time": "2022-06-05T20:38:54.452Z"
   },
   {
    "duration": 549,
    "start_time": "2022-06-05T20:38:55.217Z"
   },
   {
    "duration": 5,
    "start_time": "2022-06-05T20:39:10.689Z"
   },
   {
    "duration": 6,
    "start_time": "2022-06-05T20:39:52.049Z"
   },
   {
    "duration": 7,
    "start_time": "2022-06-05T20:41:02.439Z"
   },
   {
    "duration": 5,
    "start_time": "2022-06-05T20:41:11.001Z"
   },
   {
    "duration": 392,
    "start_time": "2022-06-05T20:42:44.757Z"
   },
   {
    "duration": 81,
    "start_time": "2022-06-05T20:42:47.685Z"
   },
   {
    "duration": 19,
    "start_time": "2022-06-05T20:42:49.770Z"
   },
   {
    "duration": 211,
    "start_time": "2022-06-05T20:42:52.513Z"
   },
   {
    "duration": 326,
    "start_time": "2022-06-05T20:42:55.892Z"
   },
   {
    "duration": 7,
    "start_time": "2022-06-05T20:43:01.461Z"
   },
   {
    "duration": 5,
    "start_time": "2022-06-05T20:43:04.384Z"
   },
   {
    "duration": 10,
    "start_time": "2022-06-05T20:43:43.415Z"
   },
   {
    "duration": 1470,
    "start_time": "2022-06-06T17:01:34.602Z"
   },
   {
    "duration": 682,
    "start_time": "2022-06-06T17:01:36.074Z"
   },
   {
    "duration": 8,
    "start_time": "2022-06-06T17:01:36.758Z"
   },
   {
    "duration": 96,
    "start_time": "2022-06-06T17:01:36.768Z"
   },
   {
    "duration": 43,
    "start_time": "2022-06-06T17:01:36.866Z"
   },
   {
    "duration": 44,
    "start_time": "2022-06-06T17:01:36.911Z"
   },
   {
    "duration": 29,
    "start_time": "2022-06-06T17:01:36.957Z"
   },
   {
    "duration": 37,
    "start_time": "2022-06-06T17:01:36.989Z"
   },
   {
    "duration": 39,
    "start_time": "2022-06-06T17:01:37.035Z"
   },
   {
    "duration": 24,
    "start_time": "2022-06-06T17:01:37.075Z"
   },
   {
    "duration": 5,
    "start_time": "2022-06-06T17:01:37.101Z"
   },
   {
    "duration": 10,
    "start_time": "2022-06-06T17:01:37.127Z"
   },
   {
    "duration": 30,
    "start_time": "2022-06-06T17:01:37.138Z"
   },
   {
    "duration": 12,
    "start_time": "2022-06-06T17:01:37.172Z"
   },
   {
    "duration": 60,
    "start_time": "2022-06-06T17:01:37.186Z"
   },
   {
    "duration": 12,
    "start_time": "2022-06-06T17:01:37.248Z"
   },
   {
    "duration": 7,
    "start_time": "2022-06-06T17:01:37.262Z"
   },
   {
    "duration": 12,
    "start_time": "2022-06-06T17:01:37.271Z"
   },
   {
    "duration": 51,
    "start_time": "2022-06-06T17:01:37.285Z"
   },
   {
    "duration": 20,
    "start_time": "2022-06-06T17:01:37.338Z"
   },
   {
    "duration": 34,
    "start_time": "2022-06-06T17:01:37.364Z"
   },
   {
    "duration": 34,
    "start_time": "2022-06-06T17:01:37.401Z"
   },
   {
    "duration": 5,
    "start_time": "2022-06-06T17:01:37.442Z"
   },
   {
    "duration": 10,
    "start_time": "2022-06-06T17:01:37.449Z"
   },
   {
    "duration": 6,
    "start_time": "2022-06-06T17:01:37.460Z"
   },
   {
    "duration": 34,
    "start_time": "2022-06-06T17:01:37.467Z"
   },
   {
    "duration": 3,
    "start_time": "2022-06-06T17:01:37.503Z"
   },
   {
    "duration": 51,
    "start_time": "2022-06-06T17:01:37.508Z"
   },
   {
    "duration": 4,
    "start_time": "2022-06-06T17:01:37.561Z"
   },
   {
    "duration": 46,
    "start_time": "2022-06-06T17:01:37.566Z"
   },
   {
    "duration": 49,
    "start_time": "2022-06-06T17:01:37.613Z"
   },
   {
    "duration": 6,
    "start_time": "2022-06-06T17:01:37.664Z"
   },
   {
    "duration": 35,
    "start_time": "2022-06-06T17:01:37.672Z"
   },
   {
    "duration": 456,
    "start_time": "2022-06-06T17:01:37.709Z"
   },
   {
    "duration": 115,
    "start_time": "2022-06-06T17:01:38.168Z"
   },
   {
    "duration": 18,
    "start_time": "2022-06-06T17:01:38.285Z"
   },
   {
    "duration": 796,
    "start_time": "2022-06-06T17:01:38.304Z"
   },
   {
    "duration": 216,
    "start_time": "2022-06-06T17:01:39.102Z"
   },
   {
    "duration": 12,
    "start_time": "2022-06-06T17:01:39.320Z"
   },
   {
    "duration": 30,
    "start_time": "2022-06-06T17:01:39.334Z"
   },
   {
    "duration": 15,
    "start_time": "2022-06-06T17:01:39.368Z"
   },
   {
    "duration": 695,
    "start_time": "2022-06-06T17:01:39.385Z"
   }
  ],
  "colab": {
   "collapsed_sections": [],
   "name": "telecom_project_3.ipynb",
   "provenance": []
  },
  "kernelspec": {
   "display_name": "Python 3 (ipykernel)",
   "language": "python",
   "name": "python3"
  },
  "language_info": {
   "codemirror_mode": {
    "name": "ipython",
    "version": 3
   },
   "file_extension": ".py",
   "mimetype": "text/x-python",
   "name": "python",
   "nbconvert_exporter": "python",
   "pygments_lexer": "ipython3",
   "version": "3.9.12"
  },
  "toc": {
   "base_numbering": 1,
   "nav_menu": {},
   "number_sections": true,
   "sideBar": true,
   "skip_h1_title": true,
   "title_cell": "Table of Contents",
   "title_sidebar": "Contents",
   "toc_cell": false,
   "toc_position": {},
   "toc_section_display": true,
   "toc_window_display": false
  }
 },
 "nbformat": 4,
 "nbformat_minor": 1
}
